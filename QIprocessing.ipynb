{
 "cells": [
  {
   "cell_type": "code",
   "execution_count": 2,
   "id": "3b432347-0a2b-40ef-afa3-4a2bbb28b085",
   "metadata": {},
   "outputs": [],
   "source": [
    "# General imports\n",
    "import os\n",
    "import gzip\n",
    "import numpy as np\n",
    "import matplotlib.pyplot as plt\n",
    "from pylab import cm\n",
    "import warnings\n",
    "\n",
    "warnings.filterwarnings(\"ignore\")\n",
    "\n",
    "# scikit-learn imports\n",
    "from sklearn import datasets\n",
    "from sklearn.model_selection import train_test_split\n",
    "from sklearn.preprocessing import StandardScaler, MinMaxScaler\n",
    "from sklearn.decomposition import PCA\n",
    "from sklearn.svm import SVC\n",
    "from sklearn.metrics import accuracy_score\n",
    "\n",
    "# Qiskit imports\n",
    "from qiskit import Aer, execute\n",
    "from qiskit.circuit import QuantumCircuit, Parameter, ParameterVector\n",
    "from qiskit.circuit.library import PauliFeatureMap, ZFeatureMap, ZZFeatureMap\n",
    "from qiskit.circuit.library import TwoLocal, NLocal, RealAmplitudes, EfficientSU2\n",
    "from qiskit.circuit.library import HGate, RXGate, RYGate, RZGate, CXGate, CRXGate, CRZGate\n",
    "from qiskit_machine_learning.kernels import QuantumKernel"
   ]
  },
  {
   "cell_type": "code",
   "execution_count": 2,
   "id": "2a43e1ad-54b8-4ae0-a340-617b69765b87",
   "metadata": {},
   "outputs": [
    {
     "data": {
      "text/plain": [
       "(50000, 32, 32, 3)"
      ]
     },
     "execution_count": 2,
     "metadata": {},
     "output_type": "execute_result"
    }
   ],
   "source": [
    "# Load MNIST dataset\n",
    "#file = \".data/cifar-10-python.tar.gz\"\n",
    "#data = np.load(DATA_PATH)\n",
    "\n",
    "def unpickle(file):\n",
    "    import pickle\n",
    "    with open(file, 'rb') as fo:\n",
    "        dict = pickle.load(fo, encoding='bytes')\n",
    "    return dict\n",
    "\n",
    "def cifar_10_reshape(batch_arg):\n",
    "    output=np.reshape(batch_arg,(10000,32,32,3)).transpose(0,2,1,3)\n",
    "    return output\n",
    "\n",
    "batch1=unpickle('data1/images/data_batch_1')\n",
    "batch2=unpickle('data1/images/data_batch_2')\n",
    "batch3=unpickle('data1/images/data_batch_3')\n",
    "batch4=unpickle('data1/images/data_batch_4')\n",
    "batch5=unpickle('data1/images/data_batch_5')\n",
    "\n",
    "#print(batch1)\n",
    "\n",
    "batch1_data=cifar_10_reshape(batch1[b'data'])\n",
    "batch2_data=cifar_10_reshape(batch2[b'data'])\n",
    "batch3_data=cifar_10_reshape(batch3[b'data'])\n",
    "batch4_data=cifar_10_reshape(batch4[b'data'])\n",
    "batch5_data=cifar_10_reshape(batch5[b'data'])\n",
    "\n",
    "batch1_labels=batch1[b'labels']\n",
    "batch2_labels=batch2[b'labels']\n",
    "batch3_labels=batch3[b'labels']\n",
    "batch4_labels=batch4[b'labels']\n",
    "batch5_labels=batch5[b'labels']\n",
    "\n",
    "test_batch=unpickle('data1/images/test_batch')\n",
    "test_images=cifar_10_reshape(test_batch[b'data'])\n",
    "test_labels_data=test_batch[b'labels']\n",
    "\n",
    "zsamples, zx, zy, zz = test_images.shape\n",
    "sample_test = test_images.reshape((zsamples,zx*zy*zz))\n",
    "\n",
    "train_images=np.concatenate((batch1_data,batch2_data,batch3_data,batch4_data,batch5_data),axis=0)\n",
    "train_labels_data=np.concatenate((batch1_labels,batch2_labels,batch3_labels,batch4_labels,batch5_labels),axis=0)\n",
    "train_images.shape\n",
    "#train_labels_data.shape"
   ]
  },
  {
   "cell_type": "code",
   "execution_count": 3,
   "id": "b2e0684b-ba63-41ff-9039-368ca7fecc94",
   "metadata": {},
   "outputs": [
    {
     "name": "stdout",
     "output_type": "stream",
     "text": [
      "Traceback \u001b[1;36m(most recent call last)\u001b[0m:\n",
      "\u001b[1;36m  File \u001b[1;32m\"/tmp/ipykernel_131/226494499.py\"\u001b[1;36m, line \u001b[1;32m7\u001b[1;36m, in \u001b[1;35m<module>\u001b[1;36m\u001b[0m\n",
      "\u001b[1;33m    train_images, train_labels_data, test_size=0.2, random_state=42)\u001b[0m\n",
      "\u001b[1;31mNameError\u001b[0m\u001b[1;31m:\u001b[0m name 'train_images' is not defined\n",
      "\n",
      "Use %tb to get the full traceback.\n"
     ]
    },
    {
     "data": {
      "text/html": [
       "\n",
       "<style>\n",
       ".button {\n",
       "  border: none;\n",
       "  color: white;\n",
       "  padding: 4px 8px;\n",
       "  text-align: center;\n",
       "  text-decoration: none;\n",
       "  display: inline-block;\n",
       "  font-size: 12px;\n",
       "  margin: 4px 2px;\n",
       "  transition-duration: 0.2s;\n",
       "  cursor: pointer;\n",
       "}\n",
       ".iqx-button {\n",
       "  background-color: #0f62fe; \n",
       "  color: white; \n",
       "}\n",
       ".iqx-button:hover {\n",
       "  background-color: #0043ce;\n",
       "  color: white;\n",
       "}\n",
       "</style>\n",
       "<a href=\"https://stackoverflow.com/search?q=NameError: name 'train_images' is not defined\" target='_blank'><button class='button iqx-button'>Search for solution online</button></a>\n"
      ],
      "text/plain": [
       "<IPython.core.display.HTML object>"
      ]
     },
     "metadata": {},
     "output_type": "display_data"
    }
   ],
   "source": [
    "#sample_train = data['data_batch_1']\n",
    "#labels_train = data['data_batch_2']\n",
    "#sample_test =  data['test_batch']\n",
    "#n_features = 10\n",
    "# Split train data\n",
    "sample_train1, sample_val1, labels_train, labels_val = train_test_split(\n",
    "    train_images, train_labels_data, test_size=0.2, random_state=42)\n",
    "\n",
    "print(sample_train1.shape)\n",
    "#print(sample_val.shape)\n",
    "nsamples, nx, ny, nz = sample_train1.shape\n",
    "#nsamples = 32\n",
    "sample_train = sample_train1.reshape((nsamples,nx*ny*nz))\n",
    "\n",
    "msamples, mx, my, mz = sample_val1.shape\n",
    "sample_val = sample_val1.reshape((msamples,mx*my*mz))\n",
    "print(nsamples)\n",
    "#print(n_features)\n",
    "# Visualize samples\n",
    "fig = plt.figure()\n",
    "\n",
    "LABELS = [1, 3, 8]\n",
    "num_labels = len(LABELS)\n",
    "for i in range(num_labels):\n",
    "    ax = fig.add_subplot(1, num_labels, i+1)\n",
    "    img = sample_train[labels_train==LABELS[i]][0].reshape((32,32,3))#(3072, 3072))\n",
    "    ax.imshow(img, cmap=\"Greys\")"
   ]
  },
  {
   "cell_type": "code",
   "execution_count": 1,
   "id": "ef02d3ef-4df4-42e6-8818-b975b6114766",
   "metadata": {},
   "outputs": [
    {
     "name": "stdout",
     "output_type": "stream",
     "text": [
      "Traceback \u001b[1;36m(most recent call last)\u001b[0m:\n",
      "\u001b[1;36m  File \u001b[1;32m\"/tmp/ipykernel_131/616559045.py\"\u001b[1;36m, line \u001b[1;32m2\u001b[1;36m, in \u001b[1;35m<module>\u001b[1;36m\u001b[0m\n",
      "\u001b[1;33m    standard_scaler = StandardScaler()\u001b[0m\n",
      "\u001b[1;31mNameError\u001b[0m\u001b[1;31m:\u001b[0m name 'StandardScaler' is not defined\n",
      "\n",
      "Use %tb to get the full traceback.\n"
     ]
    },
    {
     "data": {
      "text/html": [
       "\n",
       "<style>\n",
       ".button {\n",
       "  border: none;\n",
       "  color: white;\n",
       "  padding: 4px 8px;\n",
       "  text-align: center;\n",
       "  text-decoration: none;\n",
       "  display: inline-block;\n",
       "  font-size: 12px;\n",
       "  margin: 4px 2px;\n",
       "  transition-duration: 0.2s;\n",
       "  cursor: pointer;\n",
       "}\n",
       ".iqx-button {\n",
       "  background-color: #0f62fe; \n",
       "  color: white; \n",
       "}\n",
       ".iqx-button:hover {\n",
       "  background-color: #0043ce;\n",
       "  color: white;\n",
       "}\n",
       "</style>\n",
       "<a href=\"https://stackoverflow.com/search?q=NameError: name 'StandardScaler' is not defined\" target='_blank'><button class='button iqx-button'>Search for solution online</button></a>\n"
      ],
      "text/plain": [
       "<IPython.core.display.HTML object>"
      ]
     },
     "metadata": {},
     "output_type": "display_data"
    }
   ],
   "source": [
    "# Standardize\n",
    "standard_scaler = StandardScaler()\n",
    "sample_train = standard_scaler.fit_transform(sample_train)\n",
    "sample_val = standard_scaler.transform(sample_val)\n",
    "sample_test = standard_scaler.transform(sample_test)\n",
    "\n",
    "# Reduce dimensions\n",
    "N_DIM = 5\n",
    "pca = PCA(n_components=N_DIM)\n",
    "sample_train = pca.fit_transform(sample_train)\n",
    "sample_val = pca.transform(sample_val)\n",
    "sample_test = pca.transform(sample_test)\n",
    "\n",
    "# Normalize\n",
    "min_max_scaler = MinMaxScaler((-1, 1))\n",
    "sample_train = min_max_scaler.fit_transform(sample_train)\n",
    "sample_val = min_max_scaler.transform(sample_val)\n",
    "sample_test = min_max_scaler.transform(sample_test)"
   ]
  },
  {
   "cell_type": "code",
   "execution_count": 6,
   "id": "4fd284aa-1a08-4cde-aab8-3326937f756d",
   "metadata": {},
   "outputs": [
    {
     "name": "stdout",
     "output_type": "stream",
     "text": [
      "[7 8 0 ... 8 2 6]\n",
      "(10000,)\n",
      "Original validation labels:      [7 8 0 ... 8 2 6]\n",
      "Validation labels for 0 vs Rest: [0 0 1 ... 0 0 0]\n"
     ]
    }
   ],
   "source": [
    "labels_train_0 = np.where(labels_train==0, 1, 0)\n",
    "labels_val_0 = np.where(labels_val==0, 1, 0)\n",
    "print(labels_val)\n",
    "print(labels_val_0.shape)\n",
    "print(f'Original validation labels:      {labels_val}')\n",
    "print(f'Validation labels for 0 vs Rest: {labels_val_0}')"
   ]
  },
  {
   "cell_type": "code",
   "execution_count": 7,
   "id": "f9fdb02b-abc6-4bb3-90e6-24b2d2c6ab80",
   "metadata": {},
   "outputs": [],
   "source": [
    "pauli_map_0 = ZZFeatureMap(feature_dimension=N_DIM, reps=3, entanglement='circular')\n",
    "kernel_0 = QuantumKernel(feature_map=pauli_map_0, quantum_instance=Aer.get_backend('statevector_simulator'))\n",
    "#pauli_map_0.draw"
   ]
  },
  {
   "cell_type": "code",
   "execution_count": 8,
   "id": "22ce68cc-12e4-453c-84cd-66204744ad94",
   "metadata": {},
   "outputs": [
    {
     "name": "stdout",
     "output_type": "stream",
     "text": [
      "(40000, 15)\n"
     ]
    }
   ],
   "source": [
    "print(sample_train.shape)"
   ]
  },
  {
   "cell_type": "code",
   "execution_count": 9,
   "id": "1f0e3ec7-0991-4766-b7d5-bdfba8fe9909",
   "metadata": {},
   "outputs": [
    {
     "name": "stdout",
     "output_type": "stream",
     "text": [
      "Transition amplitude: 0.000244140625\n"
     ]
    }
   ],
   "source": [
    "zz_ckt = kernel_0.construct_circuit(sample_train[5],sample_train[6])\n",
    "#zz_ckt.decompose().decompose().draw(output='mpl')\n",
    "backend = Aer.get_backend('qasm_simulator')\n",
    "job = execute(zz_ckt,backend,shots=8192,seed_simulator=1024,seed_transpiler=1024)\n",
    "counts = job.result().get_counts(zz_ckt)\n",
    "print(f\"Transition amplitude: {counts['0'*N_DIM]/sum(counts.values())}\")"
   ]
  },
  {
   "cell_type": "code",
   "execution_count": 10,
   "id": "a8cb8650-c93b-4c3d-b882-b827b79166a9",
   "metadata": {},
   "outputs": [],
   "source": [
    "svc_0 = SVC(kernel='precomputed', probability=True)\n",
    "#sample_train = np.reshape(sample_train, (-1, 2))"
   ]
  },
  {
   "cell_type": "code",
   "execution_count": null,
   "id": "eebe285f-9673-445f-96a4-22df6598b59b",
   "metadata": {},
   "outputs": [],
   "source": [
    "matrix_train_0 = kernel_0.evaluate(sample_train)"
   ]
  },
  {
   "cell_type": "code",
   "execution_count": 1,
   "id": "bb2c21d3-a251-45ff-9930-ffd3a7cdf3d7",
   "metadata": {},
   "outputs": [
    {
     "name": "stdout",
     "output_type": "stream",
     "text": [
      "Traceback \u001b[1;36m(most recent call last)\u001b[0m:\n",
      "\u001b[1;36m  File \u001b[1;32m\"/tmp/ipykernel_212/1663356809.py\"\u001b[1;36m, line \u001b[1;32m1\u001b[1;36m, in \u001b[1;35m<module>\u001b[1;36m\u001b[0m\n",
      "\u001b[1;33m    svc_0.fit(matrix_train_0, labels_train_0)\u001b[0m\n",
      "\u001b[1;31mNameError\u001b[0m\u001b[1;31m:\u001b[0m name 'svc_0' is not defined\n",
      "\n",
      "Use %tb to get the full traceback.\n"
     ]
    },
    {
     "data": {
      "text/html": [
       "\n",
       "<style>\n",
       ".button {\n",
       "  border: none;\n",
       "  color: white;\n",
       "  padding: 4px 8px;\n",
       "  text-align: center;\n",
       "  text-decoration: none;\n",
       "  display: inline-block;\n",
       "  font-size: 12px;\n",
       "  margin: 4px 2px;\n",
       "  transition-duration: 0.2s;\n",
       "  cursor: pointer;\n",
       "}\n",
       ".iqx-button {\n",
       "  background-color: #0f62fe; \n",
       "  color: white; \n",
       "}\n",
       ".iqx-button:hover {\n",
       "  background-color: #0043ce;\n",
       "  color: white;\n",
       "}\n",
       "</style>\n",
       "<a href=\"https://stackoverflow.com/search?q=NameError: name 'svc_0' is not defined\" target='_blank'><button class='button iqx-button'>Search for solution online</button></a>\n"
      ],
      "text/plain": [
       "<IPython.core.display.HTML object>"
      ]
     },
     "metadata": {},
     "output_type": "display_data"
    }
   ],
   "source": [
    "svc_0.fit(matrix_train_0, labels_train_0)"
   ]
  },
  {
   "cell_type": "code",
   "execution_count": null,
   "id": "e2c1fee8-5ba5-4441-a33c-088a31f8e831",
   "metadata": {},
   "outputs": [],
   "source": [
    "pauli_map_0 = ZZFeatureMap(feature_dimension=N_DIM, reps=3, entanglement='circular')\n",
    "kernel_0 = QuantumKernel(feature_map=pauli_map_0, quantum_instance=Aer.get_backend('statevector_simulator'))\n",
    "\n",
    "\n",
    "svc_0 = SVC(kernel='precomputed', probability=True)\n",
    "\n",
    "matrix_train_0 = kernel_0.evaluate(x_vec=sample_train)\n",
    "svc_0.fit(matrix_train_0, labels_train_0)\n",
    "\n",
    "matrix_val_0 = kernel_0.evaluate(x_vec=sample_val, y_vec=sample_train)\n",
    "pauli_score_0 = svc_0.score(matrix_val_0, labels_val_0)\n",
    "print(f'Accuracy of discriminating between label 0 and others: {pauli_score_0*100}%')"
   ]
  },
  {
   "cell_type": "code",
   "execution_count": 44,
   "id": "4068f867-1d5f-4499-87d3-97216ad213c9",
   "metadata": {},
   "outputs": [
    {
     "name": "stdout",
     "output_type": "stream",
     "text": [
      "Probability of label 0: [0.61 0.94 0.37 0.14 0.17 0.13 0.67 0.48 0.79 0.57 0.09 0.15 0.15 0.28\n",
      " 0.24 0.08 0.12 0.73 0.23 0.15]\n"
     ]
    }
   ],
   "source": [
    "matrix_test_0 = kernel_0.evaluate(x_vec=sample_test, y_vec=sample_train)\n",
    "pred_0 = svc_0.predict_proba(matrix_test_0)[:, 1]\n",
    "print(f'Probability of label 0: {np.round(pred_0, 2)}')"
   ]
  },
  {
   "cell_type": "code",
   "execution_count": null,
   "id": "3d462e34-f477-4c8b-97be-c03b55966758",
   "metadata": {},
   "outputs": [
    {
     "name": "stdout",
     "output_type": "stream",
     "text": [
      "Original validation labels:      [7 8 0 ... 8 2 6]\n",
      "Validation labels for 2 vs Rest: [0 0 0 ... 0 1 0]\n"
     ]
    }
   ],
   "source": [
    "labels_train_2 = np.where(labels_train==2, 1, 0)\n",
    "labels_val_2 = np.where(labels_val==2, 1, 0)\n",
    "\n",
    "print(f'Original validation labels:      {labels_val}')\n",
    "print(f'Validation labels for 2 vs Rest: {labels_val_2}')\n",
    "\n",
    "\n",
    "\n",
    "pauli_map_2 = ZZFeatureMap(feature_dimension=N_DIM, reps=3, entanglement='circular')\n",
    "kernel_2 = QuantumKernel(feature_map=pauli_map_2, quantum_instance=Aer.get_backend('statevector_simulator'))\n",
    "\n",
    "\n",
    "svc_2 = SVC(kernel='precomputed', probability=True)\n",
    "\n",
    "matrix_train_2 = kernel_2.evaluate(x_vec=sample_train)\n",
    "svc_2.fit(matrix_train_2, labels_train_2)\n",
    "\n",
    "matrix_val_2 = kernel_2.evaluate(x_vec=sample_val, y_vec=sample_train)\n",
    "pauli_score_2 = svc_2.score(matrix_val_2, labels_val_2)\n",
    "print(f'Accuracy of discriminating between label 2 and others: {pauli_score_2*100}%')"
   ]
  },
  {
   "cell_type": "code",
   "execution_count": 46,
   "id": "77f829af-d7e8-4c0e-88a3-189425e737c2",
   "metadata": {},
   "outputs": [
    {
     "name": "stdout",
     "output_type": "stream",
     "text": [
      "Probability of label 2: [0.34 0.1  0.26 0.3  0.35 0.43 0.38 0.23 0.15 0.36 0.13 0.64 0.88 0.48\n",
      " 0.09 0.81 0.33 0.32 0.48 0.71]\n"
     ]
    }
   ],
   "source": [
    "matrix_test_2 = kernel_2.evaluate(x_vec=sample_test, y_vec=sample_train)\n",
    "\n",
    "pred_2 = svc_2.predict_proba(matrix_test_2)[:, 1]\n",
    "print(f'Probability of label 2: {np.round(pred_2, 2)}')"
   ]
  },
  {
   "cell_type": "code",
   "execution_count": 47,
   "id": "65bb4012-05d4-42b6-a0bb-109d642c25b9",
   "metadata": {},
   "outputs": [
    {
     "name": "stdout",
     "output_type": "stream",
     "text": [
      "Original validation labels:      [3 3 2 0 3 0 3 2 3 2 2 3 2 2 2 3 0 2 3 3]\n",
      "Validation labels for 3 vs Rest: [1 1 0 0 1 0 1 0 1 0 0 1 0 0 0 1 0 0 1 1]\n",
      "Accuracy of discriminating between label 3 and others: 70.0%\n"
     ]
    }
   ],
   "source": [
    "labels_train_3 = np.where(labels_train==3, 1, 0)\n",
    "labels_val_3 = np.where(labels_val==3, 1, 0)\n",
    "\n",
    "print(f'Original validation labels:      {labels_val}')\n",
    "print(f'Validation labels for 3 vs Rest: {labels_val_3}')\n",
    "\n",
    "\n",
    "\n",
    "\n",
    "pauli_map_3 = ZZFeatureMap(feature_dimension=N_DIM, reps=3, entanglement='circular')\n",
    "kernel_3 = QuantumKernel(feature_map=pauli_map_3, quantum_instance=Aer.get_backend('statevector_simulator'))\n",
    "\n",
    "\n",
    "svc_3 = SVC(kernel='precomputed', probability=True)\n",
    "\n",
    "matrix_train_3 = kernel_3.evaluate(x_vec=sample_train)\n",
    "svc_3.fit(matrix_train_3, labels_train_3)\n",
    "\n",
    "matrix_val_3 = kernel_3.evaluate(x_vec=sample_val, y_vec=sample_train)\n",
    "pauli_score_3 = svc_3.score(matrix_val_3, labels_val_3)\n",
    "print(f'Accuracy of discriminating between label 3 and others: {pauli_score_3*100}%')"
   ]
  },
  {
   "cell_type": "code",
   "execution_count": 48,
   "id": "bb98931e-a003-4035-b20a-7c3bce1cfc16",
   "metadata": {},
   "outputs": [
    {
     "name": "stdout",
     "output_type": "stream",
     "text": [
      "Probability of label 3: [0.16 0.18 0.31 0.55 0.64 0.63 0.09 0.15 0.24 0.12 0.95 0.18 0.08 0.31\n",
      " 0.88 0.23 0.5  0.12 0.38 0.12]\n"
     ]
    }
   ],
   "source": [
    "matrix_test_3 = kernel_3.evaluate(x_vec=sample_test, y_vec=sample_train)\n",
    "\n",
    "pred_3 = svc_3.predict_proba(matrix_test_3)[:, 1]\n",
    "print(f'Probability of label 3: {np.round(pred_3, 2)}')"
   ]
  },
  {
   "cell_type": "code",
   "execution_count": 49,
   "id": "fb90de3b-689e-493a-8778-d99d6833c166",
   "metadata": {},
   "outputs": [
    {
     "name": "stdout",
     "output_type": "stream",
     "text": [
      "Prediction: [0 0 0 3 3 3 0 0 0 0 3 2 2 2 3 2 3 0 2 2]\n"
     ]
    }
   ],
   "source": [
    "pred_0_t = np.array([0.51, 0.85, 0.35, 0.18, 0.2 , 0.17, 0.56, 0.42, 0.66, 0.49, 0.13, 0.18, 0.18, 0.28, 0.26, 0.13, 0.16, 0.61, 0.25, 0.19])\n",
    "pred_2_t = np.array([0.3 , 0.07, 0.21, 0.26, 0.31, 0.41, 0.36, 0.18, 0.11, 0.33, 0.08, 0.67, 0.92, 0.48, 0.06, 0.86, 0.3 , 0.28, 0.47, 0.75])\n",
    "pred_3_t = np.array([0.11, 0.13, 0.26, 0.53, 0.63, 0.63, 0.06, 0.1 , 0.18, 0.08, 0.97, 0.13, 0.05, 0.25, 0.9 , 0.17, 0.47, 0.08, 0.34, 0.08])\n",
    "\n",
    "\n",
    "pred_test = np.where(((pred_0_t > pred_2_t) & (pred_0_t > pred_3_t)),0,(np.where(((pred_2_t > pred_0_t) & (pred_2_t > pred_3_t)),2,3)))\n",
    "\n",
    "print(f'Prediction: {pred_test}')"
   ]
  },
  {
   "cell_type": "code",
   "execution_count": null,
   "id": "c46bcb79-6a6d-4d97-91dc-812154af402f",
   "metadata": {},
   "outputs": [],
   "source": []
  }
 ],
 "metadata": {
  "kernelspec": {
   "display_name": "Qiskit v0.32.0 (ipykernel)",
   "language": "python",
   "name": "python3"
  },
  "language_info": {
   "codemirror_mode": {
    "name": "ipython",
    "version": 3
   },
   "file_extension": ".py",
   "mimetype": "text/x-python",
   "name": "python",
   "nbconvert_exporter": "python",
   "pygments_lexer": "ipython3",
   "version": "3.8.10"
  },
  "widgets": {
   "application/vnd.jupyter.widget-state+json": {
    "state": {},
    "version_major": 2,
    "version_minor": 0
   }
  }
 },
 "nbformat": 4,
 "nbformat_minor": 5
}
