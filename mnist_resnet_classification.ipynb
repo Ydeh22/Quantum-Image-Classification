{
  "nbformat": 4,
  "nbformat_minor": 0,
  "metadata": {
    "jupytext": {
      "split_at_heading": true
    },
    "kernelspec": {
      "display_name": "Python 3",
      "language": "python",
      "name": "python3"
    },
    "colab": {
      "name": "04_mnist_basics.ipynb",
      "provenance": []
    },
    "accelerator": "GPU"
  },
  "cells": [
    {
      "cell_type": "code",
      "metadata": {
        "id": "K6bUWYZG2fby",
        "outputId": "9f4bae30-5a38-4680-ce70-b3fed56d3f5c",
        "colab": {
          "base_uri": "https://localhost:8080/"
        }
      },
      "source": [
        "#hide\n",
        "!pip install -Uqq fastbook\n",
        "import fastbook\n",
        "fastbook.setup_book()"
      ],
      "execution_count": 1,
      "outputs": [
        {
          "output_type": "stream",
          "name": "stdout",
          "text": [
            "\u001b[K     |████████████████████████████████| 720 kB 5.3 MB/s \n",
            "\u001b[K     |████████████████████████████████| 186 kB 46.4 MB/s \n",
            "\u001b[K     |████████████████████████████████| 46 kB 4.0 MB/s \n",
            "\u001b[K     |████████████████████████████████| 1.2 MB 33.0 MB/s \n",
            "\u001b[K     |████████████████████████████████| 56 kB 3.8 MB/s \n",
            "\u001b[K     |████████████████████████████████| 51 kB 282 kB/s \n",
            "\u001b[?25hMounted at /content/gdrive\n"
          ]
        }
      ]
    },
    {
      "cell_type": "code",
      "metadata": {
        "id": "3F8SCTpP2fb1"
      },
      "source": [
        "#hide\n",
        "from fastai.vision.all import *\n",
        "from fastbook import *\n",
        "\n",
        "matplotlib.rc('image', cmap='Greys')"
      ],
      "execution_count": 2,
      "outputs": []
    },
    {
      "cell_type": "markdown",
      "metadata": {
        "id": "tZsE-9dg3M_m"
      },
      "source": [
        "## Data Exploration"
      ]
    },
    {
      "cell_type": "code",
      "metadata": {
        "id": "sEBC3IBE2fb9",
        "outputId": "e1b0e7fe-a0f7-4f0d-c554-5d14b706d6f4",
        "colab": {
          "base_uri": "https://localhost:8080/",
          "height": 37
        }
      },
      "source": [
        "path = untar_data(URLs.MNIST_SAMPLE)"
      ],
      "execution_count": 3,
      "outputs": [
        {
          "output_type": "display_data",
          "data": {
            "text/html": [
              "\n",
              "    <div>\n",
              "        <style>\n",
              "            /* Turns off some styling */\n",
              "            progress {\n",
              "                /* gets rid of default border in Firefox and Opera. */\n",
              "                border: none;\n",
              "                /* Needs to be in here for Safari polyfill so background images work as expected. */\n",
              "                background-size: auto;\n",
              "            }\n",
              "            .progress-bar-interrupted, .progress-bar-interrupted::-webkit-progress-bar {\n",
              "                background: #F44336;\n",
              "            }\n",
              "        </style>\n",
              "      <progress value='3219456' class='' max='3214948' style='width:300px; height:20px; vertical-align: middle;'></progress>\n",
              "      100.14% [3219456/3214948 00:00<00:00]\n",
              "    </div>\n",
              "    "
            ],
            "text/plain": [
              "<IPython.core.display.HTML object>"
            ]
          },
          "metadata": {}
        }
      ]
    },
    {
      "cell_type": "code",
      "metadata": {
        "id": "8IMhOFem2fb9"
      },
      "source": [
        "#hide\n",
        "Path.BASE_PATH = path"
      ],
      "execution_count": 4,
      "outputs": []
    },
    {
      "cell_type": "code",
      "metadata": {
        "id": "3l85pfoq2fb-",
        "outputId": "22848d9f-ca0e-403b-9277-8f4a0c11f452",
        "colab": {
          "base_uri": "https://localhost:8080/"
        }
      },
      "source": [
        "path.ls()"
      ],
      "execution_count": 5,
      "outputs": [
        {
          "output_type": "execute_result",
          "data": {
            "text/plain": [
              "(#3) [Path('train'),Path('valid'),Path('labels.csv')]"
            ]
          },
          "metadata": {},
          "execution_count": 5
        }
      ]
    },
    {
      "cell_type": "code",
      "metadata": {
        "id": "LKKD3ob52fb_",
        "outputId": "7eca6478-cd3c-432e-999b-ac3f1e43fe11",
        "colab": {
          "base_uri": "https://localhost:8080/"
        }
      },
      "source": [
        "(path/'train').ls()"
      ],
      "execution_count": 6,
      "outputs": [
        {
          "output_type": "execute_result",
          "data": {
            "text/plain": [
              "(#2) [Path('train/7'),Path('train/3')]"
            ]
          },
          "metadata": {},
          "execution_count": 6
        }
      ]
    },
    {
      "cell_type": "code",
      "metadata": {
        "id": "78159FWt2fb_",
        "outputId": "b0f28ac3-4e1e-474a-a922-3b157d0a2a94",
        "colab": {
          "base_uri": "https://localhost:8080/"
        }
      },
      "source": [
        "threes = (path/'train'/'3').ls().sorted()\n",
        "sevens = (path/'train'/'7').ls().sorted()\n",
        "threes"
      ],
      "execution_count": 7,
      "outputs": [
        {
          "output_type": "execute_result",
          "data": {
            "text/plain": [
              "(#6131) [Path('train/3/10.png'),Path('train/3/10000.png'),Path('train/3/10011.png'),Path('train/3/10031.png'),Path('train/3/10034.png'),Path('train/3/10042.png'),Path('train/3/10052.png'),Path('train/3/1007.png'),Path('train/3/10074.png'),Path('train/3/10091.png')...]"
            ]
          },
          "metadata": {},
          "execution_count": 7
        }
      ]
    },
    {
      "cell_type": "code",
      "metadata": {
        "id": "G959zuDo2fcA",
        "outputId": "3bf81f87-dd33-4d55-95c8-970f4db1912f",
        "colab": {
          "base_uri": "https://localhost:8080/",
          "height": 45
        }
      },
      "source": [
        "im3_path = threes[1]\n",
        "im3 = Image.open(im3_path)\n",
        "im3"
      ],
      "execution_count": 8,
      "outputs": [
        {
          "output_type": "execute_result",
          "data": {
            "image/png": "[encoded data removed]",
            "text/plain": [
              "<PIL.PngImagePlugin.PngImageFile image mode=L size=28x28 at 0x7F41B016D490>"
            ]
          },
          "metadata": {},
          "execution_count": 8
        }
      ]
    },
    {
      "cell_type": "code",
      "metadata": {
        "id": "GjTmGQdW2fcA",
        "outputId": "3de88bbd-6d97-4cc2-867f-b70f04d8f708",
        "colab": {
          "base_uri": "https://localhost:8080/"
        }
      },
      "source": [
        "array(im3)[4:10,4:10]"
      ],
      "execution_count": 9,
      "outputs": [
        {
          "output_type": "execute_result",
          "data": {
            "text/plain": [
              "array([[  0,   0,   0,   0,   0,   0],\n",
              "       [  0,   0,   0,   0,   0,  29],\n",
              "       [  0,   0,   0,  48, 166, 224],\n",
              "       [  0,  93, 244, 249, 253, 187],\n",
              "       [  0, 107, 253, 253, 230,  48],\n",
              "       [  0,   3,  20,  20,  15,   0]], dtype=uint8)"
            ]
          },
          "metadata": {},
          "execution_count": 9
        }
      ]
    },
    {
      "cell_type": "code",
      "metadata": {
        "id": "m9kngvpS2fcB",
        "outputId": "c98bf56d-249f-4b3a-ed9a-4dedb2e93ef7",
        "colab": {
          "base_uri": "https://localhost:8080/"
        }
      },
      "source": [
        "tensor(im3)[4:10,4:10]"
      ],
      "execution_count": 10,
      "outputs": [
        {
          "output_type": "execute_result",
          "data": {
            "text/plain": [
              "tensor([[  0,   0,   0,   0,   0,   0],\n",
              "        [  0,   0,   0,   0,   0,  29],\n",
              "        [  0,   0,   0,  48, 166, 224],\n",
              "        [  0,  93, 244, 249, 253, 187],\n",
              "        [  0, 107, 253, 253, 230,  48],\n",
              "        [  0,   3,  20,  20,  15,   0]], dtype=torch.uint8)"
            ]
          },
          "metadata": {},
          "execution_count": 10
        }
      ]
    },
    {
      "cell_type": "code",
      "metadata": {
        "id": "66JOJAoX2fcB",
        "outputId": "5cfc9015-04ec-4311-eecc-fb3513294475",
        "colab": {
          "base_uri": "https://localhost:8080/",
          "height": 271
        }
      },
      "source": [
        "#hide_output\n",
        "im3_t = tensor(im3)\n",
        "df = pd.DataFrame(im3_t[4:15,4:22])\n",
        "df.style.set_properties(**{'font-size':'6pt'}).background_gradient('Greys')"
      ],
      "execution_count": 11,
      "outputs": [
        {
          "output_type": "execute_result",
          "data": {
            "text/html": [
              "<style  type=\"text/css\" >\n",
              "#T_80fa5d76_2c78_11ec_91f7_0242ac1c0002row0_col0,#T_80fa5d76_2c78_11ec_91f7_0242ac1c0002row0_col1,#T_80fa5d76_2c78_11ec_91f7_0242ac1c0002row0_col2,#T_80fa5d76_2c78_11ec_91f7_0242ac1c0002row0_col3,#T_80fa5d76_2c78_11ec_91f7_0242ac1c0002row0_col4,#T_80fa5d76_2c78_11ec_91f7_0242ac1c0002row0_col5,#T_80fa5d76_2c78_11ec_91f7_0242ac1c0002row0_col6,#T_80fa5d76_2c78_11ec_91f7_0242ac1c0002row0_col7,#T_80fa5d76_2c78_11ec_91f7_0242ac1c0002row0_col8,#T_80fa5d76_2c78_11ec_91f7_0242ac1c0002row0_col9,#T_80fa5d76_2c78_11ec_91f7_0242ac1c0002row0_col10,#T_80fa5d76_2c78_11ec_91f7_0242ac1c0002row0_col11,#T_80fa5d76_2c78_11ec_91f7_0242ac1c0002row0_col12,#T_80fa5d76_2c78_11ec_91f7_0242ac1c0002row0_col13,#T_80fa5d76_2c78_11ec_91f7_0242ac1c0002row0_col14,#T_80fa5d76_2c78_11ec_91f7_0242ac1c0002row0_col15,#T_80fa5d76_2c78_11ec_91f7_0242ac1c0002row0_col16,#T_80fa5d76_2c78_11ec_91f7_0242ac1c0002row0_col17,#T_80fa5d76_2c78_11ec_91f7_0242ac1c0002row1_col0,#T_80fa5d76_2c78_11ec_91f7_0242ac1c0002row1_col1,#T_80fa5d76_2c78_11ec_91f7_0242ac1c0002row1_col2,#T_80fa5d76_2c78_11ec_91f7_0242ac1c0002row1_col3,#T_80fa5d76_2c78_11ec_91f7_0242ac1c0002row1_col4,#T_80fa5d76_2c78_11ec_91f7_0242ac1c0002row1_col15,#T_80fa5d76_2c78_11ec_91f7_0242ac1c0002row1_col16,#T_80fa5d76_2c78_11ec_91f7_0242ac1c0002row1_col17,#T_80fa5d76_2c78_11ec_91f7_0242ac1c0002row2_col0,#T_80fa5d76_2c78_11ec_91f7_0242ac1c0002row2_col1,#T_80fa5d76_2c78_11ec_91f7_0242ac1c0002row2_col2,#T_80fa5d76_2c78_11ec_91f7_0242ac1c0002row2_col15,#T_80fa5d76_2c78_11ec_91f7_0242ac1c0002row2_col16,#T_80fa5d76_2c78_11ec_91f7_0242ac1c0002row2_col17,#T_80fa5d76_2c78_11ec_91f7_0242ac1c0002row3_col0,#T_80fa5d76_2c78_11ec_91f7_0242ac1c0002row3_col15,#T_80fa5d76_2c78_11ec_91f7_0242ac1c0002row3_col16,#T_80fa5d76_2c78_11ec_91f7_0242ac1c0002row3_col17,#T_80fa5d76_2c78_11ec_91f7_0242ac1c0002row4_col0,#T_80fa5d76_2c78_11ec_91f7_0242ac1c0002row4_col6,#T_80fa5d76_2c78_11ec_91f7_0242ac1c0002row4_col7,#T_80fa5d76_2c78_11ec_91f7_0242ac1c0002row4_col8,#T_80fa5d76_2c78_11ec_91f7_0242ac1c0002row4_col9,#T_80fa5d76_2c78_11ec_91f7_0242ac1c0002row4_col10,#T_80fa5d76_2c78_11ec_91f7_0242ac1c0002row4_col15,#T_80fa5d76_2c78_11ec_91f7_0242ac1c0002row4_col16,#T_80fa5d76_2c78_11ec_91f7_0242ac1c0002row4_col17,#T_80fa5d76_2c78_11ec_91f7_0242ac1c0002row5_col0,#T_80fa5d76_2c78_11ec_91f7_0242ac1c0002row5_col5,#T_80fa5d76_2c78_11ec_91f7_0242ac1c0002row5_col6,#T_80fa5d76_2c78_11ec_91f7_0242ac1c0002row5_col7,#T_80fa5d76_2c78_11ec_91f7_0242ac1c0002row5_col8,#T_80fa5d76_2c78_11ec_91f7_0242ac1c0002row5_col9,#T_80fa5d76_2c78_11ec_91f7_0242ac1c0002row5_col15,#T_80fa5d76_2c78_11ec_91f7_0242ac1c0002row5_col16,#T_80fa5d76_2c78_11ec_91f7_0242ac1c0002row5_col17,#T_80fa5d76_2c78_11ec_91f7_0242ac1c0002row6_col0,#T_80fa5d76_2c78_11ec_91f7_0242ac1c0002row6_col1,#T_80fa5d76_2c78_11ec_91f7_0242ac1c0002row6_col2,#T_80fa5d76_2c78_11ec_91f7_0242ac1c0002row6_col3,#T_80fa5d76_2c78_11ec_91f7_0242ac1c0002row6_col4,#T_80fa5d76_2c78_11ec_91f7_0242ac1c0002row6_col5,#T_80fa5d76_2c78_11ec_91f7_0242ac1c0002row6_col6,#T_80fa5d76_2c78_11ec_91f7_0242ac1c0002row6_col7,#T_80fa5d76_2c78_11ec_91f7_0242ac1c0002row6_col8,#T_80fa5d76_2c78_11ec_91f7_0242ac1c0002row6_col9,#T_80fa5d76_2c78_11ec_91f7_0242ac1c0002row6_col14,#T_80fa5d76_2c78_11ec_91f7_0242ac1c0002row6_col15,#T_80fa5d76_2c78_11ec_91f7_0242ac1c0002row6_col16,#T_80fa5d76_2c78_11ec_91f7_0242ac1c0002row6_col17,#T_80fa5d76_2c78_11ec_91f7_0242ac1c0002row7_col0,#T_80fa5d76_2c78_11ec_91f7_0242ac1c0002row7_col1,#T_80fa5d76_2c78_11ec_91f7_0242ac1c0002row7_col2,#T_80fa5d76_2c78_11ec_91f7_0242ac1c0002row7_col3,#T_80fa5d76_2c78_11ec_91f7_0242ac1c0002row7_col4,#T_80fa5d76_2c78_11ec_91f7_0242ac1c0002row7_col5,#T_80fa5d76_2c78_11ec_91f7_0242ac1c0002row7_col6,#T_80fa5d76_2c78_11ec_91f7_0242ac1c0002row7_col13,#T_80fa5d76_2c78_11ec_91f7_0242ac1c0002row7_col14,#T_80fa5d76_2c78_11ec_91f7_0242ac1c0002row7_col15,#T_80fa5d76_2c78_11ec_91f7_0242ac1c0002row7_col16,#T_80fa5d76_2c78_11ec_91f7_0242ac1c0002row7_col17,#T_80fa5d76_2c78_11ec_91f7_0242ac1c0002row8_col0,#T_80fa5d76_2c78_11ec_91f7_0242ac1c0002row8_col1,#T_80fa5d76_2c78_11ec_91f7_0242ac1c0002row8_col2,#T_80fa5d76_2c78_11ec_91f7_0242ac1c0002row8_col3,#T_80fa5d76_2c78_11ec_91f7_0242ac1c0002row8_col4,#T_80fa5d76_2c78_11ec_91f7_0242ac1c0002row8_col13,#T_80fa5d76_2c78_11ec_91f7_0242ac1c0002row8_col14,#T_80fa5d76_2c78_11ec_91f7_0242ac1c0002row8_col15,#T_80fa5d76_2c78_11ec_91f7_0242ac1c0002row8_col16,#T_80fa5d76_2c78_11ec_91f7_0242ac1c0002row8_col17,#T_80fa5d76_2c78_11ec_91f7_0242ac1c0002row9_col0,#T_80fa5d76_2c78_11ec_91f7_0242ac1c0002row9_col1,#T_80fa5d76_2c78_11ec_91f7_0242ac1c0002row9_col2,#T_80fa5d76_2c78_11ec_91f7_0242ac1c0002row9_col3,#T_80fa5d76_2c78_11ec_91f7_0242ac1c0002row9_col4,#T_80fa5d76_2c78_11ec_91f7_0242ac1c0002row9_col16,#T_80fa5d76_2c78_11ec_91f7_0242ac1c0002row9_col17,#T_80fa5d76_2c78_11ec_91f7_0242ac1c0002row10_col0,#T_80fa5d76_2c78_11ec_91f7_0242ac1c0002row10_col1,#T_80fa5d76_2c78_11ec_91f7_0242ac1c0002row10_col2,#T_80fa5d76_2c78_11ec_91f7_0242ac1c0002row10_col3,#T_80fa5d76_2c78_11ec_91f7_0242ac1c0002row10_col4,#T_80fa5d76_2c78_11ec_91f7_0242ac1c0002row10_col5,#T_80fa5d76_2c78_11ec_91f7_0242ac1c0002row10_col6,#T_80fa5d76_2c78_11ec_91f7_0242ac1c0002row10_col17{\n",
              "            font-size:  6pt;\n",
              "            background-color:  #ffffff;\n",
              "            color:  #000000;\n",
              "        }#T_80fa5d76_2c78_11ec_91f7_0242ac1c0002row1_col5{\n",
              "            font-size:  6pt;\n",
              "            background-color:  #efefef;\n",
              "            color:  #000000;\n",
              "        }#T_80fa5d76_2c78_11ec_91f7_0242ac1c0002row1_col6,#T_80fa5d76_2c78_11ec_91f7_0242ac1c0002row1_col13{\n",
              "            font-size:  6pt;\n",
              "            background-color:  #7c7c7c;\n",
              "            color:  #000000;\n",
              "        }#T_80fa5d76_2c78_11ec_91f7_0242ac1c0002row1_col7{\n",
              "            font-size:  6pt;\n",
              "            background-color:  #4a4a4a;\n",
              "            color:  #f1f1f1;\n",
              "        }#T_80fa5d76_2c78_11ec_91f7_0242ac1c0002row1_col8,#T_80fa5d76_2c78_11ec_91f7_0242ac1c0002row1_col9,#T_80fa5d76_2c78_11ec_91f7_0242ac1c0002row1_col10,#T_80fa5d76_2c78_11ec_91f7_0242ac1c0002row2_col5,#T_80fa5d76_2c78_11ec_91f7_0242ac1c0002row2_col6,#T_80fa5d76_2c78_11ec_91f7_0242ac1c0002row2_col7,#T_80fa5d76_2c78_11ec_91f7_0242ac1c0002row2_col11,#T_80fa5d76_2c78_11ec_91f7_0242ac1c0002row2_col12,#T_80fa5d76_2c78_11ec_91f7_0242ac1c0002row2_col13,#T_80fa5d76_2c78_11ec_91f7_0242ac1c0002row3_col4,#T_80fa5d76_2c78_11ec_91f7_0242ac1c0002row3_col12,#T_80fa5d76_2c78_11ec_91f7_0242ac1c0002row3_col13,#T_80fa5d76_2c78_11ec_91f7_0242ac1c0002row4_col1,#T_80fa5d76_2c78_11ec_91f7_0242ac1c0002row4_col2,#T_80fa5d76_2c78_11ec_91f7_0242ac1c0002row4_col3,#T_80fa5d76_2c78_11ec_91f7_0242ac1c0002row4_col12,#T_80fa5d76_2c78_11ec_91f7_0242ac1c0002row4_col13,#T_80fa5d76_2c78_11ec_91f7_0242ac1c0002row5_col12,#T_80fa5d76_2c78_11ec_91f7_0242ac1c0002row6_col11,#T_80fa5d76_2c78_11ec_91f7_0242ac1c0002row9_col11,#T_80fa5d76_2c78_11ec_91f7_0242ac1c0002row10_col11,#T_80fa5d76_2c78_11ec_91f7_0242ac1c0002row10_col12,#T_80fa5d76_2c78_11ec_91f7_0242ac1c0002row10_col13,#T_80fa5d76_2c78_11ec_91f7_0242ac1c0002row10_col14,#T_80fa5d76_2c78_11ec_91f7_0242ac1c0002row10_col15,#T_80fa5d76_2c78_11ec_91f7_0242ac1c0002row10_col16{\n",
              "            font-size:  6pt;\n",
              "            background-color:  #000000;\n",
              "            color:  #f1f1f1;\n",
              "        }#T_80fa5d76_2c78_11ec_91f7_0242ac1c0002row1_col11{\n",
              "            font-size:  6pt;\n",
              "            background-color:  #606060;\n",
              "            color:  #f1f1f1;\n",
              "        }#T_80fa5d76_2c78_11ec_91f7_0242ac1c0002row1_col12{\n",
              "            font-size:  6pt;\n",
              "            background-color:  #4d4d4d;\n",
              "            color:  #f1f1f1;\n",
              "        }#T_80fa5d76_2c78_11ec_91f7_0242ac1c0002row1_col14{\n",
              "            font-size:  6pt;\n",
              "            background-color:  #bbbbbb;\n",
              "            color:  #000000;\n",
              "        }#T_80fa5d76_2c78_11ec_91f7_0242ac1c0002row2_col3{\n",
              "            font-size:  6pt;\n",
              "            background-color:  #e4e4e4;\n",
              "            color:  #000000;\n",
              "        }#T_80fa5d76_2c78_11ec_91f7_0242ac1c0002row2_col4,#T_80fa5d76_2c78_11ec_91f7_0242ac1c0002row8_col6{\n",
              "            font-size:  6pt;\n",
              "            background-color:  #6b6b6b;\n",
              "            color:  #000000;\n",
              "        }#T_80fa5d76_2c78_11ec_91f7_0242ac1c0002row2_col8,#T_80fa5d76_2c78_11ec_91f7_0242ac1c0002row2_col14,#T_80fa5d76_2c78_11ec_91f7_0242ac1c0002row3_col14{\n",
              "            font-size:  6pt;\n",
              "            background-color:  #171717;\n",
              "            color:  #f1f1f1;\n",
              "        }#T_80fa5d76_2c78_11ec_91f7_0242ac1c0002row2_col9,#T_80fa5d76_2c78_11ec_91f7_0242ac1c0002row3_col11{\n",
              "            font-size:  6pt;\n",
              "            background-color:  #4b4b4b;\n",
              "            color:  #f1f1f1;\n",
              "        }#T_80fa5d76_2c78_11ec_91f7_0242ac1c0002row2_col10,#T_80fa5d76_2c78_11ec_91f7_0242ac1c0002row7_col10,#T_80fa5d76_2c78_11ec_91f7_0242ac1c0002row8_col8,#T_80fa5d76_2c78_11ec_91f7_0242ac1c0002row8_col10,#T_80fa5d76_2c78_11ec_91f7_0242ac1c0002row9_col8,#T_80fa5d76_2c78_11ec_91f7_0242ac1c0002row9_col10{\n",
              "            font-size:  6pt;\n",
              "            background-color:  #010101;\n",
              "            color:  #f1f1f1;\n",
              "        }#T_80fa5d76_2c78_11ec_91f7_0242ac1c0002row3_col1{\n",
              "            font-size:  6pt;\n",
              "            background-color:  #272727;\n",
              "            color:  #f1f1f1;\n",
              "        }#T_80fa5d76_2c78_11ec_91f7_0242ac1c0002row3_col2{\n",
              "            font-size:  6pt;\n",
              "            background-color:  #0a0a0a;\n",
              "            color:  #f1f1f1;\n",
              "        }#T_80fa5d76_2c78_11ec_91f7_0242ac1c0002row3_col3{\n",
              "            font-size:  6pt;\n",
              "            background-color:  #050505;\n",
              "            color:  #f1f1f1;\n",
              "        }#T_80fa5d76_2c78_11ec_91f7_0242ac1c0002row3_col5{\n",
              "            font-size:  6pt;\n",
              "            background-color:  #333333;\n",
              "            color:  #f1f1f1;\n",
              "        }#T_80fa5d76_2c78_11ec_91f7_0242ac1c0002row3_col6{\n",
              "            font-size:  6pt;\n",
              "            background-color:  #e6e6e6;\n",
              "            color:  #000000;\n",
              "        }#T_80fa5d76_2c78_11ec_91f7_0242ac1c0002row3_col7,#T_80fa5d76_2c78_11ec_91f7_0242ac1c0002row3_col10{\n",
              "            font-size:  6pt;\n",
              "            background-color:  #fafafa;\n",
              "            color:  #000000;\n",
              "        }#T_80fa5d76_2c78_11ec_91f7_0242ac1c0002row3_col8{\n",
              "            font-size:  6pt;\n",
              "            background-color:  #fbfbfb;\n",
              "            color:  #000000;\n",
              "        }#T_80fa5d76_2c78_11ec_91f7_0242ac1c0002row3_col9{\n",
              "            font-size:  6pt;\n",
              "            background-color:  #fdfdfd;\n",
              "            color:  #000000;\n",
              "        }#T_80fa5d76_2c78_11ec_91f7_0242ac1c0002row4_col4{\n",
              "            font-size:  6pt;\n",
              "            background-color:  #1b1b1b;\n",
              "            color:  #f1f1f1;\n",
              "        }#T_80fa5d76_2c78_11ec_91f7_0242ac1c0002row4_col5{\n",
              "            font-size:  6pt;\n",
              "            background-color:  #e0e0e0;\n",
              "            color:  #000000;\n",
              "        }#T_80fa5d76_2c78_11ec_91f7_0242ac1c0002row4_col11{\n",
              "            font-size:  6pt;\n",
              "            background-color:  #4e4e4e;\n",
              "            color:  #f1f1f1;\n",
              "        }#T_80fa5d76_2c78_11ec_91f7_0242ac1c0002row4_col14{\n",
              "            font-size:  6pt;\n",
              "            background-color:  #767676;\n",
              "            color:  #000000;\n",
              "        }#T_80fa5d76_2c78_11ec_91f7_0242ac1c0002row5_col1{\n",
              "            font-size:  6pt;\n",
              "            background-color:  #fcfcfc;\n",
              "            color:  #000000;\n",
              "        }#T_80fa5d76_2c78_11ec_91f7_0242ac1c0002row5_col2,#T_80fa5d76_2c78_11ec_91f7_0242ac1c0002row5_col3{\n",
              "            font-size:  6pt;\n",
              "            background-color:  #f6f6f6;\n",
              "            color:  #000000;\n",
              "        }#T_80fa5d76_2c78_11ec_91f7_0242ac1c0002row5_col4,#T_80fa5d76_2c78_11ec_91f7_0242ac1c0002row7_col7{\n",
              "            font-size:  6pt;\n",
              "            background-color:  #f8f8f8;\n",
              "            color:  #000000;\n",
              "        }#T_80fa5d76_2c78_11ec_91f7_0242ac1c0002row5_col10,#T_80fa5d76_2c78_11ec_91f7_0242ac1c0002row10_col7{\n",
              "            font-size:  6pt;\n",
              "            background-color:  #e8e8e8;\n",
              "            color:  #000000;\n",
              "        }#T_80fa5d76_2c78_11ec_91f7_0242ac1c0002row5_col11{\n",
              "            font-size:  6pt;\n",
              "            background-color:  #222222;\n",
              "            color:  #f1f1f1;\n",
              "        }#T_80fa5d76_2c78_11ec_91f7_0242ac1c0002row5_col13,#T_80fa5d76_2c78_11ec_91f7_0242ac1c0002row6_col12{\n",
              "            font-size:  6pt;\n",
              "            background-color:  #090909;\n",
              "            color:  #f1f1f1;\n",
              "        }#T_80fa5d76_2c78_11ec_91f7_0242ac1c0002row5_col14{\n",
              "            font-size:  6pt;\n",
              "            background-color:  #d0d0d0;\n",
              "            color:  #000000;\n",
              "        }#T_80fa5d76_2c78_11ec_91f7_0242ac1c0002row6_col10,#T_80fa5d76_2c78_11ec_91f7_0242ac1c0002row7_col11,#T_80fa5d76_2c78_11ec_91f7_0242ac1c0002row9_col6{\n",
              "            font-size:  6pt;\n",
              "            background-color:  #060606;\n",
              "            color:  #f1f1f1;\n",
              "        }#T_80fa5d76_2c78_11ec_91f7_0242ac1c0002row6_col13{\n",
              "            font-size:  6pt;\n",
              "            background-color:  #979797;\n",
              "            color:  #000000;\n",
              "        }#T_80fa5d76_2c78_11ec_91f7_0242ac1c0002row7_col8{\n",
              "            font-size:  6pt;\n",
              "            background-color:  #b6b6b6;\n",
              "            color:  #000000;\n",
              "        }#T_80fa5d76_2c78_11ec_91f7_0242ac1c0002row7_col9{\n",
              "            font-size:  6pt;\n",
              "            background-color:  #252525;\n",
              "            color:  #f1f1f1;\n",
              "        }#T_80fa5d76_2c78_11ec_91f7_0242ac1c0002row7_col12{\n",
              "            font-size:  6pt;\n",
              "            background-color:  #999999;\n",
              "            color:  #000000;\n",
              "        }#T_80fa5d76_2c78_11ec_91f7_0242ac1c0002row8_col5{\n",
              "            font-size:  6pt;\n",
              "            background-color:  #f9f9f9;\n",
              "            color:  #000000;\n",
              "        }#T_80fa5d76_2c78_11ec_91f7_0242ac1c0002row8_col7{\n",
              "            font-size:  6pt;\n",
              "            background-color:  #101010;\n",
              "            color:  #f1f1f1;\n",
              "        }#T_80fa5d76_2c78_11ec_91f7_0242ac1c0002row8_col9,#T_80fa5d76_2c78_11ec_91f7_0242ac1c0002row9_col9{\n",
              "            font-size:  6pt;\n",
              "            background-color:  #020202;\n",
              "            color:  #f1f1f1;\n",
              "        }#T_80fa5d76_2c78_11ec_91f7_0242ac1c0002row8_col11{\n",
              "            font-size:  6pt;\n",
              "            background-color:  #545454;\n",
              "            color:  #f1f1f1;\n",
              "        }#T_80fa5d76_2c78_11ec_91f7_0242ac1c0002row8_col12{\n",
              "            font-size:  6pt;\n",
              "            background-color:  #f1f1f1;\n",
              "            color:  #000000;\n",
              "        }#T_80fa5d76_2c78_11ec_91f7_0242ac1c0002row9_col5{\n",
              "            font-size:  6pt;\n",
              "            background-color:  #f7f7f7;\n",
              "            color:  #000000;\n",
              "        }#T_80fa5d76_2c78_11ec_91f7_0242ac1c0002row9_col7{\n",
              "            font-size:  6pt;\n",
              "            background-color:  #030303;\n",
              "            color:  #f1f1f1;\n",
              "        }#T_80fa5d76_2c78_11ec_91f7_0242ac1c0002row9_col12{\n",
              "            font-size:  6pt;\n",
              "            background-color:  #181818;\n",
              "            color:  #f1f1f1;\n",
              "        }#T_80fa5d76_2c78_11ec_91f7_0242ac1c0002row9_col13{\n",
              "            font-size:  6pt;\n",
              "            background-color:  #303030;\n",
              "            color:  #f1f1f1;\n",
              "        }#T_80fa5d76_2c78_11ec_91f7_0242ac1c0002row9_col14{\n",
              "            font-size:  6pt;\n",
              "            background-color:  #a9a9a9;\n",
              "            color:  #000000;\n",
              "        }#T_80fa5d76_2c78_11ec_91f7_0242ac1c0002row9_col15{\n",
              "            font-size:  6pt;\n",
              "            background-color:  #fefefe;\n",
              "            color:  #000000;\n",
              "        }#T_80fa5d76_2c78_11ec_91f7_0242ac1c0002row10_col8,#T_80fa5d76_2c78_11ec_91f7_0242ac1c0002row10_col9{\n",
              "            font-size:  6pt;\n",
              "            background-color:  #bababa;\n",
              "            color:  #000000;\n",
              "        }#T_80fa5d76_2c78_11ec_91f7_0242ac1c0002row10_col10{\n",
              "            font-size:  6pt;\n",
              "            background-color:  #393939;\n",
              "            color:  #f1f1f1;\n",
              "        }</style><table id=\"T_80fa5d76_2c78_11ec_91f7_0242ac1c0002\" ><thead>    <tr>        <th class=\"blank level0\" ></th>        <th class=\"col_heading level0 col0\" >0</th>        <th class=\"col_heading level0 col1\" >1</th>        <th class=\"col_heading level0 col2\" >2</th>        <th class=\"col_heading level0 col3\" >3</th>        <th class=\"col_heading level0 col4\" >4</th>        <th class=\"col_heading level0 col5\" >5</th>        <th class=\"col_heading level0 col6\" >6</th>        <th class=\"col_heading level0 col7\" >7</th>        <th class=\"col_heading level0 col8\" >8</th>        <th class=\"col_heading level0 col9\" >9</th>        <th class=\"col_heading level0 col10\" >10</th>        <th class=\"col_heading level0 col11\" >11</th>        <th class=\"col_heading level0 col12\" >12</th>        <th class=\"col_heading level0 col13\" >13</th>        <th class=\"col_heading level0 col14\" >14</th>        <th class=\"col_heading level0 col15\" >15</th>        <th class=\"col_heading level0 col16\" >16</th>        <th class=\"col_heading level0 col17\" >17</th>    </tr></thead><tbody>\n",
              "                <tr>\n",
              "                        <th id=\"T_80fa5d76_2c78_11ec_91f7_0242ac1c0002level0_row0\" class=\"row_heading level0 row0\" >0</th>\n",
              "                        <td id=\"T_80fa5d76_2c78_11ec_91f7_0242ac1c0002row0_col0\" class=\"data row0 col0\" >0</td>\n",
              "                        <td id=\"T_80fa5d76_2c78_11ec_91f7_0242ac1c0002row0_col1\" class=\"data row0 col1\" >0</td>\n",
              "                        <td id=\"T_80fa5d76_2c78_11ec_91f7_0242ac1c0002row0_col2\" class=\"data row0 col2\" >0</td>\n",
              "                        <td id=\"T_80fa5d76_2c78_11ec_91f7_0242ac1c0002row0_col3\" class=\"data row0 col3\" >0</td>\n",
              "                        <td id=\"T_80fa5d76_2c78_11ec_91f7_0242ac1c0002row0_col4\" class=\"data row0 col4\" >0</td>\n",
              "                        <td id=\"T_80fa5d76_2c78_11ec_91f7_0242ac1c0002row0_col5\" class=\"data row0 col5\" >0</td>\n",
              "                        <td id=\"T_80fa5d76_2c78_11ec_91f7_0242ac1c0002row0_col6\" class=\"data row0 col6\" >0</td>\n",
              "                        <td id=\"T_80fa5d76_2c78_11ec_91f7_0242ac1c0002row0_col7\" class=\"data row0 col7\" >0</td>\n",
              "                        <td id=\"T_80fa5d76_2c78_11ec_91f7_0242ac1c0002row0_col8\" class=\"data row0 col8\" >0</td>\n",
              "                        <td id=\"T_80fa5d76_2c78_11ec_91f7_0242ac1c0002row0_col9\" class=\"data row0 col9\" >0</td>\n",
              "                        <td id=\"T_80fa5d76_2c78_11ec_91f7_0242ac1c0002row0_col10\" class=\"data row0 col10\" >0</td>\n",
              "                        <td id=\"T_80fa5d76_2c78_11ec_91f7_0242ac1c0002row0_col11\" class=\"data row0 col11\" >0</td>\n",
              "                        <td id=\"T_80fa5d76_2c78_11ec_91f7_0242ac1c0002row0_col12\" class=\"data row0 col12\" >0</td>\n",
              "                        <td id=\"T_80fa5d76_2c78_11ec_91f7_0242ac1c0002row0_col13\" class=\"data row0 col13\" >0</td>\n",
              "                        <td id=\"T_80fa5d76_2c78_11ec_91f7_0242ac1c0002row0_col14\" class=\"data row0 col14\" >0</td>\n",
              "                        <td id=\"T_80fa5d76_2c78_11ec_91f7_0242ac1c0002row0_col15\" class=\"data row0 col15\" >0</td>\n",
              "                        <td id=\"T_80fa5d76_2c78_11ec_91f7_0242ac1c0002row0_col16\" class=\"data row0 col16\" >0</td>\n",
              "                        <td id=\"T_80fa5d76_2c78_11ec_91f7_0242ac1c0002row0_col17\" class=\"data row0 col17\" >0</td>\n",
              "            </tr>\n",
              "            <tr>\n",
              "                        <th id=\"T_80fa5d76_2c78_11ec_91f7_0242ac1c0002level0_row1\" class=\"row_heading level0 row1\" >1</th>\n",
              "                        <td id=\"T_80fa5d76_2c78_11ec_91f7_0242ac1c0002row1_col0\" class=\"data row1 col0\" >0</td>\n",
              "                        <td id=\"T_80fa5d76_2c78_11ec_91f7_0242ac1c0002row1_col1\" class=\"data row1 col1\" >0</td>\n",
              "                        <td id=\"T_80fa5d76_2c78_11ec_91f7_0242ac1c0002row1_col2\" class=\"data row1 col2\" >0</td>\n",
              "                        <td id=\"T_80fa5d76_2c78_11ec_91f7_0242ac1c0002row1_col3\" class=\"data row1 col3\" >0</td>\n",
              "                        <td id=\"T_80fa5d76_2c78_11ec_91f7_0242ac1c0002row1_col4\" class=\"data row1 col4\" >0</td>\n",
              "                        <td id=\"T_80fa5d76_2c78_11ec_91f7_0242ac1c0002row1_col5\" class=\"data row1 col5\" >29</td>\n",
              "                        <td id=\"T_80fa5d76_2c78_11ec_91f7_0242ac1c0002row1_col6\" class=\"data row1 col6\" >150</td>\n",
              "                        <td id=\"T_80fa5d76_2c78_11ec_91f7_0242ac1c0002row1_col7\" class=\"data row1 col7\" >195</td>\n",
              "                        <td id=\"T_80fa5d76_2c78_11ec_91f7_0242ac1c0002row1_col8\" class=\"data row1 col8\" >254</td>\n",
              "                        <td id=\"T_80fa5d76_2c78_11ec_91f7_0242ac1c0002row1_col9\" class=\"data row1 col9\" >255</td>\n",
              "                        <td id=\"T_80fa5d76_2c78_11ec_91f7_0242ac1c0002row1_col10\" class=\"data row1 col10\" >254</td>\n",
              "                        <td id=\"T_80fa5d76_2c78_11ec_91f7_0242ac1c0002row1_col11\" class=\"data row1 col11\" >176</td>\n",
              "                        <td id=\"T_80fa5d76_2c78_11ec_91f7_0242ac1c0002row1_col12\" class=\"data row1 col12\" >193</td>\n",
              "                        <td id=\"T_80fa5d76_2c78_11ec_91f7_0242ac1c0002row1_col13\" class=\"data row1 col13\" >150</td>\n",
              "                        <td id=\"T_80fa5d76_2c78_11ec_91f7_0242ac1c0002row1_col14\" class=\"data row1 col14\" >96</td>\n",
              "                        <td id=\"T_80fa5d76_2c78_11ec_91f7_0242ac1c0002row1_col15\" class=\"data row1 col15\" >0</td>\n",
              "                        <td id=\"T_80fa5d76_2c78_11ec_91f7_0242ac1c0002row1_col16\" class=\"data row1 col16\" >0</td>\n",
              "                        <td id=\"T_80fa5d76_2c78_11ec_91f7_0242ac1c0002row1_col17\" class=\"data row1 col17\" >0</td>\n",
              "            </tr>\n",
              "            <tr>\n",
              "                        <th id=\"T_80fa5d76_2c78_11ec_91f7_0242ac1c0002level0_row2\" class=\"row_heading level0 row2\" >2</th>\n",
              "                        <td id=\"T_80fa5d76_2c78_11ec_91f7_0242ac1c0002row2_col0\" class=\"data row2 col0\" >0</td>\n",
              "                        <td id=\"T_80fa5d76_2c78_11ec_91f7_0242ac1c0002row2_col1\" class=\"data row2 col1\" >0</td>\n",
              "                        <td id=\"T_80fa5d76_2c78_11ec_91f7_0242ac1c0002row2_col2\" class=\"data row2 col2\" >0</td>\n",
              "                        <td id=\"T_80fa5d76_2c78_11ec_91f7_0242ac1c0002row2_col3\" class=\"data row2 col3\" >48</td>\n",
              "                        <td id=\"T_80fa5d76_2c78_11ec_91f7_0242ac1c0002row2_col4\" class=\"data row2 col4\" >166</td>\n",
              "                        <td id=\"T_80fa5d76_2c78_11ec_91f7_0242ac1c0002row2_col5\" class=\"data row2 col5\" >224</td>\n",
              "                        <td id=\"T_80fa5d76_2c78_11ec_91f7_0242ac1c0002row2_col6\" class=\"data row2 col6\" >253</td>\n",
              "                        <td id=\"T_80fa5d76_2c78_11ec_91f7_0242ac1c0002row2_col7\" class=\"data row2 col7\" >253</td>\n",
              "                        <td id=\"T_80fa5d76_2c78_11ec_91f7_0242ac1c0002row2_col8\" class=\"data row2 col8\" >234</td>\n",
              "                        <td id=\"T_80fa5d76_2c78_11ec_91f7_0242ac1c0002row2_col9\" class=\"data row2 col9\" >196</td>\n",
              "                        <td id=\"T_80fa5d76_2c78_11ec_91f7_0242ac1c0002row2_col10\" class=\"data row2 col10\" >253</td>\n",
              "                        <td id=\"T_80fa5d76_2c78_11ec_91f7_0242ac1c0002row2_col11\" class=\"data row2 col11\" >253</td>\n",
              "                        <td id=\"T_80fa5d76_2c78_11ec_91f7_0242ac1c0002row2_col12\" class=\"data row2 col12\" >253</td>\n",
              "                        <td id=\"T_80fa5d76_2c78_11ec_91f7_0242ac1c0002row2_col13\" class=\"data row2 col13\" >253</td>\n",
              "                        <td id=\"T_80fa5d76_2c78_11ec_91f7_0242ac1c0002row2_col14\" class=\"data row2 col14\" >233</td>\n",
              "                        <td id=\"T_80fa5d76_2c78_11ec_91f7_0242ac1c0002row2_col15\" class=\"data row2 col15\" >0</td>\n",
              "                        <td id=\"T_80fa5d76_2c78_11ec_91f7_0242ac1c0002row2_col16\" class=\"data row2 col16\" >0</td>\n",
              "                        <td id=\"T_80fa5d76_2c78_11ec_91f7_0242ac1c0002row2_col17\" class=\"data row2 col17\" >0</td>\n",
              "            </tr>\n",
              "            <tr>\n",
              "                        <th id=\"T_80fa5d76_2c78_11ec_91f7_0242ac1c0002level0_row3\" class=\"row_heading level0 row3\" >3</th>\n",
              "                        <td id=\"T_80fa5d76_2c78_11ec_91f7_0242ac1c0002row3_col0\" class=\"data row3 col0\" >0</td>\n",
              "                        <td id=\"T_80fa5d76_2c78_11ec_91f7_0242ac1c0002row3_col1\" class=\"data row3 col1\" >93</td>\n",
              "                        <td id=\"T_80fa5d76_2c78_11ec_91f7_0242ac1c0002row3_col2\" class=\"data row3 col2\" >244</td>\n",
              "                        <td id=\"T_80fa5d76_2c78_11ec_91f7_0242ac1c0002row3_col3\" class=\"data row3 col3\" >249</td>\n",
              "                        <td id=\"T_80fa5d76_2c78_11ec_91f7_0242ac1c0002row3_col4\" class=\"data row3 col4\" >253</td>\n",
              "                        <td id=\"T_80fa5d76_2c78_11ec_91f7_0242ac1c0002row3_col5\" class=\"data row3 col5\" >187</td>\n",
              "                        <td id=\"T_80fa5d76_2c78_11ec_91f7_0242ac1c0002row3_col6\" class=\"data row3 col6\" >46</td>\n",
              "                        <td id=\"T_80fa5d76_2c78_11ec_91f7_0242ac1c0002row3_col7\" class=\"data row3 col7\" >10</td>\n",
              "                        <td id=\"T_80fa5d76_2c78_11ec_91f7_0242ac1c0002row3_col8\" class=\"data row3 col8\" >8</td>\n",
              "                        <td id=\"T_80fa5d76_2c78_11ec_91f7_0242ac1c0002row3_col9\" class=\"data row3 col9\" >4</td>\n",
              "                        <td id=\"T_80fa5d76_2c78_11ec_91f7_0242ac1c0002row3_col10\" class=\"data row3 col10\" >10</td>\n",
              "                        <td id=\"T_80fa5d76_2c78_11ec_91f7_0242ac1c0002row3_col11\" class=\"data row3 col11\" >194</td>\n",
              "                        <td id=\"T_80fa5d76_2c78_11ec_91f7_0242ac1c0002row3_col12\" class=\"data row3 col12\" >253</td>\n",
              "                        <td id=\"T_80fa5d76_2c78_11ec_91f7_0242ac1c0002row3_col13\" class=\"data row3 col13\" >253</td>\n",
              "                        <td id=\"T_80fa5d76_2c78_11ec_91f7_0242ac1c0002row3_col14\" class=\"data row3 col14\" >233</td>\n",
              "                        <td id=\"T_80fa5d76_2c78_11ec_91f7_0242ac1c0002row3_col15\" class=\"data row3 col15\" >0</td>\n",
              "                        <td id=\"T_80fa5d76_2c78_11ec_91f7_0242ac1c0002row3_col16\" class=\"data row3 col16\" >0</td>\n",
              "                        <td id=\"T_80fa5d76_2c78_11ec_91f7_0242ac1c0002row3_col17\" class=\"data row3 col17\" >0</td>\n",
              "            </tr>\n",
              "            <tr>\n",
              "                        <th id=\"T_80fa5d76_2c78_11ec_91f7_0242ac1c0002level0_row4\" class=\"row_heading level0 row4\" >4</th>\n",
              "                        <td id=\"T_80fa5d76_2c78_11ec_91f7_0242ac1c0002row4_col0\" class=\"data row4 col0\" >0</td>\n",
              "                        <td id=\"T_80fa5d76_2c78_11ec_91f7_0242ac1c0002row4_col1\" class=\"data row4 col1\" >107</td>\n",
              "                        <td id=\"T_80fa5d76_2c78_11ec_91f7_0242ac1c0002row4_col2\" class=\"data row4 col2\" >253</td>\n",
              "                        <td id=\"T_80fa5d76_2c78_11ec_91f7_0242ac1c0002row4_col3\" class=\"data row4 col3\" >253</td>\n",
              "                        <td id=\"T_80fa5d76_2c78_11ec_91f7_0242ac1c0002row4_col4\" class=\"data row4 col4\" >230</td>\n",
              "                        <td id=\"T_80fa5d76_2c78_11ec_91f7_0242ac1c0002row4_col5\" class=\"data row4 col5\" >48</td>\n",
              "                        <td id=\"T_80fa5d76_2c78_11ec_91f7_0242ac1c0002row4_col6\" class=\"data row4 col6\" >0</td>\n",
              "                        <td id=\"T_80fa5d76_2c78_11ec_91f7_0242ac1c0002row4_col7\" class=\"data row4 col7\" >0</td>\n",
              "                        <td id=\"T_80fa5d76_2c78_11ec_91f7_0242ac1c0002row4_col8\" class=\"data row4 col8\" >0</td>\n",
              "                        <td id=\"T_80fa5d76_2c78_11ec_91f7_0242ac1c0002row4_col9\" class=\"data row4 col9\" >0</td>\n",
              "                        <td id=\"T_80fa5d76_2c78_11ec_91f7_0242ac1c0002row4_col10\" class=\"data row4 col10\" >0</td>\n",
              "                        <td id=\"T_80fa5d76_2c78_11ec_91f7_0242ac1c0002row4_col11\" class=\"data row4 col11\" >192</td>\n",
              "                        <td id=\"T_80fa5d76_2c78_11ec_91f7_0242ac1c0002row4_col12\" class=\"data row4 col12\" >253</td>\n",
              "                        <td id=\"T_80fa5d76_2c78_11ec_91f7_0242ac1c0002row4_col13\" class=\"data row4 col13\" >253</td>\n",
              "                        <td id=\"T_80fa5d76_2c78_11ec_91f7_0242ac1c0002row4_col14\" class=\"data row4 col14\" >156</td>\n",
              "                        <td id=\"T_80fa5d76_2c78_11ec_91f7_0242ac1c0002row4_col15\" class=\"data row4 col15\" >0</td>\n",
              "                        <td id=\"T_80fa5d76_2c78_11ec_91f7_0242ac1c0002row4_col16\" class=\"data row4 col16\" >0</td>\n",
              "                        <td id=\"T_80fa5d76_2c78_11ec_91f7_0242ac1c0002row4_col17\" class=\"data row4 col17\" >0</td>\n",
              "            </tr>\n",
              "            <tr>\n",
              "                        <th id=\"T_80fa5d76_2c78_11ec_91f7_0242ac1c0002level0_row5\" class=\"row_heading level0 row5\" >5</th>\n",
              "                        <td id=\"T_80fa5d76_2c78_11ec_91f7_0242ac1c0002row5_col0\" class=\"data row5 col0\" >0</td>\n",
              "                        <td id=\"T_80fa5d76_2c78_11ec_91f7_0242ac1c0002row5_col1\" class=\"data row5 col1\" >3</td>\n",
              "                        <td id=\"T_80fa5d76_2c78_11ec_91f7_0242ac1c0002row5_col2\" class=\"data row5 col2\" >20</td>\n",
              "                        <td id=\"T_80fa5d76_2c78_11ec_91f7_0242ac1c0002row5_col3\" class=\"data row5 col3\" >20</td>\n",
              "                        <td id=\"T_80fa5d76_2c78_11ec_91f7_0242ac1c0002row5_col4\" class=\"data row5 col4\" >15</td>\n",
              "                        <td id=\"T_80fa5d76_2c78_11ec_91f7_0242ac1c0002row5_col5\" class=\"data row5 col5\" >0</td>\n",
              "                        <td id=\"T_80fa5d76_2c78_11ec_91f7_0242ac1c0002row5_col6\" class=\"data row5 col6\" >0</td>\n",
              "                        <td id=\"T_80fa5d76_2c78_11ec_91f7_0242ac1c0002row5_col7\" class=\"data row5 col7\" >0</td>\n",
              "                        <td id=\"T_80fa5d76_2c78_11ec_91f7_0242ac1c0002row5_col8\" class=\"data row5 col8\" >0</td>\n",
              "                        <td id=\"T_80fa5d76_2c78_11ec_91f7_0242ac1c0002row5_col9\" class=\"data row5 col9\" >0</td>\n",
              "                        <td id=\"T_80fa5d76_2c78_11ec_91f7_0242ac1c0002row5_col10\" class=\"data row5 col10\" >43</td>\n",
              "                        <td id=\"T_80fa5d76_2c78_11ec_91f7_0242ac1c0002row5_col11\" class=\"data row5 col11\" >224</td>\n",
              "                        <td id=\"T_80fa5d76_2c78_11ec_91f7_0242ac1c0002row5_col12\" class=\"data row5 col12\" >253</td>\n",
              "                        <td id=\"T_80fa5d76_2c78_11ec_91f7_0242ac1c0002row5_col13\" class=\"data row5 col13\" >245</td>\n",
              "                        <td id=\"T_80fa5d76_2c78_11ec_91f7_0242ac1c0002row5_col14\" class=\"data row5 col14\" >74</td>\n",
              "                        <td id=\"T_80fa5d76_2c78_11ec_91f7_0242ac1c0002row5_col15\" class=\"data row5 col15\" >0</td>\n",
              "                        <td id=\"T_80fa5d76_2c78_11ec_91f7_0242ac1c0002row5_col16\" class=\"data row5 col16\" >0</td>\n",
              "                        <td id=\"T_80fa5d76_2c78_11ec_91f7_0242ac1c0002row5_col17\" class=\"data row5 col17\" >0</td>\n",
              "            </tr>\n",
              "            <tr>\n",
              "                        <th id=\"T_80fa5d76_2c78_11ec_91f7_0242ac1c0002level0_row6\" class=\"row_heading level0 row6\" >6</th>\n",
              "                        <td id=\"T_80fa5d76_2c78_11ec_91f7_0242ac1c0002row6_col0\" class=\"data row6 col0\" >0</td>\n",
              "                        <td id=\"T_80fa5d76_2c78_11ec_91f7_0242ac1c0002row6_col1\" class=\"data row6 col1\" >0</td>\n",
              "                        <td id=\"T_80fa5d76_2c78_11ec_91f7_0242ac1c0002row6_col2\" class=\"data row6 col2\" >0</td>\n",
              "                        <td id=\"T_80fa5d76_2c78_11ec_91f7_0242ac1c0002row6_col3\" class=\"data row6 col3\" >0</td>\n",
              "                        <td id=\"T_80fa5d76_2c78_11ec_91f7_0242ac1c0002row6_col4\" class=\"data row6 col4\" >0</td>\n",
              "                        <td id=\"T_80fa5d76_2c78_11ec_91f7_0242ac1c0002row6_col5\" class=\"data row6 col5\" >0</td>\n",
              "                        <td id=\"T_80fa5d76_2c78_11ec_91f7_0242ac1c0002row6_col6\" class=\"data row6 col6\" >0</td>\n",
              "                        <td id=\"T_80fa5d76_2c78_11ec_91f7_0242ac1c0002row6_col7\" class=\"data row6 col7\" >0</td>\n",
              "                        <td id=\"T_80fa5d76_2c78_11ec_91f7_0242ac1c0002row6_col8\" class=\"data row6 col8\" >0</td>\n",
              "                        <td id=\"T_80fa5d76_2c78_11ec_91f7_0242ac1c0002row6_col9\" class=\"data row6 col9\" >0</td>\n",
              "                        <td id=\"T_80fa5d76_2c78_11ec_91f7_0242ac1c0002row6_col10\" class=\"data row6 col10\" >249</td>\n",
              "                        <td id=\"T_80fa5d76_2c78_11ec_91f7_0242ac1c0002row6_col11\" class=\"data row6 col11\" >253</td>\n",
              "                        <td id=\"T_80fa5d76_2c78_11ec_91f7_0242ac1c0002row6_col12\" class=\"data row6 col12\" >245</td>\n",
              "                        <td id=\"T_80fa5d76_2c78_11ec_91f7_0242ac1c0002row6_col13\" class=\"data row6 col13\" >126</td>\n",
              "                        <td id=\"T_80fa5d76_2c78_11ec_91f7_0242ac1c0002row6_col14\" class=\"data row6 col14\" >0</td>\n",
              "                        <td id=\"T_80fa5d76_2c78_11ec_91f7_0242ac1c0002row6_col15\" class=\"data row6 col15\" >0</td>\n",
              "                        <td id=\"T_80fa5d76_2c78_11ec_91f7_0242ac1c0002row6_col16\" class=\"data row6 col16\" >0</td>\n",
              "                        <td id=\"T_80fa5d76_2c78_11ec_91f7_0242ac1c0002row6_col17\" class=\"data row6 col17\" >0</td>\n",
              "            </tr>\n",
              "            <tr>\n",
              "                        <th id=\"T_80fa5d76_2c78_11ec_91f7_0242ac1c0002level0_row7\" class=\"row_heading level0 row7\" >7</th>\n",
              "                        <td id=\"T_80fa5d76_2c78_11ec_91f7_0242ac1c0002row7_col0\" class=\"data row7 col0\" >0</td>\n",
              "                        <td id=\"T_80fa5d76_2c78_11ec_91f7_0242ac1c0002row7_col1\" class=\"data row7 col1\" >0</td>\n",
              "                        <td id=\"T_80fa5d76_2c78_11ec_91f7_0242ac1c0002row7_col2\" class=\"data row7 col2\" >0</td>\n",
              "                        <td id=\"T_80fa5d76_2c78_11ec_91f7_0242ac1c0002row7_col3\" class=\"data row7 col3\" >0</td>\n",
              "                        <td id=\"T_80fa5d76_2c78_11ec_91f7_0242ac1c0002row7_col4\" class=\"data row7 col4\" >0</td>\n",
              "                        <td id=\"T_80fa5d76_2c78_11ec_91f7_0242ac1c0002row7_col5\" class=\"data row7 col5\" >0</td>\n",
              "                        <td id=\"T_80fa5d76_2c78_11ec_91f7_0242ac1c0002row7_col6\" class=\"data row7 col6\" >0</td>\n",
              "                        <td id=\"T_80fa5d76_2c78_11ec_91f7_0242ac1c0002row7_col7\" class=\"data row7 col7\" >14</td>\n",
              "                        <td id=\"T_80fa5d76_2c78_11ec_91f7_0242ac1c0002row7_col8\" class=\"data row7 col8\" >101</td>\n",
              "                        <td id=\"T_80fa5d76_2c78_11ec_91f7_0242ac1c0002row7_col9\" class=\"data row7 col9\" >223</td>\n",
              "                        <td id=\"T_80fa5d76_2c78_11ec_91f7_0242ac1c0002row7_col10\" class=\"data row7 col10\" >253</td>\n",
              "                        <td id=\"T_80fa5d76_2c78_11ec_91f7_0242ac1c0002row7_col11\" class=\"data row7 col11\" >248</td>\n",
              "                        <td id=\"T_80fa5d76_2c78_11ec_91f7_0242ac1c0002row7_col12\" class=\"data row7 col12\" >124</td>\n",
              "                        <td id=\"T_80fa5d76_2c78_11ec_91f7_0242ac1c0002row7_col13\" class=\"data row7 col13\" >0</td>\n",
              "                        <td id=\"T_80fa5d76_2c78_11ec_91f7_0242ac1c0002row7_col14\" class=\"data row7 col14\" >0</td>\n",
              "                        <td id=\"T_80fa5d76_2c78_11ec_91f7_0242ac1c0002row7_col15\" class=\"data row7 col15\" >0</td>\n",
              "                        <td id=\"T_80fa5d76_2c78_11ec_91f7_0242ac1c0002row7_col16\" class=\"data row7 col16\" >0</td>\n",
              "                        <td id=\"T_80fa5d76_2c78_11ec_91f7_0242ac1c0002row7_col17\" class=\"data row7 col17\" >0</td>\n",
              "            </tr>\n",
              "            <tr>\n",
              "                        <th id=\"T_80fa5d76_2c78_11ec_91f7_0242ac1c0002level0_row8\" class=\"row_heading level0 row8\" >8</th>\n",
              "                        <td id=\"T_80fa5d76_2c78_11ec_91f7_0242ac1c0002row8_col0\" class=\"data row8 col0\" >0</td>\n",
              "                        <td id=\"T_80fa5d76_2c78_11ec_91f7_0242ac1c0002row8_col1\" class=\"data row8 col1\" >0</td>\n",
              "                        <td id=\"T_80fa5d76_2c78_11ec_91f7_0242ac1c0002row8_col2\" class=\"data row8 col2\" >0</td>\n",
              "                        <td id=\"T_80fa5d76_2c78_11ec_91f7_0242ac1c0002row8_col3\" class=\"data row8 col3\" >0</td>\n",
              "                        <td id=\"T_80fa5d76_2c78_11ec_91f7_0242ac1c0002row8_col4\" class=\"data row8 col4\" >0</td>\n",
              "                        <td id=\"T_80fa5d76_2c78_11ec_91f7_0242ac1c0002row8_col5\" class=\"data row8 col5\" >11</td>\n",
              "                        <td id=\"T_80fa5d76_2c78_11ec_91f7_0242ac1c0002row8_col6\" class=\"data row8 col6\" >166</td>\n",
              "                        <td id=\"T_80fa5d76_2c78_11ec_91f7_0242ac1c0002row8_col7\" class=\"data row8 col7\" >239</td>\n",
              "                        <td id=\"T_80fa5d76_2c78_11ec_91f7_0242ac1c0002row8_col8\" class=\"data row8 col8\" >253</td>\n",
              "                        <td id=\"T_80fa5d76_2c78_11ec_91f7_0242ac1c0002row8_col9\" class=\"data row8 col9\" >253</td>\n",
              "                        <td id=\"T_80fa5d76_2c78_11ec_91f7_0242ac1c0002row8_col10\" class=\"data row8 col10\" >253</td>\n",
              "                        <td id=\"T_80fa5d76_2c78_11ec_91f7_0242ac1c0002row8_col11\" class=\"data row8 col11\" >187</td>\n",
              "                        <td id=\"T_80fa5d76_2c78_11ec_91f7_0242ac1c0002row8_col12\" class=\"data row8 col12\" >30</td>\n",
              "                        <td id=\"T_80fa5d76_2c78_11ec_91f7_0242ac1c0002row8_col13\" class=\"data row8 col13\" >0</td>\n",
              "                        <td id=\"T_80fa5d76_2c78_11ec_91f7_0242ac1c0002row8_col14\" class=\"data row8 col14\" >0</td>\n",
              "                        <td id=\"T_80fa5d76_2c78_11ec_91f7_0242ac1c0002row8_col15\" class=\"data row8 col15\" >0</td>\n",
              "                        <td id=\"T_80fa5d76_2c78_11ec_91f7_0242ac1c0002row8_col16\" class=\"data row8 col16\" >0</td>\n",
              "                        <td id=\"T_80fa5d76_2c78_11ec_91f7_0242ac1c0002row8_col17\" class=\"data row8 col17\" >0</td>\n",
              "            </tr>\n",
              "            <tr>\n",
              "                        <th id=\"T_80fa5d76_2c78_11ec_91f7_0242ac1c0002level0_row9\" class=\"row_heading level0 row9\" >9</th>\n",
              "                        <td id=\"T_80fa5d76_2c78_11ec_91f7_0242ac1c0002row9_col0\" class=\"data row9 col0\" >0</td>\n",
              "                        <td id=\"T_80fa5d76_2c78_11ec_91f7_0242ac1c0002row9_col1\" class=\"data row9 col1\" >0</td>\n",
              "                        <td id=\"T_80fa5d76_2c78_11ec_91f7_0242ac1c0002row9_col2\" class=\"data row9 col2\" >0</td>\n",
              "                        <td id=\"T_80fa5d76_2c78_11ec_91f7_0242ac1c0002row9_col3\" class=\"data row9 col3\" >0</td>\n",
              "                        <td id=\"T_80fa5d76_2c78_11ec_91f7_0242ac1c0002row9_col4\" class=\"data row9 col4\" >0</td>\n",
              "                        <td id=\"T_80fa5d76_2c78_11ec_91f7_0242ac1c0002row9_col5\" class=\"data row9 col5\" >16</td>\n",
              "                        <td id=\"T_80fa5d76_2c78_11ec_91f7_0242ac1c0002row9_col6\" class=\"data row9 col6\" >248</td>\n",
              "                        <td id=\"T_80fa5d76_2c78_11ec_91f7_0242ac1c0002row9_col7\" class=\"data row9 col7\" >250</td>\n",
              "                        <td id=\"T_80fa5d76_2c78_11ec_91f7_0242ac1c0002row9_col8\" class=\"data row9 col8\" >253</td>\n",
              "                        <td id=\"T_80fa5d76_2c78_11ec_91f7_0242ac1c0002row9_col9\" class=\"data row9 col9\" >253</td>\n",
              "                        <td id=\"T_80fa5d76_2c78_11ec_91f7_0242ac1c0002row9_col10\" class=\"data row9 col10\" >253</td>\n",
              "                        <td id=\"T_80fa5d76_2c78_11ec_91f7_0242ac1c0002row9_col11\" class=\"data row9 col11\" >253</td>\n",
              "                        <td id=\"T_80fa5d76_2c78_11ec_91f7_0242ac1c0002row9_col12\" class=\"data row9 col12\" >232</td>\n",
              "                        <td id=\"T_80fa5d76_2c78_11ec_91f7_0242ac1c0002row9_col13\" class=\"data row9 col13\" >213</td>\n",
              "                        <td id=\"T_80fa5d76_2c78_11ec_91f7_0242ac1c0002row9_col14\" class=\"data row9 col14\" >111</td>\n",
              "                        <td id=\"T_80fa5d76_2c78_11ec_91f7_0242ac1c0002row9_col15\" class=\"data row9 col15\" >2</td>\n",
              "                        <td id=\"T_80fa5d76_2c78_11ec_91f7_0242ac1c0002row9_col16\" class=\"data row9 col16\" >0</td>\n",
              "                        <td id=\"T_80fa5d76_2c78_11ec_91f7_0242ac1c0002row9_col17\" class=\"data row9 col17\" >0</td>\n",
              "            </tr>\n",
              "            <tr>\n",
              "                        <th id=\"T_80fa5d76_2c78_11ec_91f7_0242ac1c0002level0_row10\" class=\"row_heading level0 row10\" >10</th>\n",
              "                        <td id=\"T_80fa5d76_2c78_11ec_91f7_0242ac1c0002row10_col0\" class=\"data row10 col0\" >0</td>\n",
              "                        <td id=\"T_80fa5d76_2c78_11ec_91f7_0242ac1c0002row10_col1\" class=\"data row10 col1\" >0</td>\n",
              "                        <td id=\"T_80fa5d76_2c78_11ec_91f7_0242ac1c0002row10_col2\" class=\"data row10 col2\" >0</td>\n",
              "                        <td id=\"T_80fa5d76_2c78_11ec_91f7_0242ac1c0002row10_col3\" class=\"data row10 col3\" >0</td>\n",
              "                        <td id=\"T_80fa5d76_2c78_11ec_91f7_0242ac1c0002row10_col4\" class=\"data row10 col4\" >0</td>\n",
              "                        <td id=\"T_80fa5d76_2c78_11ec_91f7_0242ac1c0002row10_col5\" class=\"data row10 col5\" >0</td>\n",
              "                        <td id=\"T_80fa5d76_2c78_11ec_91f7_0242ac1c0002row10_col6\" class=\"data row10 col6\" >0</td>\n",
              "                        <td id=\"T_80fa5d76_2c78_11ec_91f7_0242ac1c0002row10_col7\" class=\"data row10 col7\" >43</td>\n",
              "                        <td id=\"T_80fa5d76_2c78_11ec_91f7_0242ac1c0002row10_col8\" class=\"data row10 col8\" >98</td>\n",
              "                        <td id=\"T_80fa5d76_2c78_11ec_91f7_0242ac1c0002row10_col9\" class=\"data row10 col9\" >98</td>\n",
              "                        <td id=\"T_80fa5d76_2c78_11ec_91f7_0242ac1c0002row10_col10\" class=\"data row10 col10\" >208</td>\n",
              "                        <td id=\"T_80fa5d76_2c78_11ec_91f7_0242ac1c0002row10_col11\" class=\"data row10 col11\" >253</td>\n",
              "                        <td id=\"T_80fa5d76_2c78_11ec_91f7_0242ac1c0002row10_col12\" class=\"data row10 col12\" >253</td>\n",
              "                        <td id=\"T_80fa5d76_2c78_11ec_91f7_0242ac1c0002row10_col13\" class=\"data row10 col13\" >253</td>\n",
              "                        <td id=\"T_80fa5d76_2c78_11ec_91f7_0242ac1c0002row10_col14\" class=\"data row10 col14\" >253</td>\n",
              "                        <td id=\"T_80fa5d76_2c78_11ec_91f7_0242ac1c0002row10_col15\" class=\"data row10 col15\" >187</td>\n",
              "                        <td id=\"T_80fa5d76_2c78_11ec_91f7_0242ac1c0002row10_col16\" class=\"data row10 col16\" >22</td>\n",
              "                        <td id=\"T_80fa5d76_2c78_11ec_91f7_0242ac1c0002row10_col17\" class=\"data row10 col17\" >0</td>\n",
              "            </tr>\n",
              "    </tbody></table>"
            ],
            "text/plain": [
              "<pandas.io.formats.style.Styler at 0x7f41afc83450>"
            ]
          },
          "metadata": {},
          "execution_count": 11
        }
      ]
    },
    {
      "cell_type": "markdown",
      "metadata": {
        "id": "oIenCyrj2fcC"
      },
      "source": [
        "### Baseline Model: Pixel Similarity (Classical Approach)"
      ]
    },
    {
      "cell_type": "code",
      "metadata": {
        "id": "oIdBpvzb2fcD",
        "outputId": "f5d8ba0d-5ba1-46d3-9faa-17f27b3bdbfe",
        "colab": {
          "base_uri": "https://localhost:8080/"
        }
      },
      "source": [
        "seven_tensors = [tensor(Image.open(o)) for o in sevens]\n",
        "three_tensors = [tensor(Image.open(o)) for o in threes]\n",
        "len(three_tensors),len(seven_tensors)"
      ],
      "execution_count": 12,
      "outputs": [
        {
          "output_type": "execute_result",
          "data": {
            "text/plain": [
              "(6131, 6265)"
            ]
          },
          "metadata": {},
          "execution_count": 12
        }
      ]
    },
    {
      "cell_type": "code",
      "metadata": {
        "id": "CjbGTUZN2fcD",
        "outputId": "712840fb-9abb-4cc4-d890-096874657f0a",
        "colab": {
          "base_uri": "https://localhost:8080/",
          "height": 85
        }
      },
      "source": [
        "show_image(three_tensors[1]);"
      ],
      "execution_count": 13,
      "outputs": [
        {
          "output_type": "display_data",
          "data": {
            "image/png": "[encoded data removed]",
            "text/plain": [
              "<Figure size 72x72 with 1 Axes>"
            ]
          },
          "metadata": {
            "needs_background": "light"
          }
        }
      ]
    },
    {
      "cell_type": "code",
      "metadata": {
        "id": "RRAYGD6b2fcE",
        "outputId": "aa804044-fb29-42fb-f6f6-c503e791defb",
        "colab": {
          "base_uri": "https://localhost:8080/"
        }
      },
      "source": [
        "stacked_sevens = torch.stack(seven_tensors).float()/255\n",
        "stacked_threes = torch.stack(three_tensors).float()/255\n",
        "stacked_threes.shape"
      ],
      "execution_count": 14,
      "outputs": [
        {
          "output_type": "execute_result",
          "data": {
            "text/plain": [
              "torch.Size([6131, 28, 28])"
            ]
          },
          "metadata": {},
          "execution_count": 14
        }
      ]
    },
    {
      "cell_type": "code",
      "metadata": {
        "id": "TyWTqJM-2fcF",
        "outputId": "3ca95f39-070c-47db-ddbd-0193ad73cb82",
        "colab": {
          "base_uri": "https://localhost:8080/"
        }
      },
      "source": [
        "len(stacked_threes.shape)"
      ],
      "execution_count": 15,
      "outputs": [
        {
          "output_type": "execute_result",
          "data": {
            "text/plain": [
              "3"
            ]
          },
          "metadata": {},
          "execution_count": 15
        }
      ]
    },
    {
      "cell_type": "code",
      "metadata": {
        "id": "n5VAl_P62fcF",
        "outputId": "38a42aa7-796b-435c-c44b-b8a7998f57d9",
        "colab": {
          "base_uri": "https://localhost:8080/"
        }
      },
      "source": [
        "stacked_threes.ndim"
      ],
      "execution_count": 16,
      "outputs": [
        {
          "output_type": "execute_result",
          "data": {
            "text/plain": [
              "3"
            ]
          },
          "metadata": {},
          "execution_count": 16
        }
      ]
    },
    {
      "cell_type": "code",
      "metadata": {
        "id": "MU9Q4qz82fcG",
        "outputId": "5d1b37ad-963d-44dc-9194-6a33163f8e7c",
        "colab": {
          "base_uri": "https://localhost:8080/",
          "height": 85
        }
      },
      "source": [
        "mean3 = stacked_threes.mean(0)\n",
        "show_image(mean3);"
      ],
      "execution_count": 17,
      "outputs": [
        {
          "output_type": "display_data",
          "data": {
            "image/png": "[encoded data removed]",
            "text/plain": [
              "<Figure size 72x72 with 1 Axes>"
            ]
          },
          "metadata": {
            "needs_background": "light"
          }
        }
      ]
    },
    {
      "cell_type": "code",
      "metadata": {
        "id": "jE0kmPo_2fcG",
        "outputId": "054c367a-d2e1-4474-9275-3095dfc74bbd",
        "colab": {
          "base_uri": "https://localhost:8080/",
          "height": 85
        }
      },
      "source": [
        "mean7 = stacked_sevens.mean(0)\n",
        "show_image(mean7);"
      ],
      "execution_count": 18,
      "outputs": [
        {
          "output_type": "display_data",
          "data": {
            "image/png": "[encoded data removed]",
            "text/plain": [
              "<Figure size 72x72 with 1 Axes>"
            ]
          },
          "metadata": {
            "needs_background": "light"
          }
        }
      ]
    },
    {
      "cell_type": "code",
      "metadata": {
        "id": "kkdPLjCQ2fcG",
        "outputId": "f0c6f3e1-bc29-4bf9-d1e1-77e8edd6ba84",
        "colab": {
          "base_uri": "https://localhost:8080/",
          "height": 85
        }
      },
      "source": [
        "a_3 = stacked_threes[1]\n",
        "show_image(a_3);"
      ],
      "execution_count": 19,
      "outputs": [
        {
          "output_type": "display_data",
          "data": {
            "image/png": "[encoded data removed]",
            "text/plain": [
              "<Figure size 72x72 with 1 Axes>"
            ]
          },
          "metadata": {
            "needs_background": "light"
          }
        }
      ]
    },
    {
      "cell_type": "code",
      "metadata": {
        "id": "m2A19CW62fcH",
        "outputId": "1c13d218-e417-4048-b0cd-0b61832d539c",
        "colab": {
          "base_uri": "https://localhost:8080/"
        }
      },
      "source": [
        "dist_3_abs = (a_3 - mean3).abs().mean()\n",
        "dist_3_sqr = ((a_3 - mean3)**2).mean().sqrt()\n",
        "dist_3_abs,dist_3_sqr"
      ],
      "execution_count": 20,
      "outputs": [
        {
          "output_type": "execute_result",
          "data": {
            "text/plain": [
              "(tensor(0.1114), tensor(0.2021))"
            ]
          },
          "metadata": {},
          "execution_count": 20
        }
      ]
    },
    {
      "cell_type": "code",
      "metadata": {
        "id": "fBY0DDdK2fcH",
        "outputId": "89e8c732-c684-401b-da36-fa023643cc4e",
        "colab": {
          "base_uri": "https://localhost:8080/"
        }
      },
      "source": [
        "dist_7_abs = (a_3 - mean7).abs().mean()\n",
        "dist_7_sqr = ((a_3 - mean7)**2).mean().sqrt()\n",
        "dist_7_abs,dist_7_sqr"
      ],
      "execution_count": 21,
      "outputs": [
        {
          "output_type": "execute_result",
          "data": {
            "text/plain": [
              "(tensor(0.1586), tensor(0.3021))"
            ]
          },
          "metadata": {},
          "execution_count": 21
        }
      ]
    },
    {
      "cell_type": "code",
      "metadata": {
        "id": "BrBWuPgz2fcI",
        "outputId": "92894f4a-cd52-4a2e-f3d3-2f781e20b5a0",
        "colab": {
          "base_uri": "https://localhost:8080/"
        }
      },
      "source": [
        "F.l1_loss(a_3.float(),mean7), F.mse_loss(a_3,mean7).sqrt()"
      ],
      "execution_count": 22,
      "outputs": [
        {
          "output_type": "execute_result",
          "data": {
            "text/plain": [
              "(tensor(0.1586), tensor(0.3021))"
            ]
          },
          "metadata": {},
          "execution_count": 22
        }
      ]
    },
    {
      "cell_type": "markdown",
      "metadata": {
        "id": "ilGumv4Q2fcL"
      },
      "source": [
        "## Metrics Calculation"
      ]
    },
    {
      "cell_type": "code",
      "metadata": {
        "id": "wYwk9vXV2fcL",
        "outputId": "367e9a44-4338-40bd-f6ea-37531dca8867",
        "colab": {
          "base_uri": "https://localhost:8080/"
        }
      },
      "source": [
        "valid_3_tens = torch.stack([tensor(Image.open(o)) \n",
        "                            for o in (path/'valid'/'3').ls()])\n",
        "valid_3_tens = valid_3_tens.float()/255\n",
        "valid_7_tens = torch.stack([tensor(Image.open(o)) \n",
        "                            for o in (path/'valid'/'7').ls()])\n",
        "valid_7_tens = valid_7_tens.float()/255\n",
        "valid_3_tens.shape,valid_7_tens.shape"
      ],
      "execution_count": 23,
      "outputs": [
        {
          "output_type": "execute_result",
          "data": {
            "text/plain": [
              "(torch.Size([1010, 28, 28]), torch.Size([1028, 28, 28]))"
            ]
          },
          "metadata": {},
          "execution_count": 23
        }
      ]
    },
    {
      "cell_type": "code",
      "metadata": {
        "id": "yoDkWWzd2fcL",
        "outputId": "9b55df08-5f2a-49be-880b-d11ba342ab95",
        "colab": {
          "base_uri": "https://localhost:8080/"
        }
      },
      "source": [
        "def mnist_distance(a,b): return (a-b).abs().mean((-1,-2))\n",
        "mnist_distance(a_3, mean3)"
      ],
      "execution_count": 24,
      "outputs": [
        {
          "output_type": "execute_result",
          "data": {
            "text/plain": [
              "tensor(0.1114)"
            ]
          },
          "metadata": {},
          "execution_count": 24
        }
      ]
    },
    {
      "cell_type": "code",
      "metadata": {
        "id": "cNIbm-4M2fcM",
        "outputId": "b14f932d-c572-4bd7-bec2-5aa74e8bed72",
        "colab": {
          "base_uri": "https://localhost:8080/"
        }
      },
      "source": [
        "valid_3_dist = mnist_distance(valid_3_tens, mean3)\n",
        "valid_3_dist, valid_3_dist.shape"
      ],
      "execution_count": 25,
      "outputs": [
        {
          "output_type": "execute_result",
          "data": {
            "text/plain": [
              "(tensor([0.1270, 0.1410, 0.1109,  ..., 0.1132, 0.1326, 0.1463]),\n",
              " torch.Size([1010]))"
            ]
          },
          "metadata": {},
          "execution_count": 25
        }
      ]
    },
    {
      "cell_type": "code",
      "metadata": {
        "id": "9QR1xvXN2fcM",
        "outputId": "51d1aa73-817e-4d86-96d2-e095c4d5b456",
        "colab": {
          "base_uri": "https://localhost:8080/"
        }
      },
      "source": [
        "(valid_3_tens-mean3).shape"
      ],
      "execution_count": 26,
      "outputs": [
        {
          "output_type": "execute_result",
          "data": {
            "text/plain": [
              "torch.Size([1010, 28, 28])"
            ]
          },
          "metadata": {},
          "execution_count": 26
        }
      ]
    },
    {
      "cell_type": "code",
      "metadata": {
        "id": "r08ajiiu2fcM"
      },
      "source": [
        "def is_3(x): return mnist_distance(x,mean3) < mnist_distance(x,mean7)"
      ],
      "execution_count": 27,
      "outputs": []
    },
    {
      "cell_type": "code",
      "metadata": {
        "id": "ot11pCWN2fcN",
        "outputId": "68050cba-7e03-400d-8f1e-675caadbf25a",
        "colab": {
          "base_uri": "https://localhost:8080/"
        }
      },
      "source": [
        "is_3(a_3), is_3(a_3).float()"
      ],
      "execution_count": 28,
      "outputs": [
        {
          "output_type": "execute_result",
          "data": {
            "text/plain": [
              "(tensor(True), tensor(1.))"
            ]
          },
          "metadata": {},
          "execution_count": 28
        }
      ]
    },
    {
      "cell_type": "code",
      "metadata": {
        "id": "mC7fS1Sx2fcN",
        "outputId": "cae8f6bc-ae49-4eb6-e731-9a849aaefe77",
        "colab": {
          "base_uri": "https://localhost:8080/"
        }
      },
      "source": [
        "is_3(valid_3_tens)"
      ],
      "execution_count": 29,
      "outputs": [
        {
          "output_type": "execute_result",
          "data": {
            "text/plain": [
              "tensor([ True,  True,  True,  ...,  True,  True, False])"
            ]
          },
          "metadata": {},
          "execution_count": 29
        }
      ]
    },
    {
      "cell_type": "code",
      "metadata": {
        "id": "ZIN9wphi2fcN",
        "outputId": "120dd8b1-44b8-488d-befd-80789b8af983",
        "colab": {
          "base_uri": "https://localhost:8080/"
        }
      },
      "source": [
        "accuracy_3s =      is_3(valid_3_tens).float() .mean()\n",
        "accuracy_7s = (1 - is_3(valid_7_tens).float()).mean()\n",
        "\n",
        "accuracy_3s,accuracy_7s,(accuracy_3s+accuracy_7s)/2"
      ],
      "execution_count": 30,
      "outputs": [
        {
          "output_type": "execute_result",
          "data": {
            "text/plain": [
              "(tensor(0.9168), tensor(0.9854), tensor(0.9511))"
            ]
          },
          "metadata": {},
          "execution_count": 30
        }
      ]
    },
    {
      "cell_type": "markdown",
      "metadata": {
        "id": "HQGMu87G2fcN"
      },
      "source": [
        "Over 90% accuracy on both 3's and 7's using a simple baseline model. "
      ]
    },
    {
      "cell_type": "markdown",
      "metadata": {
        "id": "49gm69Am2fce"
      },
      "source": [
        "## Loss Function"
      ]
    },
    {
      "cell_type": "code",
      "metadata": {
        "id": "ZyDHsHUd2fcf"
      },
      "source": [
        "train_x = torch.cat([stacked_threes, stacked_sevens]).view(-1, 28*28)"
      ],
      "execution_count": 31,
      "outputs": []
    },
    {
      "cell_type": "code",
      "metadata": {
        "id": "IG0_3XFB2fcf",
        "outputId": "8454ef2f-f6f5-434c-c396-db1e467e496d",
        "colab": {
          "base_uri": "https://localhost:8080/"
        }
      },
      "source": [
        "train_y = tensor([1]*len(threes) + [0]*len(sevens)).unsqueeze(1)\n",
        "train_x.shape,train_y.shape"
      ],
      "execution_count": 32,
      "outputs": [
        {
          "output_type": "execute_result",
          "data": {
            "text/plain": [
              "(torch.Size([12396, 784]), torch.Size([12396, 1]))"
            ]
          },
          "metadata": {},
          "execution_count": 32
        }
      ]
    },
    {
      "cell_type": "code",
      "metadata": {
        "id": "pG2QbSAZ2fcf",
        "outputId": "d20165b6-31fa-47c5-90d6-05fc86088415",
        "colab": {
          "base_uri": "https://localhost:8080/"
        }
      },
      "source": [
        "dset = list(zip(train_x,train_y))\n",
        "x,y = dset[0]\n",
        "x.shape,y"
      ],
      "execution_count": 33,
      "outputs": [
        {
          "output_type": "execute_result",
          "data": {
            "text/plain": [
              "(torch.Size([784]), tensor([1]))"
            ]
          },
          "metadata": {},
          "execution_count": 33
        }
      ]
    },
    {
      "cell_type": "code",
      "metadata": {
        "id": "lHqAgDgs2fcf"
      },
      "source": [
        "valid_x = torch.cat([valid_3_tens, valid_7_tens]).view(-1, 28*28)\n",
        "valid_y = tensor([1]*len(valid_3_tens) + [0]*len(valid_7_tens)).unsqueeze(1)\n",
        "valid_dset = list(zip(valid_x,valid_y))"
      ],
      "execution_count": 34,
      "outputs": []
    },
    {
      "cell_type": "code",
      "metadata": {
        "id": "EueB8nkP2fcf"
      },
      "source": [
        "def init_params(size, std=1.0): return (torch.randn(size)*std).requires_grad_()"
      ],
      "execution_count": 35,
      "outputs": []
    },
    {
      "cell_type": "code",
      "metadata": {
        "id": "1VKcucm82fcf"
      },
      "source": [
        "weights = init_params((28*28,1))"
      ],
      "execution_count": 36,
      "outputs": []
    },
    {
      "cell_type": "code",
      "metadata": {
        "id": "OPy0nsPH2fcg"
      },
      "source": [
        "bias = init_params(1)"
      ],
      "execution_count": 37,
      "outputs": []
    },
    {
      "cell_type": "code",
      "metadata": {
        "id": "Ql1q0_Tr2fcg",
        "outputId": "ae76c60f-430c-4ce8-cc05-622b1fcc9891",
        "colab": {
          "base_uri": "https://localhost:8080/"
        }
      },
      "source": [
        "(train_x[0]*weights.T).sum() + bias"
      ],
      "execution_count": 38,
      "outputs": [
        {
          "output_type": "execute_result",
          "data": {
            "text/plain": [
              "tensor([-6.2330], grad_fn=<AddBackward0>)"
            ]
          },
          "metadata": {},
          "execution_count": 38
        }
      ]
    },
    {
      "cell_type": "code",
      "metadata": {
        "id": "ikFll_MR2fcg",
        "outputId": "75e4433f-4679-49db-88bb-e74a9cdf6fd9",
        "colab": {
          "base_uri": "https://localhost:8080/"
        }
      },
      "source": [
        "def linear1(xb): return xb@weights + bias\n",
        "preds = linear1(train_x)\n",
        "preds"
      ],
      "execution_count": 39,
      "outputs": [
        {
          "output_type": "execute_result",
          "data": {
            "text/plain": [
              "tensor([[ -6.2330],\n",
              "        [-10.6388],\n",
              "        [-20.8865],\n",
              "        ...,\n",
              "        [-15.9176],\n",
              "        [ -1.6866],\n",
              "        [-11.3568]], grad_fn=<AddBackward0>)"
            ]
          },
          "metadata": {},
          "execution_count": 39
        }
      ]
    },
    {
      "cell_type": "code",
      "metadata": {
        "id": "w4BfNACw2fch",
        "outputId": "bbaa53ed-7551-4f0e-97f4-bd371332698a",
        "colab": {
          "base_uri": "https://localhost:8080/"
        }
      },
      "source": [
        "corrects = (preds>0.5).float() == train_y\n",
        "corrects"
      ],
      "execution_count": 40,
      "outputs": [
        {
          "output_type": "execute_result",
          "data": {
            "text/plain": [
              "tensor([[False],\n",
              "        [False],\n",
              "        [False],\n",
              "        ...,\n",
              "        [ True],\n",
              "        [ True],\n",
              "        [ True]])"
            ]
          },
          "metadata": {},
          "execution_count": 40
        }
      ]
    },
    {
      "cell_type": "code",
      "metadata": {
        "id": "QzBW0dME2fch",
        "outputId": "30658dea-1fd0-46d5-854c-134e544f11c5",
        "colab": {
          "base_uri": "https://localhost:8080/"
        }
      },
      "source": [
        "corrects.float().mean().item()"
      ],
      "execution_count": 41,
      "outputs": [
        {
          "output_type": "execute_result",
          "data": {
            "text/plain": [
              "0.5355759859085083"
            ]
          },
          "metadata": {},
          "execution_count": 41
        }
      ]
    },
    {
      "cell_type": "code",
      "metadata": {
        "id": "VNUXmF8R2fci"
      },
      "source": [
        "def mnist_loss(predictions, targets):\n",
        "    return torch.where(targets==1, 1-predictions, predictions).mean()"
      ],
      "execution_count": 44,
      "outputs": []
    },
    {
      "cell_type": "code",
      "metadata": {
        "id": "pjVgmvMg2fcm"
      },
      "source": [
        "weights = init_params((28*28,1))\n",
        "bias = init_params(1)"
      ],
      "execution_count": 49,
      "outputs": []
    },
    {
      "cell_type": "code",
      "metadata": {
        "id": "4LfED3RS2fcm",
        "outputId": "1dab70c2-fb55-4190-8a21-43004c307ab8",
        "colab": {
          "base_uri": "https://localhost:8080/"
        }
      },
      "source": [
        "dl = DataLoader(dset, batch_size=256)\n",
        "xb,yb = first(dl)\n",
        "xb.shape,yb.shape"
      ],
      "execution_count": 50,
      "outputs": [
        {
          "output_type": "execute_result",
          "data": {
            "text/plain": [
              "(torch.Size([256, 784]), torch.Size([256, 1]))"
            ]
          },
          "metadata": {},
          "execution_count": 50
        }
      ]
    },
    {
      "cell_type": "code",
      "metadata": {
        "id": "hBAFOO0Y2fcm"
      },
      "source": [
        "valid_dl = DataLoader(valid_dset, batch_size=256)"
      ],
      "execution_count": 51,
      "outputs": []
    },
    {
      "cell_type": "code",
      "metadata": {
        "id": "hbEuTsW92fcm",
        "outputId": "3043717b-6f27-487a-9420-6febed999df0",
        "colab": {
          "base_uri": "https://localhost:8080/"
        }
      },
      "source": [
        "batch = train_x[:4]\n",
        "batch.shape"
      ],
      "execution_count": 52,
      "outputs": [
        {
          "output_type": "execute_result",
          "data": {
            "text/plain": [
              "torch.Size([4, 784])"
            ]
          },
          "metadata": {},
          "execution_count": 52
        }
      ]
    },
    {
      "cell_type": "code",
      "metadata": {
        "id": "YQ_xHASw2fcm",
        "outputId": "49ffa917-0e2e-4502-8128-4e0673983e05",
        "colab": {
          "base_uri": "https://localhost:8080/"
        }
      },
      "source": [
        "preds = linear1(batch)\n",
        "preds"
      ],
      "execution_count": 53,
      "outputs": [
        {
          "output_type": "execute_result",
          "data": {
            "text/plain": [
              "tensor([[14.0882],\n",
              "        [13.9915],\n",
              "        [16.0442],\n",
              "        [17.7304]], grad_fn=<AddBackward0>)"
            ]
          },
          "metadata": {},
          "execution_count": 53
        }
      ]
    },
    {
      "cell_type": "code",
      "metadata": {
        "id": "QnLdM1V02fcn",
        "outputId": "346e07de-9e64-428b-e0e3-2759695f00d6",
        "colab": {
          "base_uri": "https://localhost:8080/"
        }
      },
      "source": [
        "loss = mnist_loss(preds, train_y[:4])\n",
        "loss"
      ],
      "execution_count": 54,
      "outputs": [
        {
          "output_type": "execute_result",
          "data": {
            "text/plain": [
              "tensor(-14.4636, grad_fn=<MeanBackward0>)"
            ]
          },
          "metadata": {},
          "execution_count": 54
        }
      ]
    },
    {
      "cell_type": "code",
      "metadata": {
        "id": "T2wcaQUP2fcn",
        "outputId": "19d97d6e-8ca2-4ae7-803f-2fbfcd445098",
        "colab": {
          "base_uri": "https://localhost:8080/"
        }
      },
      "source": [
        "loss.backward()\n",
        "weights.grad.shape,weights.grad.mean(),bias.grad"
      ],
      "execution_count": 55,
      "outputs": [
        {
          "output_type": "execute_result",
          "data": {
            "text/plain": [
              "(torch.Size([784, 1]), tensor(-0.1511), tensor([-1.]))"
            ]
          },
          "metadata": {},
          "execution_count": 55
        }
      ]
    },
    {
      "cell_type": "code",
      "metadata": {
        "id": "EPqxetXZ2fcn"
      },
      "source": [
        "def calc_grad(xb, yb, model):\n",
        "    preds = model(xb)\n",
        "    loss = mnist_loss(preds, yb)\n",
        "    loss.backward()"
      ],
      "execution_count": 56,
      "outputs": []
    },
    {
      "cell_type": "code",
      "metadata": {
        "id": "rcXegR4a2fcn",
        "outputId": "a4e46354-f0c2-4d83-80e1-0cfe3b538a61",
        "colab": {
          "base_uri": "https://localhost:8080/"
        }
      },
      "source": [
        "calc_grad(batch, train_y[:4], linear1)\n",
        "weights.grad.mean(),bias.grad"
      ],
      "execution_count": 57,
      "outputs": [
        {
          "output_type": "execute_result",
          "data": {
            "text/plain": [
              "(tensor(-0.3022), tensor([-2.]))"
            ]
          },
          "metadata": {},
          "execution_count": 57
        }
      ]
    },
    {
      "cell_type": "code",
      "metadata": {
        "id": "wgVxqFpr2fcn",
        "outputId": "98e8f9df-72aa-4cb7-e864-56dd3bbfc1f5",
        "colab": {
          "base_uri": "https://localhost:8080/"
        }
      },
      "source": [
        "calc_grad(batch, train_y[:4], linear1)\n",
        "weights.grad.mean(),bias.grad"
      ],
      "execution_count": 58,
      "outputs": [
        {
          "output_type": "execute_result",
          "data": {
            "text/plain": [
              "(tensor(-0.4534), tensor([-3.]))"
            ]
          },
          "metadata": {},
          "execution_count": 58
        }
      ]
    },
    {
      "cell_type": "code",
      "metadata": {
        "id": "fPqZ-B9g2fco"
      },
      "source": [
        "weights.grad.zero_()\n",
        "bias.grad.zero_();"
      ],
      "execution_count": 59,
      "outputs": []
    },
    {
      "cell_type": "code",
      "metadata": {
        "id": "g7xHP6f22fco"
      },
      "source": [
        "def train_epoch(model, lr, params):\n",
        "    for xb,yb in dl:\n",
        "        calc_grad(xb, yb, model)\n",
        "        for p in params:\n",
        "            p.data -= p.grad*lr\n",
        "            p.grad.zero_()"
      ],
      "execution_count": 60,
      "outputs": []
    },
    {
      "cell_type": "code",
      "metadata": {
        "id": "8wlIySiq2fco",
        "outputId": "86996d11-1503-4ee2-93ed-0c8956a57c65",
        "colab": {
          "base_uri": "https://localhost:8080/"
        }
      },
      "source": [
        "(preds>0.0).float() == train_y[:4]"
      ],
      "execution_count": 61,
      "outputs": [
        {
          "output_type": "execute_result",
          "data": {
            "text/plain": [
              "tensor([[True],\n",
              "        [True],\n",
              "        [True],\n",
              "        [True]])"
            ]
          },
          "metadata": {},
          "execution_count": 61
        }
      ]
    },
    {
      "cell_type": "code",
      "metadata": {
        "id": "AWfTMxG_2fco"
      },
      "source": [
        "def batch_accuracy(xb, yb):\n",
        "    preds = xb.sigmoid()\n",
        "    correct = (preds>0.5) == yb\n",
        "    return correct.float().mean()"
      ],
      "execution_count": 62,
      "outputs": []
    },
    {
      "cell_type": "code",
      "metadata": {
        "id": "uyHlzn3T2fco",
        "outputId": "c36aa389-3321-47b8-fd12-0d8dc5e08dc6",
        "colab": {
          "base_uri": "https://localhost:8080/"
        }
      },
      "source": [
        "batch_accuracy(linear1(batch), train_y[:4])"
      ],
      "execution_count": 63,
      "outputs": [
        {
          "output_type": "execute_result",
          "data": {
            "text/plain": [
              "tensor(1.)"
            ]
          },
          "metadata": {},
          "execution_count": 63
        }
      ]
    },
    {
      "cell_type": "code",
      "metadata": {
        "id": "0CFTgNoo2fcp"
      },
      "source": [
        "def validate_epoch(model):\n",
        "    accs = [batch_accuracy(model(xb), yb) for xb,yb in valid_dl]\n",
        "    return round(torch.stack(accs).mean().item(), 4)"
      ],
      "execution_count": 64,
      "outputs": []
    },
    {
      "cell_type": "code",
      "metadata": {
        "id": "TTbEuoKL2fcp",
        "outputId": "e0023376-de32-421a-b67f-cbda549a7b68",
        "colab": {
          "base_uri": "https://localhost:8080/"
        }
      },
      "source": [
        "validate_epoch(linear1)"
      ],
      "execution_count": 65,
      "outputs": [
        {
          "output_type": "execute_result",
          "data": {
            "text/plain": [
              "0.5747"
            ]
          },
          "metadata": {},
          "execution_count": 65
        }
      ]
    },
    {
      "cell_type": "code",
      "metadata": {
        "id": "fca9IYFf2fcp",
        "outputId": "cd255d4e-384d-4c8d-9093-8a293f30ba6f",
        "colab": {
          "base_uri": "https://localhost:8080/"
        }
      },
      "source": [
        "lr = 1.\n",
        "params = weights,bias\n",
        "train_epoch(linear1, lr, params)\n",
        "validate_epoch(linear1)"
      ],
      "execution_count": 66,
      "outputs": [
        {
          "output_type": "execute_result",
          "data": {
            "text/plain": [
              "0.9542"
            ]
          },
          "metadata": {},
          "execution_count": 66
        }
      ]
    },
    {
      "cell_type": "code",
      "metadata": {
        "id": "g5GHi0NQ2fcp",
        "outputId": "3a31c1b6-db24-40b2-a809-2c034593e4fe",
        "colab": {
          "base_uri": "https://localhost:8080/"
        }
      },
      "source": [
        "for i in range(20):\n",
        "    train_epoch(linear1, lr, params)\n",
        "    print(validate_epoch(linear1), end=' ')"
      ],
      "execution_count": 67,
      "outputs": [
        {
          "output_type": "stream",
          "name": "stdout",
          "text": [
            "0.9537 0.9532 0.9532 0.9532 0.9532 0.9532 0.9532 0.9532 0.9532 0.9532 0.9532 0.9532 0.9532 0.9532 0.9532 0.9532 0.9532 0.9532 0.9532 0.9532 "
          ]
        }
      ]
    },
    {
      "cell_type": "code",
      "metadata": {
        "id": "iY9IOdvT2fcp"
      },
      "source": [
        "linear_model = nn.Linear(28*28,1)"
      ],
      "execution_count": 68,
      "outputs": []
    },
    {
      "cell_type": "code",
      "metadata": {
        "id": "G0_nQXEt2fcq",
        "outputId": "af5bdcd0-0dda-4df2-9536-a74c58e6b373",
        "colab": {
          "base_uri": "https://localhost:8080/"
        }
      },
      "source": [
        "w,b = linear_model.parameters()\n",
        "w.shape,b.shape"
      ],
      "execution_count": 69,
      "outputs": [
        {
          "output_type": "execute_result",
          "data": {
            "text/plain": [
              "(torch.Size([1, 784]), torch.Size([1]))"
            ]
          },
          "metadata": {},
          "execution_count": 69
        }
      ]
    },
    {
      "cell_type": "code",
      "metadata": {
        "id": "NVtPsGUD2fcq"
      },
      "source": [
        "class BasicOptim:\n",
        "    def __init__(self,params,lr): self.params,self.lr = list(params),lr\n",
        "\n",
        "    def step(self, *args, **kwargs):\n",
        "        for p in self.params: p.data -= p.grad.data * self.lr\n",
        "\n",
        "    def zero_grad(self, *args, **kwargs):\n",
        "        for p in self.params: p.grad = None"
      ],
      "execution_count": 70,
      "outputs": []
    },
    {
      "cell_type": "code",
      "metadata": {
        "id": "swBaRc4_2fcq"
      },
      "source": [
        "opt = BasicOptim(linear_model.parameters(), lr)"
      ],
      "execution_count": 71,
      "outputs": []
    },
    {
      "cell_type": "code",
      "metadata": {
        "id": "dQEAmyfH2fcq"
      },
      "source": [
        "def train_epoch(model):\n",
        "    for xb,yb in dl:\n",
        "        calc_grad(xb, yb, model)\n",
        "        opt.step()\n",
        "        opt.zero_grad()"
      ],
      "execution_count": 72,
      "outputs": []
    },
    {
      "cell_type": "code",
      "metadata": {
        "id": "zWDC3yka2fcq",
        "outputId": "89c26bb6-ad07-4af8-ac2a-e53acd605b4a",
        "colab": {
          "base_uri": "https://localhost:8080/"
        }
      },
      "source": [
        "validate_epoch(linear_model)"
      ],
      "execution_count": 73,
      "outputs": [
        {
          "output_type": "execute_result",
          "data": {
            "text/plain": [
              "0.638"
            ]
          },
          "metadata": {},
          "execution_count": 73
        }
      ]
    },
    {
      "cell_type": "code",
      "metadata": {
        "id": "TTPRbeWO2fcq"
      },
      "source": [
        "def train_model(model, epochs):\n",
        "    for i in range(epochs):\n",
        "        train_epoch(model)\n",
        "        print(validate_epoch(model), end=' ')"
      ],
      "execution_count": 74,
      "outputs": []
    },
    {
      "cell_type": "code",
      "metadata": {
        "id": "XGqO-V4R2fcr",
        "outputId": "aaad99db-101a-4349-8a6a-dd07b42411de",
        "colab": {
          "base_uri": "https://localhost:8080/"
        }
      },
      "source": [
        "train_model(linear_model, 20)"
      ],
      "execution_count": 75,
      "outputs": [
        {
          "output_type": "stream",
          "name": "stdout",
          "text": [
            "0.9532 0.9532 0.9532 0.9532 0.9532 0.9532 0.9532 0.9532 0.9532 0.9532 0.9532 0.9532 0.9532 0.9532 0.9532 0.9532 0.9532 0.9532 0.9532 0.9532 "
          ]
        }
      ]
    },
    {
      "cell_type": "code",
      "metadata": {
        "id": "xdo9MUH_2fcr",
        "outputId": "523a7f5d-eb7b-42b0-f894-86d2d0e00b7a",
        "colab": {
          "base_uri": "https://localhost:8080/"
        }
      },
      "source": [
        "linear_model = nn.Linear(28*28,1)\n",
        "opt = SGD(linear_model.parameters(), lr)\n",
        "train_model(linear_model, 20)"
      ],
      "execution_count": 76,
      "outputs": [
        {
          "output_type": "stream",
          "name": "stdout",
          "text": [
            "0.9532 0.9532 0.9532 0.9532 0.9532 0.9532 0.9532 0.9532 0.9532 0.9532 0.9532 0.9532 0.9532 0.9532 0.9532 0.9532 0.9532 0.9532 0.9532 0.9532 "
          ]
        }
      ]
    },
    {
      "cell_type": "code",
      "metadata": {
        "id": "08LaQqeS2fcr"
      },
      "source": [
        "dls = DataLoaders(dl, valid_dl)"
      ],
      "execution_count": 77,
      "outputs": []
    },
    {
      "cell_type": "code",
      "metadata": {
        "id": "6ee6xPFA2fcr"
      },
      "source": [
        "learn = Learner(dls, nn.Linear(28*28,1), opt_func=SGD,\n",
        "                loss_func=mnist_loss, metrics=batch_accuracy)"
      ],
      "execution_count": 78,
      "outputs": []
    },
    {
      "cell_type": "code",
      "metadata": {
        "id": "cyeZBA-i2fcr",
        "outputId": "d0b9a4d6-50c3-4002-91df-be6124567ae7",
        "colab": {
          "base_uri": "https://localhost:8080/",
          "height": 359
        }
      },
      "source": [
        "learn.fit(10, lr=lr)"
      ],
      "execution_count": 79,
      "outputs": [
        {
          "output_type": "display_data",
          "data": {
            "text/html": [
              "<table border=\"1\" class=\"dataframe\">\n",
              "  <thead>\n",
              "    <tr style=\"text-align: left;\">\n",
              "      <th>epoch</th>\n",
              "      <th>train_loss</th>\n",
              "      <th>valid_loss</th>\n",
              "      <th>batch_accuracy</th>\n",
              "      <th>time</th>\n",
              "    </tr>\n",
              "  </thead>\n",
              "  <tbody>\n",
              "    <tr>\n",
              "      <td>0</td>\n",
              "      <td>-82.899178</td>\n",
              "      <td>-335.778748</td>\n",
              "      <td>0.953386</td>\n",
              "      <td>00:00</td>\n",
              "    </tr>\n",
              "    <tr>\n",
              "      <td>1</td>\n",
              "      <td>-309.272400</td>\n",
              "      <td>-672.095581</td>\n",
              "      <td>0.953386</td>\n",
              "      <td>00:00</td>\n",
              "    </tr>\n",
              "    <tr>\n",
              "      <td>2</td>\n",
              "      <td>-570.660339</td>\n",
              "      <td>-1008.412415</td>\n",
              "      <td>0.953386</td>\n",
              "      <td>00:00</td>\n",
              "    </tr>\n",
              "    <tr>\n",
              "      <td>3</td>\n",
              "      <td>-854.913818</td>\n",
              "      <td>-1344.729248</td>\n",
              "      <td>0.953386</td>\n",
              "      <td>00:00</td>\n",
              "    </tr>\n",
              "    <tr>\n",
              "      <td>4</td>\n",
              "      <td>-1152.343994</td>\n",
              "      <td>-1681.046265</td>\n",
              "      <td>0.953386</td>\n",
              "      <td>00:00</td>\n",
              "    </tr>\n",
              "    <tr>\n",
              "      <td>5</td>\n",
              "      <td>-1456.677246</td>\n",
              "      <td>-2017.363037</td>\n",
              "      <td>0.953386</td>\n",
              "      <td>00:00</td>\n",
              "    </tr>\n",
              "    <tr>\n",
              "      <td>6</td>\n",
              "      <td>-1764.381836</td>\n",
              "      <td>-2353.679932</td>\n",
              "      <td>0.953386</td>\n",
              "      <td>00:00</td>\n",
              "    </tr>\n",
              "    <tr>\n",
              "      <td>7</td>\n",
              "      <td>-2073.650879</td>\n",
              "      <td>-2689.997070</td>\n",
              "      <td>0.953386</td>\n",
              "      <td>00:00</td>\n",
              "    </tr>\n",
              "    <tr>\n",
              "      <td>8</td>\n",
              "      <td>-2383.618408</td>\n",
              "      <td>-3026.313477</td>\n",
              "      <td>0.953386</td>\n",
              "      <td>00:00</td>\n",
              "    </tr>\n",
              "    <tr>\n",
              "      <td>9</td>\n",
              "      <td>-2693.890869</td>\n",
              "      <td>-3362.630615</td>\n",
              "      <td>0.953386</td>\n",
              "      <td>00:00</td>\n",
              "    </tr>\n",
              "  </tbody>\n",
              "</table>"
            ],
            "text/plain": [
              "<IPython.core.display.HTML object>"
            ]
          },
          "metadata": {}
        }
      ]
    },
    {
      "cell_type": "code",
      "metadata": {
        "id": "p0pJFn2W2fcs"
      },
      "source": [
        "def simple_net(xb): \n",
        "    res = xb@w1 + b1\n",
        "    res = res.max(tensor(0.0))\n",
        "    res = res@w2 + b2\n",
        "    return res"
      ],
      "execution_count": 80,
      "outputs": []
    },
    {
      "cell_type": "code",
      "metadata": {
        "id": "D2kqb23R2fcs"
      },
      "source": [
        "w1 = init_params((28*28,30))\n",
        "b1 = init_params(30)\n",
        "w2 = init_params((30,1))\n",
        "b2 = init_params(1)"
      ],
      "execution_count": 81,
      "outputs": []
    },
    {
      "cell_type": "code",
      "metadata": {
        "id": "ck_u6KXm2fct"
      },
      "source": [
        "simple_net = nn.Sequential(\n",
        "    nn.Linear(28*28,30),\n",
        "    nn.ReLU(),\n",
        "    nn.Linear(30,1)\n",
        ")"
      ],
      "execution_count": 89,
      "outputs": []
    },
    {
      "cell_type": "code",
      "metadata": {
        "id": "DLgcZxQU2fct"
      },
      "source": [
        "learn = Learner(dls, simple_net, opt_func=SGD,\n",
        "                loss_func=mnist_loss, metrics=batch_accuracy)"
      ],
      "execution_count": 90,
      "outputs": []
    },
    {
      "cell_type": "code",
      "metadata": {
        "id": "rjiWg4eW2fcu",
        "outputId": "a8488aa9-17cc-43fb-a8fc-931682b4fe99",
        "colab": {
          "base_uri": "https://localhost:8080/",
          "height": 134
        }
      },
      "source": [
        "dls = ImageDataLoaders.from_folder(path)\n",
        "learn = cnn_learner(dls, resnet18, pretrained=False,\n",
        "                    loss_func=F.cross_entropy, metrics=accuracy)\n",
        "learn.fit_one_cycle(1, 0.1)"
      ],
      "execution_count": 92,
      "outputs": [
        {
          "output_type": "stream",
          "name": "stderr",
          "text": [
            "/usr/local/lib/python3.7/dist-packages/torch/nn/functional.py:718: UserWarning: Named tensors and all their associated APIs are an experimental feature and subject to change. Please do not use them for anything important until they are released as stable. (Triggered internally at  /pytorch/c10/core/TensorImpl.h:1156.)\n",
            "  return torch.max_pool2d(input, kernel_size, stride, padding, dilation, ceil_mode)\n"
          ]
        },
        {
          "output_type": "display_data",
          "data": {
            "text/html": [
              "<table border=\"1\" class=\"dataframe\">\n",
              "  <thead>\n",
              "    <tr style=\"text-align: left;\">\n",
              "      <th>epoch</th>\n",
              "      <th>train_loss</th>\n",
              "      <th>valid_loss</th>\n",
              "      <th>accuracy</th>\n",
              "      <th>time</th>\n",
              "    </tr>\n",
              "  </thead>\n",
              "  <tbody>\n",
              "    <tr>\n",
              "      <td>0</td>\n",
              "      <td>0.075173</td>\n",
              "      <td>0.010845</td>\n",
              "      <td>0.996565</td>\n",
              "      <td>00:26</td>\n",
              "    </tr>\n",
              "  </tbody>\n",
              "</table>"
            ],
            "text/plain": [
              "<IPython.core.display.HTML object>"
            ]
          },
          "metadata": {}
        }
      ]
    }
  ]
}