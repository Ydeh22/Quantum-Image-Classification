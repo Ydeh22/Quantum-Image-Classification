{
 "cells": [
  {
   "cell_type": "code",
   "execution_count": 19,
   "metadata": {
    "colab": {
     "base_uri": "https://localhost:8080/"
    },
    "id": "8Kb8zK2O6e-Z",
    "outputId": "2165067e-6272-4d89-f01d-805cefc30a7f"
   },
   "outputs": [
    {
     "name": "stdout",
     "output_type": "stream",
     "text": [
      "Requirement already satisfied: qiskit in /usr/local/lib/python3.7/dist-packages (0.32.1)\n",
      "Requirement already satisfied: qiskit-aqua==0.9.5 in /usr/local/lib/python3.7/dist-packages (from qiskit) (0.9.5)\n",
      "Requirement already satisfied: qiskit-terra==0.18.3 in /usr/local/lib/python3.7/dist-packages (from qiskit) (0.18.3)\n",
      "Requirement already satisfied: qiskit-aer==0.9.1 in /usr/local/lib/python3.7/dist-packages (from qiskit) (0.9.1)\n",
      "Requirement already satisfied: qiskit-ibmq-provider==0.18.1 in /usr/local/lib/python3.7/dist-packages (from qiskit) (0.18.1)\n",
      "Requirement already satisfied: qiskit-ignis==0.6.0 in /usr/local/lib/python3.7/dist-packages (from qiskit) (0.6.0)\n",
      "Requirement already satisfied: numpy>=1.16.3 in /usr/local/lib/python3.7/dist-packages (from qiskit-aer==0.9.1->qiskit) (1.19.5)\n",
      "Requirement already satisfied: scipy>=1.0 in /usr/local/lib/python3.7/dist-packages (from qiskit-aer==0.9.1->qiskit) (1.4.1)\n",
      "Requirement already satisfied: retworkx>=0.8.0 in /usr/local/lib/python3.7/dist-packages (from qiskit-aqua==0.9.5->qiskit) (0.10.2)\n",
      "Requirement already satisfied: yfinance>=0.1.62 in /usr/local/lib/python3.7/dist-packages (from qiskit-aqua==0.9.5->qiskit) (0.1.67)\n",
      "Requirement already satisfied: docplex>=2.21.207 in /usr/local/lib/python3.7/dist-packages (from qiskit-aqua==0.9.5->qiskit) (2.22.213)\n",
      "Requirement already satisfied: pandas in /usr/local/lib/python3.7/dist-packages (from qiskit-aqua==0.9.5->qiskit) (1.1.5)\n",
      "Requirement already satisfied: quandl in /usr/local/lib/python3.7/dist-packages (from qiskit-aqua==0.9.5->qiskit) (3.7.0)\n",
      "Requirement already satisfied: scikit-learn>=0.20.0 in /usr/local/lib/python3.7/dist-packages (from qiskit-aqua==0.9.5->qiskit) (1.0.1)\n",
      "Requirement already satisfied: fastdtw<=0.3.4 in /usr/local/lib/python3.7/dist-packages (from qiskit-aqua==0.9.5->qiskit) (0.3.4)\n",
      "Requirement already satisfied: h5py<3.3.0 in /usr/local/lib/python3.7/dist-packages (from qiskit-aqua==0.9.5->qiskit) (3.1.0)\n",
      "Requirement already satisfied: psutil>=5 in /usr/local/lib/python3.7/dist-packages (from qiskit-aqua==0.9.5->qiskit) (5.4.8)\n",
      "Requirement already satisfied: dlx<=1.0.4 in /usr/local/lib/python3.7/dist-packages (from qiskit-aqua==0.9.5->qiskit) (1.0.4)\n",
      "Requirement already satisfied: setuptools>=40.1.0 in /usr/local/lib/python3.7/dist-packages (from qiskit-aqua==0.9.5->qiskit) (57.4.0)\n",
      "Requirement already satisfied: sympy>=1.3 in /usr/local/lib/python3.7/dist-packages (from qiskit-aqua==0.9.5->qiskit) (1.7.1)\n",
      "Requirement already satisfied: requests-ntlm>=1.1.0 in /usr/local/lib/python3.7/dist-packages (from qiskit-ibmq-provider==0.18.1->qiskit) (1.1.0)\n",
      "Requirement already satisfied: requests>=2.19 in /usr/local/lib/python3.7/dist-packages (from qiskit-ibmq-provider==0.18.1->qiskit) (2.23.0)\n",
      "Requirement already satisfied: python-dateutil>=2.8.0 in /usr/local/lib/python3.7/dist-packages (from qiskit-ibmq-provider==0.18.1->qiskit) (2.8.2)\n",
      "Requirement already satisfied: websocket-client>=1.0.1 in /usr/local/lib/python3.7/dist-packages (from qiskit-ibmq-provider==0.18.1->qiskit) (1.2.1)\n",
      "Requirement already satisfied: urllib3>=1.21.1 in /usr/local/lib/python3.7/dist-packages (from qiskit-ibmq-provider==0.18.1->qiskit) (1.24.3)\n",
      "Requirement already satisfied: tweedledum<2.0,>=1.1 in /usr/local/lib/python3.7/dist-packages (from qiskit-terra==0.18.3->qiskit) (1.1.1)\n",
      "Requirement already satisfied: dill>=0.3 in /usr/local/lib/python3.7/dist-packages (from qiskit-terra==0.18.3->qiskit) (0.3.4)\n",
      "Requirement already satisfied: python-constraint>=1.4 in /usr/local/lib/python3.7/dist-packages (from qiskit-terra==0.18.3->qiskit) (1.4.0)\n",
      "Requirement already satisfied: jsonschema>=2.6 in /usr/local/lib/python3.7/dist-packages (from qiskit-terra==0.18.3->qiskit) (2.6.0)\n",
      "Requirement already satisfied: symengine>0.7 in /usr/local/lib/python3.7/dist-packages (from qiskit-terra==0.18.3->qiskit) (0.8.1)\n",
      "Requirement already satisfied: fastjsonschema>=2.10 in /usr/local/lib/python3.7/dist-packages (from qiskit-terra==0.18.3->qiskit) (2.15.1)\n",
      "Requirement already satisfied: ply>=3.10 in /usr/local/lib/python3.7/dist-packages (from qiskit-terra==0.18.3->qiskit) (3.11)\n",
      "Requirement already satisfied: six in /usr/local/lib/python3.7/dist-packages (from docplex>=2.21.207->qiskit-aqua==0.9.5->qiskit) (1.15.0)\n",
      "Requirement already satisfied: cached-property in /usr/local/lib/python3.7/dist-packages (from h5py<3.3.0->qiskit-aqua==0.9.5->qiskit) (1.5.2)\n",
      "Requirement already satisfied: chardet<4,>=3.0.2 in /usr/local/lib/python3.7/dist-packages (from requests>=2.19->qiskit-ibmq-provider==0.18.1->qiskit) (3.0.4)\n",
      "Requirement already satisfied: idna<3,>=2.5 in /usr/local/lib/python3.7/dist-packages (from requests>=2.19->qiskit-ibmq-provider==0.18.1->qiskit) (2.10)\n",
      "Requirement already satisfied: certifi>=2017.4.17 in /usr/local/lib/python3.7/dist-packages (from requests>=2.19->qiskit-ibmq-provider==0.18.1->qiskit) (2021.10.8)\n",
      "Requirement already satisfied: ntlm-auth>=1.0.2 in /usr/local/lib/python3.7/dist-packages (from requests-ntlm>=1.1.0->qiskit-ibmq-provider==0.18.1->qiskit) (1.5.0)\n",
      "Requirement already satisfied: cryptography>=1.3 in /usr/local/lib/python3.7/dist-packages (from requests-ntlm>=1.1.0->qiskit-ibmq-provider==0.18.1->qiskit) (36.0.0)\n",
      "Requirement already satisfied: cffi>=1.12 in /usr/local/lib/python3.7/dist-packages (from cryptography>=1.3->requests-ntlm>=1.1.0->qiskit-ibmq-provider==0.18.1->qiskit) (1.15.0)\n",
      "Requirement already satisfied: pycparser in /usr/local/lib/python3.7/dist-packages (from cffi>=1.12->cryptography>=1.3->requests-ntlm>=1.1.0->qiskit-ibmq-provider==0.18.1->qiskit) (2.21)\n",
      "Requirement already satisfied: threadpoolctl>=2.0.0 in /usr/local/lib/python3.7/dist-packages (from scikit-learn>=0.20.0->qiskit-aqua==0.9.5->qiskit) (3.0.0)\n",
      "Requirement already satisfied: joblib>=0.11 in /usr/local/lib/python3.7/dist-packages (from scikit-learn>=0.20.0->qiskit-aqua==0.9.5->qiskit) (1.1.0)\n",
      "Requirement already satisfied: mpmath>=0.19 in /usr/local/lib/python3.7/dist-packages (from sympy>=1.3->qiskit-aqua==0.9.5->qiskit) (1.2.1)\n",
      "Requirement already satisfied: lxml>=4.5.1 in /usr/local/lib/python3.7/dist-packages (from yfinance>=0.1.62->qiskit-aqua==0.9.5->qiskit) (4.6.4)\n",
      "Requirement already satisfied: multitasking>=0.0.7 in /usr/local/lib/python3.7/dist-packages (from yfinance>=0.1.62->qiskit-aqua==0.9.5->qiskit) (0.0.10)\n",
      "Requirement already satisfied: pytz>=2017.2 in /usr/local/lib/python3.7/dist-packages (from pandas->qiskit-aqua==0.9.5->qiskit) (2018.9)\n",
      "Requirement already satisfied: more-itertools in /usr/local/lib/python3.7/dist-packages (from quandl->qiskit-aqua==0.9.5->qiskit) (8.11.0)\n",
      "Requirement already satisfied: inflection>=0.3.1 in /usr/local/lib/python3.7/dist-packages (from quandl->qiskit-aqua==0.9.5->qiskit) (0.5.1)\n",
      "Collecting pylatexenc\n",
      "  Downloading pylatexenc-2.10.tar.gz (162 kB)\n",
      "\u001b[K     |████████████████████████████████| 162 kB 5.1 MB/s \n",
      "\u001b[?25hBuilding wheels for collected packages: pylatexenc\n",
      "  Building wheel for pylatexenc (setup.py) ... \u001b[?25l\u001b[?25hdone\n",
      "  Created wheel for pylatexenc: filename=pylatexenc-2.10-py3-none-any.whl size=136833 sha256=d9f1b5e0e631e746b840ec81372a914f6c8e82d6dc771548ae226d611bb30573\n",
      "  Stored in directory: /root/.cache/pip/wheels/f1/8a/f5/33ee79d4473eb201b519fa40f989b842e373237395a3421f52\n",
      "Successfully built pylatexenc\n",
      "Installing collected packages: pylatexenc\n",
      "Successfully installed pylatexenc-2.10\n"
     ]
    }
   ],
   "source": [
    "!pip install qiskit\n",
    "!pip install pylatexenc"
   ]
  },
  {
   "cell_type": "code",
   "execution_count": 2,
   "metadata": {
    "colab": {
     "base_uri": "https://localhost:8080/"
    },
    "id": "8zObPnug6_hN",
    "outputId": "83e00996-3791-41a2-83eb-b9cf2867f179"
   },
   "outputs": [
    {
     "name": "stdout",
     "output_type": "stream",
     "text": [
      "Collecting qiskit-machine-learning\n",
      "  Downloading qiskit_machine_learning-0.2.1-py3-none-any.whl (96 kB)\n",
      "\u001b[?25l\r",
      "\u001b[K     |███▍                            | 10 kB 23.7 MB/s eta 0:00:01\r",
      "\u001b[K     |██████▉                         | 20 kB 28.1 MB/s eta 0:00:01\r",
      "\u001b[K     |██████████▏                     | 30 kB 18.7 MB/s eta 0:00:01\r",
      "\u001b[K     |█████████████▋                  | 40 kB 13.0 MB/s eta 0:00:01\r",
      "\u001b[K     |█████████████████               | 51 kB 5.6 MB/s eta 0:00:01\r",
      "\u001b[K     |████████████████████▍           | 61 kB 5.7 MB/s eta 0:00:01\r",
      "\u001b[K     |███████████████████████▉        | 71 kB 5.4 MB/s eta 0:00:01\r",
      "\u001b[K     |███████████████████████████▏    | 81 kB 6.0 MB/s eta 0:00:01\r",
      "\u001b[K     |██████████████████████████████▋ | 92 kB 5.9 MB/s eta 0:00:01\r",
      "\u001b[K     |████████████████████████████████| 96 kB 2.6 MB/s \n",
      "\u001b[?25hRequirement already satisfied: psutil>=5 in /usr/local/lib/python3.7/dist-packages (from qiskit-machine-learning) (5.4.8)\n",
      "Requirement already satisfied: qiskit-terra>=0.18.0 in /usr/local/lib/python3.7/dist-packages (from qiskit-machine-learning) (0.18.3)\n",
      "Requirement already satisfied: setuptools>=40.1.0 in /usr/local/lib/python3.7/dist-packages (from qiskit-machine-learning) (57.4.0)\n",
      "Requirement already satisfied: scipy>=1.4 in /usr/local/lib/python3.7/dist-packages (from qiskit-machine-learning) (1.4.1)\n",
      "Requirement already satisfied: fastdtw in /usr/local/lib/python3.7/dist-packages (from qiskit-machine-learning) (0.3.4)\n",
      "Requirement already satisfied: scikit-learn>=0.20.0 in /usr/local/lib/python3.7/dist-packages (from qiskit-machine-learning) (1.0.1)\n",
      "Requirement already satisfied: numpy>=1.17 in /usr/local/lib/python3.7/dist-packages (from qiskit-machine-learning) (1.19.5)\n",
      "Requirement already satisfied: ply>=3.10 in /usr/local/lib/python3.7/dist-packages (from qiskit-terra>=0.18.0->qiskit-machine-learning) (3.11)\n",
      "Requirement already satisfied: sympy>=1.3 in /usr/local/lib/python3.7/dist-packages (from qiskit-terra>=0.18.0->qiskit-machine-learning) (1.7.1)\n",
      "Requirement already satisfied: jsonschema>=2.6 in /usr/local/lib/python3.7/dist-packages (from qiskit-terra>=0.18.0->qiskit-machine-learning) (2.6.0)\n",
      "Requirement already satisfied: fastjsonschema>=2.10 in /usr/local/lib/python3.7/dist-packages (from qiskit-terra>=0.18.0->qiskit-machine-learning) (2.15.1)\n",
      "Requirement already satisfied: python-constraint>=1.4 in /usr/local/lib/python3.7/dist-packages (from qiskit-terra>=0.18.0->qiskit-machine-learning) (1.4.0)\n",
      "Requirement already satisfied: retworkx>=0.9.0 in /usr/local/lib/python3.7/dist-packages (from qiskit-terra>=0.18.0->qiskit-machine-learning) (0.10.2)\n",
      "Requirement already satisfied: python-dateutil>=2.8.0 in /usr/local/lib/python3.7/dist-packages (from qiskit-terra>=0.18.0->qiskit-machine-learning) (2.8.2)\n",
      "Requirement already satisfied: dill>=0.3 in /usr/local/lib/python3.7/dist-packages (from qiskit-terra>=0.18.0->qiskit-machine-learning) (0.3.4)\n",
      "Requirement already satisfied: tweedledum<2.0,>=1.1 in /usr/local/lib/python3.7/dist-packages (from qiskit-terra>=0.18.0->qiskit-machine-learning) (1.1.1)\n",
      "Requirement already satisfied: symengine>0.7 in /usr/local/lib/python3.7/dist-packages (from qiskit-terra>=0.18.0->qiskit-machine-learning) (0.8.1)\n",
      "Requirement already satisfied: six>=1.5 in /usr/local/lib/python3.7/dist-packages (from python-dateutil>=2.8.0->qiskit-terra>=0.18.0->qiskit-machine-learning) (1.15.0)\n",
      "Requirement already satisfied: threadpoolctl>=2.0.0 in /usr/local/lib/python3.7/dist-packages (from scikit-learn>=0.20.0->qiskit-machine-learning) (3.0.0)\n",
      "Requirement already satisfied: joblib>=0.11 in /usr/local/lib/python3.7/dist-packages (from scikit-learn>=0.20.0->qiskit-machine-learning) (1.1.0)\n",
      "Requirement already satisfied: mpmath>=0.19 in /usr/local/lib/python3.7/dist-packages (from sympy>=1.3->qiskit-terra>=0.18.0->qiskit-machine-learning) (1.2.1)\n",
      "Installing collected packages: qiskit-machine-learning\n",
      "Successfully installed qiskit-machine-learning-0.2.1\n"
     ]
    }
   ],
   "source": [
    "pip install qiskit-machine-learning"
   ]
  },
  {
   "cell_type": "code",
   "execution_count": 52,
   "metadata": {
    "id": "EiFfXt5M3sRE"
   },
   "outputs": [],
   "source": [
    "# General imports\n",
    "import os\n",
    "import gzip\n",
    "import numpy as np\n",
    "import matplotlib.pyplot as plt\n",
    "from pylab import cm\n",
    "import warnings\n",
    "import matplotlib.pyplot as plt\n",
    "%matplotlib inline\n",
    "\n",
    "warnings.filterwarnings(\"ignore\")\n",
    "\n",
    "# scikit-learn imports\n",
    "from sklearn import datasets\n",
    "from sklearn.model_selection import train_test_split\n",
    "from sklearn.preprocessing import StandardScaler, MinMaxScaler\n",
    "from sklearn.decomposition import PCA\n",
    "from sklearn.svm import SVC\n",
    "from sklearn.metrics import accuracy_score\n",
    "\n",
    "# Qiskit imports\n",
    "from qiskit import IBMQ\n",
    "from qiskit import Aer, execute\n",
    "from qiskit.circuit import QuantumCircuit, Parameter, ParameterVector\n",
    "from qiskit.circuit.library import PauliFeatureMap, ZFeatureMap, ZZFeatureMap\n",
    "from qiskit.circuit.library import TwoLocal, NLocal, RealAmplitudes, EfficientSU2\n",
    "from qiskit.circuit.library import HGate, RXGate, RYGate, RZGate, CXGate, CRXGate, CRZGate\n",
    "from qiskit_machine_learning.kernels import QuantumKernel\n",
    "from qiskit.tools.visualization import circuit_drawer\n",
    "from qiskit.utils import QuantumInstance, algorithm_globals\n",
    "\n",
    "seed = 12345\n",
    "algorithm_globals.random_seed = seed"
   ]
  },
  {
   "cell_type": "code",
   "execution_count": 5,
   "metadata": {
    "colab": {
     "base_uri": "https://localhost:8080/",
     "height": 1000
    },
    "id": "GVOt-qzn4DlV",
    "outputId": "2f6d90d4-04b8-445a-c2ab-208bc871d478"
   },
   "outputs": [
    {
     "name": "stdout",
     "output_type": "stream",
     "text": [
      "[[0 0 0 ... 0 0 0]\n",
      " [0 0 0 ... 0 0 0]\n",
      " [0 0 0 ... 0 0 0]\n",
      " ...\n",
      " [0 0 0 ... 0 0 0]\n",
      " [0 0 0 ... 0 0 0]\n",
      " [0 0 0 ... 0 0 0]]\n"
     ]
    },
    {
     "data": {
      "image/png": "[encoded data removed]",
      "text/plain": [
       "<Figure size 432x288 with 1 Axes>"
      ]
     },
     "metadata": {
      "needs_background": "light"
     },
     "output_type": "display_data"
    },
    {
     "data": {
      "image/png": "[encoded data removed]",
      "text/plain": [
       "<Figure size 432x288 with 1 Axes>"
      ]
     },
     "metadata": {
      "needs_background": "light"
     },
     "output_type": "display_data"
    },
    {
     "data": {
      "image/png": "[encoded data removed]",
      "text/plain": [
       "<Figure size 432x288 with 1 Axes>"
      ]
     },
     "metadata": {
      "needs_background": "light"
     },
     "output_type": "display_data"
    },
    {
     "data": {
      "image/png": "[encoded data removed]",
      "text/plain": [
       "<Figure size 432x288 with 1 Axes>"
      ]
     },
     "metadata": {
      "needs_background": "light"
     },
     "output_type": "display_data"
    },
    {
     "data": {
      "image/png": "[encoded data removed]",
      "text/plain": [
       "<Figure size 432x288 with 1 Axes>"
      ]
     },
     "metadata": {
      "needs_background": "light"
     },
     "output_type": "display_data"
    },
    {
     "data": {
      "image/png": "[encoded data removed]",
      "text/plain": [
       "<Figure size 432x288 with 1 Axes>"
      ]
     },
     "metadata": {
      "needs_background": "light"
     },
     "output_type": "display_data"
    },
    {
     "data": {
      "image/png": "[encoded data removed]",
      "text/plain": [
       "<Figure size 432x288 with 1 Axes>"
      ]
     },
     "metadata": {
      "needs_background": "light"
     },
     "output_type": "display_data"
    },
    {
     "data": {
      "image/png": "[encoded data removed]",
      "text/plain": [
       "<Figure size 432x288 with 1 Axes>"
      ]
     },
     "metadata": {
      "needs_background": "light"
     },
     "output_type": "display_data"
    },
    {
     "data": {
      "image/png": "[encoded data removed]",
      "text/plain": [
       "<Figure size 432x288 with 1 Axes>"
      ]
     },
     "metadata": {
      "needs_background": "light"
     },
     "output_type": "display_data"
    },
    {
     "data": {
      "image/png": "[encoded data removed]",
      "text/plain": [
       "<Figure size 432x288 with 1 Axes>"
      ]
     },
     "metadata": {
      "needs_background": "light"
     },
     "output_type": "display_data"
    },
    {
     "data": {
      "image/png": "[encoded data removed]",
      "text/plain": [
       "<Figure size 432x288 with 1 Axes>"
      ]
     },
     "metadata": {
      "needs_background": "light"
     },
     "output_type": "display_data"
    },
    {
     "data": {
      "image/png": "[encoded data removed]",
      "text/plain": [
       "<Figure size 432x288 with 1 Axes>"
      ]
     },
     "metadata": {
      "needs_background": "light"
     },
     "output_type": "display_data"
    },
    {
     "data": {
      "image/png": "[encoded data removed]",
      "text/plain": [
       "<Figure size 432x288 with 1 Axes>"
      ]
     },
     "metadata": {
      "needs_background": "light"
     },
     "output_type": "display_data"
    },
    {
     "data": {
      "image/png": "[encoded data removed]",
      "text/plain": [
       "<Figure size 432x288 with 1 Axes>"
      ]
     },
     "metadata": {
      "needs_background": "light"
     },
     "output_type": "display_data"
    },
    {
     "data": {
      "image/png": "[encoded data removed]",
      "text/plain": [
       "<Figure size 432x288 with 1 Axes>"
      ]
     },
     "metadata": {
      "needs_background": "light"
     },
     "output_type": "display_data"
    },
    {
     "data": {
      "image/png": "[encoded data removed]",
      "text/plain": [
       "<Figure size 432x288 with 1 Axes>"
      ]
     },
     "metadata": {
      "needs_background": "light"
     },
     "output_type": "display_data"
    },
    {
     "data": {
      "image/png": "[encoded data removed]",
      "text/plain": [
       "<Figure size 432x288 with 1 Axes>"
      ]
     },
     "metadata": {
      "needs_background": "light"
     },
     "output_type": "display_data"
    },
    {
     "data": {
      "image/png": "[encoded data removed]",
      "text/plain": [
       "<Figure size 432x288 with 1 Axes>"
      ]
     },
     "metadata": {
      "needs_background": "light"
     },
     "output_type": "display_data"
    },
    {
     "data": {
      "image/png": "[encoded data removed]",
      "text/plain": [
       "<Figure size 432x288 with 1 Axes>"
      ]
     },
     "metadata": {
      "needs_background": "light"
     },
     "output_type": "display_data"
    },
    {
     "data": {
      "image/png": "[encoded data removed]",
      "text/plain": [
       "<Figure size 432x288 with 1 Axes>"
      ]
     },
     "metadata": {
      "needs_background": "light"
     },
     "output_type": "display_data"
    },
    {
     "data": {
      "image/png": "[encoded data removed]",
      "text/plain": [
       "<Figure size 432x288 with 3 Axes>"
      ]
     },
     "metadata": {
      "needs_background": "light"
     },
     "output_type": "display_data"
    }
   ],
   "source": [
    "# Load MNIST dataset\n",
    "DATA_PATH = '/content/sample_data/ch3_part2.npz'\n",
    "data = np.load(DATA_PATH)\n",
    "\n",
    "sample_train = data['sample_train']\n",
    "labels_train = data['labels_train']\n",
    "sample_test = data['sample_test']\n",
    "\n",
    "# Split train data\n",
    "sample_train, sample_val, labels_train, labels_val = train_test_split(\n",
    "    sample_train, labels_train, test_size=0.2, random_state=42)\n",
    "print(sample_test)\n",
    "for i in range(len(sample_test)):\n",
    "    img = sample_test[i].reshape((28,28))\n",
    "    plt.imshow(img, cmap=\"Greys\")\n",
    "    plt.show()\n",
    "#    Visualize samples\n",
    "fig = plt.figure()\n",
    "\n",
    "LABELS = [0, 2, 3]\n",
    "num_labels = len(LABELS)\n",
    "for i in range(num_labels):\n",
    "    ax = fig.add_subplot(1, num_labels, i+1)\n",
    "    img = sample_train[labels_train==LABELS[i]][0].reshape((28, 28))\n",
    "    ax.imshow(img, cmap=\"Greys\")"
   ]
  },
  {
   "cell_type": "code",
   "execution_count": 7,
   "metadata": {
    "id": "nkiKNdxT4ODW"
   },
   "outputs": [],
   "source": [
    "# Standardize\n",
    "standard_scaler = StandardScaler()\n",
    "sample_train = standard_scaler.fit_transform(sample_train)\n",
    "sample_val = standard_scaler.transform(sample_val)\n",
    "sample_test = standard_scaler.transform(sample_test)\n",
    "\n",
    "# Reduce dimensions\n",
    "N_DIM = 5\n",
    "pca = PCA(n_components=N_DIM)\n",
    "sample_train = pca.fit_transform(sample_train)\n",
    "sample_val = pca.transform(sample_val)\n",
    "sample_test = pca.transform(sample_test)\n",
    "\n",
    "# Normalize\n",
    "min_max_scaler = MinMaxScaler((-1, 1))\n",
    "sample_train = min_max_scaler.fit_transform(sample_train)\n",
    "sample_val = min_max_scaler.transform(sample_val)\n",
    "sample_test = min_max_scaler.transform(sample_test)"
   ]
  },
  {
   "cell_type": "code",
   "execution_count": 57,
   "metadata": {
    "colab": {
     "base_uri": "https://localhost:8080/"
    },
    "id": "guF2xuCz4TSa",
    "outputId": "3ddbe781-0a1a-4154-8344-c6bbeb1a0bc0"
   },
   "outputs": [
    {
     "name": "stdout",
     "output_type": "stream",
     "text": [
      "Original validation labels:      [3 3 2 0 3 0 3 2 3 2 2 3 2 2 2 3 0 2 3 3]\n",
      "Validation one label vs Rest:    [0 0 0 1 0 1 0 0 0 0 0 0 0 0 0 0 1 0 0 0]\n",
      "Accuracy of ZZFeature Map discriminating between label and others: 90.0%\n",
      "Accuracy of ZFeature Map discriminating between label and others: 95.0%\n",
      "Accuracy of Pauli Feature Map discriminating between label and others: 85.0%\n",
      "Probability of label : [0.29 0.3  0.29 0.28 0.29 0.28 0.3  0.3  0.3  0.29 0.28 0.28 0.29 0.29\n",
      " 0.29 0.28 0.29 0.3  0.29 0.28]\n",
      "Probability of label : [0.36 0.36 0.27 0.29 0.27 0.25 0.34 0.29 0.36 0.33 0.29 0.31 0.26 0.28\n",
      " 0.29 0.26 0.28 0.34 0.26 0.3 ]\n",
      "Probability of label : [0.3  0.29 0.29 0.29 0.29 0.29 0.29 0.29 0.3  0.29 0.29 0.29 0.28 0.29\n",
      " 0.29 0.29 0.29 0.3  0.29 0.28]\n",
      "Original validation labels:      [3 3 2 0 3 0 3 2 3 2 2 3 2 2 2 3 0 2 3 3]\n",
      "Validation one label vs Rest:    [0 0 1 0 0 0 0 1 0 1 1 0 1 1 1 0 0 1 0 0]\n",
      "Accuracy of ZZFeature Map discriminating between label and others: 85.0%\n",
      "Accuracy of ZFeature Map discriminating between label and others: 90.0%\n",
      "Accuracy of Pauli Feature Map discriminating between label and others: 90.0%\n",
      "Probability of label : [0.25 0.14 0.29 0.33 0.37 0.54 0.36 0.21 0.15 0.37 0.04 0.6  0.78 0.49\n",
      " 0.05 0.75 0.43 0.26 0.51 0.67]\n",
      "Probability of label : [0.   0.   0.02 0.   0.04 0.01 0.   0.03 0.   0.   0.   0.02 1.   0.78\n",
      " 0.   1.   0.   0.   0.   0.24]\n",
      "Probability of label : [0.1  0.27 0.22 0.15 0.2  0.34 0.21 0.35 0.23 0.47 0.45 0.35 0.5  0.28\n",
      " 0.31 0.52 0.23 0.18 0.14 0.75]\n",
      "Original validation labels:      [3 3 2 0 3 0 3 2 3 2 2 3 2 2 2 3 0 2 3 3]\n",
      "Validation one label vs Rest:    [1 1 0 0 1 0 1 0 1 0 0 1 0 0 0 1 0 0 1 1]\n",
      "Accuracy of ZZFeature Map discriminating between label and others: 65.0%\n",
      "Accuracy of ZFeature Map discriminating between label and others: 90.0%\n",
      "Accuracy of Pauli Feature Map discriminating between label and others: 70.0%\n",
      "Probability of label : [0.24 0.13 0.28 0.61 0.6  0.62 0.06 0.16 0.22 0.07 0.92 0.21 0.07 0.29\n",
      " 0.84 0.12 0.37 0.11 0.36 0.18]\n",
      "Probability of label : [0.03 0.04 1.   1.   1.   1.   0.13 0.39 0.03 0.04 1.   0.04 0.   0.36\n",
      " 1.   0.   1.   0.62 1.   0.01]\n",
      "Probability of label : [0.13 0.23 0.44 0.39 0.65 0.13 0.23 0.31 0.18 0.23 0.41 0.24 0.23 0.18\n",
      " 0.14 0.16 0.35 0.1  0.45 0.16]\n",
      "[0.9, 0.85, 0.65]\n",
      "[0.95, 0.9, 0.9]\n",
      "[0.85, 0.9, 0.7]\n"
     ]
    }
   ],
   "source": [
    "LABELS = [0, 2, 3]\n",
    "list_zzfeat = []\n",
    "list_zfeat = []\n",
    "list_pmap = []\n",
    "score_zzfeat= []\n",
    "score_zfeat= []\n",
    "score_pmap= []\n",
    "num_labels = len(LABELS)\n",
    "for i in range(num_labels):\n",
    "\n",
    "    labels_trainz = np.where(labels_train==LABELS[i], 1, 0)\n",
    "    labels_valz = np.where(labels_val==LABELS[i], 1, 0)\n",
    "\n",
    "    print(f'Original validation labels:      {labels_val}')\n",
    "    print(f'Validation one label vs Rest:    {labels_valz}')\n",
    "\n",
    "    zzfeat_map = ZZFeatureMap(feature_dimension=N_DIM, reps=3, entanglement='circular')\n",
    "    zfeat_map = ZFeatureMap(feature_dimension=N_DIM, reps=3)\n",
    "    pauli_map = PauliFeatureMap(feature_dimension=N_DIM, reps=3, paulis = ['X', 'Y', 'ZZ'])\n",
    "    quantum_instancez = QuantumInstance(Aer.get_backend('statevector_simulator'), shots=1024, seed_simulator=seed, seed_transpiler=seed)\n",
    "    kernel_zzfeat = QuantumKernel(feature_map=zzfeat_map, quantum_instance=quantum_instancez)\n",
    "    kernel_zfeat = QuantumKernel(feature_map=zfeat_map, quantum_instance=quantum_instancez)\n",
    "    kernel_p_map = QuantumKernel(feature_map=pauli_map, quantum_instance=quantum_instancez)\n",
    "\n",
    "    svc = SVC(kernel='precomputed', probability=True)\n",
    "\n",
    "    matrix_train_zz = kernel_zzfeat.evaluate(x_vec=sample_train)\n",
    "    matrix_train_z = kernel_zfeat.evaluate(x_vec=sample_train)\n",
    "    matrix_train_pmap = kernel_p_map.evaluate(x_vec=sample_train)\n",
    "    svc.fit(matrix_train_zz, labels_trainz)\n",
    "    svc.fit(matrix_train_z, labels_trainz)\n",
    "    svc.fit(matrix_train_pmap, labels_trainz)\n",
    "    \n",
    "\n",
    "    matrix_val_zzfeat = kernel_zzfeat.evaluate(x_vec=sample_val, y_vec=sample_train)\n",
    "    matrix_val_zfeat = kernel_zfeat.evaluate(x_vec=sample_val, y_vec=sample_train)\n",
    "    matrix_val_pmap = kernel_p_map.evaluate(x_vec=sample_val, y_vec=sample_train)\n",
    "    pauli_score_zzfeat = svc.score(matrix_val_zzfeat, labels_valz)\n",
    "    pauli_score_zfeat = svc.score(matrix_val_zfeat, labels_valz)\n",
    "    pauli_score_pmap = svc.score(matrix_val_pmap, labels_valz)\n",
    "    print(f'Accuracy of ZZFeature Map discriminating between label and others: {pauli_score_zzfeat*100}%')\n",
    "    print(f'Accuracy of ZFeature Map discriminating between label and others: {pauli_score_zfeat*100}%')\n",
    "    print(f'Accuracy of Pauli Feature Map discriminating between label and others: {pauli_score_pmap*100}%')\n",
    "\n",
    "    matrix_test_zzfeat = kernel_zzfeat.evaluate(x_vec=sample_test, y_vec=sample_train)\n",
    "    matrix_test_zfeat = kernel_zfeat.evaluate(x_vec=sample_test, y_vec=sample_train)\n",
    "    matrix_test_pmap = kernel_p_map.evaluate(x_vec=sample_test, y_vec=sample_train)\n",
    "    #pa_zzfeat = svc.score(matrix_test_zzfeat, labels_test)\n",
    "    #print(pa_zzfeat)\n",
    "    pred_zzfeat = svc.predict_proba(matrix_test_zzfeat)[:, 1]\n",
    "    pred_zfeat = svc.predict_proba(matrix_test_zfeat)[:, 1]\n",
    "    pred_pmap = svc.predict_proba(matrix_test_pmap)[:, 1]\n",
    "\n",
    "    print(f'Probability of label : {np.round(pred_zzfeat, 2)}')\n",
    "    print(f'Probability of label : {np.round(pred_zfeat, 2)}')\n",
    "    print(f'Probability of label : {np.round(pred_pmap, 2)}')\n",
    "\n",
    "    list_zzfeat.append(np.round(pred_zzfeat, 2))\n",
    "    list_zfeat.append(np.round(pred_zfeat, 2))\n",
    "    list_pmap.append(np.round(pred_pmap, 2))\n",
    "\n",
    "    score_zzfeat.append(pauli_score_zzfeat)\n",
    "    score_zfeat.append(pauli_score_zfeat)\n",
    "    score_pmap.append(pauli_score_pmap)\n",
    "print(score_zzfeat)\n",
    "print(score_zfeat)\n",
    "print(score_pmap)    "
   ]
  },
  {
   "cell_type": "code",
   "execution_count": 58,
   "metadata": {
    "colab": {
     "base_uri": "https://localhost:8080/"
    },
    "id": "RMtqMzmR4WkQ",
    "outputId": "3c157e25-fc74-4fbf-ea92-1ba9e0316b7c"
   },
   "outputs": [
    {
     "name": "stdout",
     "output_type": "stream",
     "text": [
      "[0.9, 0.85, 0.65]\n",
      "[0.95, 0.9, 0.9]\n",
      "[0.85, 0.9, 0.7]\n"
     ]
    }
   ],
   "source": [
    "print(score_zzfeat)\n",
    "print(score_zfeat)\n",
    "print(score_pmap) "
   ]
  },
  {
   "cell_type": "code",
   "execution_count": 59,
   "metadata": {
    "id": "ZFxmAOcg4Y0F"
   },
   "outputs": [],
   "source": [
    "pred_0_zz = np.array(list_zzfeat[0])\n",
    "pred_2_zz = np.array(list_zzfeat[1])\n",
    "pred_3_zz = np.array(list_zzfeat[2])"
   ]
  },
  {
   "cell_type": "code",
   "execution_count": 60,
   "metadata": {
    "id": "Fj2SQTW94ank"
   },
   "outputs": [],
   "source": [
    "pred_0_z = np.array(list_zfeat[0])\n",
    "pred_2_z = np.array(list_zfeat[1])\n",
    "pred_3_z = np.array(list_zfeat[2])"
   ]
  },
  {
   "cell_type": "code",
   "execution_count": 61,
   "metadata": {
    "id": "v0Rb0G-i4clV"
   },
   "outputs": [],
   "source": [
    "pred_0_pm = np.array(list_pmap[0])\n",
    "pred_2_pm = np.array(list_pmap[1])\n",
    "pred_3_pm = np.array(list_pmap[2])"
   ]
  },
  {
   "cell_type": "code",
   "execution_count": 62,
   "metadata": {
    "colab": {
     "base_uri": "https://localhost:8080/"
    },
    "id": "peflMghE4ebS",
    "outputId": "7768c048-89f4-46d9-da9a-e6d3893b6a69"
   },
   "outputs": [
    {
     "name": "stdout",
     "output_type": "stream",
     "text": [
      "Prediction: [array([0, 0, 3, 3, 3, 3, 2, 0, 0, 2, 3, 2, 2, 2, 3, 2, 2, 0, 2, 2])]\n",
      "Prediction: [array([0, 0, 3, 3, 3, 3, 0, 3, 0, 0, 3, 0, 2, 2, 3, 2, 3, 3, 3, 0])]\n",
      "Prediction: [array([0, 0, 3, 3, 3, 2, 0, 2, 0, 2, 2, 2, 2, 0, 2, 2, 3, 0, 3, 2])]\n"
     ]
    }
   ],
   "source": [
    "pred_ZZtest = []\n",
    "pred_Ztest = []\n",
    "pred_Pmap  = []\n",
    "pred_ZZtest.append(np.where(((pred_0_zz > pred_2_zz) & (pred_0_zz > pred_3_zz)),0,(np.where(((pred_2_zz > pred_0_zz) & (pred_2_zz > pred_3_zz)),2,3))))\n",
    "pred_Ztest.append(np.where(((pred_0_z > pred_2_z) & (pred_0_z > pred_3_z)),0,(np.where(((pred_2_z > pred_0_z) & (pred_2_z > pred_3_z)),2,3))))\n",
    "pred_Pmap.append(np.where(((pred_0_pm > pred_2_pm) & (pred_0_pm > pred_3_pm)),0,(np.where(((pred_2_pm > pred_0_pm) & (pred_2_pm > pred_3_pm)),2,3))))\n",
    "print(f'Prediction: {pred_ZZtest}')\n",
    "print(f'Prediction: {pred_Ztest}')\n",
    "print(f'Prediction: {pred_Pmap}')"
   ]
  },
  {
   "cell_type": "code",
   "execution_count": 14,
   "metadata": {
    "colab": {
     "base_uri": "https://localhost:8080/",
     "height": 300
    },
    "id": "-rb0RnGa_ZYm",
    "outputId": "ecdcd350-7178-4ad5-ddf4-f0e81262b0f4"
   },
   "outputs": [
    {
     "name": "stderr",
     "output_type": "stream",
     "text": [
      "No handles with labels found to put in legend.\n"
     ]
    },
    {
     "name": "stdout",
     "output_type": "stream",
     "text": [
      "[0 0 2 2 3 3 0 0 0 2 3 2 2 2 3 2 3 0 2 2]\n"
     ]
    },
    {
     "data": {
      "image/png": "[encoded data removed]",
      "text/plain": [
       "<Figure size 432x288 with 1 Axes>"
      ]
     },
     "metadata": {
      "needs_background": "light"
     },
     "output_type": "display_data"
    }
   ],
   "source": [
    "print(pred_ZZtest[0])\n",
    "x = pred_ZZtest[0]\n",
    "y = pred_Ztest[0]\n",
    "z = pred_Pmap[0]\n",
    "a = [0, 0.15, 0.3, 0.45, 0.6, 0.75, 0.9, 1.05, 1.2, 1.35, 1.5, 1.65, 1.8, 2, 2.15, 2.3, 2.45, 2.6, 2.75, 3]\n",
    "\n",
    "# Plot a simple line chart\n",
    "plt.plot(a, x)\n",
    "\n",
    "# Plot another line on the same chart/graph\n",
    "plt.plot(a, y)\n",
    "plt.plot(a, z)\n",
    "plt.legend()\n",
    "\n",
    "plt.show()"
   ]
  },
  {
   "cell_type": "code",
   "execution_count": 68,
   "metadata": {
    "colab": {
     "base_uri": "https://localhost:8080/",
     "height": 297
    },
    "id": "iIRSvf4b4h18",
    "outputId": "349d2fa4-aae1-423b-f957-e9f70d954afa"
   },
   "outputs": [
    {
     "data": {
      "image/png": "[encoded data removed]",
      "text/plain": [
       "<Figure size 432x288 with 1 Axes>"
      ]
     },
     "metadata": {
      "needs_background": "light"
     },
     "output_type": "display_data"
    }
   ],
   "source": [
    "labels = ['Label_0', 'Label_2', 'Label_3']\n",
    "Score0_plot = [score_zzfeat[0], score_zfeat[0], score_pmap[0]]\n",
    "Score2_plot = [score_zzfeat[1], score_zfeat[1], score_pmap[1]]\n",
    "Score3_plot = [score_zzfeat[2], score_zfeat[2], score_pmap[2]]\n",
    "\n",
    "x = np.arange(len(labels))  # the label locations\n",
    "width = 0.25  # the width of the bars\n",
    "\n",
    "fig, ax = plt.subplots()\n",
    "rects1 = ax.bar(x + width/3 , Score0_plot, width, label='ZZFeature_MAP')\n",
    "rects2 = ax.bar(x - 2*(width)/3, Score2_plot, width, label='ZFeature_MAP')\n",
    "rects3 = ax.bar(x + 4*width/3, Score3_plot, width, label='PauliFeature_MAP')\n",
    "\n",
    "\n",
    "# Add some text for labels, title and custom x-axis tick labels, etc.\n",
    "ax.set_ylabel('Accuracy')\n",
    "ax.set_title('Prediction of Label 0, 2, 3')\n",
    "ax.set_xticks(x)\n",
    "ax.set_xticklabels(labels)\n",
    "ax.legend()#loc=2, prop={'size': 6})\n",
    "\n",
    "#ax.bar_label(rects1, padding=3)\n",
    "#ax.bar_label(rects2, padding=3)\n",
    "#ax.bar_label(rects3, padding=3)\n",
    "\n",
    "fig.tight_layout()\n",
    "#plt.figure(figsize=(500,500)) \n",
    "plt.show()"
   ]
  },
  {
   "cell_type": "code",
   "execution_count": 69,
   "metadata": {
    "colab": {
     "base_uri": "https://localhost:8080/",
     "height": 1000
    },
    "id": "V0KGvdP1uy0o",
    "outputId": "b2c5a52f-34a2-4058-a66c-eacf9ab6ddfa"
   },
   "outputs": [
    {
     "name": "stdout",
     "output_type": "stream",
     "text": [
      "     ┌───┐┌──────────────┐┌───┐┌───────────────────────────────┐┌───┐     »\n",
      "q_0: ┤ H ├┤ U1(2.0*x[0]) ├┤ X ├┤ U1(2.0*(π - x[0])*(π - x[4])) ├┤ X ├──■──»\n",
      "     ├───┤├──────────────┤└─┬─┘└───────────────────────────────┘└─┬─┘┌─┴─┐»\n",
      "q_1: ┤ H ├┤ U1(2.0*x[1]) ├──┼─────────────────────────────────────┼──┤ X ├»\n",
      "     ├───┤├──────────────┤  │                                     │  └───┘»\n",
      "q_2: ┤ H ├┤ U1(2.0*x[2]) ├──┼─────────────────────────────────────┼───────»\n",
      "     ├───┤├──────────────┤  │                                     │       »\n",
      "q_3: ┤ H ├┤ U1(2.0*x[3]) ├──┼─────────────────────────────────────┼───────»\n",
      "     ├───┤├──────────────┤  │                                     │       »\n",
      "q_4: ┤ H ├┤ U1(2.0*x[4]) ├──■─────────────────────────────────────■───────»\n",
      "     └───┘└──────────────┘                                                »\n",
      "«                                           ┌───┐»\n",
      "«q_0: ───────────────────────────────────■──┤ H ├»\n",
      "«     ┌───────────────────────────────┐┌─┴─┐└───┘»\n",
      "«q_1: ┤ U1(2.0*(π - x[0])*(π - x[1])) ├┤ X ├──■──»\n",
      "«     └───────────────────────────────┘└───┘┌─┴─┐»\n",
      "«q_2: ──────────────────────────────────────┤ X ├»\n",
      "«                                           └───┘»\n",
      "«q_3: ───────────────────────────────────────────»\n",
      "«                                                »\n",
      "«q_4: ───────────────────────────────────────────»\n",
      "«                                                »\n",
      "«              ┌──────────────┐                  »\n",
      "«q_0: ─────────┤ U1(2.0*x[0]) ├──────────────────»\n",
      "«              └──────────────┘             ┌───┐»\n",
      "«q_1: ───────────────────────────────────■──┤ H ├»\n",
      "«     ┌───────────────────────────────┐┌─┴─┐└───┘»\n",
      "«q_2: ┤ U1(2.0*(π - x[1])*(π - x[2])) ├┤ X ├──■──»\n",
      "«     └───────────────────────────────┘└───┘┌─┴─┐»\n",
      "«q_3: ──────────────────────────────────────┤ X ├»\n",
      "«                                           └───┘»\n",
      "«q_4: ───────────────────────────────────────────»\n",
      "«                                                »\n",
      "«                                                »\n",
      "«q_0: ───────────────────────────────────────────»\n",
      "«              ┌──────────────┐                  »\n",
      "«q_1: ─────────┤ U1(2.0*x[1]) ├──────────────────»\n",
      "«              └──────────────┘             ┌───┐»\n",
      "«q_2: ───────────────────────────────────■──┤ H ├»\n",
      "«     ┌───────────────────────────────┐┌─┴─┐└───┘»\n",
      "«q_3: ┤ U1(2.0*(π - x[2])*(π - x[3])) ├┤ X ├──■──»\n",
      "«     └───────────────────────────────┘└───┘┌─┴─┐»\n",
      "«q_4: ──────────────────────────────────────┤ X ├»\n",
      "«                                           └───┘»\n",
      "«                                                                ┌───┐»\n",
      "«q_0: ───────────────────────────────────────────────────────────┤ X ├»\n",
      "«                                                                └─┬─┘»\n",
      "«q_1: ─────────────────────────────────────────────────────────────┼──»\n",
      "«              ┌──────────────┐                                    │  »\n",
      "«q_2: ─────────┤ U1(2.0*x[2]) ├────────────────────────────────────┼──»\n",
      "«              └──────────────┘             ┌───┐┌──────────────┐  │  »\n",
      "«q_3: ───────────────────────────────────■──┤ H ├┤ U1(2.0*x[3]) ├──┼──»\n",
      "«     ┌───────────────────────────────┐┌─┴─┐├───┤├──────────────┤  │  »\n",
      "«q_4: ┤ U1(2.0*(π - x[3])*(π - x[4])) ├┤ X ├┤ H ├┤ U1(2.0*x[4]) ├──■──»\n",
      "«     └───────────────────────────────┘└───┘└───┘└──────────────┘     »\n",
      "«     ┌───────────────────────────────┐┌───┐     »\n",
      "«q_0: ┤ U1(2.0*(π - x[0])*(π - x[4])) ├┤ X ├──■──»\n",
      "«     └───────────────────────────────┘└─┬─┘┌─┴─┐»\n",
      "«q_1: ───────────────────────────────────┼──┤ X ├»\n",
      "«                                        │  └───┘»\n",
      "«q_2: ───────────────────────────────────┼───────»\n",
      "«                                        │       »\n",
      "«q_3: ───────────────────────────────────┼───────»\n",
      "«                                        │       »\n",
      "«q_4: ───────────────────────────────────■───────»\n",
      "«                                                »\n",
      "«                                           ┌───┐»\n",
      "«q_0: ───────────────────────────────────■──┤ H ├»\n",
      "«     ┌───────────────────────────────┐┌─┴─┐└───┘»\n",
      "«q_1: ┤ U1(2.0*(π - x[0])*(π - x[1])) ├┤ X ├──■──»\n",
      "«     └───────────────────────────────┘└───┘┌─┴─┐»\n",
      "«q_2: ──────────────────────────────────────┤ X ├»\n",
      "«                                           └───┘»\n",
      "«q_3: ───────────────────────────────────────────»\n",
      "«                                                »\n",
      "«q_4: ───────────────────────────────────────────»\n",
      "«                                                »\n",
      "«              ┌──────────────┐                  »\n",
      "«q_0: ─────────┤ U1(2.0*x[0]) ├──────────────────»\n",
      "«              └──────────────┘             ┌───┐»\n",
      "«q_1: ───────────────────────────────────■──┤ H ├»\n",
      "«     ┌───────────────────────────────┐┌─┴─┐└───┘»\n",
      "«q_2: ┤ U1(2.0*(π - x[1])*(π - x[2])) ├┤ X ├──■──»\n",
      "«     └───────────────────────────────┘└───┘┌─┴─┐»\n",
      "«q_3: ──────────────────────────────────────┤ X ├»\n",
      "«                                           └───┘»\n",
      "«q_4: ───────────────────────────────────────────»\n",
      "«                                                »\n",
      "«                                                »\n",
      "«q_0: ───────────────────────────────────────────»\n",
      "«              ┌──────────────┐                  »\n",
      "«q_1: ─────────┤ U1(2.0*x[1]) ├──────────────────»\n",
      "«              └──────────────┘             ┌───┐»\n",
      "«q_2: ───────────────────────────────────■──┤ H ├»\n",
      "«     ┌───────────────────────────────┐┌─┴─┐└───┘»\n",
      "«q_3: ┤ U1(2.0*(π - x[2])*(π - x[3])) ├┤ X ├──■──»\n",
      "«     └───────────────────────────────┘└───┘┌─┴─┐»\n",
      "«q_4: ──────────────────────────────────────┤ X ├»\n",
      "«                                           └───┘»\n",
      "«                                                                ┌───┐»\n",
      "«q_0: ───────────────────────────────────────────────────────────┤ X ├»\n",
      "«                                                                └─┬─┘»\n",
      "«q_1: ─────────────────────────────────────────────────────────────┼──»\n",
      "«              ┌──────────────┐                                    │  »\n",
      "«q_2: ─────────┤ U1(2.0*x[2]) ├────────────────────────────────────┼──»\n",
      "«              └──────────────┘             ┌───┐┌──────────────┐  │  »\n",
      "«q_3: ───────────────────────────────────■──┤ H ├┤ U1(2.0*x[3]) ├──┼──»\n",
      "«     ┌───────────────────────────────┐┌─┴─┐├───┤├──────────────┤  │  »\n",
      "«q_4: ┤ U1(2.0*(π - x[3])*(π - x[4])) ├┤ X ├┤ H ├┤ U1(2.0*x[4]) ├──■──»\n",
      "«     └───────────────────────────────┘└───┘└───┘└──────────────┘     »\n",
      "«     ┌───────────────────────────────┐┌───┐     »\n",
      "«q_0: ┤ U1(2.0*(π - x[0])*(π - x[4])) ├┤ X ├──■──»\n",
      "«     └───────────────────────────────┘└─┬─┘┌─┴─┐»\n",
      "«q_1: ───────────────────────────────────┼──┤ X ├»\n",
      "«                                        │  └───┘»\n",
      "«q_2: ───────────────────────────────────┼───────»\n",
      "«                                        │       »\n",
      "«q_3: ───────────────────────────────────┼───────»\n",
      "«                                        │       »\n",
      "«q_4: ───────────────────────────────────■───────»\n",
      "«                                                »\n",
      "«                                                »\n",
      "«q_0: ───────────────────────────────────■───────»\n",
      "«     ┌───────────────────────────────┐┌─┴─┐     »\n",
      "«q_1: ┤ U1(2.0*(π - x[0])*(π - x[1])) ├┤ X ├──■──»\n",
      "«     └───────────────────────────────┘└───┘┌─┴─┐»\n",
      "«q_2: ──────────────────────────────────────┤ X ├»\n",
      "«                                           └───┘»\n",
      "«q_3: ───────────────────────────────────────────»\n",
      "«                                                »\n",
      "«q_4: ───────────────────────────────────────────»\n",
      "«                                                »\n",
      "«                                                »\n",
      "«q_0: ───────────────────────────────────────────»\n",
      "«                                                »\n",
      "«q_1: ───────────────────────────────────■───────»\n",
      "«     ┌───────────────────────────────┐┌─┴─┐     »\n",
      "«q_2: ┤ U1(2.0*(π - x[1])*(π - x[2])) ├┤ X ├──■──»\n",
      "«     └───────────────────────────────┘└───┘┌─┴─┐»\n",
      "«q_3: ──────────────────────────────────────┤ X ├»\n",
      "«                                           └───┘»\n",
      "«q_4: ───────────────────────────────────────────»\n",
      "«                                                »\n",
      "«                                                »\n",
      "«q_0: ───────────────────────────────────────────»\n",
      "«                                                »\n",
      "«q_1: ───────────────────────────────────────────»\n",
      "«                                                »\n",
      "«q_2: ───────────────────────────────────■───────»\n",
      "«     ┌───────────────────────────────┐┌─┴─┐     »\n",
      "«q_3: ┤ U1(2.0*(π - x[2])*(π - x[3])) ├┤ X ├──■──»\n",
      "«     └───────────────────────────────┘└───┘┌─┴─┐»\n",
      "«q_4: ──────────────────────────────────────┤ X ├»\n",
      "«                                           └───┘»\n",
      "«                                           \n",
      "«q_0: ──────────────────────────────────────\n",
      "«                                           \n",
      "«q_1: ──────────────────────────────────────\n",
      "«                                           \n",
      "«q_2: ──────────────────────────────────────\n",
      "«                                           \n",
      "«q_3: ───────────────────────────────────■──\n",
      "«     ┌───────────────────────────────┐┌─┴─┐\n",
      "«q_4: ┤ U1(2.0*(π - x[3])*(π - x[4])) ├┤ X ├\n",
      "«     └───────────────────────────────┘└───┘\n"
     ]
    },
    {
     "data": {
      "text/html": [
       "<pre style=\"word-wrap: normal;white-space: pre;background: #fff0;line-height: 1.1;font-family: &quot;Courier New&quot;,Courier,monospace\">     ┌─────────────────────────────────────────┐\n",
       "q_0: ┤0                                        ├\n",
       "     │                                         │\n",
       "q_1: ┤1                                        ├\n",
       "     │                                         │\n",
       "q_2: ┤2 ZZFeatureMap(x[0],x[1],x[2],x[3],x[4]) ├\n",
       "     │                                         │\n",
       "q_3: ┤3                                        ├\n",
       "     │                                         │\n",
       "q_4: ┤4                                        ├\n",
       "     └─────────────────────────────────────────┘</pre>"
      ],
      "text/plain": [
       "     ┌─────────────────────────────────────────┐\n",
       "q_0: ┤0                                        ├\n",
       "     │                                         │\n",
       "q_1: ┤1                                        ├\n",
       "     │                                         │\n",
       "q_2: ┤2 ZZFeatureMap(x[0],x[1],x[2],x[3],x[4]) ├\n",
       "     │                                         │\n",
       "q_3: ┤3                                        ├\n",
       "     │                                         │\n",
       "q_4: ┤4                                        ├\n",
       "     └─────────────────────────────────────────┘"
      ]
     },
     "execution_count": 69,
     "metadata": {},
     "output_type": "execute_result"
    }
   ],
   "source": [
    "print(zzfeat_map)\n",
    "zzfeat_map.draw()"
   ]
  },
  {
   "cell_type": "code",
   "execution_count": 70,
   "metadata": {
    "colab": {
     "base_uri": "https://localhost:8080/",
     "height": 378
    },
    "id": "MTnBET8SvF4K",
    "outputId": "0e548c66-8206-4916-e9a9-55d98867618d"
   },
   "outputs": [
    {
     "name": "stdout",
     "output_type": "stream",
     "text": [
      "     ┌───┐┌──────────────┐┌───┐┌──────────────┐┌───┐┌──────────────┐\n",
      "q_0: ┤ H ├┤ U1(2.0*x[0]) ├┤ H ├┤ U1(2.0*x[0]) ├┤ H ├┤ U1(2.0*x[0]) ├\n",
      "     ├───┤├──────────────┤├───┤├──────────────┤├───┤├──────────────┤\n",
      "q_1: ┤ H ├┤ U1(2.0*x[1]) ├┤ H ├┤ U1(2.0*x[1]) ├┤ H ├┤ U1(2.0*x[1]) ├\n",
      "     ├───┤├──────────────┤├───┤├──────────────┤├───┤├──────────────┤\n",
      "q_2: ┤ H ├┤ U1(2.0*x[2]) ├┤ H ├┤ U1(2.0*x[2]) ├┤ H ├┤ U1(2.0*x[2]) ├\n",
      "     ├───┤├──────────────┤├───┤├──────────────┤├───┤├──────────────┤\n",
      "q_3: ┤ H ├┤ U1(2.0*x[3]) ├┤ H ├┤ U1(2.0*x[3]) ├┤ H ├┤ U1(2.0*x[3]) ├\n",
      "     ├───┤├──────────────┤├───┤├──────────────┤├───┤├──────────────┤\n",
      "q_4: ┤ H ├┤ U1(2.0*x[4]) ├┤ H ├┤ U1(2.0*x[4]) ├┤ H ├┤ U1(2.0*x[4]) ├\n",
      "     └───┘└──────────────┘└───┘└──────────────┘└───┘└──────────────┘\n"
     ]
    },
    {
     "data": {
      "text/html": [
       "<pre style=\"word-wrap: normal;white-space: pre;background: #fff0;line-height: 1.1;font-family: &quot;Courier New&quot;,Courier,monospace\">     ┌────────────────────────────────────────┐\n",
       "q_0: ┤0                                       ├\n",
       "     │                                        │\n",
       "q_1: ┤1                                       ├\n",
       "     │                                        │\n",
       "q_2: ┤2 ZFeatureMap(x[0],x[1],x[2],x[3],x[4]) ├\n",
       "     │                                        │\n",
       "q_3: ┤3                                       ├\n",
       "     │                                        │\n",
       "q_4: ┤4                                       ├\n",
       "     └────────────────────────────────────────┘</pre>"
      ],
      "text/plain": [
       "     ┌────────────────────────────────────────┐\n",
       "q_0: ┤0                                       ├\n",
       "     │                                        │\n",
       "q_1: ┤1                                       ├\n",
       "     │                                        │\n",
       "q_2: ┤2 ZFeatureMap(x[0],x[1],x[2],x[3],x[4]) ├\n",
       "     │                                        │\n",
       "q_3: ┤3                                       ├\n",
       "     │                                        │\n",
       "q_4: ┤4                                       ├\n",
       "     └────────────────────────────────────────┘"
      ]
     },
     "execution_count": 70,
     "metadata": {},
     "output_type": "execute_result"
    }
   ],
   "source": [
    "print(zfeat_map)\n",
    "zfeat_map.draw()"
   ]
  },
  {
   "cell_type": "code",
   "execution_count": 71,
   "metadata": {
    "colab": {
     "base_uri": "https://localhost:8080/",
     "height": 1000
    },
    "id": "KcWdvgTYvG7U",
    "outputId": "c8af774a-d347-43b2-ea2a-9f01c37a34cc"
   },
   "outputs": [
    {
     "name": "stdout",
     "output_type": "stream",
     "text": [
      "     ┌───┐┌───┐┌──────────────┐┌───┐┌─────────┐┌──────────────┐┌──────────┐»\n",
      "q_0: ┤ H ├┤ H ├┤ U1(2.0*x[0]) ├┤ H ├┤ Rx(π/2) ├┤ U1(2.0*x[0]) ├┤ Rx(-π/2) ├»\n",
      "     ├───┤├───┤├──────────────┤├───┤├─────────┤├──────────────┤├──────────┤»\n",
      "q_1: ┤ H ├┤ H ├┤ U1(2.0*x[1]) ├┤ H ├┤ Rx(π/2) ├┤ U1(2.0*x[1]) ├┤ Rx(-π/2) ├»\n",
      "     ├───┤├───┤├──────────────┤├───┤├─────────┤├──────────────┤├──────────┤»\n",
      "q_2: ┤ H ├┤ H ├┤ U1(2.0*x[2]) ├┤ H ├┤ Rx(π/2) ├┤ U1(2.0*x[2]) ├┤ Rx(-π/2) ├»\n",
      "     ├───┤├───┤├──────────────┤├───┤├─────────┤├──────────────┤├──────────┤»\n",
      "q_3: ┤ H ├┤ H ├┤ U1(2.0*x[3]) ├┤ H ├┤ Rx(π/2) ├┤ U1(2.0*x[3]) ├┤ Rx(-π/2) ├»\n",
      "     ├───┤├───┤├──────────────┤├───┤├─────────┤├──────────────┤├──────────┤»\n",
      "q_4: ┤ H ├┤ H ├┤ U1(2.0*x[4]) ├┤ H ├┤ Rx(π/2) ├┤ U1(2.0*x[4]) ├┤ Rx(-π/2) ├»\n",
      "     └───┘└───┘└──────────────┘└───┘└─────────┘└──────────────┘└──────────┘»\n",
      "«                                                     »\n",
      "«q_0: ──■─────────────────────────────────────■────■──»\n",
      "«     ┌─┴─┐┌───────────────────────────────┐┌─┴─┐  │  »\n",
      "«q_1: ┤ X ├┤ U1(2.0*(π - x[0])*(π - x[1])) ├┤ X ├──┼──»\n",
      "«     └───┘└───────────────────────────────┘└───┘┌─┴─┐»\n",
      "«q_2: ───────────────────────────────────────────┤ X ├»\n",
      "«                                                └───┘»\n",
      "«q_3: ────────────────────────────────────────────────»\n",
      "«                                                     »\n",
      "«q_4: ────────────────────────────────────────────────»\n",
      "«                                                     »\n",
      "«                                                     »\n",
      "«q_0: ───────────────────────────────────■─────────■──»\n",
      "«                                        │         │  »\n",
      "«q_1: ───────────────────────────────────┼────■────┼──»\n",
      "«     ┌───────────────────────────────┐┌─┴─┐┌─┴─┐  │  »\n",
      "«q_2: ┤ U1(2.0*(π - x[0])*(π - x[2])) ├┤ X ├┤ X ├──┼──»\n",
      "«     └───────────────────────────────┘└───┘└───┘┌─┴─┐»\n",
      "«q_3: ───────────────────────────────────────────┤ X ├»\n",
      "«                                                └───┘»\n",
      "«q_4: ────────────────────────────────────────────────»\n",
      "«                                                     »\n",
      "«                                                          »\n",
      "«q_0: ────────────────────────────────────────■─────────■──»\n",
      "«                                             │         │  »\n",
      "«q_1: ───────────────────────────────────■────┼────■────┼──»\n",
      "«     ┌───────────────────────────────┐┌─┴─┐  │    │    │  »\n",
      "«q_2: ┤ U1(2.0*(π - x[1])*(π - x[2])) ├┤ X ├──┼────┼────┼──»\n",
      "«     ├───────────────────────────────┤└───┘┌─┴─┐┌─┴─┐  │  »\n",
      "«q_3: ┤ U1(2.0*(π - x[0])*(π - x[3])) ├─────┤ X ├┤ X ├──┼──»\n",
      "«     └───────────────────────────────┘     └───┘└───┘┌─┴─┐»\n",
      "«q_4: ────────────────────────────────────────────────┤ X ├»\n",
      "«                                                     └───┘»\n",
      "«                                                ┌───┐┌───┐»\n",
      "«q_0: ────────────────────────────────────────■──┤ H ├┤ H ├»\n",
      "«                                             │  └───┘└───┘»\n",
      "«q_1: ───────────────────────────────────■────┼─────────■──»\n",
      "«                                        │    │         │  »\n",
      "«q_2: ───────────────────────────────────┼────┼────■────┼──»\n",
      "«     ┌───────────────────────────────┐┌─┴─┐  │  ┌─┴─┐  │  »\n",
      "«q_3: ┤ U1(2.0*(π - x[1])*(π - x[3])) ├┤ X ├──┼──┤ X ├──┼──»\n",
      "«     ├───────────────────────────────┤└───┘┌─┴─┐└───┘┌─┴─┐»\n",
      "«q_4: ┤ U1(2.0*(π - x[0])*(π - x[4])) ├─────┤ X ├─────┤ X ├»\n",
      "«     └───────────────────────────────┘     └───┘     └───┘»\n",
      "«              ┌──────────────┐        ┌───┐┌─────────┐┌──────────────┐»\n",
      "«q_0: ─────────┤ U1(2.0*x[0]) ├────────┤ H ├┤ Rx(π/2) ├┤ U1(2.0*x[0]) ├»\n",
      "«              └──────────────┘        └───┘└─────────┘└────┬───┬─────┘»\n",
      "«q_1: ───────────────────────────────────────────■──────────┤ H ├──────»\n",
      "«                                                │          └───┘      »\n",
      "«q_2: ───────────────────────────────────■───────┼────────────■────────»\n",
      "«     ┌───────────────────────────────┐┌─┴─┐     │            │        »\n",
      "«q_3: ┤ U1(2.0*(π - x[2])*(π - x[3])) ├┤ X ├─────┼────────────┼────────»\n",
      "«     ├───────────────────────────────┤└───┘   ┌─┴─┐        ┌─┴─┐      »\n",
      "«q_4: ┤ U1(2.0*(π - x[1])*(π - x[4])) ├────────┤ X ├────────┤ X ├──────»\n",
      "«     └───────────────────────────────┘        └───┘        └───┘      »\n",
      "«                ┌──────────┐                               »\n",
      "«q_0: ───────────┤ Rx(-π/2) ├───────────────────────────────»\n",
      "«                └──┬───┬───┘          ┌──────────────┐┌───┐»\n",
      "«q_1: ──────────────┤ H ├──────────────┤ U1(2.0*x[1]) ├┤ H ├»\n",
      "«                   └───┘              └──────────────┘├───┤»\n",
      "«q_2: ────────────────────────────────────────■────────┤ H ├»\n",
      "«                                             │        └───┘»\n",
      "«q_3: ────────────────────────────────────────┼──────────■──»\n",
      "«     ┌───────────────────────────────┐     ┌─┴─┐      ┌─┴─┐»\n",
      "«q_4: ┤ U1(2.0*(π - x[2])*(π - x[4])) ├─────┤ X ├──────┤ X ├»\n",
      "«     └───────────────────────────────┘     └───┘      └───┘»\n",
      "«                                                                             »\n",
      "«q_0: ──────────────────────────────────────────────────────────────────■─────»\n",
      "«                ┌─────────┐           ┌──────────────┐┌──────────┐   ┌─┴─┐   »\n",
      "«q_1: ───────────┤ Rx(π/2) ├───────────┤ U1(2.0*x[1]) ├┤ Rx(-π/2) ├───┤ X ├───»\n",
      "«                └──┬───┬──┘           ├──────────────┤└──┬───┬───┘┌──┴───┴──┐»\n",
      "«q_2: ──────────────┤ H ├──────────────┤ U1(2.0*x[2]) ├───┤ H ├────┤ Rx(π/2) ├»\n",
      "«                   └───┘              └──────────────┘   ├───┤    └──┬───┬──┘»\n",
      "«q_3: ────────────────────────────────────────■───────────┤ H ├───────┤ H ├───»\n",
      "«     ┌───────────────────────────────┐     ┌─┴─┐         ├───┤       ├───┤   »\n",
      "«q_4: ┤ U1(2.0*(π - x[3])*(π - x[4])) ├─────┤ X ├─────────┤ H ├───────┤ H ├───»\n",
      "«     └───────────────────────────────┘     └───┘         └───┘       └───┘   »\n",
      "«                                                             »\n",
      "«q_0: ──────────────────────────────────────■───────────■─────»\n",
      "«     ┌───────────────────────────────┐   ┌─┴─┐         │     »\n",
      "«q_1: ┤ U1(2.0*(π - x[0])*(π - x[1])) ├───┤ X ├─────────┼─────»\n",
      "«     └────────┬──────────────┬───────┘┌──┴───┴───┐   ┌─┴─┐   »\n",
      "«q_2: ─────────┤ U1(2.0*x[2]) ├────────┤ Rx(-π/2) ├───┤ X ├───»\n",
      "«              ├──────────────┤        └──┬───┬───┘┌──┴───┴──┐»\n",
      "«q_3: ─────────┤ U1(2.0*x[3]) ├───────────┤ H ├────┤ Rx(π/2) ├»\n",
      "«              ├──────────────┤           ├───┤    ├─────────┤»\n",
      "«q_4: ─────────┤ U1(2.0*x[4]) ├───────────┤ H ├────┤ Rx(π/2) ├»\n",
      "«              └──────────────┘           └───┘    └─────────┘»\n",
      "«                                                            »\n",
      "«q_0: ──────────────────────────────────────■─────────────■──»\n",
      "«                                           │             │  »\n",
      "«q_1: ──────────────────────────────────────┼────────■────┼──»\n",
      "«     ┌───────────────────────────────┐   ┌─┴─┐    ┌─┴─┐  │  »\n",
      "«q_2: ┤ U1(2.0*(π - x[0])*(π - x[2])) ├───┤ X ├────┤ X ├──┼──»\n",
      "«     └────────┬──────────────┬───────┘┌──┴───┴───┐└───┘┌─┴─┐»\n",
      "«q_3: ─────────┤ U1(2.0*x[3]) ├────────┤ Rx(-π/2) ├─────┤ X ├»\n",
      "«              ├──────────────┤        ├──────────┤     └───┘»\n",
      "«q_4: ─────────┤ U1(2.0*x[4]) ├────────┤ Rx(-π/2) ├──────────»\n",
      "«              └──────────────┘        └──────────┘          »\n",
      "«                                                          »\n",
      "«q_0: ────────────────────────────────────────■─────────■──»\n",
      "«                                             │         │  »\n",
      "«q_1: ───────────────────────────────────■────┼────■────┼──»\n",
      "«     ┌───────────────────────────────┐┌─┴─┐  │    │    │  »\n",
      "«q_2: ┤ U1(2.0*(π - x[1])*(π - x[2])) ├┤ X ├──┼────┼────┼──»\n",
      "«     ├───────────────────────────────┤└───┘┌─┴─┐┌─┴─┐  │  »\n",
      "«q_3: ┤ U1(2.0*(π - x[0])*(π - x[3])) ├─────┤ X ├┤ X ├──┼──»\n",
      "«     └───────────────────────────────┘     └───┘└───┘┌─┴─┐»\n",
      "«q_4: ────────────────────────────────────────────────┤ X ├»\n",
      "«                                                     └───┘»\n",
      "«                                                ┌───┐┌───┐»\n",
      "«q_0: ────────────────────────────────────────■──┤ H ├┤ H ├»\n",
      "«                                             │  └───┘└───┘»\n",
      "«q_1: ───────────────────────────────────■────┼─────────■──»\n",
      "«                                        │    │         │  »\n",
      "«q_2: ───────────────────────────────────┼────┼────■────┼──»\n",
      "«     ┌───────────────────────────────┐┌─┴─┐  │  ┌─┴─┐  │  »\n",
      "«q_3: ┤ U1(2.0*(π - x[1])*(π - x[3])) ├┤ X ├──┼──┤ X ├──┼──»\n",
      "«     ├───────────────────────────────┤└───┘┌─┴─┐└───┘┌─┴─┐»\n",
      "«q_4: ┤ U1(2.0*(π - x[0])*(π - x[4])) ├─────┤ X ├─────┤ X ├»\n",
      "«     └───────────────────────────────┘     └───┘     └───┘»\n",
      "«              ┌──────────────┐        ┌───┐┌─────────┐┌──────────────┐»\n",
      "«q_0: ─────────┤ U1(2.0*x[0]) ├────────┤ H ├┤ Rx(π/2) ├┤ U1(2.0*x[0]) ├»\n",
      "«              └──────────────┘        └───┘└─────────┘└────┬───┬─────┘»\n",
      "«q_1: ───────────────────────────────────────────■──────────┤ H ├──────»\n",
      "«                                                │          └───┘      »\n",
      "«q_2: ───────────────────────────────────■───────┼────────────■────────»\n",
      "«     ┌───────────────────────────────┐┌─┴─┐     │            │        »\n",
      "«q_3: ┤ U1(2.0*(π - x[2])*(π - x[3])) ├┤ X ├─────┼────────────┼────────»\n",
      "«     ├───────────────────────────────┤└───┘   ┌─┴─┐        ┌─┴─┐      »\n",
      "«q_4: ┤ U1(2.0*(π - x[1])*(π - x[4])) ├────────┤ X ├────────┤ X ├──────»\n",
      "«     └───────────────────────────────┘        └───┘        └───┘      »\n",
      "«                ┌──────────┐                               »\n",
      "«q_0: ───────────┤ Rx(-π/2) ├───────────────────────────────»\n",
      "«                └──┬───┬───┘          ┌──────────────┐┌───┐»\n",
      "«q_1: ──────────────┤ H ├──────────────┤ U1(2.0*x[1]) ├┤ H ├»\n",
      "«                   └───┘              └──────────────┘├───┤»\n",
      "«q_2: ────────────────────────────────────────■────────┤ H ├»\n",
      "«                                             │        └───┘»\n",
      "«q_3: ────────────────────────────────────────┼──────────■──»\n",
      "«     ┌───────────────────────────────┐     ┌─┴─┐      ┌─┴─┐»\n",
      "«q_4: ┤ U1(2.0*(π - x[2])*(π - x[4])) ├─────┤ X ├──────┤ X ├»\n",
      "«     └───────────────────────────────┘     └───┘      └───┘»\n",
      "«                                                                             »\n",
      "«q_0: ──────────────────────────────────────────────────────────────────■─────»\n",
      "«                ┌─────────┐           ┌──────────────┐┌──────────┐   ┌─┴─┐   »\n",
      "«q_1: ───────────┤ Rx(π/2) ├───────────┤ U1(2.0*x[1]) ├┤ Rx(-π/2) ├───┤ X ├───»\n",
      "«                └──┬───┬──┘           ├──────────────┤└──┬───┬───┘┌──┴───┴──┐»\n",
      "«q_2: ──────────────┤ H ├──────────────┤ U1(2.0*x[2]) ├───┤ H ├────┤ Rx(π/2) ├»\n",
      "«                   └───┘              └──────────────┘   ├───┤    └──┬───┬──┘»\n",
      "«q_3: ────────────────────────────────────────■───────────┤ H ├───────┤ H ├───»\n",
      "«     ┌───────────────────────────────┐     ┌─┴─┐         ├───┤       ├───┤   »\n",
      "«q_4: ┤ U1(2.0*(π - x[3])*(π - x[4])) ├─────┤ X ├─────────┤ H ├───────┤ H ├───»\n",
      "«     └───────────────────────────────┘     └───┘         └───┘       └───┘   »\n",
      "«                                                             »\n",
      "«q_0: ──────────────────────────────────────■───────────■─────»\n",
      "«     ┌───────────────────────────────┐   ┌─┴─┐         │     »\n",
      "«q_1: ┤ U1(2.0*(π - x[0])*(π - x[1])) ├───┤ X ├─────────┼─────»\n",
      "«     └────────┬──────────────┬───────┘┌──┴───┴───┐   ┌─┴─┐   »\n",
      "«q_2: ─────────┤ U1(2.0*x[2]) ├────────┤ Rx(-π/2) ├───┤ X ├───»\n",
      "«              ├──────────────┤        └──┬───┬───┘┌──┴───┴──┐»\n",
      "«q_3: ─────────┤ U1(2.0*x[3]) ├───────────┤ H ├────┤ Rx(π/2) ├»\n",
      "«              ├──────────────┤           ├───┤    ├─────────┤»\n",
      "«q_4: ─────────┤ U1(2.0*x[4]) ├───────────┤ H ├────┤ Rx(π/2) ├»\n",
      "«              └──────────────┘           └───┘    └─────────┘»\n",
      "«                                                            »\n",
      "«q_0: ──────────────────────────────────────■─────────────■──»\n",
      "«                                           │             │  »\n",
      "«q_1: ──────────────────────────────────────┼────────■────┼──»\n",
      "«     ┌───────────────────────────────┐   ┌─┴─┐    ┌─┴─┐  │  »\n",
      "«q_2: ┤ U1(2.0*(π - x[0])*(π - x[2])) ├───┤ X ├────┤ X ├──┼──»\n",
      "«     └────────┬──────────────┬───────┘┌──┴───┴───┐└───┘┌─┴─┐»\n",
      "«q_3: ─────────┤ U1(2.0*x[3]) ├────────┤ Rx(-π/2) ├─────┤ X ├»\n",
      "«              ├──────────────┤        ├──────────┤     └───┘»\n",
      "«q_4: ─────────┤ U1(2.0*x[4]) ├────────┤ Rx(-π/2) ├──────────»\n",
      "«              └──────────────┘        └──────────┘          »\n",
      "«                                                          »\n",
      "«q_0: ────────────────────────────────────────■─────────■──»\n",
      "«                                             │         │  »\n",
      "«q_1: ───────────────────────────────────■────┼────■────┼──»\n",
      "«     ┌───────────────────────────────┐┌─┴─┐  │    │    │  »\n",
      "«q_2: ┤ U1(2.0*(π - x[1])*(π - x[2])) ├┤ X ├──┼────┼────┼──»\n",
      "«     ├───────────────────────────────┤└───┘┌─┴─┐┌─┴─┐  │  »\n",
      "«q_3: ┤ U1(2.0*(π - x[0])*(π - x[3])) ├─────┤ X ├┤ X ├──┼──»\n",
      "«     └───────────────────────────────┘     └───┘└───┘┌─┴─┐»\n",
      "«q_4: ────────────────────────────────────────────────┤ X ├»\n",
      "«                                                     └───┘»\n",
      "«                                                          »\n",
      "«q_0: ────────────────────────────────────────■────────────»\n",
      "«                                             │            »\n",
      "«q_1: ───────────────────────────────────■────┼─────────■──»\n",
      "«                                        │    │         │  »\n",
      "«q_2: ───────────────────────────────────┼────┼────■────┼──»\n",
      "«     ┌───────────────────────────────┐┌─┴─┐  │  ┌─┴─┐  │  »\n",
      "«q_3: ┤ U1(2.0*(π - x[1])*(π - x[3])) ├┤ X ├──┼──┤ X ├──┼──»\n",
      "«     ├───────────────────────────────┤└───┘┌─┴─┐└───┘┌─┴─┐»\n",
      "«q_4: ┤ U1(2.0*(π - x[0])*(π - x[4])) ├─────┤ X ├─────┤ X ├»\n",
      "«     └───────────────────────────────┘     └───┘     └───┘»\n",
      "«                                                     »\n",
      "«q_0: ────────────────────────────────────────────────»\n",
      "«                                                     »\n",
      "«q_1: ────────────────────────────────────────■───────»\n",
      "«                                             │       »\n",
      "«q_2: ───────────────────────────────────■────┼────■──»\n",
      "«     ┌───────────────────────────────┐┌─┴─┐  │    │  »\n",
      "«q_3: ┤ U1(2.0*(π - x[2])*(π - x[3])) ├┤ X ├──┼────┼──»\n",
      "«     ├───────────────────────────────┤└───┘┌─┴─┐┌─┴─┐»\n",
      "«q_4: ┤ U1(2.0*(π - x[1])*(π - x[4])) ├─────┤ X ├┤ X ├»\n",
      "«     └───────────────────────────────┘     └───┘└───┘»\n",
      "«                                                »\n",
      "«q_0: ───────────────────────────────────────────»\n",
      "«                                                »\n",
      "«q_1: ───────────────────────────────────────────»\n",
      "«                                                »\n",
      "«q_2: ───────────────────────────────────■───────»\n",
      "«                                        │       »\n",
      "«q_3: ───────────────────────────────────┼────■──»\n",
      "«     ┌───────────────────────────────┐┌─┴─┐┌─┴─┐»\n",
      "«q_4: ┤ U1(2.0*(π - x[2])*(π - x[4])) ├┤ X ├┤ X ├»\n",
      "«     └───────────────────────────────┘└───┘└───┘»\n",
      "«                                           \n",
      "«q_0: ──────────────────────────────────────\n",
      "«                                           \n",
      "«q_1: ──────────────────────────────────────\n",
      "«                                           \n",
      "«q_2: ──────────────────────────────────────\n",
      "«                                           \n",
      "«q_3: ───────────────────────────────────■──\n",
      "«     ┌───────────────────────────────┐┌─┴─┐\n",
      "«q_4: ┤ U1(2.0*(π - x[3])*(π - x[4])) ├┤ X ├\n",
      "«     └───────────────────────────────┘└───┘\n"
     ]
    },
    {
     "data": {
      "text/html": [
       "<pre style=\"word-wrap: normal;white-space: pre;background: #fff0;line-height: 1.1;font-family: &quot;Courier New&quot;,Courier,monospace\">     ┌────────────────────────────────────────────┐\n",
       "q_0: ┤0                                           ├\n",
       "     │                                            │\n",
       "q_1: ┤1                                           ├\n",
       "     │                                            │\n",
       "q_2: ┤2 PauliFeatureMap(x[0],x[1],x[2],x[3],x[4]) ├\n",
       "     │                                            │\n",
       "q_3: ┤3                                           ├\n",
       "     │                                            │\n",
       "q_4: ┤4                                           ├\n",
       "     └────────────────────────────────────────────┘</pre>"
      ],
      "text/plain": [
       "     ┌────────────────────────────────────────────┐\n",
       "q_0: ┤0                                           ├\n",
       "     │                                            │\n",
       "q_1: ┤1                                           ├\n",
       "     │                                            │\n",
       "q_2: ┤2 PauliFeatureMap(x[0],x[1],x[2],x[3],x[4]) ├\n",
       "     │                                            │\n",
       "q_3: ┤3                                           ├\n",
       "     │                                            │\n",
       "q_4: ┤4                                           ├\n",
       "     └────────────────────────────────────────────┘"
      ]
     },
     "execution_count": 71,
     "metadata": {},
     "output_type": "execute_result"
    }
   ],
   "source": [
    "print(pauli_map)\n",
    "pauli_map.draw()"
   ]
  }
 ],
 "metadata": {
  "colab": {
   "collapsed_sections": [],
   "name": "MNIST_Quanutm_Binary_Classification.ipynb",
   "provenance": []
  },
  "kernelspec": {
   "display_name": "Python 3 (ipykernel)",
   "language": "python",
   "name": "python3"
  },
  "language_info": {
   "codemirror_mode": {
    "name": "ipython",
    "version": 3
   },
   "file_extension": ".py",
   "mimetype": "text/x-python",
   "name": "python",
   "nbconvert_exporter": "python",
   "pygments_lexer": "ipython3",
   "version": "3.9.7"
  }
 },
 "nbformat": 4,
 "nbformat_minor": 1
}
