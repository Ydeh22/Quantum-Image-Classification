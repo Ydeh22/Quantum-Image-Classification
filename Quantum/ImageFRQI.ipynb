{
 "cells": [
  {
   "cell_type": "code",
   "execution_count": 1,
   "id": "dbfcf260-5469-4808-96b3-12c0136af222",
   "metadata": {},
   "outputs": [
    {
     "name": "stdout",
     "output_type": "stream",
     "text": [
      "Requirement already satisfied: Pillow in /opt/conda/lib/python3.8/site-packages (8.4.0)\n"
     ]
    }
   ],
   "source": [
    "!pip install Pillow"
   ]
  },
  {
   "cell_type": "code",
   "execution_count": 22,
   "id": "b529bf58-6e50-48ea-bb00-7579d08d6b35",
   "metadata": {},
   "outputs": [],
   "source": [
    "import qiskit as qk\n",
    "from qiskit import QuantumCircuit, Aer, IBMQ\n",
    "from qiskit import transpile, assemble, execute\n",
    "from qiskit.tools.jupyter import *\n",
    "from qiskit.visualization import plot_histogram\n",
    "from math import pi\n",
    "from PIL import Image, ImageOps\n",
    "from resizeimage import resizeimage\n",
    "import numpy as np\n",
    "import matplotlib.pyplot as plt"
   ]
  },
  {
   "cell_type": "code",
   "execution_count": 3,
   "id": "a2daa892-4631-40ba-8e23-76ecd6a54a34",
   "metadata": {},
   "outputs": [],
   "source": [
    "sys.path.append('..')\n",
    "sys.path.append('data1')"
   ]
  },
  {
   "cell_type": "code",
   "execution_count": 90,
   "id": "bdd79651-59c6-411f-84c0-21f6226d69f5",
   "metadata": {},
   "outputs": [],
   "source": [
    "def QuantumCircuittest():\n",
    "    \n",
    "    theta = pi/4 # all pixels black\n",
    "    qc = QuantumCircuit(3)\n",
    "\n",
    "\n",
    "    qc.h(0)\n",
    "    qc.h(1)\n",
    "\n",
    "    qc.barrier()\n",
    "#Pixel 1\n",
    "\n",
    "    qc.cry(theta,0,2)\n",
    "    qc.cx(0,1)\n",
    "    qc.cry(-theta,1,2)\n",
    "    qc.cx(0,1)\n",
    "    qc.cry(theta,1,2)\n",
    "\n",
    "    qc.barrier()\n",
    "#Pixel 2\n",
    "\n",
    "    qc.x(1)\n",
    "    qc.cry(theta,0,2)\n",
    "    qc.cx(0,1)\n",
    "    qc.cry(-theta,1,2)\n",
    "    qc.cx(0,1)\n",
    "    qc.cry(theta,1,2)\n",
    "\n",
    "    qc.barrier()\n",
    "\n",
    "    qc.x(1)\n",
    "    qc.x(0)\n",
    "    qc.cry(theta,0,2)\n",
    "    qc.cx(0,1)\n",
    "    qc.cry(-theta,1,2)\n",
    "    qc.cx(0,1)\n",
    "    qc.cry(theta,1,2)\n",
    "\n",
    "\n",
    "    qc.barrier()\n",
    "\n",
    "    qc.x(1)\n",
    "\n",
    "    qc.cry(theta,0,2)\n",
    "    qc.cx(0,1)\n",
    "    qc.cry(-theta,1,2)\n",
    "    qc.cx(0,1)\n",
    "    qc.cry(theta,1,2)"
   ]
  },
  {
   "cell_type": "code",
   "execution_count": 91,
   "id": "ec96d68f-8c3a-4e56-a43b-9ce201961aa4",
   "metadata": {},
   "outputs": [],
   "source": [
    "def large_image_normalization(images,w,h):\n",
    "    image=np.array([])\n",
    "   \n",
    "    for y in range(h-2,h):\n",
    "         for x in range(w-2,w):\n",
    "            image=np.append(image,images.getpixel((x,y))[0])\n",
    "    genimg = image.reshape((2,2))\n",
    "    image = image.flatten()\n",
    "    # change type\n",
    "    image = image.astype('float64')\n",
    "    # Normalization(0~pi/2)\n",
    "    image /= 255.0\n",
    "    generated_image=image\n",
    "    # generated_image = np.arcsin(image)\n",
    "    print(generated_image)\n",
    "    image=images\n",
    "    return generated_image"
   ]
  },
  {
   "cell_type": "code",
   "execution_count": 92,
   "id": "0daeed76-8909-4154-bdb1-df7d6fee8ac6",
   "metadata": {},
   "outputs": [],
   "source": [
    "def twopixel():\n",
    "    return Image.open(\"data1/Apple_320.png\").convert('LA')"
   ]
  },
  {
   "cell_type": "code",
   "execution_count": 95,
   "id": "ef6dbec4-4250-4e2e-845b-4ad8d00542f9",
   "metadata": {},
   "outputs": [
    {
     "name": "stdout",
     "output_type": "stream",
     "text": [
      "[1. 1. 1. 1.]\n",
      "Traceback \u001b[1;36m(most recent call last)\u001b[0m:\n",
      "\u001b[1;36m  File \u001b[1;32m\"/tmp/ipykernel_438/3550807278.py\"\u001b[1;36m, line \u001b[1;32m12\u001b[1;36m, in \u001b[1;35m<module>\u001b[1;36m\u001b[0m\n",
      "\u001b[1;33m    print(qc.depth())\u001b[0m\n",
      "\u001b[1;31mAttributeError\u001b[0m\u001b[1;31m:\u001b[0m 'NoneType' object has no attribute 'depth'\n",
      "\n",
      "Use %tb to get the full traceback.\n"
     ]
    },
    {
     "data": {
      "text/html": [
       "\n",
       "<style>\n",
       ".button {\n",
       "  border: none;\n",
       "  color: white;\n",
       "  padding: 4px 8px;\n",
       "  text-align: center;\n",
       "  text-decoration: none;\n",
       "  display: inline-block;\n",
       "  font-size: 12px;\n",
       "  margin: 4px 2px;\n",
       "  transition-duration: 0.2s;\n",
       "  cursor: pointer;\n",
       "}\n",
       ".iqx-button {\n",
       "  background-color: #0f62fe; \n",
       "  color: white; \n",
       "}\n",
       ".iqx-button:hover {\n",
       "  background-color: #0043ce;\n",
       "  color: white;\n",
       "}\n",
       "</style>\n",
       "<a href=\"https://stackoverflow.com/search?q=AttributeError: 'NoneType' object has no attribute 'depth'\" target='_blank'><button class='button iqx-button'>Search for solution online</button></a>\n"
      ],
      "text/plain": [
       "<IPython.core.display.HTML object>"
      ]
     },
     "metadata": {},
     "output_type": "display_data"
    }
   ],
   "source": [
    "images = twopixel()\n",
    "for k in range(160):\n",
    "    for j in range(160):\n",
    "        normalized_image=large_image_normalization(images,2+(2*k),2+(2*j))\n",
    "        genimg= np.array([])\n",
    "        #anc = QuantumRegister(1, \"anc\")\n",
    "        img = QuantumRegister(2, \"img\")\n",
    "        anc2 = QuantumRegister(1, \"anc2\")\n",
    "        c = ClassicalRegister(3)\n",
    "        qc = QuantumCircuittest()\n",
    "\n",
    "    #    for i in range(len(normalized_image)):\n",
    "    #            if normalized_image[i] != 0:\n",
    "   #                     c10mary(qc, 2 * normalized_image[i], format(i, '010b'), img[0], anc2[0], [img[j] for j in range(1,len(img))])\n",
    "        #qc.measure_all()\n",
    "        print(qc.depth())\n",
    "        numOfShots = 1000000\n",
    "        result = execute(qc, Aer.get_backend('qasm_simulator'), shots=numOfShots).result()\n",
    "        for i in range(len(normalized_image)):\n",
    "                try:\n",
    "                        genimg = np.append(genimg,[np.sqrt(result.get_counts(qc)[format(i, '010b')+'10']/numOfShots)])\n",
    "                except KeyError:\n",
    "                        genimg = np.append(genimg,[0.0])\n",
    "\n",
    "        genimg *= 32.0 * 255.0 \n",
    "        genimg = genimg.astype('uint8')\n",
    "        genimg = genimg.reshape((32,32))\n",
    "        im=Image.fromarray(genimg)\n",
    "\n",
    "        new_im.paste(im,(32*k,32*j))\n",
    "        \n",
    "new_im.show()\n",
    "new_im.save('MyResult_320.png') "
   ]
  },
  {
   "cell_type": "code",
   "execution_count": 87,
   "id": "7688ce7d-1535-4868-92b7-3ddb0487b3d9",
   "metadata": {},
   "outputs": [
    {
     "data": {
      "image/png": "[encoded data removed]",
      "text/plain": [
       "<Figure size 432x288 with 1 Axes>"
      ]
     },
     "metadata": {
      "needs_background": "light"
     },
     "output_type": "display_data"
    },
    {
     "name": "stdout",
     "output_type": "stream",
     "text": [
      "Result(backend_name='qasm_simulator', backend_version='0.9.1', qobj_id='25ed5523-7b99-4d24-914d-e5ff61c156be', job_id='7b538c12-6b3a-47b4-8602-dc699c09e91e', success=True, results=[ExperimentResult(shots=1000000, success=True, meas_level=2, data=ExperimentResultData(counts={'0xdb6db6db6db': 124636, '0x49249249249': 124921, '0x1b6db6db6db6': 124680, '0x1fffffffffff': 124626, '0x0': 125177, '0x16db6db6db6d': 125520, '0x124924924924': 124967, '0x92492492492': 125473}), header=QobjExperimentHeader(clbit_labels=[['meas', 0], ['meas', 1], ['meas', 2], ['meas0', 0], ['meas0', 1], ['meas0', 2], ['meas1', 0], ['meas1', 1], ['meas1', 2], ['meas2', 0], ['meas2', 1], ['meas2', 2], ['meas3', 0], ['meas3', 1], ['meas3', 2], ['meas4', 0], ['meas4', 1], ['meas4', 2], ['meas5', 0], ['meas5', 1], ['meas5', 2], ['meas6', 0], ['meas6', 1], ['meas6', 2], ['meas7', 0], ['meas7', 1], ['meas7', 2], ['meas8', 0], ['meas8', 1], ['meas8', 2], ['meas9', 0], ['meas9', 1], ['meas9', 2], ['meas10', 0], ['meas10', 1], ['meas10', 2], ['meas11', 0], ['meas11', 1], ['meas11', 2], ['meas12', 0], ['meas12', 1], ['meas12', 2], ['meas13', 0], ['meas13', 1], ['meas13', 2]], creg_sizes=[['meas', 3], ['meas0', 3], ['meas1', 3], ['meas2', 3], ['meas3', 3], ['meas4', 3], ['meas5', 3], ['meas6', 3], ['meas7', 3], ['meas8', 3], ['meas9', 3], ['meas10', 3], ['meas11', 3], ['meas12', 3], ['meas13', 3]], global_phase=0.0, memory_slots=45, metadata=None, n_qubits=3, name='circuit-2', qreg_sizes=[['q', 3]], qubit_labels=[['q', 0], ['q', 1], ['q', 2]]), status=DONE, seed_simulator=3999813422, metadata={'parallel_state_update': 8, 'noise': 'ideal', 'measure_sampling': True, 'device': 'CPU', 'num_qubits': 3, 'parallel_shots': 1, 'remapped_qubits': False, 'method': 'statevector', 'active_input_qubits': [0, 1, 2], 'num_clbits': 45, 'input_qubit_map': [[2, 2], [0, 0], [1, 1]], 'fusion': {'applied': False, 'max_fused_qubits': 5, 'enabled': True, 'threshold': 14}}, time_taken=13.589572165000002)], date=2021-11-18T22:22:33.963417, status=COMPLETED, status=QobjHeader(backend_name='qasm_simulator', backend_version='0.9.1'), metadata={'time_taken': 13.591134185000001, 'parallel_experiments': 1, 'omp_enabled': True, 'max_gpu_memory_mb': 0, 'num_mpi_processes': 1, 'max_memory_mb': 32162, 'mpi_rank': 0}, time_taken=13.591796398162842)\n"
     ]
    }
   ],
   "source": [
    "images = twopixel()\n",
    "\n",
    "x_train=image_normalization(images, 2, True)\n",
    "backends = Aer.backends()\n",
    "qc.measure_all()\n",
    "        #circuit_drawer(qc,output='mpl', filename='my_circuit_rccx.png') \n",
    "numOfShots = 1000000\n",
    "result = execute(qc, Aer.get_backend('qasm_simulator'), shots=numOfShots).result()\n",
    "#qc.draw()\n",
    "print(result)\n",
    "#print(qc.depth())\n"
   ]
  },
  {
   "cell_type": "code",
   "execution_count": 75,
   "id": "662c470c-3ec5-4bcc-a58d-e94a98eeaa28",
   "metadata": {},
   "outputs": [],
   "source": [
    "# generated image\n",
    "genimg = np.array([])"
   ]
  },
  {
   "cell_type": "code",
   "execution_count": 78,
   "id": "e5f50626-33ca-4647-baa0-d2ababbd72cd",
   "metadata": {},
   "outputs": [
    {
     "name": "stdout",
     "output_type": "stream",
     "text": [
      "12\n",
      "Traceback \u001b[1;36m(most recent call last)\u001b[0m:\n",
      "  File \u001b[0;32m\"/tmp/ipykernel_438/2018381736.py\"\u001b[0m, line \u001b[0;32m27\u001b[0m, in \u001b[0;35m<module>\u001b[0m\n",
      "    plt.imshow(genimg, cmap='gray', vmin=0, vmax=4)\n",
      "  File \u001b[0;32m\"/opt/conda/lib/python3.8/site-packages/matplotlib/pyplot.py\"\u001b[0m, line \u001b[0;32m2903\u001b[0m, in \u001b[0;35mimshow\u001b[0m\n",
      "    __ret = gca().imshow(\n",
      "  File \u001b[0;32m\"/opt/conda/lib/python3.8/site-packages/matplotlib/__init__.py\"\u001b[0m, line \u001b[0;32m1361\u001b[0m, in \u001b[0;35minner\u001b[0m\n",
      "    return func(ax, *map(sanitize_sequence, args), **kwargs)\n",
      "  File \u001b[0;32m\"/opt/conda/lib/python3.8/site-packages/matplotlib/axes/_axes.py\"\u001b[0m, line \u001b[0;32m5609\u001b[0m, in \u001b[0;35mimshow\u001b[0m\n",
      "    im.set_data(X)\n",
      "\u001b[1;36m  File \u001b[1;32m\"/opt/conda/lib/python3.8/site-packages/matplotlib/image.py\"\u001b[1;36m, line \u001b[1;32m709\u001b[1;36m, in \u001b[1;35mset_data\u001b[1;36m\u001b[0m\n",
      "\u001b[1;33m    raise TypeError(\"Invalid shape {} for image data\"\u001b[0m\n",
      "\u001b[1;31mTypeError\u001b[0m\u001b[1;31m:\u001b[0m Invalid shape (12,) for image data\n",
      "\n",
      "Use %tb to get the full traceback.\n"
     ]
    },
    {
     "data": {
      "text/html": [
       "\n",
       "<style>\n",
       ".button {\n",
       "  border: none;\n",
       "  color: white;\n",
       "  padding: 4px 8px;\n",
       "  text-align: center;\n",
       "  text-decoration: none;\n",
       "  display: inline-block;\n",
       "  font-size: 12px;\n",
       "  margin: 4px 2px;\n",
       "  transition-duration: 0.2s;\n",
       "  cursor: pointer;\n",
       "}\n",
       ".iqx-button {\n",
       "  background-color: #0f62fe; \n",
       "  color: white; \n",
       "}\n",
       ".iqx-button:hover {\n",
       "  background-color: #0043ce;\n",
       "  color: white;\n",
       "}\n",
       "</style>\n",
       "<a href=\"https://stackoverflow.com/search?q=TypeError: Invalid shape (12,) for image data\" target='_blank'><button class='button iqx-button'>Search for solution online</button></a>\n"
      ],
      "text/plain": [
       "<IPython.core.display.HTML object>"
      ]
     },
     "metadata": {},
     "output_type": "display_data"
    },
    {
     "data": {
      "image/png": "[encoded data removed]",
      "text/plain": [
       "<Figure size 432x288 with 1 Axes>"
      ]
     },
     "metadata": {
      "needs_background": "light"
     },
     "output_type": "display_data"
    }
   ],
   "source": [
    "#### decode\n",
    "size = 32\n",
    "\n",
    "for i in range(len(normalized_image)):\n",
    "    try:\n",
    "        genimg = np.append(genimg,[np.sqrt(result.get_counts(qc)[format(i, '010b')+'10']/numOfShots)])\n",
    "    except KeyError:\n",
    "        genimg = np.append(genimg,[0.0])\n",
    "\n",
    "        # inverse nomalization\n",
    "#genimg *= 32.0 * 255.0\n",
    "#x_train = np.sin(x_train)\n",
    "#x_train *= 255.0\n",
    "\n",
    "print(len(genimg))\n",
    "        # inverse nomalization\n",
    "genimg *= 2 * 255.0\n",
    "x_train = np.sin(x_train)\n",
    "x_train *= 255.0\n",
    "\n",
    "# convert type\n",
    "genimg = genimg.astype('uint')\n",
    "\n",
    "# back to 2-dimentional data\n",
    "#genimg = genimg.reshape(2,2)\n",
    "#im=Image.fromarray(genimg)\n",
    "\n",
    "plt.imshow(genimg, cmap='gray', vmin=0, vmax=4)\n",
    "\n",
    "# plt.savefig('gen_'+str(img_num)+'.png')\n",
    "new_im.paste(im,(32,32))\n",
    "        \n",
    "new_im.show()\n",
    "new_im.save('Result2_320.png')  \n"
   ]
  },
  {
   "cell_type": "code",
   "execution_count": null,
   "id": "52eca29e-9737-41b5-be5e-26701bec145c",
   "metadata": {},
   "outputs": [],
   "source": []
  },
  {
   "cell_type": "code",
   "execution_count": null,
   "id": "b42153b9-c573-4182-a1f3-dcd2fbde295e",
   "metadata": {},
   "outputs": [],
   "source": []
  }
 ],
 "metadata": {
  "kernelspec": {
   "display_name": "Qiskit v0.32.0 (ipykernel)",
   "language": "python",
   "name": "python3"
  },
  "language_info": {
   "codemirror_mode": {
    "name": "ipython",
    "version": 3
   },
   "file_extension": ".py",
   "mimetype": "text/x-python",
   "name": "python",
   "nbconvert_exporter": "python",
   "pygments_lexer": "ipython3",
   "version": "3.8.10"
  },
  "widgets": {
   "application/vnd.jupyter.widget-state+json": {
    "state": {},
    "version_major": 2,
    "version_minor": 0
   }
  }
 },
 "nbformat": 4,
 "nbformat_minor": 5
}
