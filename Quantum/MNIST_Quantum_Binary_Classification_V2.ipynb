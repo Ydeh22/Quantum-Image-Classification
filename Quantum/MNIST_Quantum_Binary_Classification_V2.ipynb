{
  "nbformat": 4,
  "nbformat_minor": 0,
  "metadata": {
    "colab": {
      "name": "MNIST_Quanutm_Binary_Classification.ipynb",
      "provenance": [],
      "collapsed_sections": []
    },
    "kernelspec": {
      "name": "python3",
      "display_name": "Python 3"
    },
    "language_info": {
      "name": "python"
    }
  },
  "cells": [
    {
      "cell_type": "code",
      "metadata": {
        "colab": {
          "base_uri": "https://localhost:8080/"
        },
        "id": "8Kb8zK2O6e-Z",
        "outputId": "dc6adb19-3928-4f76-def3-d335ac2df470"
      },
      "source": [
        "!pip install qiskit\n",
        "!pip install pylatexenc"
      ],
      "execution_count": 1,
      "outputs": [
        {
          "output_type": "stream",
          "name": "stdout",
          "text": [
            "Collecting qiskit\n",
            "  Downloading qiskit-0.32.1.tar.gz (13 kB)\n",
            "Collecting qiskit-terra==0.18.3\n",
            "  Downloading qiskit_terra-0.18.3-cp37-cp37m-manylinux2010_x86_64.whl (6.1 MB)\n",
            "\u001b[K     |████████████████████████████████| 6.1 MB 4.2 MB/s \n",
            "\u001b[?25hCollecting qiskit-aer==0.9.1\n",
            "  Downloading qiskit_aer-0.9.1-cp37-cp37m-manylinux_2_12_x86_64.manylinux2010_x86_64.whl (17.9 MB)\n",
            "\u001b[K     |████████████████████████████████| 17.9 MB 515 kB/s \n",
            "\u001b[?25hCollecting qiskit-ibmq-provider==0.18.1\n",
            "  Downloading qiskit_ibmq_provider-0.18.1-py3-none-any.whl (237 kB)\n",
            "\u001b[K     |████████████████████████████████| 237 kB 58.1 MB/s \n",
            "\u001b[?25hCollecting qiskit-ignis==0.6.0\n",
            "  Downloading qiskit_ignis-0.6.0-py3-none-any.whl (207 kB)\n",
            "\u001b[K     |████████████████████████████████| 207 kB 44.6 MB/s \n",
            "\u001b[?25hCollecting qiskit-aqua==0.9.5\n",
            "  Downloading qiskit_aqua-0.9.5-py3-none-any.whl (2.1 MB)\n",
            "\u001b[K     |████████████████████████████████| 2.1 MB 51.1 MB/s \n",
            "\u001b[?25hRequirement already satisfied: numpy>=1.16.3 in /usr/local/lib/python3.7/dist-packages (from qiskit-aer==0.9.1->qiskit) (1.19.5)\n",
            "Requirement already satisfied: scipy>=1.0 in /usr/local/lib/python3.7/dist-packages (from qiskit-aer==0.9.1->qiskit) (1.4.1)\n",
            "Collecting yfinance>=0.1.62\n",
            "  Downloading yfinance-0.1.67-py2.py3-none-any.whl (25 kB)\n",
            "Requirement already satisfied: scikit-learn>=0.20.0 in /usr/local/lib/python3.7/dist-packages (from qiskit-aqua==0.9.5->qiskit) (1.0.1)\n",
            "Requirement already satisfied: pandas in /usr/local/lib/python3.7/dist-packages (from qiskit-aqua==0.9.5->qiskit) (1.1.5)\n",
            "Requirement already satisfied: psutil>=5 in /usr/local/lib/python3.7/dist-packages (from qiskit-aqua==0.9.5->qiskit) (5.4.8)\n",
            "Requirement already satisfied: fastdtw<=0.3.4 in /usr/local/lib/python3.7/dist-packages (from qiskit-aqua==0.9.5->qiskit) (0.3.4)\n",
            "Collecting dlx<=1.0.4\n",
            "  Downloading dlx-1.0.4.tar.gz (5.5 kB)\n",
            "Requirement already satisfied: h5py<3.3.0 in /usr/local/lib/python3.7/dist-packages (from qiskit-aqua==0.9.5->qiskit) (3.1.0)\n",
            "Collecting quandl\n",
            "  Downloading Quandl-3.7.0-py2.py3-none-any.whl (26 kB)\n",
            "Collecting retworkx>=0.8.0\n",
            "  Downloading retworkx-0.10.2-cp37-cp37m-manylinux_2_5_x86_64.manylinux1_x86_64.manylinux_2_12_x86_64.manylinux2010_x86_64.whl (1.4 MB)\n",
            "\u001b[K     |████████████████████████████████| 1.4 MB 67.8 MB/s \n",
            "\u001b[?25hCollecting docplex>=2.21.207\n",
            "  Downloading docplex-2.22.213.tar.gz (634 kB)\n",
            "\u001b[K     |████████████████████████████████| 634 kB 69.3 MB/s \n",
            "\u001b[?25hRequirement already satisfied: sympy>=1.3 in /usr/local/lib/python3.7/dist-packages (from qiskit-aqua==0.9.5->qiskit) (1.7.1)\n",
            "Requirement already satisfied: setuptools>=40.1.0 in /usr/local/lib/python3.7/dist-packages (from qiskit-aqua==0.9.5->qiskit) (57.4.0)\n",
            "Requirement already satisfied: requests>=2.19 in /usr/local/lib/python3.7/dist-packages (from qiskit-ibmq-provider==0.18.1->qiskit) (2.23.0)\n",
            "Collecting requests-ntlm>=1.1.0\n",
            "  Downloading requests_ntlm-1.1.0-py2.py3-none-any.whl (5.7 kB)\n",
            "Requirement already satisfied: python-dateutil>=2.8.0 in /usr/local/lib/python3.7/dist-packages (from qiskit-ibmq-provider==0.18.1->qiskit) (2.8.2)\n",
            "Requirement already satisfied: urllib3>=1.21.1 in /usr/local/lib/python3.7/dist-packages (from qiskit-ibmq-provider==0.18.1->qiskit) (1.24.3)\n",
            "Collecting websocket-client>=1.0.1\n",
            "  Downloading websocket_client-1.2.1-py2.py3-none-any.whl (52 kB)\n",
            "\u001b[K     |████████████████████████████████| 52 kB 1.0 MB/s \n",
            "\u001b[?25hCollecting tweedledum<2.0,>=1.1\n",
            "  Downloading tweedledum-1.1.1-cp37-cp37m-manylinux_2_12_x86_64.manylinux2010_x86_64.whl (943 kB)\n",
            "\u001b[K     |████████████████████████████████| 943 kB 46.6 MB/s \n",
            "\u001b[?25hCollecting ply>=3.10\n",
            "  Downloading ply-3.11-py2.py3-none-any.whl (49 kB)\n",
            "\u001b[K     |████████████████████████████████| 49 kB 5.4 MB/s \n",
            "\u001b[?25hRequirement already satisfied: dill>=0.3 in /usr/local/lib/python3.7/dist-packages (from qiskit-terra==0.18.3->qiskit) (0.3.4)\n",
            "Collecting fastjsonschema>=2.10\n",
            "  Downloading fastjsonschema-2.15.1-py3-none-any.whl (21 kB)\n",
            "Collecting symengine>0.7\n",
            "  Downloading symengine-0.8.1-cp37-cp37m-manylinux2010_x86_64.whl (38.2 MB)\n",
            "\u001b[K     |████████████████████████████████| 38.2 MB 131 kB/s \n",
            "\u001b[?25hCollecting python-constraint>=1.4\n",
            "  Downloading python-constraint-1.4.0.tar.bz2 (18 kB)\n",
            "Requirement already satisfied: jsonschema>=2.6 in /usr/local/lib/python3.7/dist-packages (from qiskit-terra==0.18.3->qiskit) (2.6.0)\n",
            "Requirement already satisfied: six in /usr/local/lib/python3.7/dist-packages (from docplex>=2.21.207->qiskit-aqua==0.9.5->qiskit) (1.15.0)\n",
            "Requirement already satisfied: cached-property in /usr/local/lib/python3.7/dist-packages (from h5py<3.3.0->qiskit-aqua==0.9.5->qiskit) (1.5.2)\n",
            "Requirement already satisfied: chardet<4,>=3.0.2 in /usr/local/lib/python3.7/dist-packages (from requests>=2.19->qiskit-ibmq-provider==0.18.1->qiskit) (3.0.4)\n",
            "Requirement already satisfied: idna<3,>=2.5 in /usr/local/lib/python3.7/dist-packages (from requests>=2.19->qiskit-ibmq-provider==0.18.1->qiskit) (2.10)\n",
            "Requirement already satisfied: certifi>=2017.4.17 in /usr/local/lib/python3.7/dist-packages (from requests>=2.19->qiskit-ibmq-provider==0.18.1->qiskit) (2021.10.8)\n",
            "Collecting ntlm-auth>=1.0.2\n",
            "  Downloading ntlm_auth-1.5.0-py2.py3-none-any.whl (29 kB)\n",
            "Collecting cryptography>=1.3\n",
            "  Downloading cryptography-36.0.0-cp36-abi3-manylinux_2_24_x86_64.whl (3.6 MB)\n",
            "\u001b[K     |████████████████████████████████| 3.6 MB 42.6 MB/s \n",
            "\u001b[?25hRequirement already satisfied: cffi>=1.12 in /usr/local/lib/python3.7/dist-packages (from cryptography>=1.3->requests-ntlm>=1.1.0->qiskit-ibmq-provider==0.18.1->qiskit) (1.15.0)\n",
            "Requirement already satisfied: pycparser in /usr/local/lib/python3.7/dist-packages (from cffi>=1.12->cryptography>=1.3->requests-ntlm>=1.1.0->qiskit-ibmq-provider==0.18.1->qiskit) (2.21)\n",
            "Requirement already satisfied: joblib>=0.11 in /usr/local/lib/python3.7/dist-packages (from scikit-learn>=0.20.0->qiskit-aqua==0.9.5->qiskit) (1.1.0)\n",
            "Requirement already satisfied: threadpoolctl>=2.0.0 in /usr/local/lib/python3.7/dist-packages (from scikit-learn>=0.20.0->qiskit-aqua==0.9.5->qiskit) (3.0.0)\n",
            "Requirement already satisfied: mpmath>=0.19 in /usr/local/lib/python3.7/dist-packages (from sympy>=1.3->qiskit-aqua==0.9.5->qiskit) (1.2.1)\n",
            "Collecting lxml>=4.5.1\n",
            "  Downloading lxml-4.6.4-cp37-cp37m-manylinux_2_17_x86_64.manylinux2014_x86_64.manylinux_2_24_x86_64.whl (6.3 MB)\n",
            "\u001b[K     |████████████████████████████████| 6.3 MB 44.2 MB/s \n",
            "\u001b[?25hRequirement already satisfied: multitasking>=0.0.7 in /usr/local/lib/python3.7/dist-packages (from yfinance>=0.1.62->qiskit-aqua==0.9.5->qiskit) (0.0.10)\n",
            "Requirement already satisfied: pytz>=2017.2 in /usr/local/lib/python3.7/dist-packages (from pandas->qiskit-aqua==0.9.5->qiskit) (2018.9)\n",
            "Requirement already satisfied: more-itertools in /usr/local/lib/python3.7/dist-packages (from quandl->qiskit-aqua==0.9.5->qiskit) (8.12.0)\n",
            "Collecting inflection>=0.3.1\n",
            "  Downloading inflection-0.5.1-py2.py3-none-any.whl (9.5 kB)\n",
            "Building wheels for collected packages: qiskit, dlx, docplex, python-constraint\n",
            "  Building wheel for qiskit (setup.py) ... \u001b[?25l\u001b[?25hdone\n",
            "  Created wheel for qiskit: filename=qiskit-0.32.1-py3-none-any.whl size=11776 sha256=63407d2391906f556389e146a598ee2bd58f9a05cee02ddb85e80fb8646f7c00\n",
            "  Stored in directory: /root/.cache/pip/wheels/0f/62/0a/c53eda1ead41c137c47c9730bc2771a8367b1ce00fb64e8cc6\n",
            "  Building wheel for dlx (setup.py) ... \u001b[?25l\u001b[?25hdone\n",
            "  Created wheel for dlx: filename=dlx-1.0.4-py3-none-any.whl size=5719 sha256=8e0b609d8b0195b1a126a4f0fe3d032f52ac174653aa73fa06981f911d35c108\n",
            "  Stored in directory: /root/.cache/pip/wheels/78/55/c8/dc61e772445a566b7608a476d151e9dcaf4e092b01b0c4bc3c\n",
            "  Building wheel for docplex (setup.py) ... \u001b[?25l\u001b[?25hdone\n",
            "  Created wheel for docplex: filename=docplex-2.22.213-py3-none-any.whl size=696881 sha256=1f98e40686469a9c014c1477b404a8abe5d978d2565d004fa9a83c8856325f0d\n",
            "  Stored in directory: /root/.cache/pip/wheels/90/69/6b/1375c68a5b7ff94c40263b151c86f58bd72200bf0c465b5ba3\n",
            "  Building wheel for python-constraint (setup.py) ... \u001b[?25l\u001b[?25hdone\n",
            "  Created wheel for python-constraint: filename=python_constraint-1.4.0-py2.py3-none-any.whl size=24081 sha256=48005578209eff58cc67e890143065d30bc3912a3d043f8850c05fc4cc1b4f34\n",
            "  Stored in directory: /root/.cache/pip/wheels/07/27/db/1222c80eb1e431f3d2199c12569cb1cac60f562a451fe30479\n",
            "Successfully built qiskit dlx docplex python-constraint\n",
            "Installing collected packages: tweedledum, symengine, retworkx, python-constraint, ply, fastjsonschema, qiskit-terra, ntlm-auth, lxml, inflection, cryptography, yfinance, websocket-client, requests-ntlm, quandl, qiskit-ignis, docplex, dlx, qiskit-ibmq-provider, qiskit-aqua, qiskit-aer, qiskit\n",
            "  Attempting uninstall: lxml\n",
            "    Found existing installation: lxml 4.2.6\n",
            "    Uninstalling lxml-4.2.6:\n",
            "      Successfully uninstalled lxml-4.2.6\n",
            "Successfully installed cryptography-36.0.0 dlx-1.0.4 docplex-2.22.213 fastjsonschema-2.15.1 inflection-0.5.1 lxml-4.6.4 ntlm-auth-1.5.0 ply-3.11 python-constraint-1.4.0 qiskit-0.32.1 qiskit-aer-0.9.1 qiskit-aqua-0.9.5 qiskit-ibmq-provider-0.18.1 qiskit-ignis-0.6.0 qiskit-terra-0.18.3 quandl-3.7.0 requests-ntlm-1.1.0 retworkx-0.10.2 symengine-0.8.1 tweedledum-1.1.1 websocket-client-1.2.1 yfinance-0.1.67\n",
            "Collecting pylatexenc\n",
            "  Downloading pylatexenc-2.10.tar.gz (162 kB)\n",
            "\u001b[K     |████████████████████████████████| 162 kB 4.1 MB/s \n",
            "\u001b[?25hBuilding wheels for collected packages: pylatexenc\n",
            "  Building wheel for pylatexenc (setup.py) ... \u001b[?25l\u001b[?25hdone\n",
            "  Created wheel for pylatexenc: filename=pylatexenc-2.10-py3-none-any.whl size=136833 sha256=6dce368dc11b77b212e9a7a00129f22786be2715e830cff989be75659070d7d2\n",
            "  Stored in directory: /root/.cache/pip/wheels/f1/8a/f5/33ee79d4473eb201b519fa40f989b842e373237395a3421f52\n",
            "Successfully built pylatexenc\n",
            "Installing collected packages: pylatexenc\n",
            "Successfully installed pylatexenc-2.10\n"
          ]
        }
      ]
    },
    {
      "cell_type": "code",
      "metadata": {
        "colab": {
          "base_uri": "https://localhost:8080/"
        },
        "id": "8zObPnug6_hN",
        "outputId": "d281f956-36e6-4f91-a7e5-efb8b9426876"
      },
      "source": [
        "pip install qiskit-machine-learning"
      ],
      "execution_count": 2,
      "outputs": [
        {
          "output_type": "stream",
          "name": "stdout",
          "text": [
            "Collecting qiskit-machine-learning\n",
            "  Downloading qiskit_machine_learning-0.2.1-py3-none-any.whl (96 kB)\n",
            "\u001b[K     |████████████████████████████████| 96 kB 2.8 MB/s \n",
            "\u001b[?25hRequirement already satisfied: numpy>=1.17 in /usr/local/lib/python3.7/dist-packages (from qiskit-machine-learning) (1.19.5)\n",
            "Requirement already satisfied: scikit-learn>=0.20.0 in /usr/local/lib/python3.7/dist-packages (from qiskit-machine-learning) (1.0.1)\n",
            "Requirement already satisfied: psutil>=5 in /usr/local/lib/python3.7/dist-packages (from qiskit-machine-learning) (5.4.8)\n",
            "Requirement already satisfied: setuptools>=40.1.0 in /usr/local/lib/python3.7/dist-packages (from qiskit-machine-learning) (57.4.0)\n",
            "Requirement already satisfied: qiskit-terra>=0.18.0 in /usr/local/lib/python3.7/dist-packages (from qiskit-machine-learning) (0.18.3)\n",
            "Requirement already satisfied: scipy>=1.4 in /usr/local/lib/python3.7/dist-packages (from qiskit-machine-learning) (1.4.1)\n",
            "Requirement already satisfied: fastdtw in /usr/local/lib/python3.7/dist-packages (from qiskit-machine-learning) (0.3.4)\n",
            "Requirement already satisfied: tweedledum<2.0,>=1.1 in /usr/local/lib/python3.7/dist-packages (from qiskit-terra>=0.18.0->qiskit-machine-learning) (1.1.1)\n",
            "Requirement already satisfied: python-constraint>=1.4 in /usr/local/lib/python3.7/dist-packages (from qiskit-terra>=0.18.0->qiskit-machine-learning) (1.4.0)\n",
            "Requirement already satisfied: jsonschema>=2.6 in /usr/local/lib/python3.7/dist-packages (from qiskit-terra>=0.18.0->qiskit-machine-learning) (2.6.0)\n",
            "Requirement already satisfied: fastjsonschema>=2.10 in /usr/local/lib/python3.7/dist-packages (from qiskit-terra>=0.18.0->qiskit-machine-learning) (2.15.1)\n",
            "Requirement already satisfied: ply>=3.10 in /usr/local/lib/python3.7/dist-packages (from qiskit-terra>=0.18.0->qiskit-machine-learning) (3.11)\n",
            "Requirement already satisfied: sympy>=1.3 in /usr/local/lib/python3.7/dist-packages (from qiskit-terra>=0.18.0->qiskit-machine-learning) (1.7.1)\n",
            "Requirement already satisfied: retworkx>=0.9.0 in /usr/local/lib/python3.7/dist-packages (from qiskit-terra>=0.18.0->qiskit-machine-learning) (0.10.2)\n",
            "Requirement already satisfied: python-dateutil>=2.8.0 in /usr/local/lib/python3.7/dist-packages (from qiskit-terra>=0.18.0->qiskit-machine-learning) (2.8.2)\n",
            "Requirement already satisfied: symengine>0.7 in /usr/local/lib/python3.7/dist-packages (from qiskit-terra>=0.18.0->qiskit-machine-learning) (0.8.1)\n",
            "Requirement already satisfied: dill>=0.3 in /usr/local/lib/python3.7/dist-packages (from qiskit-terra>=0.18.0->qiskit-machine-learning) (0.3.4)\n",
            "Requirement already satisfied: six>=1.5 in /usr/local/lib/python3.7/dist-packages (from python-dateutil>=2.8.0->qiskit-terra>=0.18.0->qiskit-machine-learning) (1.15.0)\n",
            "Requirement already satisfied: threadpoolctl>=2.0.0 in /usr/local/lib/python3.7/dist-packages (from scikit-learn>=0.20.0->qiskit-machine-learning) (3.0.0)\n",
            "Requirement already satisfied: joblib>=0.11 in /usr/local/lib/python3.7/dist-packages (from scikit-learn>=0.20.0->qiskit-machine-learning) (1.1.0)\n",
            "Requirement already satisfied: mpmath>=0.19 in /usr/local/lib/python3.7/dist-packages (from sympy>=1.3->qiskit-terra>=0.18.0->qiskit-machine-learning) (1.2.1)\n",
            "Installing collected packages: qiskit-machine-learning\n",
            "Successfully installed qiskit-machine-learning-0.2.1\n"
          ]
        }
      ]
    },
    {
      "cell_type": "code",
      "metadata": {
        "id": "EiFfXt5M3sRE"
      },
      "source": [
        "# General imports\n",
        "import os\n",
        "import gzip\n",
        "import numpy as np\n",
        "import matplotlib.pyplot as plt\n",
        "from pylab import cm\n",
        "import warnings\n",
        "import matplotlib.pyplot as plt\n",
        "%matplotlib inline\n",
        "\n",
        "warnings.filterwarnings(\"ignore\")\n",
        "\n",
        "# scikit-learn imports\n",
        "from sklearn import datasets\n",
        "from sklearn.model_selection import train_test_split\n",
        "from sklearn.preprocessing import StandardScaler, MinMaxScaler\n",
        "from sklearn.decomposition import PCA\n",
        "from sklearn.svm import SVC\n",
        "from sklearn.metrics import accuracy_score\n",
        "\n",
        "# Qiskit imports\n",
        "from qiskit import IBMQ\n",
        "from qiskit import Aer, execute\n",
        "from qiskit.circuit import QuantumCircuit, Parameter, ParameterVector\n",
        "from qiskit.circuit.library import PauliFeatureMap, ZFeatureMap, ZZFeatureMap\n",
        "from qiskit.circuit.library import TwoLocal, NLocal, RealAmplitudes, EfficientSU2\n",
        "from qiskit.circuit.library import HGate, RXGate, RYGate, RZGate, CXGate, CRXGate, CRZGate\n",
        "from qiskit_machine_learning.kernels import QuantumKernel\n",
        "from qiskit.tools.visualization import circuit_drawer\n",
        "from qiskit.utils import QuantumInstance, algorithm_globals\n",
        "\n",
        "seed = 12345\n",
        "algorithm_globals.random_seed = seed"
      ],
      "execution_count": 3,
      "outputs": []
    },
    {
      "cell_type": "code",
      "metadata": {
        "id": "GVOt-qzn4DlV",
        "colab": {
          "base_uri": "https://localhost:8080/",
          "height": 1000
        },
        "outputId": "f268b3e2-443e-4e22-ec1f-b32f79f96338"
      },
      "source": [
        "# Load MNIST dataset\n",
        "DATA_PATH = '/content/sample_data/Fashion_MNIST.npz'\n",
        "data = np.load(DATA_PATH)\n",
        "\n",
        "sample_train = data['sample_train']\n",
        "labels_train = data['labels_train']\n",
        "sample_test = data['sample_test']\n",
        "\n",
        "# Split train data\n",
        "sample_train, sample_val, labels_train, labels_val = train_test_split(\n",
        "    sample_train, labels_train, test_size=0.2, random_state=42)\n",
        "print(sample_test)\n",
        "for i in range(len(sample_test)):\n",
        "    img = sample_test[i].reshape((28,28))\n",
        "    plt.imshow(img, cmap=\"Greys\")\n",
        "    plt.show()\n",
        "#    Visualize samples\n",
        "fig = plt.figure()\n",
        "\n",
        "LABELS = [0, 2, 3]\n",
        "num_labels = len(LABELS)\n",
        "for i in range(num_labels):\n",
        "    ax = fig.add_subplot(1, num_labels, i+1)\n",
        "    img = sample_train[labels_train==LABELS[i]][0].reshape((28, 28))\n",
        "    ax.imshow(img, cmap=\"Greys\")"
      ],
      "execution_count": 4,
      "outputs": [
        {
          "output_type": "stream",
          "name": "stdout",
          "text": [
            "[[0 0 0 ... 0 0 0]\n",
            " [0 0 0 ... 0 0 0]\n",
            " [0 0 0 ... 0 0 0]\n",
            " ...\n",
            " [0 0 0 ... 0 0 0]\n",
            " [0 0 0 ... 0 0 0]\n",
            " [0 0 0 ... 0 0 0]]\n"
          ]
        },
        {
          "output_type": "display_data",
          "data": {
            "image/png": "[encoded data removed]",
            "text/plain": [
              "<Figure size 432x288 with 1 Axes>"
            ]
          },
          "metadata": {
            "needs_background": "light"
          }
        },
        {
          "output_type": "display_data",
          "data": {
            "image/png": "[encoded data removed]",
            "text/plain": [
              "<Figure size 432x288 with 1 Axes>"
            ]
          },
          "metadata": {
            "needs_background": "light"
          }
        },
        {
          "output_type": "display_data",
          "data": {
            "image/png": "[encoded data removed]",
            "text/plain": [
              "<Figure size 432x288 with 1 Axes>"
            ]
          },
          "metadata": {
            "needs_background": "light"
          }
        },
        {
          "output_type": "display_data",
          "data": {
            "image/png": "[encoded data removed]",
            "text/plain": [
              "<Figure size 432x288 with 1 Axes>"
            ]
          },
          "metadata": {
            "needs_background": "light"
          }
        },
        {
          "output_type": "display_data",
          "data": {
            "image/png": "[encoded data removed]",
            "text/plain": [
              "<Figure size 432x288 with 1 Axes>"
            ]
          },
          "metadata": {
            "needs_background": "light"
          }
        },
        {
          "output_type": "display_data",
          "data": {
            "image/png": "[encoded data removed]",
            "text/plain": [
              "<Figure size 432x288 with 1 Axes>"
            ]
          },
          "metadata": {
            "needs_background": "light"
          }
        },
        {
          "output_type": "display_data",
          "data": {
            "image/png": "[encoded data removed]",
            "text/plain": [
              "<Figure size 432x288 with 1 Axes>"
            ]
          },
          "metadata": {
            "needs_background": "light"
          }
        },
        {
          "output_type": "display_data",
          "data": {
            "image/png": "[encoded data removed]",
            "text/plain": [
              "<Figure size 432x288 with 1 Axes>"
            ]
          },
          "metadata": {
            "needs_background": "light"
          }
        },
        {
          "output_type": "display_data",
          "data": {
            "image/png": "[encoded data removed]",
            "text/plain": [
              "<Figure size 432x288 with 1 Axes>"
            ]
          },
          "metadata": {
            "needs_background": "light"
          }
        },
        {
          "output_type": "display_data",
          "data": {
            "image/png": "[encoded data removed]",
            "text/plain": [
              "<Figure size 432x288 with 1 Axes>"
            ]
          },
          "metadata": {
            "needs_background": "light"
          }
        },
        {
          "output_type": "display_data",
          "data": {
            "image/png": "[encoded data removed]",
            "text/plain": [
              "<Figure size 432x288 with 1 Axes>"
            ]
          },
          "metadata": {
            "needs_background": "light"
          }
        },
        {
          "output_type": "display_data",
          "data": {
            "image/png": "[encoded data removed]",
            "text/plain": [
              "<Figure size 432x288 with 1 Axes>"
            ]
          },
          "metadata": {
            "needs_background": "light"
          }
        },
        {
          "output_type": "display_data",
          "data": {
            "image/png": "[encoded data removed]",
            "text/plain": [
              "<Figure size 432x288 with 1 Axes>"
            ]
          },
          "metadata": {
            "needs_background": "light"
          }
        },
        {
          "output_type": "display_data",
          "data": {
            "image/png": "[encoded data removed]",
            "text/plain": [
              "<Figure size 432x288 with 1 Axes>"
            ]
          },
          "metadata": {
            "needs_background": "light"
          }
        },
        {
          "output_type": "display_data",
          "data": {
            "image/png": "[encoded data removed]",
            "text/plain": [
              "<Figure size 432x288 with 1 Axes>"
            ]
          },
          "metadata": {
            "needs_background": "light"
          }
        },
        {
          "output_type": "display_data",
          "data": {
            "image/png": "[encoded data removed]",
            "text/plain": [
              "<Figure size 432x288 with 1 Axes>"
            ]
          },
          "metadata": {
            "needs_background": "light"
          }
        },
        {
          "output_type": "display_data",
          "data": {
            "image/png": "[encoded data removed]",
            "text/plain": [
              "<Figure size 432x288 with 1 Axes>"
            ]
          },
          "metadata": {
            "needs_background": "light"
          }
        },
        {
          "output_type": "display_data",
          "data": {
            "image/png": "[encoded data removed]",
            "text/plain": [
              "<Figure size 432x288 with 1 Axes>"
            ]
          },
          "metadata": {
            "needs_background": "light"
          }
        },
        {
          "output_type": "display_data",
          "data": {
            "image/png": "[encoded data removed]",
            "text/plain": [
              "<Figure size 432x288 with 1 Axes>"
            ]
          },
          "metadata": {
            "needs_background": "light"
          }
        },
        {
          "output_type": "display_data",
          "data": {
            "image/png": "[encoded data removed]",
            "text/plain": [
              "<Figure size 432x288 with 1 Axes>"
            ]
          },
          "metadata": {
            "needs_background": "light"
          }
        },
        {
          "output_type": "display_data",
          "data": {
            "image/png": "[encoded data removed]",
            "text/plain": [
              "<Figure size 432x288 with 3 Axes>"
            ]
          },
          "metadata": {
            "needs_background": "light"
          }
        }
      ]
    },
    {
      "cell_type": "code",
      "metadata": {
        "id": "nkiKNdxT4ODW"
      },
      "source": [
        "# Standardize\n",
        "standard_scaler = StandardScaler()\n",
        "sample_train = standard_scaler.fit_transform(sample_train)\n",
        "sample_val = standard_scaler.transform(sample_val)\n",
        "sample_test = standard_scaler.transform(sample_test)\n",
        "\n",
        "# Reduce dimensions\n",
        "N_DIM = 5\n",
        "pca = PCA(n_components=N_DIM)\n",
        "sample_train = pca.fit_transform(sample_train)\n",
        "sample_val = pca.transform(sample_val)\n",
        "sample_test = pca.transform(sample_test)\n",
        "\n",
        "# Normalize\n",
        "min_max_scaler = MinMaxScaler((-1, 1))\n",
        "sample_train = min_max_scaler.fit_transform(sample_train)\n",
        "sample_val = min_max_scaler.transform(sample_val)\n",
        "sample_test = min_max_scaler.transform(sample_test)"
      ],
      "execution_count": 5,
      "outputs": []
    },
    {
      "cell_type": "code",
      "metadata": {
        "id": "guF2xuCz4TSa",
        "colab": {
          "base_uri": "https://localhost:8080/"
        },
        "outputId": "bc2811fc-75fd-4665-ac12-ad06131e2b04"
      },
      "source": [
        "LABELS = [0, 2, 3]\n",
        "list_zzfeat = []\n",
        "list_zfeat = []\n",
        "list_pmap = []\n",
        "score_zzfeat= []\n",
        "score_zfeat= []\n",
        "score_pmap= []\n",
        "num_labels = len(LABELS)\n",
        "for i in range(num_labels):\n",
        "\n",
        "    labels_trainz = np.where(labels_train==LABELS[i], 1, 0)\n",
        "    labels_valz = np.where(labels_val==LABELS[i], 1, 0)\n",
        "\n",
        "    print(f'Original validation labels:      {labels_val}')\n",
        "    print(f'Validation one label vs Rest:    {labels_valz}')\n",
        "    \n",
        "    # ZZfeature map to be analysed for different labels prediction with entanglement configuration : \"full\", \"circular\", \"linear\" \n",
        "    zzfeat_map = ZZFeatureMap(feature_dimension=N_DIM, reps=3, entanglement='linear')\n",
        "\n",
        "    zfeat_map = ZFeatureMap(feature_dimension=N_DIM, reps=3)\n",
        "    pauli_map = PauliFeatureMap(feature_dimension=N_DIM, reps=3, paulis = ['X', 'Y', 'ZZ'])\n",
        "    quantum_instancez = QuantumInstance(Aer.get_backend('statevector_simulator'), shots=8192, seed_simulator=1024, seed_transpiler=1024)\n",
        "    kernel_zzfeat = QuantumKernel(feature_map=zzfeat_map, quantum_instance=quantum_instancez)\n",
        "    kernel_zfeat = QuantumKernel(feature_map=zfeat_map, quantum_instance=quantum_instancez)\n",
        "    kernel_p_map = QuantumKernel(feature_map=pauli_map, quantum_instance=quantum_instancez)\n",
        "   \n",
        "    svc = SVC(kernel='precomputed', probability=True)\n",
        "\n",
        "    matrix_train_zz = kernel_zzfeat.evaluate(x_vec=sample_train)\n",
        "    matrix_train_z = kernel_zfeat.evaluate(x_vec=sample_train)\n",
        "    matrix_train_pmap = kernel_p_map.evaluate(x_vec=sample_train)\n",
        "    svc.fit(matrix_train_zz, labels_trainz)\n",
        "    svc.fit(matrix_train_z, labels_trainz)\n",
        "    svc.fit(matrix_train_pmap, labels_trainz)\n",
        "    \n",
        "\n",
        "    matrix_val_zzfeat = kernel_zzfeat.evaluate(x_vec=sample_val, y_vec=sample_train)\n",
        "    matrix_val_zfeat = kernel_zfeat.evaluate(x_vec=sample_val, y_vec=sample_train)\n",
        "    matrix_val_pmap = kernel_p_map.evaluate(x_vec=sample_val, y_vec=sample_train)\n",
        "    pauli_score_zzfeat = svc.score(matrix_val_zzfeat, labels_valz)\n",
        "    pauli_score_zfeat = svc.score(matrix_val_zfeat, labels_valz)\n",
        "    pauli_score_pmap = svc.score(matrix_val_pmap, labels_valz)\n",
        "    print(f'Accuracy of ZZFeature Map discriminating between label and others: {pauli_score_zzfeat*100}%')\n",
        "    print(f'Accuracy of ZFeature Map discriminating between label and others: {pauli_score_zfeat*100}%')\n",
        "    print(f'Accuracy of Pauli Feature Map discriminating between label and others: {pauli_score_pmap*100}%')\n",
        "\n",
        "    matrix_test_zzfeat = kernel_zzfeat.evaluate(x_vec=sample_test, y_vec=sample_train)\n",
        "    matrix_test_zfeat = kernel_zfeat.evaluate(x_vec=sample_test, y_vec=sample_train)\n",
        "    matrix_test_pmap = kernel_p_map.evaluate(x_vec=sample_test, y_vec=sample_train)\n",
        "    #pa_zzfeat = svc.score(matrix_test_zzfeat, labels_test)\n",
        "    #print(pa_zzfeat)\n",
        "    pred_zzfeat = svc.predict_proba(matrix_test_zzfeat)[:, 1]\n",
        "    pred_zfeat = svc.predict_proba(matrix_test_zfeat)[:, 1]\n",
        "    pred_pmap = svc.predict_proba(matrix_test_pmap)[:, 1]\n",
        "\n",
        "    print(f'Probability of label : {np.round(pred_zzfeat, 2)}')\n",
        "    print(f'Probability of label : {np.round(pred_zfeat, 2)}')\n",
        "    print(f'Probability of label : {np.round(pred_pmap, 2)}')\n",
        "\n",
        "    list_zzfeat.append(np.round(pred_zzfeat, 2))\n",
        "    list_zfeat.append(np.round(pred_zfeat, 2))\n",
        "    list_pmap.append(np.round(pred_pmap, 2))\n",
        "\n",
        "    score_zzfeat.append(pauli_score_zzfeat)\n",
        "    score_zfeat.append(pauli_score_zfeat)\n",
        "    score_pmap.append(pauli_score_pmap)\n",
        "print(score_zzfeat)\n",
        "print(score_zfeat)\n",
        "print(score_pmap)    "
      ],
      "execution_count": 6,
      "outputs": [
        {
          "output_type": "stream",
          "name": "stdout",
          "text": [
            "Original validation labels:      [3 3 2 0 3 0 3 2 3 2 2 3 2 2 2 3 0 2 3 3]\n",
            "Validation one label vs Rest:    [0 0 0 1 0 1 0 0 0 0 0 0 0 0 0 0 1 0 0 0]\n",
            "Accuracy of ZZFeature Map discriminating between label and others: 90.0%\n",
            "Accuracy of ZFeature Map discriminating between label and others: 95.0%\n",
            "Accuracy of Pauli Feature Map discriminating between label and others: 85.0%\n",
            "Probability of label : [0.22 0.22 0.3  0.32 0.29 0.32 0.19 0.29 0.2  0.21 0.31 0.27 0.29 0.3\n",
            " 0.34 0.31 0.33 0.27 0.3  0.3 ]\n",
            "Probability of label : [0.11 0.1  0.36 0.27 0.38 0.45 0.13 0.28 0.1  0.16 0.28 0.22 0.42 0.31\n",
            " 0.28 0.43 0.3  0.14 0.42 0.24]\n",
            "Probability of label : [0.25 0.27 0.28 0.29 0.28 0.28 0.27 0.29 0.26 0.29 0.29 0.29 0.3  0.26\n",
            " 0.28 0.28 0.29 0.26 0.28 0.31]\n",
            "Original validation labels:      [3 3 2 0 3 0 3 2 3 2 2 3 2 2 2 3 0 2 3 3]\n",
            "Validation one label vs Rest:    [0 0 1 0 0 0 0 1 0 1 1 0 1 1 1 0 0 1 0 0]\n",
            "Accuracy of ZZFeature Map discriminating between label and others: 80.0%\n",
            "Accuracy of ZFeature Map discriminating between label and others: 90.0%\n",
            "Accuracy of Pauli Feature Map discriminating between label and others: 90.0%\n",
            "Probability of label : [0.11 0.16 0.16 0.24 0.36 0.82 0.04 0.39 0.1  0.08 0.02 0.51 0.87 0.45\n",
            " 0.05 0.93 0.05 0.47 0.28 0.68]\n",
            "Probability of label : [0.   0.   0.03 0.   0.06 0.01 0.   0.05 0.   0.   0.   0.04 1.   0.77\n",
            " 0.   1.   0.   0.   0.   0.28]\n",
            "Probability of label : [0.13 0.3  0.25 0.18 0.24 0.37 0.24 0.38 0.27 0.48 0.47 0.38 0.51 0.31\n",
            " 0.35 0.53 0.26 0.22 0.18 0.74]\n",
            "Original validation labels:      [3 3 2 0 3 0 3 2 3 2 2 3 2 2 2 3 0 2 3 3]\n",
            "Validation one label vs Rest:    [1 1 0 0 1 0 1 0 1 0 0 1 0 0 0 1 0 0 1 1]\n",
            "Accuracy of ZZFeature Map discriminating between label and others: 90.0%\n",
            "Accuracy of ZFeature Map discriminating between label and others: 90.0%\n",
            "Accuracy of Pauli Feature Map discriminating between label and others: 70.0%\n",
            "Probability of label : [0.09 0.07 0.73 0.84 0.51 0.47 0.02 0.37 0.03 0.04 0.97 0.13 0.06 0.37\n",
            " 0.94 0.07 0.96 0.2  0.67 0.18]\n",
            "Probability of label : [0.06 0.08 1.   0.99 0.99 1.   0.17 0.38 0.06 0.07 1.   0.07 0.   0.35\n",
            " 1.   0.   1.   0.54 1.   0.02]\n",
            "Probability of label : [0.17 0.26 0.41 0.38 0.56 0.17 0.25 0.32 0.21 0.25 0.39 0.26 0.26 0.21\n",
            " 0.18 0.2  0.35 0.14 0.42 0.2 ]\n",
            "[0.9, 0.8, 0.9]\n",
            "[0.95, 0.9, 0.9]\n",
            "[0.85, 0.9, 0.7]\n"
          ]
        }
      ]
    },
    {
      "cell_type": "code",
      "metadata": {
        "id": "RMtqMzmR4WkQ",
        "colab": {
          "base_uri": "https://localhost:8080/"
        },
        "outputId": "e7b603c5-39d4-48a0-bfbc-16bde63345ad"
      },
      "source": [
        "print(score_zzfeat)\n",
        "print(score_zfeat)\n",
        "print(score_pmap) "
      ],
      "execution_count": 7,
      "outputs": [
        {
          "output_type": "stream",
          "name": "stdout",
          "text": [
            "[0.9, 0.8, 0.9]\n",
            "[0.95, 0.9, 0.9]\n",
            "[0.85, 0.9, 0.7]\n"
          ]
        }
      ]
    },
    {
      "cell_type": "code",
      "metadata": {
        "id": "ZFxmAOcg4Y0F"
      },
      "source": [
        "pred_0_zz = np.array(list_zzfeat[0])\n",
        "pred_2_zz = np.array(list_zzfeat[1])\n",
        "pred_3_zz = np.array(list_zzfeat[2])"
      ],
      "execution_count": 8,
      "outputs": []
    },
    {
      "cell_type": "code",
      "metadata": {
        "id": "Fj2SQTW94ank"
      },
      "source": [
        "pred_0_z = np.array(list_zfeat[0])\n",
        "pred_2_z = np.array(list_zfeat[1])\n",
        "pred_3_z = np.array(list_zfeat[2])"
      ],
      "execution_count": 9,
      "outputs": []
    },
    {
      "cell_type": "code",
      "metadata": {
        "id": "v0Rb0G-i4clV"
      },
      "source": [
        "pred_0_pm = np.array(list_pmap[0])\n",
        "pred_2_pm = np.array(list_pmap[1])\n",
        "pred_3_pm = np.array(list_pmap[2])"
      ],
      "execution_count": 10,
      "outputs": []
    },
    {
      "cell_type": "code",
      "metadata": {
        "id": "peflMghE4ebS",
        "colab": {
          "base_uri": "https://localhost:8080/"
        },
        "outputId": "d227fcd2-9d73-4ed9-c359-5f16f5f33a44"
      },
      "source": [
        "pred_ZZtest = []\n",
        "pred_Ztest = []\n",
        "pred_Pmap  = []\n",
        "pred_ZZtest.append(np.where(((pred_0_zz > pred_2_zz) & (pred_0_zz > pred_3_zz)),0,(np.where(((pred_2_zz > pred_0_zz) & (pred_2_zz > pred_3_zz)),2,3))))\n",
        "pred_Ztest.append(np.where(((pred_0_z > pred_2_z) & (pred_0_z > pred_3_z)),0,(np.where(((pred_2_z > pred_0_z) & (pred_2_z > pred_3_z)),2,3))))\n",
        "pred_Pmap.append(np.where(((pred_0_pm > pred_2_pm) & (pred_0_pm > pred_3_pm)),0,(np.where(((pred_2_pm > pred_0_pm) & (pred_2_pm > pred_3_pm)),2,3))))\n",
        "print(f'Prediction: {pred_ZZtest}')\n",
        "print(f'Prediction: {pred_Ztest}')\n",
        "print(f'Prediction: {pred_Pmap}')"
      ],
      "execution_count": 11,
      "outputs": [
        {
          "output_type": "stream",
          "name": "stdout",
          "text": [
            "Prediction: [array([0, 0, 3, 3, 3, 2, 0, 2, 0, 0, 3, 2, 2, 2, 3, 2, 3, 2, 3, 2])]\n",
            "Prediction: [array([0, 0, 3, 3, 3, 3, 3, 3, 0, 0, 3, 0, 2, 2, 3, 2, 3, 3, 3, 2])]\n",
            "Prediction: [array([0, 2, 3, 3, 3, 2, 0, 2, 2, 2, 2, 2, 2, 2, 2, 2, 3, 0, 3, 2])]\n"
          ]
        }
      ]
    },
    {
      "cell_type": "code",
      "metadata": {
        "colab": {
          "base_uri": "https://localhost:8080/",
          "height": 300
        },
        "id": "-rb0RnGa_ZYm",
        "outputId": "d4bb9d71-102a-4008-f91a-e0e66248535b"
      },
      "source": [
        "print(pred_ZZtest[0])\n",
        "x = pred_ZZtest[0]\n",
        "y = pred_Ztest[0]\n",
        "z = pred_Pmap[0]\n",
        "a = [0, 0.15, 0.3, 0.45, 0.6, 0.75, 0.9, 1.05, 1.2, 1.35, 1.5, 1.65, 1.8, 2, 2.15, 2.3, 2.45, 2.6, 2.75, 3]\n",
        "\n",
        "# Plot a simple line chart\n",
        "plt.plot(a, x)\n",
        "\n",
        "# Plot another line on the same chart/graph\n",
        "plt.plot(a, y)\n",
        "plt.plot(a, z)\n",
        "plt.legend()\n",
        "\n",
        "plt.show()"
      ],
      "execution_count": 12,
      "outputs": [
        {
          "output_type": "stream",
          "name": "stderr",
          "text": [
            "No handles with labels found to put in legend.\n"
          ]
        },
        {
          "output_type": "stream",
          "name": "stdout",
          "text": [
            "[0 0 3 3 3 2 0 2 0 0 3 2 2 2 3 2 3 2 3 2]\n"
          ]
        },
        {
          "output_type": "display_data",
          "data": {
            "image/png": "[encoded data removed]",
            "text/plain": [
              "<Figure size 432x288 with 1 Axes>"
            ]
          },
          "metadata": {
            "needs_background": "light"
          }
        }
      ]
    },
    {
      "cell_type": "code",
      "metadata": {
        "id": "iIRSvf4b4h18",
        "colab": {
          "base_uri": "https://localhost:8080/",
          "height": 297
        },
        "outputId": "532e7667-5f84-44e5-ea01-24f511affa72"
      },
      "source": [
        "labels = ['Label_0', 'Label_2', 'Label_3']\n",
        "Score0_plot = [score_zzfeat[0], score_zfeat[0], score_pmap[0]]\n",
        "Score2_plot = [score_zzfeat[1], score_zfeat[1], score_pmap[1]]\n",
        "Score3_plot = [score_zzfeat[2], score_zfeat[2], score_pmap[2]]\n",
        "\n",
        "x = np.arange(len(labels))  # the label locations\n",
        "width = 0.25  # the width of the bars\n",
        "\n",
        "fig, ax = plt.subplots()\n",
        "rects1 = ax.bar(x + width/3 , Score0_plot, width, label='ZZFeature Map')\n",
        "rects2 = ax.bar(x - 2*(width)/3, Score2_plot, width, label='ZFeature Map')\n",
        "rects3 = ax.bar(x + 4*width/3, Score3_plot, width, label='Pauli Feature Map')\n",
        "\n",
        "\n",
        "# Add some text for labels, title and custom x-axis tick labels, etc.\n",
        "ax.set_ylabel('Accuracy')\n",
        "ax.set_title('Label prediction with different ZZfeature Map entanglement configuration')\n",
        "ax.set_xticks(x)\n",
        "ax.set_xticklabels(labels)\n",
        "ax.legend()#loc=2, prop={'size': 6})\n",
        "\n",
        "#ax.bar_label(rects1, padding=3)\n",
        "#ax.bar_label(rects2, padding=3)\n",
        "#ax.bar_label(rects3, padding=3)\n",
        "\n",
        "fig.tight_layout()\n",
        "#plt.figure(figsize=(500,500)) \n",
        "plt.show()"
      ],
      "execution_count": 14,
      "outputs": [
        {
          "output_type": "display_data",
          "data": {
            "image/png": "[encoded data removed]",
            "text/plain": [
              "<Figure size 432x288 with 1 Axes>"
            ]
          },
          "metadata": {
            "needs_background": "light"
          }
        }
      ]
    },
    {
      "cell_type": "code",
      "metadata": {
        "colab": {
          "base_uri": "https://localhost:8080/",
          "height": 1000
        },
        "id": "V0KGvdP1uy0o",
        "outputId": "cc0b7ab7-1376-4d68-e784-03230bf7bf12"
      },
      "source": [
        "print(zzfeat_map)\n",
        "zzfeat_map.draw()"
      ],
      "execution_count": 15,
      "outputs": [
        {
          "output_type": "stream",
          "name": "stdout",
          "text": [
            "     ┌───┐┌──────────────┐                                           ┌───┐»\n",
            "q_0: ┤ H ├┤ U1(2.0*x[0]) ├──■─────────────────────────────────────■──┤ H ├»\n",
            "     ├───┤├──────────────┤┌─┴─┐┌───────────────────────────────┐┌─┴─┐└───┘»\n",
            "q_1: ┤ H ├┤ U1(2.0*x[1]) ├┤ X ├┤ U1(2.0*(π - x[0])*(π - x[1])) ├┤ X ├──■──»\n",
            "     ├───┤├──────────────┤└───┘└───────────────────────────────┘└───┘┌─┴─┐»\n",
            "q_2: ┤ H ├┤ U1(2.0*x[2]) ├───────────────────────────────────────────┤ X ├»\n",
            "     ├───┤├──────────────┤                                           └───┘»\n",
            "q_3: ┤ H ├┤ U1(2.0*x[3]) ├────────────────────────────────────────────────»\n",
            "     ├───┤├──────────────┤                                                »\n",
            "q_4: ┤ H ├┤ U1(2.0*x[4]) ├────────────────────────────────────────────────»\n",
            "     └───┘└──────────────┘                                                »\n",
            "«              ┌──────────────┐                  »\n",
            "«q_0: ─────────┤ U1(2.0*x[0]) ├──────────────────»\n",
            "«              └──────────────┘             ┌───┐»\n",
            "«q_1: ───────────────────────────────────■──┤ H ├»\n",
            "«     ┌───────────────────────────────┐┌─┴─┐└───┘»\n",
            "«q_2: ┤ U1(2.0*(π - x[1])*(π - x[2])) ├┤ X ├──■──»\n",
            "«     └───────────────────────────────┘└───┘┌─┴─┐»\n",
            "«q_3: ──────────────────────────────────────┤ X ├»\n",
            "«                                           └───┘»\n",
            "«q_4: ───────────────────────────────────────────»\n",
            "«                                                »\n",
            "«                                                                            »\n",
            "«q_0: ───────────────────────────────────■───────────────────────────────────»\n",
            "«              ┌──────────────┐        ┌─┴─┐┌───────────────────────────────┐»\n",
            "«q_1: ─────────┤ U1(2.0*x[1]) ├────────┤ X ├┤ U1(2.0*(π - x[0])*(π - x[1])) ├»\n",
            "«              └──────────────┘        └───┘└─────────────┬───┬─────────────┘»\n",
            "«q_2: ───────────────────────────────────■────────────────┤ H ├──────────────»\n",
            "«     ┌───────────────────────────────┐┌─┴─┐              └───┘              »\n",
            "«q_3: ┤ U1(2.0*(π - x[2])*(π - x[3])) ├┤ X ├────────────────■────────────────»\n",
            "«     └───────────────────────────────┘└───┘              ┌─┴─┐              »\n",
            "«q_4: ────────────────────────────────────────────────────┤ X ├──────────────»\n",
            "«                                                         └───┘              »\n",
            "«                                      ┌───┐         ┌──────────────┐        »\n",
            "«q_0: ────────────────■────────────────┤ H ├─────────┤ U1(2.0*x[0]) ├────────»\n",
            "«                   ┌─┴─┐              └───┘         └──────────────┘        »\n",
            "«q_1: ──────────────┤ X ├────────────────■───────────────────────────────────»\n",
            "«              ┌────┴───┴─────┐        ┌─┴─┐┌───────────────────────────────┐»\n",
            "«q_2: ─────────┤ U1(2.0*x[2]) ├────────┤ X ├┤ U1(2.0*(π - x[1])*(π - x[2])) ├»\n",
            "«              └──────────────┘        └───┘└─────────────┬───┬─────────────┘»\n",
            "«q_3: ───────────────────────────────────■────────────────┤ H ├──────────────»\n",
            "«     ┌───────────────────────────────┐┌─┴─┐              ├───┤              »\n",
            "«q_4: ┤ U1(2.0*(π - x[3])*(π - x[4])) ├┤ X ├──────────────┤ H ├──────────────»\n",
            "«     └───────────────────────────────┘└───┘              └───┘              »\n",
            "«                                                                »\n",
            "«q_0: ────────────────────────────────────────────────────────■──»\n",
            "«                     ┌───┐         ┌──────────────┐        ┌─┴─┐»\n",
            "«q_1: ───────■────────┤ H ├─────────┤ U1(2.0*x[1]) ├────────┤ X ├»\n",
            "«          ┌─┴─┐      └───┘         └──────────────┘        └───┘»\n",
            "«q_2: ─────┤ X ├────────■─────────────────────────────────────■──»\n",
            "«     ┌────┴───┴─────┐┌─┴─┐┌───────────────────────────────┐┌─┴─┐»\n",
            "«q_3: ┤ U1(2.0*x[3]) ├┤ X ├┤ U1(2.0*(π - x[2])*(π - x[3])) ├┤ X ├»\n",
            "«     ├──────────────┤└───┘└───────────────────────────────┘└───┘»\n",
            "«q_4: ┤ U1(2.0*x[4]) ├───────────────────────────────────────────»\n",
            "«     └──────────────┘                                           »\n",
            "«                                                                            »\n",
            "«q_0: ─────────────────────────────────────────────────■─────────────────────»\n",
            "«     ┌───────────────────────────────┐              ┌─┴─┐                   »\n",
            "«q_1: ┤ U1(2.0*(π - x[0])*(π - x[1])) ├──────────────┤ X ├────────────────■──»\n",
            "«     └─────────────┬───┬─────────────┘         ┌────┴───┴─────┐        ┌─┴─┐»\n",
            "«q_2: ──────────────┤ H ├───────────────────────┤ U1(2.0*x[2]) ├────────┤ X ├»\n",
            "«                   └───┘                       └──────────────┘        └───┘»\n",
            "«q_3: ────────────────■───────────────────────────────────────────────────■──»\n",
            "«                   ┌─┴─┐              ┌───────────────────────────────┐┌─┴─┐»\n",
            "«q_4: ──────────────┤ X ├──────────────┤ U1(2.0*(π - x[3])*(π - x[4])) ├┤ X ├»\n",
            "«                   └───┘              └───────────────────────────────┘└───┘»\n",
            "«                                                           »\n",
            "«q_0: ──────────────────────────────────────────────────────»\n",
            "«                                                           »\n",
            "«q_1: ────────────────────────────────────────■─────────────»\n",
            "«     ┌───────────────────────────────┐     ┌─┴─┐           »\n",
            "«q_2: ┤ U1(2.0*(π - x[1])*(π - x[2])) ├─────┤ X ├────────■──»\n",
            "«     └─────────────┬───┬─────────────┘┌────┴───┴─────┐┌─┴─┐»\n",
            "«q_3: ──────────────┤ H ├──────────────┤ U1(2.0*x[3]) ├┤ X ├»\n",
            "«                   ├───┤              ├──────────────┤└───┘»\n",
            "«q_4: ──────────────┤ H ├──────────────┤ U1(2.0*x[4]) ├─────»\n",
            "«                   └───┘              └──────────────┘     »\n",
            "«                                                »\n",
            "«q_0: ───────────────────────────────────────────»\n",
            "«                                                »\n",
            "«q_1: ───────────────────────────────────────────»\n",
            "«                                                »\n",
            "«q_2: ───────────────────────────────────■───────»\n",
            "«     ┌───────────────────────────────┐┌─┴─┐     »\n",
            "«q_3: ┤ U1(2.0*(π - x[2])*(π - x[3])) ├┤ X ├──■──»\n",
            "«     └───────────────────────────────┘└───┘┌─┴─┐»\n",
            "«q_4: ──────────────────────────────────────┤ X ├»\n",
            "«                                           └───┘»\n",
            "«                                           \n",
            "«q_0: ──────────────────────────────────────\n",
            "«                                           \n",
            "«q_1: ──────────────────────────────────────\n",
            "«                                           \n",
            "«q_2: ──────────────────────────────────────\n",
            "«                                           \n",
            "«q_3: ───────────────────────────────────■──\n",
            "«     ┌───────────────────────────────┐┌─┴─┐\n",
            "«q_4: ┤ U1(2.0*(π - x[3])*(π - x[4])) ├┤ X ├\n",
            "«     └───────────────────────────────┘└───┘\n"
          ]
        },
        {
          "output_type": "execute_result",
          "data": {
            "text/html": [
              "<pre style=\"word-wrap: normal;white-space: pre;background: #fff0;line-height: 1.1;font-family: &quot;Courier New&quot;,Courier,monospace\">     ┌─────────────────────────────────────────┐\n",
              "q_0: ┤0                                        ├\n",
              "     │                                         │\n",
              "q_1: ┤1                                        ├\n",
              "     │                                         │\n",
              "q_2: ┤2 ZZFeatureMap(x[0],x[1],x[2],x[3],x[4]) ├\n",
              "     │                                         │\n",
              "q_3: ┤3                                        ├\n",
              "     │                                         │\n",
              "q_4: ┤4                                        ├\n",
              "     └─────────────────────────────────────────┘</pre>"
            ],
            "text/plain": [
              "     ┌─────────────────────────────────────────┐\n",
              "q_0: ┤0                                        ├\n",
              "     │                                         │\n",
              "q_1: ┤1                                        ├\n",
              "     │                                         │\n",
              "q_2: ┤2 ZZFeatureMap(x[0],x[1],x[2],x[3],x[4]) ├\n",
              "     │                                         │\n",
              "q_3: ┤3                                        ├\n",
              "     │                                         │\n",
              "q_4: ┤4                                        ├\n",
              "     └─────────────────────────────────────────┘"
            ]
          },
          "metadata": {},
          "execution_count": 15
        }
      ]
    },
    {
      "cell_type": "code",
      "metadata": {
        "colab": {
          "base_uri": "https://localhost:8080/",
          "height": 378
        },
        "id": "MTnBET8SvF4K",
        "outputId": "a2a2e8f5-ca43-48c6-bc40-cefdc68804ee"
      },
      "source": [
        "print(zfeat_map)\n",
        "zfeat_map.draw()"
      ],
      "execution_count": 16,
      "outputs": [
        {
          "output_type": "stream",
          "name": "stdout",
          "text": [
            "     ┌───┐┌──────────────┐┌───┐┌──────────────┐┌───┐┌──────────────┐\n",
            "q_0: ┤ H ├┤ U1(2.0*x[0]) ├┤ H ├┤ U1(2.0*x[0]) ├┤ H ├┤ U1(2.0*x[0]) ├\n",
            "     ├───┤├──────────────┤├───┤├──────────────┤├───┤├──────────────┤\n",
            "q_1: ┤ H ├┤ U1(2.0*x[1]) ├┤ H ├┤ U1(2.0*x[1]) ├┤ H ├┤ U1(2.0*x[1]) ├\n",
            "     ├───┤├──────────────┤├───┤├──────────────┤├───┤├──────────────┤\n",
            "q_2: ┤ H ├┤ U1(2.0*x[2]) ├┤ H ├┤ U1(2.0*x[2]) ├┤ H ├┤ U1(2.0*x[2]) ├\n",
            "     ├───┤├──────────────┤├───┤├──────────────┤├───┤├──────────────┤\n",
            "q_3: ┤ H ├┤ U1(2.0*x[3]) ├┤ H ├┤ U1(2.0*x[3]) ├┤ H ├┤ U1(2.0*x[3]) ├\n",
            "     ├───┤├──────────────┤├───┤├──────────────┤├───┤├──────────────┤\n",
            "q_4: ┤ H ├┤ U1(2.0*x[4]) ├┤ H ├┤ U1(2.0*x[4]) ├┤ H ├┤ U1(2.0*x[4]) ├\n",
            "     └───┘└──────────────┘└───┘└──────────────┘└───┘└──────────────┘\n"
          ]
        },
        {
          "output_type": "execute_result",
          "data": {
            "text/html": [
              "<pre style=\"word-wrap: normal;white-space: pre;background: #fff0;line-height: 1.1;font-family: &quot;Courier New&quot;,Courier,monospace\">     ┌────────────────────────────────────────┐\n",
              "q_0: ┤0                                       ├\n",
              "     │                                        │\n",
              "q_1: ┤1                                       ├\n",
              "     │                                        │\n",
              "q_2: ┤2 ZFeatureMap(x[0],x[1],x[2],x[3],x[4]) ├\n",
              "     │                                        │\n",
              "q_3: ┤3                                       ├\n",
              "     │                                        │\n",
              "q_4: ┤4                                       ├\n",
              "     └────────────────────────────────────────┘</pre>"
            ],
            "text/plain": [
              "     ┌────────────────────────────────────────┐\n",
              "q_0: ┤0                                       ├\n",
              "     │                                        │\n",
              "q_1: ┤1                                       ├\n",
              "     │                                        │\n",
              "q_2: ┤2 ZFeatureMap(x[0],x[1],x[2],x[3],x[4]) ├\n",
              "     │                                        │\n",
              "q_3: ┤3                                       ├\n",
              "     │                                        │\n",
              "q_4: ┤4                                       ├\n",
              "     └────────────────────────────────────────┘"
            ]
          },
          "metadata": {},
          "execution_count": 16
        }
      ]
    },
    {
      "cell_type": "code",
      "metadata": {
        "colab": {
          "base_uri": "https://localhost:8080/",
          "height": 1000
        },
        "id": "KcWdvgTYvG7U",
        "outputId": "3e043a1c-4897-4221-f22d-97fe33df052f"
      },
      "source": [
        "print(pauli_map)\n",
        "pauli_map.draw()"
      ],
      "execution_count": 17,
      "outputs": [
        {
          "output_type": "stream",
          "name": "stdout",
          "text": [
            "     ┌───┐┌───┐┌──────────────┐┌───┐┌─────────┐┌──────────────┐┌──────────┐»\n",
            "q_0: ┤ H ├┤ H ├┤ U1(2.0*x[0]) ├┤ H ├┤ Rx(π/2) ├┤ U1(2.0*x[0]) ├┤ Rx(-π/2) ├»\n",
            "     ├───┤├───┤├──────────────┤├───┤├─────────┤├──────────────┤├──────────┤»\n",
            "q_1: ┤ H ├┤ H ├┤ U1(2.0*x[1]) ├┤ H ├┤ Rx(π/2) ├┤ U1(2.0*x[1]) ├┤ Rx(-π/2) ├»\n",
            "     ├───┤├───┤├──────────────┤├───┤├─────────┤├──────────────┤├──────────┤»\n",
            "q_2: ┤ H ├┤ H ├┤ U1(2.0*x[2]) ├┤ H ├┤ Rx(π/2) ├┤ U1(2.0*x[2]) ├┤ Rx(-π/2) ├»\n",
            "     ├───┤├───┤├──────────────┤├───┤├─────────┤├──────────────┤├──────────┤»\n",
            "q_3: ┤ H ├┤ H ├┤ U1(2.0*x[3]) ├┤ H ├┤ Rx(π/2) ├┤ U1(2.0*x[3]) ├┤ Rx(-π/2) ├»\n",
            "     ├───┤├───┤├──────────────┤├───┤├─────────┤├──────────────┤├──────────┤»\n",
            "q_4: ┤ H ├┤ H ├┤ U1(2.0*x[4]) ├┤ H ├┤ Rx(π/2) ├┤ U1(2.0*x[4]) ├┤ Rx(-π/2) ├»\n",
            "     └───┘└───┘└──────────────┘└───┘└─────────┘└──────────────┘└──────────┘»\n",
            "«                                                     »\n",
            "«q_0: ──■─────────────────────────────────────■────■──»\n",
            "«     ┌─┴─┐┌───────────────────────────────┐┌─┴─┐  │  »\n",
            "«q_1: ┤ X ├┤ U1(2.0*(π - x[0])*(π - x[1])) ├┤ X ├──┼──»\n",
            "«     └───┘└───────────────────────────────┘└───┘┌─┴─┐»\n",
            "«q_2: ───────────────────────────────────────────┤ X ├»\n",
            "«                                                └───┘»\n",
            "«q_3: ────────────────────────────────────────────────»\n",
            "«                                                     »\n",
            "«q_4: ────────────────────────────────────────────────»\n",
            "«                                                     »\n",
            "«                                                     »\n",
            "«q_0: ───────────────────────────────────■─────────■──»\n",
            "«                                        │         │  »\n",
            "«q_1: ───────────────────────────────────┼────■────┼──»\n",
            "«     ┌───────────────────────────────┐┌─┴─┐┌─┴─┐  │  »\n",
            "«q_2: ┤ U1(2.0*(π - x[0])*(π - x[2])) ├┤ X ├┤ X ├──┼──»\n",
            "«     └───────────────────────────────┘└───┘└───┘┌─┴─┐»\n",
            "«q_3: ───────────────────────────────────────────┤ X ├»\n",
            "«                                                └───┘»\n",
            "«q_4: ────────────────────────────────────────────────»\n",
            "«                                                     »\n",
            "«                                                          »\n",
            "«q_0: ────────────────────────────────────────■─────────■──»\n",
            "«                                             │         │  »\n",
            "«q_1: ───────────────────────────────────■────┼────■────┼──»\n",
            "«     ┌───────────────────────────────┐┌─┴─┐  │    │    │  »\n",
            "«q_2: ┤ U1(2.0*(π - x[1])*(π - x[2])) ├┤ X ├──┼────┼────┼──»\n",
            "«     ├───────────────────────────────┤└───┘┌─┴─┐┌─┴─┐  │  »\n",
            "«q_3: ┤ U1(2.0*(π - x[0])*(π - x[3])) ├─────┤ X ├┤ X ├──┼──»\n",
            "«     └───────────────────────────────┘     └───┘└───┘┌─┴─┐»\n",
            "«q_4: ────────────────────────────────────────────────┤ X ├»\n",
            "«                                                     └───┘»\n",
            "«                                                ┌───┐┌───┐»\n",
            "«q_0: ────────────────────────────────────────■──┤ H ├┤ H ├»\n",
            "«                                             │  └───┘└───┘»\n",
            "«q_1: ───────────────────────────────────■────┼─────────■──»\n",
            "«                                        │    │         │  »\n",
            "«q_2: ───────────────────────────────────┼────┼────■────┼──»\n",
            "«     ┌───────────────────────────────┐┌─┴─┐  │  ┌─┴─┐  │  »\n",
            "«q_3: ┤ U1(2.0*(π - x[1])*(π - x[3])) ├┤ X ├──┼──┤ X ├──┼──»\n",
            "«     ├───────────────────────────────┤└───┘┌─┴─┐└───┘┌─┴─┐»\n",
            "«q_4: ┤ U1(2.0*(π - x[0])*(π - x[4])) ├─────┤ X ├─────┤ X ├»\n",
            "«     └───────────────────────────────┘     └───┘     └───┘»\n",
            "«              ┌──────────────┐        ┌───┐┌─────────┐┌──────────────┐»\n",
            "«q_0: ─────────┤ U1(2.0*x[0]) ├────────┤ H ├┤ Rx(π/2) ├┤ U1(2.0*x[0]) ├»\n",
            "«              └──────────────┘        └───┘└─────────┘└────┬───┬─────┘»\n",
            "«q_1: ───────────────────────────────────────────■──────────┤ H ├──────»\n",
            "«                                                │          └───┘      »\n",
            "«q_2: ───────────────────────────────────■───────┼────────────■────────»\n",
            "«     ┌───────────────────────────────┐┌─┴─┐     │            │        »\n",
            "«q_3: ┤ U1(2.0*(π - x[2])*(π - x[3])) ├┤ X ├─────┼────────────┼────────»\n",
            "«     ├───────────────────────────────┤└───┘   ┌─┴─┐        ┌─┴─┐      »\n",
            "«q_4: ┤ U1(2.0*(π - x[1])*(π - x[4])) ├────────┤ X ├────────┤ X ├──────»\n",
            "«     └───────────────────────────────┘        └───┘        └───┘      »\n",
            "«                ┌──────────┐                               »\n",
            "«q_0: ───────────┤ Rx(-π/2) ├───────────────────────────────»\n",
            "«                └──┬───┬───┘          ┌──────────────┐┌───┐»\n",
            "«q_1: ──────────────┤ H ├──────────────┤ U1(2.0*x[1]) ├┤ H ├»\n",
            "«                   └───┘              └──────────────┘├───┤»\n",
            "«q_2: ────────────────────────────────────────■────────┤ H ├»\n",
            "«                                             │        └───┘»\n",
            "«q_3: ────────────────────────────────────────┼──────────■──»\n",
            "«     ┌───────────────────────────────┐     ┌─┴─┐      ┌─┴─┐»\n",
            "«q_4: ┤ U1(2.0*(π - x[2])*(π - x[4])) ├─────┤ X ├──────┤ X ├»\n",
            "«     └───────────────────────────────┘     └───┘      └───┘»\n",
            "«                                                                             »\n",
            "«q_0: ──────────────────────────────────────────────────────────────────■─────»\n",
            "«                ┌─────────┐           ┌──────────────┐┌──────────┐   ┌─┴─┐   »\n",
            "«q_1: ───────────┤ Rx(π/2) ├───────────┤ U1(2.0*x[1]) ├┤ Rx(-π/2) ├───┤ X ├───»\n",
            "«                └──┬───┬──┘           ├──────────────┤└──┬───┬───┘┌──┴───┴──┐»\n",
            "«q_2: ──────────────┤ H ├──────────────┤ U1(2.0*x[2]) ├───┤ H ├────┤ Rx(π/2) ├»\n",
            "«                   └───┘              └──────────────┘   ├───┤    └──┬───┬──┘»\n",
            "«q_3: ────────────────────────────────────────■───────────┤ H ├───────┤ H ├───»\n",
            "«     ┌───────────────────────────────┐     ┌─┴─┐         ├───┤       ├───┤   »\n",
            "«q_4: ┤ U1(2.0*(π - x[3])*(π - x[4])) ├─────┤ X ├─────────┤ H ├───────┤ H ├───»\n",
            "«     └───────────────────────────────┘     └───┘         └───┘       └───┘   »\n",
            "«                                                             »\n",
            "«q_0: ──────────────────────────────────────■───────────■─────»\n",
            "«     ┌───────────────────────────────┐   ┌─┴─┐         │     »\n",
            "«q_1: ┤ U1(2.0*(π - x[0])*(π - x[1])) ├───┤ X ├─────────┼─────»\n",
            "«     └────────┬──────────────┬───────┘┌──┴───┴───┐   ┌─┴─┐   »\n",
            "«q_2: ─────────┤ U1(2.0*x[2]) ├────────┤ Rx(-π/2) ├───┤ X ├───»\n",
            "«              ├──────────────┤        └──┬───┬───┘┌──┴───┴──┐»\n",
            "«q_3: ─────────┤ U1(2.0*x[3]) ├───────────┤ H ├────┤ Rx(π/2) ├»\n",
            "«              ├──────────────┤           ├───┤    ├─────────┤»\n",
            "«q_4: ─────────┤ U1(2.0*x[4]) ├───────────┤ H ├────┤ Rx(π/2) ├»\n",
            "«              └──────────────┘           └───┘    └─────────┘»\n",
            "«                                                            »\n",
            "«q_0: ──────────────────────────────────────■─────────────■──»\n",
            "«                                           │             │  »\n",
            "«q_1: ──────────────────────────────────────┼────────■────┼──»\n",
            "«     ┌───────────────────────────────┐   ┌─┴─┐    ┌─┴─┐  │  »\n",
            "«q_2: ┤ U1(2.0*(π - x[0])*(π - x[2])) ├───┤ X ├────┤ X ├──┼──»\n",
            "«     └────────┬──────────────┬───────┘┌──┴───┴───┐└───┘┌─┴─┐»\n",
            "«q_3: ─────────┤ U1(2.0*x[3]) ├────────┤ Rx(-π/2) ├─────┤ X ├»\n",
            "«              ├──────────────┤        ├──────────┤     └───┘»\n",
            "«q_4: ─────────┤ U1(2.0*x[4]) ├────────┤ Rx(-π/2) ├──────────»\n",
            "«              └──────────────┘        └──────────┘          »\n",
            "«                                                          »\n",
            "«q_0: ────────────────────────────────────────■─────────■──»\n",
            "«                                             │         │  »\n",
            "«q_1: ───────────────────────────────────■────┼────■────┼──»\n",
            "«     ┌───────────────────────────────┐┌─┴─┐  │    │    │  »\n",
            "«q_2: ┤ U1(2.0*(π - x[1])*(π - x[2])) ├┤ X ├──┼────┼────┼──»\n",
            "«     ├───────────────────────────────┤└───┘┌─┴─┐┌─┴─┐  │  »\n",
            "«q_3: ┤ U1(2.0*(π - x[0])*(π - x[3])) ├─────┤ X ├┤ X ├──┼──»\n",
            "«     └───────────────────────────────┘     └───┘└───┘┌─┴─┐»\n",
            "«q_4: ────────────────────────────────────────────────┤ X ├»\n",
            "«                                                     └───┘»\n",
            "«                                                ┌───┐┌───┐»\n",
            "«q_0: ────────────────────────────────────────■──┤ H ├┤ H ├»\n",
            "«                                             │  └───┘└───┘»\n",
            "«q_1: ───────────────────────────────────■────┼─────────■──»\n",
            "«                                        │    │         │  »\n",
            "«q_2: ───────────────────────────────────┼────┼────■────┼──»\n",
            "«     ┌───────────────────────────────┐┌─┴─┐  │  ┌─┴─┐  │  »\n",
            "«q_3: ┤ U1(2.0*(π - x[1])*(π - x[3])) ├┤ X ├──┼──┤ X ├──┼──»\n",
            "«     ├───────────────────────────────┤└───┘┌─┴─┐└───┘┌─┴─┐»\n",
            "«q_4: ┤ U1(2.0*(π - x[0])*(π - x[4])) ├─────┤ X ├─────┤ X ├»\n",
            "«     └───────────────────────────────┘     └───┘     └───┘»\n",
            "«              ┌──────────────┐        ┌───┐┌─────────┐┌──────────────┐»\n",
            "«q_0: ─────────┤ U1(2.0*x[0]) ├────────┤ H ├┤ Rx(π/2) ├┤ U1(2.0*x[0]) ├»\n",
            "«              └──────────────┘        └───┘└─────────┘└────┬───┬─────┘»\n",
            "«q_1: ───────────────────────────────────────────■──────────┤ H ├──────»\n",
            "«                                                │          └───┘      »\n",
            "«q_2: ───────────────────────────────────■───────┼────────────■────────»\n",
            "«     ┌───────────────────────────────┐┌─┴─┐     │            │        »\n",
            "«q_3: ┤ U1(2.0*(π - x[2])*(π - x[3])) ├┤ X ├─────┼────────────┼────────»\n",
            "«     ├───────────────────────────────┤└───┘   ┌─┴─┐        ┌─┴─┐      »\n",
            "«q_4: ┤ U1(2.0*(π - x[1])*(π - x[4])) ├────────┤ X ├────────┤ X ├──────»\n",
            "«     └───────────────────────────────┘        └───┘        └───┘      »\n",
            "«                ┌──────────┐                               »\n",
            "«q_0: ───────────┤ Rx(-π/2) ├───────────────────────────────»\n",
            "«                └──┬───┬───┘          ┌──────────────┐┌───┐»\n",
            "«q_1: ──────────────┤ H ├──────────────┤ U1(2.0*x[1]) ├┤ H ├»\n",
            "«                   └───┘              └──────────────┘├───┤»\n",
            "«q_2: ────────────────────────────────────────■────────┤ H ├»\n",
            "«                                             │        └───┘»\n",
            "«q_3: ────────────────────────────────────────┼──────────■──»\n",
            "«     ┌───────────────────────────────┐     ┌─┴─┐      ┌─┴─┐»\n",
            "«q_4: ┤ U1(2.0*(π - x[2])*(π - x[4])) ├─────┤ X ├──────┤ X ├»\n",
            "«     └───────────────────────────────┘     └───┘      └───┘»\n",
            "«                                                                             »\n",
            "«q_0: ──────────────────────────────────────────────────────────────────■─────»\n",
            "«                ┌─────────┐           ┌──────────────┐┌──────────┐   ┌─┴─┐   »\n",
            "«q_1: ───────────┤ Rx(π/2) ├───────────┤ U1(2.0*x[1]) ├┤ Rx(-π/2) ├───┤ X ├───»\n",
            "«                └──┬───┬──┘           ├──────────────┤└──┬───┬───┘┌──┴───┴──┐»\n",
            "«q_2: ──────────────┤ H ├──────────────┤ U1(2.0*x[2]) ├───┤ H ├────┤ Rx(π/2) ├»\n",
            "«                   └───┘              └──────────────┘   ├───┤    └──┬───┬──┘»\n",
            "«q_3: ────────────────────────────────────────■───────────┤ H ├───────┤ H ├───»\n",
            "«     ┌───────────────────────────────┐     ┌─┴─┐         ├───┤       ├───┤   »\n",
            "«q_4: ┤ U1(2.0*(π - x[3])*(π - x[4])) ├─────┤ X ├─────────┤ H ├───────┤ H ├───»\n",
            "«     └───────────────────────────────┘     └───┘         └───┘       └───┘   »\n",
            "«                                                             »\n",
            "«q_0: ──────────────────────────────────────■───────────■─────»\n",
            "«     ┌───────────────────────────────┐   ┌─┴─┐         │     »\n",
            "«q_1: ┤ U1(2.0*(π - x[0])*(π - x[1])) ├───┤ X ├─────────┼─────»\n",
            "«     └────────┬──────────────┬───────┘┌──┴───┴───┐   ┌─┴─┐   »\n",
            "«q_2: ─────────┤ U1(2.0*x[2]) ├────────┤ Rx(-π/2) ├───┤ X ├───»\n",
            "«              ├──────────────┤        └──┬───┬───┘┌──┴───┴──┐»\n",
            "«q_3: ─────────┤ U1(2.0*x[3]) ├───────────┤ H ├────┤ Rx(π/2) ├»\n",
            "«              ├──────────────┤           ├───┤    ├─────────┤»\n",
            "«q_4: ─────────┤ U1(2.0*x[4]) ├───────────┤ H ├────┤ Rx(π/2) ├»\n",
            "«              └──────────────┘           └───┘    └─────────┘»\n",
            "«                                                            »\n",
            "«q_0: ──────────────────────────────────────■─────────────■──»\n",
            "«                                           │             │  »\n",
            "«q_1: ──────────────────────────────────────┼────────■────┼──»\n",
            "«     ┌───────────────────────────────┐   ┌─┴─┐    ┌─┴─┐  │  »\n",
            "«q_2: ┤ U1(2.0*(π - x[0])*(π - x[2])) ├───┤ X ├────┤ X ├──┼──»\n",
            "«     └────────┬──────────────┬───────┘┌──┴───┴───┐└───┘┌─┴─┐»\n",
            "«q_3: ─────────┤ U1(2.0*x[3]) ├────────┤ Rx(-π/2) ├─────┤ X ├»\n",
            "«              ├──────────────┤        ├──────────┤     └───┘»\n",
            "«q_4: ─────────┤ U1(2.0*x[4]) ├────────┤ Rx(-π/2) ├──────────»\n",
            "«              └──────────────┘        └──────────┘          »\n",
            "«                                                          »\n",
            "«q_0: ────────────────────────────────────────■─────────■──»\n",
            "«                                             │         │  »\n",
            "«q_1: ───────────────────────────────────■────┼────■────┼──»\n",
            "«     ┌───────────────────────────────┐┌─┴─┐  │    │    │  »\n",
            "«q_2: ┤ U1(2.0*(π - x[1])*(π - x[2])) ├┤ X ├──┼────┼────┼──»\n",
            "«     ├───────────────────────────────┤└───┘┌─┴─┐┌─┴─┐  │  »\n",
            "«q_3: ┤ U1(2.0*(π - x[0])*(π - x[3])) ├─────┤ X ├┤ X ├──┼──»\n",
            "«     └───────────────────────────────┘     └───┘└───┘┌─┴─┐»\n",
            "«q_4: ────────────────────────────────────────────────┤ X ├»\n",
            "«                                                     └───┘»\n",
            "«                                                          »\n",
            "«q_0: ────────────────────────────────────────■────────────»\n",
            "«                                             │            »\n",
            "«q_1: ───────────────────────────────────■────┼─────────■──»\n",
            "«                                        │    │         │  »\n",
            "«q_2: ───────────────────────────────────┼────┼────■────┼──»\n",
            "«     ┌───────────────────────────────┐┌─┴─┐  │  ┌─┴─┐  │  »\n",
            "«q_3: ┤ U1(2.0*(π - x[1])*(π - x[3])) ├┤ X ├──┼──┤ X ├──┼──»\n",
            "«     ├───────────────────────────────┤└───┘┌─┴─┐└───┘┌─┴─┐»\n",
            "«q_4: ┤ U1(2.0*(π - x[0])*(π - x[4])) ├─────┤ X ├─────┤ X ├»\n",
            "«     └───────────────────────────────┘     └───┘     └───┘»\n",
            "«                                                     »\n",
            "«q_0: ────────────────────────────────────────────────»\n",
            "«                                                     »\n",
            "«q_1: ────────────────────────────────────────■───────»\n",
            "«                                             │       »\n",
            "«q_2: ───────────────────────────────────■────┼────■──»\n",
            "«     ┌───────────────────────────────┐┌─┴─┐  │    │  »\n",
            "«q_3: ┤ U1(2.0*(π - x[2])*(π - x[3])) ├┤ X ├──┼────┼──»\n",
            "«     ├───────────────────────────────┤└───┘┌─┴─┐┌─┴─┐»\n",
            "«q_4: ┤ U1(2.0*(π - x[1])*(π - x[4])) ├─────┤ X ├┤ X ├»\n",
            "«     └───────────────────────────────┘     └───┘└───┘»\n",
            "«                                                »\n",
            "«q_0: ───────────────────────────────────────────»\n",
            "«                                                »\n",
            "«q_1: ───────────────────────────────────────────»\n",
            "«                                                »\n",
            "«q_2: ───────────────────────────────────■───────»\n",
            "«                                        │       »\n",
            "«q_3: ───────────────────────────────────┼────■──»\n",
            "«     ┌───────────────────────────────┐┌─┴─┐┌─┴─┐»\n",
            "«q_4: ┤ U1(2.0*(π - x[2])*(π - x[4])) ├┤ X ├┤ X ├»\n",
            "«     └───────────────────────────────┘└───┘└───┘»\n",
            "«                                           \n",
            "«q_0: ──────────────────────────────────────\n",
            "«                                           \n",
            "«q_1: ──────────────────────────────────────\n",
            "«                                           \n",
            "«q_2: ──────────────────────────────────────\n",
            "«                                           \n",
            "«q_3: ───────────────────────────────────■──\n",
            "«     ┌───────────────────────────────┐┌─┴─┐\n",
            "«q_4: ┤ U1(2.0*(π - x[3])*(π - x[4])) ├┤ X ├\n",
            "«     └───────────────────────────────┘└───┘\n"
          ]
        },
        {
          "output_type": "execute_result",
          "data": {
            "text/html": [
              "<pre style=\"word-wrap: normal;white-space: pre;background: #fff0;line-height: 1.1;font-family: &quot;Courier New&quot;,Courier,monospace\">     ┌────────────────────────────────────────────┐\n",
              "q_0: ┤0                                           ├\n",
              "     │                                            │\n",
              "q_1: ┤1                                           ├\n",
              "     │                                            │\n",
              "q_2: ┤2 PauliFeatureMap(x[0],x[1],x[2],x[3],x[4]) ├\n",
              "     │                                            │\n",
              "q_3: ┤3                                           ├\n",
              "     │                                            │\n",
              "q_4: ┤4                                           ├\n",
              "     └────────────────────────────────────────────┘</pre>"
            ],
            "text/plain": [
              "     ┌────────────────────────────────────────────┐\n",
              "q_0: ┤0                                           ├\n",
              "     │                                            │\n",
              "q_1: ┤1                                           ├\n",
              "     │                                            │\n",
              "q_2: ┤2 PauliFeatureMap(x[0],x[1],x[2],x[3],x[4]) ├\n",
              "     │                                            │\n",
              "q_3: ┤3                                           ├\n",
              "     │                                            │\n",
              "q_4: ┤4                                           ├\n",
              "     └────────────────────────────────────────────┘"
            ]
          },
          "metadata": {},
          "execution_count": 17
        }
      ]
    }
  ]
}