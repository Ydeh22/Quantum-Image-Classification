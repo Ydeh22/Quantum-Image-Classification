{
 "cells": [
  {
   "cell_type": "code",
   "execution_count": 4,
   "id": "e3f5e773-338a-44ad-93d0-0512e8349e6e",
   "metadata": {
    "id": "e3f5e773-338a-44ad-93d0-0512e8349e6e"
   },
   "outputs": [],
   "source": [
    "from qiskit import *\n",
    "from qiskit import IBMQ\n",
    "from qiskit.compiler import transpile, assemble\n",
    "from qiskit.tools.jupyter import *\n",
    "from qiskit.visualization import *\n",
    "from qiskit.providers.aer.noise import NoiseModel\n",
    "from qiskit.providers.aer import noise\n",
    "\n",
    "import skimage.color\n",
    "import numpy as np\n",
    "import matplotlib.pyplot as plt\n",
    "from matplotlib import style\n",
    "style.use('bmh')\n",
    "import math\n",
    "from skimage.transform import resize\n",
    "from sklearn.svm import SVC\n",
    "import cv2\n",
    "import time"
   ]
  },
  {
   "cell_type": "code",
   "execution_count": 5,
   "id": "-o757W65dSIL",
   "metadata": {
    "id": "-o757W65dSIL"
   },
   "outputs": [],
   "source": [
    "#@title ImageUtils code preprocessing, spliting, merging\n",
    "class ImageUtils(object):\n",
    "  #1. resize to 8 pixels\n",
    "  #2. convert RGB to gray scale\n",
    "  #3. apply OTSU threshold to enhance image\n",
    "  #4. convert image to floating point\n",
    "  @staticmethod\n",
    "  def preProcess(image,verbose=False):\n",
    "    image = resize(image, (32,32),anti_aliasing=True)\n",
    "    if verbose:\n",
    "      print(image.shape)\n",
    "\n",
    "    if len(image.shape) == 3:\n",
    "        image = cv2.cvtColor(image, cv2.COLOR_RGB2GRAY)\n",
    "\n",
    "    bg=cv2.morphologyEx(image, cv2.MORPH_DILATE, cv2.getStructuringElement(cv2.MORPH_RECT , (8,8)))\n",
    "    out_gray=cv2.divide(image, bg, scale=255)\n",
    "    out_gray = out_gray.astype(np.uint8)\n",
    "    image=cv2.threshold(out_gray, 0, 255, cv2.THRESH_OTSU )[1]\n",
    "    if image.max() > 1.0:\n",
    "      image = image[:,:]/255\n",
    "    return image\n",
    "  \n",
    "  #split image in N image_crop_size blocks\n",
    "  @staticmethod\n",
    "  def split_image(image,image_crop_size):\n",
    "    (imageWidth, imageHeight)=image.shape\n",
    "    gridx = gridy = image_crop_size\n",
    "    image_splits = []\n",
    "    for h in range(0,imageHeight,gridy):\n",
    "        for w in range(0,imageWidth,gridx):\n",
    "            slice_bit = image[h:h+gridy, w:w+gridx]\n",
    "            if slice_bit.max() > 1.0:\n",
    "              slice_bit = slice_bit / 255\n",
    "            image_splits.append(slice_bit)\n",
    "    # print(len(image_splits), len(image_splits[0]),len(image_splits[-1]))\n",
    "    assert len(image_splits) != len(image_splits[0]) and len(image_splits[-1])\n",
    "    return image_splits\n",
    "\n",
    "  #Helper function for concat_tile\n",
    "  @staticmethod\n",
    "  def hconcat_resize_min(im_list, interpolation=cv2.INTER_CUBIC):\n",
    "    h_min = min(im.shape[0] for im in im_list)\n",
    "    im_list_resize = [cv2.resize(im, (int(im.shape[1] * h_min / im.shape[0]), h_min), interpolation=interpolation) for im in im_list]\n",
    "    return cv2.hconcat(im_list_resize)\n",
    "  #Helper function for concat_tile\n",
    "  @staticmethod\n",
    "  def vconcat_resize_min(im_list, interpolation=cv2.INTER_CUBIC):\n",
    "      w_min = min(im.shape[1] for im in im_list)\n",
    "      im_list_resize = [cv2.resize(im, (w_min, int(im.shape[0] * w_min / im.shape[1])), interpolation=interpolation) for im in im_list]\n",
    "      return cv2.vconcat(im_list_resize)\n",
    "  # Helper function for mergeAndDisplay : 2d Grid of Images, output: merged image\n",
    "  @staticmethod\n",
    "  def concat_tile_resize(im_list_2d, interpolation=cv2.INTER_CUBIC):\n",
    "      im_list_v = [ImageUtils.hconcat_resize_min(im_list_h, interpolation=cv2.INTER_CUBIC) for im_list_h in im_list_2d]\n",
    "      return ImageUtils.vconcat_resize_min(im_list_v, interpolation=cv2.INTER_CUBIC)\n",
    "  \n",
    "  # input: 1D list of image splits, number of patches in one row\n",
    "  @staticmethod\n",
    "  def mergeAndDisplay(image_splits, patch_per_line,verbose=False):\n",
    "    img_list = []\n",
    "    cur = []\n",
    "    for i,img in enumerate(image_splits):\n",
    "      if i!=0 and i % patch_per_line == 0:\n",
    "        img_list.append(cur)\n",
    "        cur = []\n",
    "      cur.append(img)\n",
    "    img_list.append(cur)\n",
    "    im_tile_resize = ImageUtils.concat_tile_resize(img_list)\n",
    "    if verbose:\n",
    "      plt.imshow(im_tile_resize)\n",
    "      plt.show()\n",
    "    return im_tile_resize"
   ]
  },
  {
   "cell_type": "code",
   "execution_count": 27,
   "id": "giAEk3WlbdNq",
   "metadata": {
    "id": "giAEk3WlbdNq"
   },
   "outputs": [],
   "source": [
    "#@title QuantumProcessor code:- simulator circuit todo: real quantum machine\n",
    "class QuantumProcessor(object):\n",
    "  def __init__(self,image_crop_size):\n",
    "    # Initialize some global variable for number of qubits\n",
    "    self.image_crop_size = image_crop_size\n",
    "    self.data_qb = math.ceil(math.log2(image_crop_size**2))\n",
    "    anc_qb = 1\n",
    "    self.total_qb = self.data_qb + anc_qb\n",
    "    print('total qbits ' ,self.total_qb)\n",
    "    # Initialize the amplitude permutation unitary\n",
    "    self.D2n_1 = np.roll(np.identity(2**self.total_qb), 1, axis=1)\n",
    "\n",
    "  # Convert the raw pixel values to probability amplitudes\n",
    "  def amplitude_encode(self,img_data):\n",
    "    rms = np.sqrt(np.sum(np.sum(img_data**2, axis=1)))\n",
    "    image_norm = []\n",
    "    for arr in img_data:\n",
    "      for ele in arr:\n",
    "        image_norm.append(ele / rms)      \n",
    "    return np.array(image_norm)\n",
    "\n",
    "\n",
    "  def get_noise_model(self):\n",
    "    noise_model = NoiseModel()\n",
    "    # Error probabilities\n",
    "    prob_1 = 0.5  # 1-qubit gate\n",
    "    prob_2 = 0.5   # 2-qubit gate\n",
    "\n",
    "    # Depolarizing quantum errors\n",
    "    error_1 = noise.depolarizing_error(prob_1, 1)\n",
    "    error_2 = noise.depolarizing_error(prob_2, 2)\n",
    "\n",
    "    # Add errors to noise model\n",
    "    noise_model = noise.NoiseModel()\n",
    "    noise_model.add_all_qubit_quantum_error(error_1, ['u1', 'u2', 'u3', 'h', 'id', 'rz', 'sx', 'rx', 'ry'])\n",
    "    noise_model.add_all_qubit_quantum_error(error_2, ['cx'])\n",
    "    \n",
    "    return noise_model\n",
    "\n",
    "  # runing the ciruit on simulator\n",
    "  def runOnSimulator(self,back, circuit, qc_h, qc_v):\n",
    "    noise_model = self.get_noise_model()\n",
    "    results = execute(circuit, backend=back, noise_model=noise_model).result()\n",
    "    sv_h = results.get_statevector(qc_h)\n",
    "    sv_v = results.get_statevector(qc_v)\n",
    "    return sv_h,sv_v\n",
    "\n",
    "  def getImgCropSize(self):\n",
    "    return self.image_crop_size\n",
    "\n",
    "  # input: 1D splited images, output: edge detected 1D splitted images\n",
    "  def simulatorCircuit(self,image_splits,verbose=False):\n",
    "    threshold = lambda amp: (amp > 1e-15 or amp < -1e-15)\n",
    "    back = Aer.get_backend('statevector_simulator')\n",
    "    qc_h = QuantumCircuit(self.total_qb)\n",
    "    qc_v = QuantumCircuit(self.total_qb)\n",
    "\n",
    "    edges = []\n",
    "    tot_time = time.time()\n",
    "    for i in range(len(image_splits)):\n",
    "        start_time = time.time() \n",
    "        img = image_splits[i]\n",
    "        if img.sum() == 0:\n",
    "          edges.append(img.astype(int))\n",
    "          continue\n",
    "\n",
    "        #encoding\n",
    "        image_norm_h = self.amplitude_encode(img)\n",
    "        if verbose:\n",
    "          print(\"h\", image_norm_h.sum())\n",
    "        image_norm_v = self.amplitude_encode(img.T)\n",
    "        if verbose:\n",
    "          print(\"v\", image_norm_v.sum())\n",
    "      \n",
    "        # horizontal\n",
    "        qc_h.initialize(image_norm_h, range(1, self.total_qb))\n",
    "        qc_h.h(0)\n",
    "        qc_h.unitary(self.D2n_1, range(self.total_qb))\n",
    "        qc_h.h(0)\n",
    "        \n",
    "        # vertical    \n",
    "        qc_v.initialize(image_norm_v, range(1, self.total_qb))\n",
    "        qc_v.h(0)\n",
    "        qc_v.unitary(self.D2n_1, range(self.total_qb))\n",
    "        qc_v.h(0)\n",
    "\n",
    "        circ_list = [qc_h, qc_v]\n",
    "        \n",
    "        #running the ciruit \n",
    "        sv_h, sv_v = self.runOnSimulator(back, circ_list, qc_h, qc_v)\n",
    "\n",
    "        edge_scan_h = np.abs(np.array([1 if threshold(sv_h[2*i+1].real) else 0 for i in range(2**self.data_qb)])).reshape(self.image_crop_size, self.image_crop_size)\n",
    "        edge_scan_v = np.abs(np.array([1 if threshold(sv_v[2*i+1].real) else 0 for i in range(2**self.data_qb)])).reshape(self.image_crop_size, self.image_crop_size).T\n",
    "        edge_scan_sim = edge_scan_h | edge_scan_v\n",
    "        if verbose:\n",
    "          plt.imshow(edge_scan_sim)\n",
    "          plt.show()\n",
    "          print(edge_scan_sim.shape)\n",
    "        edges.append(edge_scan_sim)\n",
    "        if verbose:\n",
    "          print(i,\":->\",time.time() - start_time)\n",
    "        # plot_image(edge_scan_sim, 'Edge Detected image')\n",
    "    if verbose:\n",
    "      print('total time',time.time() -  tot_time)\n",
    "    return edges\n",
    "\n",
    "  def quantumEdgeDetect(self,img,qProcessor,verbose = False):\n",
    "    if verbose:\n",
    "      plt.imshow(img)\n",
    "      plt.show()\n",
    "    img = ImageUtils.preProcess(img,verbose)\n",
    "    if verbose:\n",
    "      plt.imshow(img)\n",
    "      plt.show()\n",
    "    img_grid = ImageUtils.split_image(img,qProcessor.getImgCropSize())\n",
    "\n",
    "    edges = qProcessor.simulatorCircuit(img_grid,verbose)\n",
    "    merged_img = ImageUtils.mergeAndDisplay(edges,img.shape[0]/qProcessor.getImgCropSize(),verbose)\n",
    "    \n",
    "    return merged_img\n"
   ]
  },
  {
   "cell_type": "code",
   "execution_count": 28,
   "id": "hrkBLHz9CO5_",
   "metadata": {
    "colab": {
     "base_uri": "https://localhost:8080/",
     "height": 357
    },
    "id": "hrkBLHz9CO5_",
    "outputId": "8a5ea773-e18a-46a7-e8f9-f244e69d84f5"
   },
   "outputs": [
    {
     "name": "stdout",
     "output_type": "stream",
     "text": [
      "Train: X=(60000, 28, 28), y=(60000,)\n",
      "Test: X=(10000, 28, 28), y=(10000,)\n"
     ]
    },
    {
     "data": {
      "image/png": "[encoded data removed]",
      "text/plain": [
       "<Figure size 432x288 with 9 Axes>"
      ]
     },
     "metadata": {
      "needs_background": "light"
     },
     "output_type": "display_data"
    }
   ],
   "source": [
    "#load dataset\n",
    "from tensorflow.keras.datasets import mnist\n",
    "(trainX, trainy), (testX, testy) = mnist.load_data()\n",
    "print('Train: X=%s, y=%s' % (trainX.shape, trainy.shape))\n",
    "print('Test: X=%s, y=%s' % (testX.shape, testy.shape))\n",
    "# plot first few images\n",
    "for i in range(9):\n",
    "\tplt.subplot(330 + 1 + i)\n",
    "\tplt.imshow(trainX[i], cmap=plt.get_cmap('gray'))\n",
    "plt.show()"
   ]
  },
  {
   "cell_type": "code",
   "execution_count": 29,
   "id": "69WW7LtUiSGt",
   "metadata": {
    "colab": {
     "base_uri": "https://localhost:8080/"
    },
    "id": "69WW7LtUiSGt",
    "outputId": "ee8c9808-68e5-421d-ff1b-f80ba0cb0b4e"
   },
   "outputs": [
    {
     "name": "stdout",
     "output_type": "stream",
     "text": [
      "total qbits  5\n"
     ]
    }
   ],
   "source": [
    "#config\n",
    "image_crop_size =4\n",
    "qProcessor = QuantumProcessor(image_crop_size)\n",
    "\n",
    "#testing on 1 image\n",
    "merged_img = qProcessor.quantumEdgeDetect(trainX[1],qProcessor)"
   ]
  },
  {
   "cell_type": "code",
   "execution_count": 30,
   "id": "6cBB3lYl061G",
   "metadata": {
    "colab": {
     "base_uri": "https://localhost:8080/",
     "height": 262
    },
    "id": "6cBB3lYl061G",
    "outputId": "34283ff3-9245-4cf4-855c-612ca429cf30"
   },
   "outputs": [
    {
     "data": {
      "image/png": "[encoded data removed]",
      "text/plain": [
       "<Figure size 432x288 with 1 Axes>"
      ]
     },
     "metadata": {
      "needs_background": "light"
     },
     "output_type": "display_data"
    }
   ],
   "source": [
    "plt.imshow(merged_img)\n",
    "plt.show()"
   ]
  },
  {
   "cell_type": "code",
   "execution_count": 31,
   "id": "6a6a34e1",
   "metadata": {},
   "outputs": [],
   "source": [
    "### Test data from Noiseless Model\n",
    "# testNsample = 50\n",
    "# newTestX = np.zeros((testNsample, 32*32))\n",
    "# for i in range(testNsample):\n",
    "#   newTestX[i] = qProcessor.quantumEdgeDetect(testX[i],qProcessor).flatten()\n",
    "#   if i%10==0:\n",
    "#     print('status :',i,'/',testNsample)"
   ]
  },
  {
   "cell_type": "code",
   "execution_count": 32,
   "id": "L_HmOJ8KiMJ7",
   "metadata": {
    "colab": {
     "base_uri": "https://localhost:8080/"
    },
    "id": "L_HmOJ8KiMJ7",
    "outputId": "543b970d-c6d2-49fb-9939-d6e4f514cf09"
   },
   "outputs": [
    {
     "name": "stdout",
     "output_type": "stream",
     "text": [
      "status : 0 / 100\n",
      "status : 10 / 100\n",
      "status : 20 / 100\n",
      "status : 30 / 100\n",
      "status : 40 / 100\n",
      "status : 50 / 100\n",
      "status : 60 / 100\n",
      "status : 70 / 100\n",
      "status : 80 / 100\n",
      "status : 90 / 100\n",
      "Time taken:  1005.0725486278534\n"
     ]
    }
   ],
   "source": [
    "# 32 x 32 because MNIST is resized to 32 pixels\n",
    "start_time = time.time()\n",
    "trainNsample = 100\n",
    "newTrainX = np.zeros((trainNsample, 32*32))\n",
    "for i in range(trainNsample):\n",
    "  newTrainX[i] = qProcessor.quantumEdgeDetect(trainX[i],qProcessor).flatten()\n",
    "  if i%10==0:\n",
    "    print('status :',i,'/',trainNsample)\n",
    "# testNsample = 50\n",
    "# newTestX = np.zeros((testNsample, 32*32))\n",
    "# for i in range(testNsample):\n",
    "#   newTestX[i] = qProcessor.quantumEdgeDetect(testX[i],qProcessor).flatten()\n",
    "#   if i%10==0:\n",
    "#     print('status :',i,'/',testNsample)\n",
    "print(\"Time taken: \", time.time() - start_time)"
   ]
  },
  {
   "cell_type": "code",
   "execution_count": 33,
   "id": "HfKQ1Y4NNqzf",
   "metadata": {
    "colab": {
     "base_uri": "https://localhost:8080/"
    },
    "id": "HfKQ1Y4NNqzf",
    "outputId": "7ae7fc8b-5fb6-472e-a223-36d11d7fbc5f"
   },
   "outputs": [
    {
     "name": "stderr",
     "output_type": "stream",
     "text": [
      "[Parallel(n_jobs=5)]: Using backend ThreadingBackend with 5 concurrent workers.\n"
     ]
    },
    {
     "name": "stdout",
     "output_type": "stream",
     "text": [
      "convergence after 23 epochs took 0 seconds\n"
     ]
    },
    {
     "name": "stderr",
     "output_type": "stream",
     "text": [
      "[Parallel(n_jobs=5)]: Done   1 out of   1 | elapsed:    0.3s finished\n"
     ]
    }
   ],
   "source": [
    "from sklearn.linear_model import LogisticRegression\n",
    "clf2 = LogisticRegression(fit_intercept=True,\n",
    "                        multi_class='auto',\n",
    "                        penalty='l1', #lasso regression\n",
    "                        solver='saga',\n",
    "                        max_iter=1000,\n",
    "                        C=50,\n",
    "                        verbose=2, # output progress\n",
    "                        n_jobs=5, # parallelize over 5 processes\n",
    "                        tol=0.01\n",
    "                         )\n",
    "\n",
    "clf2 = clf2.fit(newTrainX, trainy[:trainNsample])"
   ]
  },
  {
   "cell_type": "code",
   "execution_count": 34,
   "id": "BnlKNY9QRUXQ",
   "metadata": {
    "colab": {
     "base_uri": "https://localhost:8080/"
    },
    "id": "BnlKNY9QRUXQ",
    "outputId": "3701b7b4-5cb1-4cd1-f53e-d722d591e600"
   },
   "outputs": [
    {
     "name": "stderr",
     "output_type": "stream",
     "text": [
      "[Parallel(n_jobs=5)]: Using backend ThreadingBackend with 5 concurrent workers.\n"
     ]
    },
    {
     "name": "stdout",
     "output_type": "stream",
     "text": [
      "Epoch 1, change: 1.00000000\n",
      "Epoch 2, change: 0.32636203\n",
      "Epoch 3, change: 0.20380949\n",
      "Epoch 4, change: 0.13484133\n",
      "Epoch 5, change: 0.09213156\n",
      "Epoch 6, change: 0.06916304\n",
      "Epoch 7, change: 0.05427290\n",
      "Epoch 8, change: 0.04475800\n",
      "Epoch 9, change: 0.04196752\n",
      "Epoch 10, change: 0.04118643\n",
      "Epoch 11, change: 0.02889099\n",
      "Epoch 12, change: 0.02705847\n",
      "Epoch 13, change: 0.02603209\n",
      "Epoch 14, change: 0.02216500\n",
      "Epoch 15, change: 0.01983248\n",
      "Epoch 16, change: 0.01776451\n",
      "Epoch 17, change: 0.01667656\n",
      "Epoch 18, change: 0.01583128\n",
      "Epoch 19, change: 0.01591191\n",
      "Epoch 20, change: 0.01418449\n",
      "Epoch 21, change: 0.01332105\n",
      "Epoch 22, change: 0.01194587\n",
      "Epoch 23, change: 0.01128380\n",
      "Epoch 24, change: 0.01066460\n",
      "Epoch 25, change: 0.01052319\n",
      "Epoch 1, change: 1.00000000\n",
      "Epoch 2, change: 0.30547570\n",
      "Epoch 3, change: 0.18110667\n",
      "Epoch 4, change: 0.14360956\n",
      "Epoch 5, change: 0.09206451\n",
      "Epoch 6, change: 0.06399742\n",
      "Epoch 7, change: 0.04876959\n",
      "Epoch 8, change: 0.05611048\n",
      "Epoch 9, change: 0.04282859\n",
      "Epoch 10, change: 0.03338475\n",
      "Epoch 11, change: 0.03011967\n",
      "Epoch 12, change: 0.03226602\n",
      "Epoch 13, change: 0.02208382\n",
      "Epoch 14, change: 0.02118847\n",
      "Epoch 15, change: 0.01943531\n",
      "Epoch 16, change: 0.01748252\n",
      "Epoch 17, change: 0.01515951\n",
      "Epoch 18, change: 0.01417716\n",
      "Epoch 19, change: 0.01340289\n",
      "Epoch 20, change: 0.01249077\n",
      "Epoch 21, change: 0.01195249\n",
      "Epoch 22, change: 0.01127763\n",
      "Epoch 23, change: 0.01030402\n",
      "Epoch 24, change: 0.01002528\n",
      "Epoch 1, change: 1.00000000\n",
      "Epoch 2, change: 0.26694602\n",
      "Epoch 3, change: 0.22734906\n",
      "Epoch 4, change: 0.12638934\n",
      "Epoch 5, change: 0.10509029\n",
      "Epoch 6, change: 0.07449480\n",
      "Epoch 7, change: 0.06123174\n",
      "Epoch 8, change: 0.05400832\n",
      "Epoch 9, change: 0.04667994\n",
      "Epoch 10, change: 0.03804918\n",
      "Epoch 11, change: 0.03451572\n",
      "Epoch 12, change: 0.03179293\n",
      "Epoch 13, change: 0.02835694\n",
      "Epoch 14, change: 0.02910831\n",
      "Epoch 15, change: 0.01971334\n",
      "Epoch 16, change: 0.01879888\n",
      "Epoch 17, change: 0.01806453\n",
      "Epoch 18, change: 0.01815275\n",
      "Epoch 19, change: 0.01620323\n",
      "Epoch 20, change: 0.01436693\n",
      "Epoch 21, change: 0.01390184\n",
      "Epoch 22, change: 0.01308355\n",
      "Epoch 23, change: 0.01265749\n",
      "Epoch 24, change: 0.01212223\n",
      "Epoch 25, change: 0.01121320\n",
      "Epoch 26, change: 0.01098512\n",
      "Epoch 27, change: 0.01076094\n",
      "Epoch 1, change: 1.00000000\n",
      "Epoch 2, change: 0.39502460\n",
      "Epoch 3, change: 0.21511518\n",
      "Epoch 4, change: 0.17891562\n",
      "Epoch 5, change: 0.10551843\n",
      "Epoch 6, change: 0.06694328\n",
      "Epoch 7, change: 0.06308182\n",
      "Epoch 8, change: 0.06676360\n",
      "Epoch 9, change: 0.04501969\n",
      "Epoch 10, change: 0.04646259\n",
      "Epoch 11, change: 0.04757866\n",
      "Epoch 12, change: 0.04081690\n",
      "Epoch 13, change: 0.03197803\n",
      "Epoch 14, change: 0.02613586\n",
      "Epoch 15, change: 0.02465540\n",
      "Epoch 16, change: 0.01991635\n",
      "Epoch 17, change: 0.02111384\n",
      "Epoch 18, change: 0.01897662\n",
      "Epoch 19, change: 0.01888804\n",
      "Epoch 20, change: 0.01625493\n",
      "Epoch 21, change: 0.01527973\n",
      "Epoch 22, change: 0.01367352\n",
      "Epoch 23, change: 0.01297833\n",
      "Epoch 24, change: 0.01220824\n",
      "Epoch 25, change: 0.01173612\n",
      "Epoch 26, change: 0.01108785\n",
      "Epoch 27, change: 0.01067263\n",
      "Epoch 1, change: 1.00000000\n",
      "Epoch 2, change: 0.39704148\n",
      "Epoch 3, change: 0.22995615\n",
      "Epoch 4, change: 0.14143478\n",
      "Epoch 5, change: 0.10913287\n",
      "Epoch 6, change: 0.06644957\n",
      "Epoch 7, change: 0.05944086\n",
      "Epoch 8, change: 0.04363458\n",
      "Epoch 9, change: 0.03961246\n",
      "Epoch 10, change: 0.02722572\n",
      "Epoch 11, change: 0.02727791\n",
      "Epoch 12, change: 0.02348328\n",
      "Epoch 13, change: 0.02264361\n",
      "Epoch 14, change: 0.01981188\n",
      "Epoch 15, change: 0.01698594\n",
      "Epoch 16, change: 0.01552320\n",
      "Epoch 17, change: 0.01473386\n",
      "Epoch 18, change: 0.01367300\n",
      "Epoch 19, change: 0.01295046\n",
      "Epoch 20, change: 0.01195100\n",
      "Epoch 21, change: 0.01084386\n",
      "Epoch 22, change: 0.01086338\n",
      "Epoch 1, change: 1.00000000\n",
      "Epoch 2, change: 0.32143603\n",
      "Epoch 3, change: 0.17449096\n",
      "Epoch 4, change: 0.13000711\n",
      "Epoch 5, change: 0.09473763\n",
      "Epoch 6, change: 0.08891544\n",
      "Epoch 7, change: 0.04701305\n",
      "Epoch 8, change: 0.04336601\n",
      "Epoch 9, change: 0.03791407\n",
      "Epoch 10, change: 0.03341745\n",
      "Epoch 11, change: 0.03008200\n",
      "Epoch 12, change: 0.02346257\n",
      "Epoch 13, change: 0.02249564\n",
      "Epoch 14, change: 0.02031865\n",
      "Epoch 15, change: 0.01938391\n",
      "Epoch 16, change: 0.01678065\n",
      "Epoch 17, change: 0.01651515\n",
      "Epoch 18, change: 0.01375935\n",
      "Epoconvergence after 25 epochs took 0 seconds\n",
      "Accuracy on test dataset = 0.74\n"
     ]
    },
    {
     "name": "stderr",
     "output_type": "stream",
     "text": [
      "[Parallel(n_jobs=5)]: Done   1 out of   1 | elapsed:    0.3s finished\n"
     ]
    }
   ],
   "source": [
    "clf2 = clf2.fit(newTrainX, trainy[:trainNsample])\n",
    "print(\"Accuracy on test dataset = %3.2f\" %(clf2.score(newTestX, testy[:testNsample])))"
   ]
  },
  {
   "cell_type": "code",
   "execution_count": 51,
   "id": "a67d642b",
   "metadata": {},
   "outputs": [],
   "source": [
    "# Noise 0: 0.78\n",
    "# Noise 0.001, 0.001: 0.78\n",
    "# Noise 0.01, 0.01: 0.76\n",
    "# Noise 0.1, 0.1: 0.74\n",
    "# Noise 0.5, 0.5: 0.74"
   ]
  },
  {
   "cell_type": "markdown",
   "id": "C9HEz-H0rFd9",
   "metadata": {
    "id": "C9HEz-H0rFd9"
   },
   "source": [
    "# Visualization"
   ]
  },
  {
   "cell_type": "code",
   "execution_count": 25,
   "id": "1oUbCgk-rHpM",
   "metadata": {
    "colab": {
     "base_uri": "https://localhost:8080/",
     "height": 262
    },
    "id": "1oUbCgk-rHpM",
    "outputId": "8631946b-86a7-4e26-a12d-e61ffcf685fc"
   },
   "outputs": [
    {
     "data": {
      "image/png": "[encoded data removed]",
      "text/plain": [
       "<Figure size 432x288 with 1 Axes>"
      ]
     },
     "metadata": {
      "needs_background": "light"
     },
     "output_type": "display_data"
    }
   ],
   "source": [
    "plt.imshow(trainX[0])\n",
    "plt.show()"
   ]
  },
  {
   "cell_type": "code",
   "execution_count": 26,
   "id": "WybK3S_eubxa",
   "metadata": {
    "colab": {
     "base_uri": "https://localhost:8080/",
     "height": 497
    },
    "id": "WybK3S_eubxa",
    "outputId": "629d07d9-0d6f-4e26-99e4-d216ead0fbcb"
   },
   "outputs": [
    {
     "name": "stdout",
     "output_type": "stream",
     "text": [
      "49\n"
     ]
    },
    {
     "data": {
      "image/png": "[encoded data removed]",
      "text/plain": [
       "<Figure size 576x576 with 49 Axes>"
      ]
     },
     "metadata": {
      "needs_background": "light"
     },
     "output_type": "display_data"
    }
   ],
   "source": [
    "img_list = ImageUtils.split_image(trainX[0],4)\n",
    "print(len(img_list))\n",
    "fig = plt.figure(figsize=(8,8))\n",
    "columns = rows= int(np.sqrt(len(img_list)))\n",
    "\n",
    "for i in range(1, columns*rows +1):\n",
    "    fig.add_subplot(rows, columns, i)\n",
    "    plt.imshow(img_list[i-1])\n",
    "plt.show()"
   ]
  },
  {
   "cell_type": "code",
   "execution_count": 35,
   "id": "mqChjYhTudwt",
   "metadata": {
    "colab": {
     "base_uri": "https://localhost:8080/",
     "height": 497
    },
    "id": "mqChjYhTudwt",
    "outputId": "b6763183-19e0-417b-dc60-43147a1be4b5",
    "scrolled": true
   },
   "outputs": [
    {
     "name": "stdout",
     "output_type": "stream",
     "text": [
      "64\n"
     ]
    },
    {
     "data": {
      "image/png": "[encoded data removed]",
      "text/plain": [
       "<Figure size 576x576 with 64 Axes>"
      ]
     },
     "metadata": {
      "needs_background": "light"
     },
     "output_type": "display_data"
    }
   ],
   "source": [
    "merged_img = qProcessor.quantumEdgeDetect(trainX[0],qProcessor)\n",
    "img_list = ImageUtils.split_image(merged_img,4)\n",
    "print(len(img_list))\n",
    "fig = plt.figure(figsize=(8,8))\n",
    "columns = rows= int(np.sqrt(len(img_list)))\n",
    "\n",
    "for i in range(1, columns*rows +1):\n",
    "    fig.add_subplot(rows, columns, i)\n",
    "    plt.imshow(img_list[i-1])\n",
    "plt.show()"
   ]
  },
  {
   "cell_type": "markdown",
   "id": "1bcaaa19",
   "metadata": {},
   "source": [
    "### Pauli Error Noise Model"
   ]
  },
  {
   "cell_type": "code",
   "execution_count": 36,
   "id": "b9fe2064",
   "metadata": {},
   "outputs": [],
   "source": [
    "from qiskit.providers.aer.noise import pauli_error"
   ]
  },
  {
   "cell_type": "code",
   "execution_count": 39,
   "id": "e72ce23c",
   "metadata": {
    "id": "giAEk3WlbdNq"
   },
   "outputs": [],
   "source": [
    "#@title QuantumProcessor code:- simulator circuit todo: real quantum machine\n",
    "class QuantumProcessor(object):\n",
    "  def __init__(self,image_crop_size):\n",
    "    # Initialize some global variable for number of qubits\n",
    "    self.image_crop_size = image_crop_size\n",
    "    self.data_qb = math.ceil(math.log2(image_crop_size**2))\n",
    "    anc_qb = 1\n",
    "    self.total_qb = self.data_qb + anc_qb\n",
    "    print('total qbits ' ,self.total_qb)\n",
    "    # Initialize the amplitude permutation unitary\n",
    "    self.D2n_1 = np.roll(np.identity(2**self.total_qb), 1, axis=1)\n",
    "\n",
    "  # Convert the raw pixel values to probability amplitudes\n",
    "  def amplitude_encode(self,img_data):\n",
    "    rms = np.sqrt(np.sum(np.sum(img_data**2, axis=1)))\n",
    "    image_norm = []\n",
    "    for arr in img_data:\n",
    "      for ele in arr:\n",
    "        image_norm.append(ele / rms)      \n",
    "    return np.array(image_norm)\n",
    "\n",
    "\n",
    "  def get_noise_model(self):\n",
    "    noise_model = NoiseModel()\n",
    "    # Error probabilities\n",
    "    p_error = 0.001\n",
    "\n",
    "    #bit_flip = pauli_error([('X', p_error), ('I', 1 - p_error)])\n",
    "    phase_flip = pauli_error([('Z', p_error), ('I', 1 - p_error)])\n",
    "    \n",
    "    # Add errors to noise model\n",
    "    noise_model = noise.NoiseModel()\n",
    "    noise_model.add_all_qubit_quantum_error(phase_flip, ['u1', 'u2', 'u3', 'h', 'id', 'rz', 'sx', 'rx', 'ry'])\n",
    "    #noise_model.add_all_qubit_quantum_error(error_2, ['cx'])\n",
    "    \n",
    "    return noise_model\n",
    "\n",
    "  # runing the ciruit on simulator\n",
    "  def runOnSimulator(self,back, circuit, qc_h, qc_v):\n",
    "    noise_model = self.get_noise_model()\n",
    "    results = execute(circuit, backend=back, noise_model=noise_model).result()\n",
    "    sv_h = results.get_statevector(qc_h)\n",
    "    sv_v = results.get_statevector(qc_v)\n",
    "    return sv_h,sv_v\n",
    "\n",
    "  def getImgCropSize(self):\n",
    "    return self.image_crop_size\n",
    "\n",
    "  # input: 1D splited images, output: edge detected 1D splitted images\n",
    "  def simulatorCircuit(self,image_splits,verbose=False):\n",
    "    threshold = lambda amp: (amp > 1e-15 or amp < -1e-15)\n",
    "    back = Aer.get_backend('statevector_simulator')\n",
    "    qc_h = QuantumCircuit(self.total_qb)\n",
    "    qc_v = QuantumCircuit(self.total_qb)\n",
    "\n",
    "    edges = []\n",
    "    tot_time = time.time()\n",
    "    for i in range(len(image_splits)):\n",
    "        start_time = time.time() \n",
    "        img = image_splits[i]\n",
    "        if img.sum() == 0:\n",
    "          edges.append(img.astype(int))\n",
    "          continue\n",
    "\n",
    "        #encoding\n",
    "        image_norm_h = self.amplitude_encode(img)\n",
    "        if verbose:\n",
    "          print(\"h\", image_norm_h.sum())\n",
    "        image_norm_v = self.amplitude_encode(img.T)\n",
    "        if verbose:\n",
    "          print(\"v\", image_norm_v.sum())\n",
    "      \n",
    "        # horizontal\n",
    "        qc_h.initialize(image_norm_h, range(1, self.total_qb))\n",
    "        qc_h.h(0)\n",
    "        qc_h.unitary(self.D2n_1, range(self.total_qb))\n",
    "        qc_h.h(0)\n",
    "        \n",
    "        # vertical    \n",
    "        qc_v.initialize(image_norm_v, range(1, self.total_qb))\n",
    "        qc_v.h(0)\n",
    "        qc_v.unitary(self.D2n_1, range(self.total_qb))\n",
    "        qc_v.h(0)\n",
    "\n",
    "        circ_list = [qc_h, qc_v]\n",
    "        \n",
    "        #running the ciruit \n",
    "        sv_h, sv_v = self.runOnSimulator(back, circ_list, qc_h, qc_v)\n",
    "\n",
    "        edge_scan_h = np.abs(np.array([1 if threshold(sv_h[2*i+1].real) else 0 for i in range(2**self.data_qb)])).reshape(self.image_crop_size, self.image_crop_size)\n",
    "        edge_scan_v = np.abs(np.array([1 if threshold(sv_v[2*i+1].real) else 0 for i in range(2**self.data_qb)])).reshape(self.image_crop_size, self.image_crop_size).T\n",
    "        edge_scan_sim = edge_scan_h | edge_scan_v\n",
    "        if verbose:\n",
    "          plt.imshow(edge_scan_sim)\n",
    "          plt.show()\n",
    "          print(edge_scan_sim.shape)\n",
    "        edges.append(edge_scan_sim)\n",
    "        if verbose:\n",
    "          print(i,\":->\",time.time() - start_time)\n",
    "        # plot_image(edge_scan_sim, 'Edge Detected image')\n",
    "    if verbose:\n",
    "      print('total time',time.time() -  tot_time)\n",
    "    return edges\n",
    "\n",
    "  def quantumEdgeDetect(self,img,qProcessor,verbose = False):\n",
    "    if verbose:\n",
    "      plt.imshow(img)\n",
    "      plt.show()\n",
    "    img = ImageUtils.preProcess(img,verbose)\n",
    "    if verbose:\n",
    "      plt.imshow(img)\n",
    "      plt.show()\n",
    "    img_grid = ImageUtils.split_image(img,qProcessor.getImgCropSize())\n",
    "\n",
    "    edges = qProcessor.simulatorCircuit(img_grid,verbose)\n",
    "    merged_img = ImageUtils.mergeAndDisplay(edges,img.shape[0]/qProcessor.getImgCropSize(),verbose)\n",
    "    \n",
    "    return merged_img\n"
   ]
  },
  {
   "cell_type": "code",
   "execution_count": 40,
   "id": "hrkBLHz9CO5_",
   "metadata": {
    "colab": {
     "base_uri": "https://localhost:8080/",
     "height": 357
    },
    "id": "hrkBLHz9CO5_",
    "outputId": "8a5ea773-e18a-46a7-e8f9-f244e69d84f5"
   },
   "outputs": [
    {
     "name": "stdout",
     "output_type": "stream",
     "text": [
      "Train: X=(60000, 28, 28), y=(60000,)\n",
      "Test: X=(10000, 28, 28), y=(10000,)\n"
     ]
    },
    {
     "data": {
      "image/png": "[encoded data removed]",
      "text/plain": [
       "<Figure size 432x288 with 9 Axes>"
      ]
     },
     "metadata": {
      "needs_background": "light"
     },
     "output_type": "display_data"
    }
   ],
   "source": [
    "#load dataset\n",
    "from tensorflow.keras.datasets import mnist\n",
    "(trainX, trainy), (testX, testy) = mnist.load_data()\n",
    "print('Train: X=%s, y=%s' % (trainX.shape, trainy.shape))\n",
    "print('Test: X=%s, y=%s' % (testX.shape, testy.shape))\n",
    "# plot first few images\n",
    "for i in range(9):\n",
    "\tplt.subplot(330 + 1 + i)\n",
    "\tplt.imshow(trainX[i], cmap=plt.get_cmap('gray'))\n",
    "plt.show()"
   ]
  },
  {
   "cell_type": "code",
   "execution_count": 41,
   "id": "69WW7LtUiSGt",
   "metadata": {
    "colab": {
     "base_uri": "https://localhost:8080/"
    },
    "id": "69WW7LtUiSGt",
    "outputId": "ee8c9808-68e5-421d-ff1b-f80ba0cb0b4e"
   },
   "outputs": [
    {
     "name": "stdout",
     "output_type": "stream",
     "text": [
      "total qbits  5\n"
     ]
    }
   ],
   "source": [
    "#config\n",
    "image_crop_size =4\n",
    "qProcessor = QuantumProcessor(image_crop_size)\n",
    "\n",
    "#testing on 1 image\n",
    "merged_img = qProcessor.quantumEdgeDetect(trainX[23],qProcessor)"
   ]
  },
  {
   "cell_type": "code",
   "execution_count": 42,
   "id": "6cBB3lYl061G",
   "metadata": {
    "colab": {
     "base_uri": "https://localhost:8080/",
     "height": 262
    },
    "id": "6cBB3lYl061G",
    "outputId": "34283ff3-9245-4cf4-855c-612ca429cf30"
   },
   "outputs": [
    {
     "data": {
      "image/png": "[encoded data removed]",
      "text/plain": [
       "<Figure size 432x288 with 1 Axes>"
      ]
     },
     "metadata": {
      "needs_background": "light"
     },
     "output_type": "display_data"
    }
   ],
   "source": [
    "plt.imshow(merged_img)\n",
    "plt.show()"
   ]
  },
  {
   "cell_type": "code",
   "execution_count": 43,
   "id": "ab309cb1",
   "metadata": {},
   "outputs": [],
   "source": [
    "### Test data from Noiseless Model\n",
    "# testNsample = 50\n",
    "# newTestX = np.zeros((testNsample, 32*32))\n",
    "# for i in range(testNsample):\n",
    "#   newTestX[i] = qProcessor.quantumEdgeDetect(testX[i],qProcessor).flatten()\n",
    "#   if i%10==0:\n",
    "#     print('status :',i,'/',testNsample)"
   ]
  },
  {
   "cell_type": "code",
   "execution_count": null,
   "id": "L_HmOJ8KiMJ7",
   "metadata": {
    "colab": {
     "base_uri": "https://localhost:8080/"
    },
    "id": "L_HmOJ8KiMJ7",
    "outputId": "543b970d-c6d2-49fb-9939-d6e4f514cf09"
   },
   "outputs": [
    {
     "name": "stdout",
     "output_type": "stream",
     "text": [
      "status : 0 / 50\n",
      "status : 10 / 50\n",
      "status : 20 / 50\n",
      "status : 30 / 50\n",
      "status : 40 / 50\n"
     ]
    }
   ],
   "source": [
    "# 32 x 32 because MNIST is resized to 32 pixels\n",
    "start_time = time.time()\n",
    "trainNsample = 50\n",
    "newTrainX = np.zeros((trainNsample, 32*32))\n",
    "for i in range(trainNsample):\n",
    "  newTrainX[i] = qProcessor.quantumEdgeDetect(trainX[i],qProcessor).flatten()\n",
    "  if i%10==0:\n",
    "    print('status :',i,'/',trainNsample)\n",
    "# testNsample = 50\n",
    "# newTestX = np.zeros((testNsample, 32*32))\n",
    "# for i in range(testNsample):\n",
    "#   newTestX[i] = qProcessor.quantumEdgeDetect(testX[i],qProcessor).flatten()\n",
    "#   if i%10==0:\n",
    "#     print('status :',i,'/',testNsample)\n",
    "print(\"Time taken: \", time.time() - start_time)"
   ]
  },
  {
   "cell_type": "code",
   "execution_count": null,
   "id": "HfKQ1Y4NNqzf",
   "metadata": {
    "colab": {
     "base_uri": "https://localhost:8080/"
    },
    "id": "HfKQ1Y4NNqzf",
    "outputId": "7ae7fc8b-5fb6-472e-a223-36d11d7fbc5f"
   },
   "outputs": [],
   "source": [
    "from sklearn.linear_model import LogisticRegression\n",
    "clf2 = LogisticRegression(fit_intercept=True,\n",
    "                        multi_class='auto',\n",
    "                        penalty='l1', #lasso regression\n",
    "                        solver='saga',\n",
    "                        max_iter=1000,\n",
    "                        C=50,\n",
    "                        verbose=2, # output progress\n",
    "                        n_jobs=5, # parallelize over 5 processes\n",
    "                        tol=0.01\n",
    "                         )\n",
    "\n",
    "clf2 = clf2.fit(newTrainX, trainy[:trainNsample])"
   ]
  },
  {
   "cell_type": "code",
   "execution_count": null,
   "id": "BnlKNY9QRUXQ",
   "metadata": {
    "colab": {
     "base_uri": "https://localhost:8080/"
    },
    "id": "BnlKNY9QRUXQ",
    "outputId": "3701b7b4-5cb1-4cd1-f53e-d722d591e600"
   },
   "outputs": [],
   "source": [
    "clf2 = clf2.fit(newTrainX, trainy[:trainNsample])\n",
    "print(\"Accuracy on test dataset = %3.2f\" %(clf2.score(newTestX, testy[:testNsample])))"
   ]
  },
  {
   "cell_type": "code",
   "execution_count": null,
   "id": "32c44ecf",
   "metadata": {},
   "outputs": [],
   "source": []
  }
 ],
 "metadata": {
  "colab": {
   "collapsed_sections": [],
   "name": "EdgeDetection_LR_MNIST.ipynb",
   "provenance": [],
   "toc_visible": true
  },
  "kernelspec": {
   "display_name": "Python 3 (ipykernel)",
   "language": "python",
   "name": "python3"
  },
  "language_info": {
   "codemirror_mode": {
    "name": "ipython",
    "version": 3
   },
   "file_extension": ".py",
   "mimetype": "text/x-python",
   "name": "python",
   "nbconvert_exporter": "python",
   "pygments_lexer": "ipython3",
   "version": "3.9.7"
  }
 },
 "nbformat": 4,
 "nbformat_minor": 5
}
