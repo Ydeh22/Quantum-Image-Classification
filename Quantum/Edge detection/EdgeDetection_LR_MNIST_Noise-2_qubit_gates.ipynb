{
 "cells": [
  {
   "cell_type": "code",
   "execution_count": 1,
   "id": "SN4epwIl7OO8",
   "metadata": {
    "colab": {
     "base_uri": "https://localhost:8080/"
    },
    "id": "SN4epwIl7OO8",
    "outputId": "3eb6f9f3-923a-4fc0-9aa5-6a76a292a680"
   },
   "outputs": [
    {
     "name": "stdout",
     "output_type": "stream",
     "text": [
      "\u001b[K     |████████████████████████████████| 6.1 MB 4.7 MB/s \n",
      "\u001b[K     |████████████████████████████████| 17.9 MB 437 kB/s \n",
      "\u001b[K     |████████████████████████████████| 237 kB 49.9 MB/s \n",
      "\u001b[K     |████████████████████████████████| 207 kB 49.3 MB/s \n",
      "\u001b[K     |████████████████████████████████| 2.1 MB 35.4 MB/s \n",
      "\u001b[K     |████████████████████████████████| 634 kB 51.5 MB/s \n",
      "\u001b[K     |████████████████████████████████| 1.4 MB 53.0 MB/s \n",
      "\u001b[K     |████████████████████████████████| 52 kB 1.2 MB/s \n",
      "\u001b[K     |████████████████████████████████| 49 kB 5.2 MB/s \n",
      "\u001b[K     |████████████████████████████████| 943 kB 54.6 MB/s \n",
      "\u001b[K     |████████████████████████████████| 38.2 MB 76.3 MB/s \n",
      "\u001b[K     |████████████████████████████████| 3.6 MB 51.4 MB/s \n",
      "\u001b[K     |████████████████████████████████| 6.3 MB 28.0 MB/s \n",
      "\u001b[?25h  Building wheel for qiskit (setup.py) ... \u001b[?25l\u001b[?25hdone\n",
      "  Building wheel for dlx (setup.py) ... \u001b[?25l\u001b[?25hdone\n",
      "  Building wheel for docplex (setup.py) ... \u001b[?25l\u001b[?25hdone\n",
      "  Building wheel for python-constraint (setup.py) ... \u001b[?25l\u001b[?25hdone\n"
     ]
    }
   ],
   "source": [
    "! pip install qiskit -q"
   ]
  },
  {
   "cell_type": "code",
   "execution_count": 5,
   "id": "a2cbe631",
   "metadata": {},
   "outputs": [
    {
     "name": "stdout",
     "output_type": "stream",
     "text": [
      "Collecting opencv-python\n",
      "  Downloading opencv_python-4.5.4.60-cp39-cp39-manylinux_2_17_x86_64.manylinux2014_x86_64.whl (60.3 MB)\n",
      "\u001b[K     |████████████████████████████████| 60.3 MB 1.1 MB/s eta 0:00:01     |██████▎                         | 11.9 MB 3.9 MB/s eta 0:00:13     |███████████████▏                | 28.5 MB 4.8 MB/s eta 0:00:07\n",
      "\u001b[?25hRequirement already satisfied: numpy>=1.19.3 in /home/ytian/anaconda3/envs/11785_HW3/lib/python3.9/site-packages (from opencv-python) (1.21.2)\n",
      "Installing collected packages: opencv-python\n",
      "Successfully installed opencv-python-4.5.4.60\n"
     ]
    }
   ],
   "source": [
    "!pip install opencv-python"
   ]
  },
  {
   "cell_type": "code",
   "execution_count": 1,
   "id": "e3f5e773-338a-44ad-93d0-0512e8349e6e",
   "metadata": {
    "id": "e3f5e773-338a-44ad-93d0-0512e8349e6e"
   },
   "outputs": [],
   "source": [
    "from qiskit import *\n",
    "from qiskit import IBMQ\n",
    "from qiskit.compiler import transpile, assemble\n",
    "from qiskit.tools.jupyter import *\n",
    "from qiskit.visualization import *\n",
    "from qiskit.providers.aer.noise import NoiseModel\n",
    "from qiskit.providers.aer import noise\n",
    "\n",
    "import skimage.color\n",
    "import numpy as np\n",
    "import matplotlib.pyplot as plt\n",
    "from matplotlib import style\n",
    "style.use('bmh')\n",
    "import math\n",
    "from skimage.transform import resize\n",
    "from sklearn.svm import SVC\n",
    "import cv2\n",
    "import time"
   ]
  },
  {
   "cell_type": "code",
   "execution_count": 2,
   "id": "-o757W65dSIL",
   "metadata": {
    "id": "-o757W65dSIL"
   },
   "outputs": [],
   "source": [
    "#@title ImageUtils code preprocessing, spliting, merging\n",
    "class ImageUtils(object):\n",
    "  #1. resize to 8 pixels\n",
    "  #2. convert RGB to gray scale\n",
    "  #3. apply OTSU threshold to enhance image\n",
    "  #4. convert image to floating point\n",
    "  @staticmethod\n",
    "  def preProcess(image,verbose=False):\n",
    "    image = resize(image, (32,32),anti_aliasing=True)\n",
    "    if verbose:\n",
    "      print(image.shape)\n",
    "\n",
    "    if len(image.shape) == 3:\n",
    "        image = cv2.cvtColor(image, cv2.COLOR_RGB2GRAY)\n",
    "\n",
    "    bg=cv2.morphologyEx(image, cv2.MORPH_DILATE, cv2.getStructuringElement(cv2.MORPH_RECT , (8,8)))\n",
    "    out_gray=cv2.divide(image, bg, scale=255)\n",
    "    out_gray = out_gray.astype(np.uint8)\n",
    "    image=cv2.threshold(out_gray, 0, 255, cv2.THRESH_OTSU )[1]\n",
    "    if image.max() > 1.0:\n",
    "      image = image[:,:]/255\n",
    "    return image\n",
    "  \n",
    "  #split image in N image_crop_size blocks\n",
    "  @staticmethod\n",
    "  def split_image(image,image_crop_size):\n",
    "    (imageWidth, imageHeight)=image.shape\n",
    "    gridx = gridy = image_crop_size\n",
    "    image_splits = []\n",
    "    for h in range(0,imageHeight,gridy):\n",
    "        for w in range(0,imageWidth,gridx):\n",
    "            slice_bit = image[h:h+gridy, w:w+gridx]\n",
    "            if slice_bit.max() > 1.0:\n",
    "              slice_bit = slice_bit / 255\n",
    "            image_splits.append(slice_bit)\n",
    "    # print(len(image_splits), len(image_splits[0]),len(image_splits[-1]))\n",
    "    assert len(image_splits) != len(image_splits[0]) and len(image_splits[-1])\n",
    "    return image_splits\n",
    "\n",
    "  #Helper function for concat_tile\n",
    "  @staticmethod\n",
    "  def hconcat_resize_min(im_list, interpolation=cv2.INTER_CUBIC):\n",
    "    h_min = min(im.shape[0] for im in im_list)\n",
    "    im_list_resize = [cv2.resize(im, (int(im.shape[1] * h_min / im.shape[0]), h_min), interpolation=interpolation) for im in im_list]\n",
    "    return cv2.hconcat(im_list_resize)\n",
    "  #Helper function for concat_tile\n",
    "  @staticmethod\n",
    "  def vconcat_resize_min(im_list, interpolation=cv2.INTER_CUBIC):\n",
    "      w_min = min(im.shape[1] for im in im_list)\n",
    "      im_list_resize = [cv2.resize(im, (w_min, int(im.shape[0] * w_min / im.shape[1])), interpolation=interpolation) for im in im_list]\n",
    "      return cv2.vconcat(im_list_resize)\n",
    "  # Helper function for mergeAndDisplay : 2d Grid of Images, output: merged image\n",
    "  @staticmethod\n",
    "  def concat_tile_resize(im_list_2d, interpolation=cv2.INTER_CUBIC):\n",
    "      im_list_v = [ImageUtils.hconcat_resize_min(im_list_h, interpolation=cv2.INTER_CUBIC) for im_list_h in im_list_2d]\n",
    "      return ImageUtils.vconcat_resize_min(im_list_v, interpolation=cv2.INTER_CUBIC)\n",
    "  \n",
    "  # input: 1D list of image splits, number of patches in one row\n",
    "  @staticmethod\n",
    "  def mergeAndDisplay(image_splits, patch_per_line,verbose=False):\n",
    "    img_list = []\n",
    "    cur = []\n",
    "    for i,img in enumerate(image_splits):\n",
    "      if i!=0 and i % patch_per_line == 0:\n",
    "        img_list.append(cur)\n",
    "        cur = []\n",
    "      cur.append(img)\n",
    "    img_list.append(cur)\n",
    "    im_tile_resize = ImageUtils.concat_tile_resize(img_list)\n",
    "    if verbose:\n",
    "      plt.imshow(im_tile_resize)\n",
    "      plt.show()\n",
    "    return im_tile_resize"
   ]
  },
  {
   "cell_type": "code",
   "execution_count": 7,
   "id": "giAEk3WlbdNq",
   "metadata": {
    "id": "giAEk3WlbdNq"
   },
   "outputs": [],
   "source": [
    "#@title QuantumProcessor code:- simulator circuit todo: real quantum machine\n",
    "class QuantumProcessor(object):\n",
    "  def __init__(self,image_crop_size):\n",
    "    # Initialize some global variable for number of qubits\n",
    "    self.image_crop_size = image_crop_size\n",
    "    self.data_qb = math.ceil(math.log2(image_crop_size**2))\n",
    "    anc_qb = 1\n",
    "    self.total_qb = self.data_qb + anc_qb\n",
    "    print('total qbits ' ,self.total_qb)\n",
    "    # Initialize the amplitude permutation unitary\n",
    "    self.D2n_1 = np.roll(np.identity(2**self.total_qb), 1, axis=1)\n",
    "\n",
    "  # Convert the raw pixel values to probability amplitudes\n",
    "  def amplitude_encode(self,img_data):\n",
    "    rms = np.sqrt(np.sum(np.sum(img_data**2, axis=1)))\n",
    "    image_norm = []\n",
    "    for arr in img_data:\n",
    "      for ele in arr:\n",
    "        image_norm.append(ele / rms)      \n",
    "    return np.array(image_norm)\n",
    "\n",
    "\n",
    "  def get_noise_model(self):\n",
    "    noise_model = NoiseModel()\n",
    "    # Error probabilities\n",
    "    #prob_1 = 0.001  # 1-qubit gate\n",
    "    prob_2 = 0.000   # 2-qubit gate\n",
    "\n",
    "    # Depolarizing quantum errors\n",
    "#     error_1 = noise.depolarizing_error(prob_1, 1)\n",
    "    error_2 = noise.depolarizing_error(prob_2, 2)\n",
    "\n",
    "    # Add errors to noise model\n",
    "    noise_model = noise.NoiseModel()\n",
    "#     noise_model.add_all_qubit_quantum_error(error_1, ['u1', 'u2', 'u3', 'h', 'id', 'rz', 'sx', 'rx', 'ry'])\n",
    "    noise_model.add_all_qubit_quantum_error(error_2, ['cx'])\n",
    "    \n",
    "    return noise_model\n",
    "\n",
    "  # runing the ciruit on simulator\n",
    "  def runOnSimulator(self,back, circuit, qc_h, qc_v):\n",
    "    noise_model = self.get_noise_model()\n",
    "    results = execute(circuit, backend=back, noise_model=noise_model).result()\n",
    "    sv_h = results.get_statevector(qc_h)\n",
    "    sv_v = results.get_statevector(qc_v)\n",
    "    return sv_h,sv_v\n",
    "\n",
    "  def getImgCropSize(self):\n",
    "    return self.image_crop_size\n",
    "\n",
    "  # input: 1D splited images, output: edge detected 1D splitted images\n",
    "  def simulatorCircuit(self,image_splits,verbose=False):\n",
    "    threshold = lambda amp: (amp > 1e-15 or amp < -1e-15)\n",
    "    back = Aer.get_backend('statevector_simulator')\n",
    "    qc_h = QuantumCircuit(self.total_qb)\n",
    "    qc_v = QuantumCircuit(self.total_qb)\n",
    "\n",
    "    edges = []\n",
    "    tot_time = time.time()\n",
    "    for i in range(len(image_splits)):\n",
    "        start_time = time.time() \n",
    "        img = image_splits[i]\n",
    "        if img.sum() == 0:\n",
    "          edges.append(img.astype(int))\n",
    "          continue\n",
    "\n",
    "        #encoding\n",
    "        image_norm_h = self.amplitude_encode(img)\n",
    "        if verbose:\n",
    "          print(\"h\", image_norm_h.sum())\n",
    "        image_norm_v = self.amplitude_encode(img.T)\n",
    "        if verbose:\n",
    "          print(\"v\", image_norm_v.sum())\n",
    "      \n",
    "        # horizontal\n",
    "        qc_h.initialize(image_norm_h, range(1, self.total_qb))\n",
    "        qc_h.h(0)\n",
    "        qc_h.unitary(self.D2n_1, range(self.total_qb))\n",
    "        qc_h.h(0)\n",
    "        \n",
    "        # vertical    \n",
    "        qc_v.initialize(image_norm_v, range(1, self.total_qb))\n",
    "        qc_v.h(0)\n",
    "        qc_v.unitary(self.D2n_1, range(self.total_qb))\n",
    "        qc_v.h(0)\n",
    "\n",
    "        circ_list = [qc_h, qc_v]\n",
    "        \n",
    "        #running the ciruit \n",
    "        sv_h, sv_v = self.runOnSimulator(back, circ_list, qc_h, qc_v)\n",
    "\n",
    "        edge_scan_h = np.abs(np.array([1 if threshold(sv_h[2*i+1].real) else 0 for i in range(2**self.data_qb)])).reshape(self.image_crop_size, self.image_crop_size)\n",
    "        edge_scan_v = np.abs(np.array([1 if threshold(sv_v[2*i+1].real) else 0 for i in range(2**self.data_qb)])).reshape(self.image_crop_size, self.image_crop_size).T\n",
    "        edge_scan_sim = edge_scan_h | edge_scan_v\n",
    "        if verbose:\n",
    "          plt.imshow(edge_scan_sim)\n",
    "          plt.show()\n",
    "          print(edge_scan_sim.shape)\n",
    "        edges.append(edge_scan_sim)\n",
    "        if verbose:\n",
    "          print(i,\":->\",time.time() - start_time)\n",
    "        # plot_image(edge_scan_sim, 'Edge Detected image')\n",
    "    if verbose:\n",
    "      print('total time',time.time() -  tot_time)\n",
    "    return edges\n",
    "\n",
    "  def quantumEdgeDetect(self,img,qProcessor,verbose = False):\n",
    "    if verbose:\n",
    "      plt.imshow(img)\n",
    "      plt.show()\n",
    "    img = ImageUtils.preProcess(img,verbose)\n",
    "    if verbose:\n",
    "      plt.imshow(img)\n",
    "      plt.show()\n",
    "    img_grid = ImageUtils.split_image(img,qProcessor.getImgCropSize())\n",
    "\n",
    "    edges = qProcessor.simulatorCircuit(img_grid,verbose)\n",
    "    merged_img = ImageUtils.mergeAndDisplay(edges,img.shape[0]/qProcessor.getImgCropSize(),verbose)\n",
    "    \n",
    "    return merged_img\n"
   ]
  },
  {
   "cell_type": "code",
   "execution_count": 8,
   "id": "hrkBLHz9CO5_",
   "metadata": {
    "colab": {
     "base_uri": "https://localhost:8080/",
     "height": 357
    },
    "id": "hrkBLHz9CO5_",
    "outputId": "8a5ea773-e18a-46a7-e8f9-f244e69d84f5"
   },
   "outputs": [
    {
     "name": "stdout",
     "output_type": "stream",
     "text": [
      "Train: X=(60000, 28, 28), y=(60000,)\n",
      "Test: X=(10000, 28, 28), y=(10000,)\n"
     ]
    },
    {
     "data": {
      "image/png": "[encoded data removed]",
      "text/plain": [
       "<Figure size 432x288 with 9 Axes>"
      ]
     },
     "metadata": {
      "needs_background": "light"
     },
     "output_type": "display_data"
    }
   ],
   "source": [
    "#load dataset\n",
    "from tensorflow.keras.datasets import mnist\n",
    "(trainX, trainy), (testX, testy) = mnist.load_data()\n",
    "print('Train: X=%s, y=%s' % (trainX.shape, trainy.shape))\n",
    "print('Test: X=%s, y=%s' % (testX.shape, testy.shape))\n",
    "# plot first few images\n",
    "for i in range(9):\n",
    "\tplt.subplot(330 + 1 + i)\n",
    "\tplt.imshow(trainX[i], cmap=plt.get_cmap('gray'))\n",
    "plt.show()"
   ]
  },
  {
   "cell_type": "code",
   "execution_count": 9,
   "id": "69WW7LtUiSGt",
   "metadata": {
    "colab": {
     "base_uri": "https://localhost:8080/"
    },
    "id": "69WW7LtUiSGt",
    "outputId": "ee8c9808-68e5-421d-ff1b-f80ba0cb0b4e"
   },
   "outputs": [
    {
     "name": "stdout",
     "output_type": "stream",
     "text": [
      "total qbits  5\n"
     ]
    }
   ],
   "source": [
    "#config\n",
    "image_crop_size =4\n",
    "qProcessor = QuantumProcessor(image_crop_size)\n",
    "\n",
    "#testing on 1 image\n",
    "merged_img = qProcessor.quantumEdgeDetect(trainX[1],qProcessor)"
   ]
  },
  {
   "cell_type": "code",
   "execution_count": 10,
   "id": "6cBB3lYl061G",
   "metadata": {
    "colab": {
     "base_uri": "https://localhost:8080/",
     "height": 262
    },
    "id": "6cBB3lYl061G",
    "outputId": "34283ff3-9245-4cf4-855c-612ca429cf30"
   },
   "outputs": [
    {
     "data": {
      "image/png": "[encoded data removed]",
      "text/plain": [
       "<Figure size 432x288 with 1 Axes>"
      ]
     },
     "metadata": {
      "needs_background": "light"
     },
     "output_type": "display_data"
    }
   ],
   "source": [
    "plt.imshow(merged_img)\n",
    "plt.show()"
   ]
  },
  {
   "cell_type": "code",
   "execution_count": null,
   "id": "6a6a34e1",
   "metadata": {},
   "outputs": [
    {
     "name": "stdout",
     "output_type": "stream",
     "text": [
      "status : 0 / 50\n",
      "status : 10 / 50\n"
     ]
    }
   ],
   "source": [
    "### Test data from Noiseless Model\n",
    "testNsample = 50\n",
    "newTestX = np.zeros((testNsample, 32*32))\n",
    "for i in range(testNsample):\n",
    "  newTestX[i] = qProcessor.quantumEdgeDetect(testX[i],qProcessor).flatten()\n",
    "  if i%10==0:\n",
    "    print('status :',i,'/',testNsample)"
   ]
  },
  {
   "cell_type": "code",
   "execution_count": 48,
   "id": "L_HmOJ8KiMJ7",
   "metadata": {
    "colab": {
     "base_uri": "https://localhost:8080/"
    },
    "id": "L_HmOJ8KiMJ7",
    "outputId": "543b970d-c6d2-49fb-9939-d6e4f514cf09"
   },
   "outputs": [
    {
     "name": "stdout",
     "output_type": "stream",
     "text": [
      "status : 0 / 100\n",
      "status : 10 / 100\n",
      "status : 20 / 100\n",
      "status : 30 / 100\n",
      "status : 40 / 100\n",
      "status : 50 / 100\n",
      "status : 60 / 100\n",
      "status : 70 / 100\n",
      "status : 80 / 100\n",
      "status : 90 / 100\n",
      "Time taken:  504.01850032806396\n"
     ]
    }
   ],
   "source": [
    "# 32 x 32 because MNIST is resized to 32 pixels\n",
    "start_time = time.time()\n",
    "trainNsample = 100\n",
    "newTrainX = np.zeros((trainNsample, 32*32))\n",
    "for i in range(trainNsample):\n",
    "  newTrainX[i] = qProcessor.quantumEdgeDetect(trainX[i],qProcessor).flatten()\n",
    "  if i%10==0:\n",
    "    print('status :',i,'/',trainNsample)\n",
    "# testNsample = 50\n",
    "# newTestX = np.zeros((testNsample, 32*32))\n",
    "# for i in range(testNsample):\n",
    "#   newTestX[i] = qProcessor.quantumEdgeDetect(testX[i],qProcessor).flatten()\n",
    "#   if i%10==0:\n",
    "#     print('status :',i,'/',testNsample)\n",
    "print(\"Time taken: \", time.time() - start_time)"
   ]
  },
  {
   "cell_type": "code",
   "execution_count": 49,
   "id": "HfKQ1Y4NNqzf",
   "metadata": {
    "colab": {
     "base_uri": "https://localhost:8080/"
    },
    "id": "HfKQ1Y4NNqzf",
    "outputId": "7ae7fc8b-5fb6-472e-a223-36d11d7fbc5f"
   },
   "outputs": [
    {
     "name": "stderr",
     "output_type": "stream",
     "text": [
      "[Parallel(n_jobs=5)]: Using backend ThreadingBackend with 5 concurrent workers.\n"
     ]
    },
    {
     "name": "stdout",
     "output_type": "stream",
     "text": [
      "convergence after 26 epochs took 1 seconds\n"
     ]
    },
    {
     "name": "stderr",
     "output_type": "stream",
     "text": [
      "[Parallel(n_jobs=5)]: Done   1 out of   1 | elapsed:    0.3s finished\n"
     ]
    }
   ],
   "source": [
    "from sklearn.linear_model import LogisticRegression\n",
    "clf2 = LogisticRegression(fit_intercept=True,\n",
    "                        multi_class='auto',\n",
    "                        penalty='l1', #lasso regression\n",
    "                        solver='saga',\n",
    "                        max_iter=1000,\n",
    "                        C=50,\n",
    "                        verbose=2, # output progress\n",
    "                        n_jobs=5, # parallelize over 5 processes\n",
    "                        tol=0.01\n",
    "                         )\n",
    "\n",
    "clf2 = clf2.fit(newTrainX, trainy[:trainNsample])"
   ]
  },
  {
   "cell_type": "code",
   "execution_count": 50,
   "id": "BnlKNY9QRUXQ",
   "metadata": {
    "colab": {
     "base_uri": "https://localhost:8080/"
    },
    "id": "BnlKNY9QRUXQ",
    "outputId": "3701b7b4-5cb1-4cd1-f53e-d722d591e600"
   },
   "outputs": [
    {
     "name": "stdout",
     "output_type": "stream",
     "text": [
      "Epoch 1, change: 1.00000000\n",
      "Epoch 2, change: 0.26725202\n",
      "Epoch 3, change: 0.18264829\n",
      "Epoch 4, change: 0.09844255\n",
      "Epoch 5, change: 0.08643766\n",
      "Epoch 6, change: 0.06468576\n",
      "Epoch 7, change: 0.05484644\n",
      "Epoch 8, change: 0.04261323\n",
      "Epoch 9, change: 0.03358217\n",
      "Epoch 10, change: 0.03312240\n",
      "Epoch 11, change: 0.02706762\n",
      "Epoch 12, change: 0.02470908\n",
      "Epoch 13, change: 0.02377594\n",
      "Epoch 14, change: 0.01939939\n",
      "Epoch 15, change: 0.01890929\n",
      "Epoch 16, change: 0.01699101\n",
      "Epoch 17, change: 0.01585585\n",
      "Epoch 18, change: 0.01460467\n",
      "Epoch 19, change: 0.01377322\n",
      "Epoch 20, change: 0.01365001\n",
      "Epoch 21, change: 0.01204228\n",
      "Epoch 22, change: 0.01182424\n",
      "Epoch 23, change: 0.01123049\n",
      "Epoch 24, change: 0.01081127\n",
      "Epoch 25, change: 0.01037798\n",
      "Epoch 1, change: 1.00000000\n",
      "Epoch 2, change: 0.26587411\n",
      "Epoch 3, change: 0.17750308\n",
      "Epoch 4, change: 0.14380991\n",
      "Epoch 5, change: 0.09874670\n",
      "Epoch 6, change: 0.06307172\n",
      "Epoch 7, change: 0.06065422\n",
      "Epoch 8, change: 0.04762368\n",
      "Epoch 9, change: 0.03925664\n",
      "Epoch 10, change: 0.03121611\n",
      "Epoch 11, change: 0.02854032\n",
      "Epoch 12, change: 0.02670113\n",
      "Epoch 13, change: 0.02243576\n",
      "Epoch 14, change: 0.02138826\n",
      "Epoch 15, change: 0.01924098\n",
      "Epoch 16, change: 0.01758292\n",
      "Epoch 17, change: 0.01635983\n",
      "Epoch 18, change: 0.01497083\n",
      "Epoch 19, change: 0.01388654\n",
      "Epoch 20, change: 0.01353908\n",
      "Epoch 21, change: 0.01222353\n",
      "Epoch 22, change: 0.01156993\n",
      "Epoch 23, change: 0.01111104\n",
      "Epoch 24, change: 0.01046287\n",
      "Epoch 25, change: 0.01031276\n",
      "Epoch 1, change: 1.00000000\n",
      "Epoch 2, change: 0.33329411\n",
      "Epoch 3, change: 0.19698834\n",
      "Epoch 4, change: 0.11230985\n",
      "Epoch 5, change: 0.09331314\n",
      "Epoch 6, change: 0.08347243\n",
      "Epoch 7, change: 0.06061713\n",
      "Epoch 8, change: 0.06238857\n",
      "Epoch 9, change: 0.04080473\n",
      "Epoch 10, change: 0.03399230\n",
      "Epoch 11, change: 0.02838082\n",
      "Epoch 12, change: 0.02616691\n",
      "Epoch 13, change: 0.02347887\n",
      "Epoch 14, change: 0.02121024\n",
      "Epoch 15, change: 0.01947810\n",
      "Epoch 16, change: 0.01916604\n",
      "Epoch 17, change: 0.01721325\n",
      "Epoch 18, change: 0.01646463\n",
      "Epoch 19, change: 0.01569406\n",
      "Epoch 20, change: 0.01393972\n",
      "Epoch 21, change: 0.01356117\n",
      "Epoch 22, change: 0.01270585\n",
      "Epoch 23, change: 0.01218874\n",
      "Epoch 24, change: 0.01171550\n",
      "Epoch 25, change: 0.01134116\n",
      "Epoch 26, change: 0.01083657\n",
      "Epoch 1, change: 1.00000000\n",
      "Epoch 2, change: 0.28130936\n",
      "Epoch 3, change: 0.18769675\n",
      "Epoch 4, change: 0.11119786\n",
      "Epoch 5, change: 0.08027267\n",
      "Epoch 6, change: 0.06953702\n",
      "Epoch 7, change: 0.06244417\n",
      "Epoch 8, change: 0.05697925\n",
      "Epoch 9, change: 0.04370919\n",
      "Epoch 10, change: 0.03480132\n",
      "Epoch 11, change: 0.03340972\n",
      "Epoch 12, change: 0.03214429\n",
      "Epoch 13, change: 0.03413558\n",
      "Epoch 14, change: 0.02435573\n",
      "Epoch 15, change: 0.02216088\n",
      "Epoch 16, change: 0.01920503\n",
      "Epoch 17, change: 0.01917996\n",
      "Epoch 18, change: 0.01706515\n",
      "Epoch 19, change: 0.01408178\n",
      "Epoch 20, change: 0.01464208\n",
      "Epoch 21, change: 0.01382112\n",
      "Epoch 22, change: 0.01317415\n",
      "Epoch 23, change: 0.01251479\n",
      "Epoch 24, change: 0.01111310\n",
      "Epoch 25, change: 0.01088910\n",
      "Epoch 26, change: 0.01033072\n",
      "Epoch 27, change: 0.01010164\n",
      "Epoch 1, change: 1.00000000\n",
      "Epoch 2, change: 0.26774204\n",
      "Epoch 3, change: 0.16519176\n",
      "Epoch 4, change: 0.10248477\n",
      "Epoch 5, change: 0.07885966\n",
      "Epoch 6, change: 0.05755251\n",
      "Epoch 7, change: 0.04781723\n",
      "Epoch 8, change: 0.04247622\n",
      "Epoch 9, change: 0.04305230\n",
      "Epoch 10, change: 0.03672975\n",
      "Epoch 11, change: 0.03005022\n",
      "Epoch 12, change: 0.02618059\n",
      "Epoch 13, change: 0.02413150\n",
      "Epoch 14, change: 0.02137771\n",
      "Epoch 15, change: 0.01856164\n",
      "Epoch 16, change: 0.01817429\n",
      "Epoch 17, change: 0.01680362\n",
      "Epoch 18, change: 0.01553430\n",
      "Epoch 19, change: 0.01448420\n",
      "Epoch 20, change: 0.01394284\n",
      "Epoch 21, change: 0.01326876\n",
      "Epoch 22, change: 0.01166971\n",
      "Epoch 23, change: 0.01164639\n",
      "Epoch 24, change: 0.01102645\n",
      "Epoch 25, change: 0.01054537\n",
      "Epoch 1, change: 1.00000000\n",
      "Epoch 2, change: 0.31703425\n",
      "Epoch 3, change: 0.16657402\n",
      "Epoch 4, change: 0.12108000\n",
      "Epoch 5, change: 0.09933474\n",
      "Epoch 6, change: 0.08878525\n",
      "Epoch 7, change: 0.07859437\n",
      "Epoch 8, change: 0.06884718\n",
      "Epoch 9, change: 0.03764776\n",
      "Epoch 10, change: 0.03915134\n",
      "Epoch 11, change: 0.02808565\n",
      "Epoch 12, change: 0.02952519\n",
      "Epoch 13, change: 0.02605972\n",
      "Epoch 14, change: 0.02487141\n",
      "Epoch 15, change: 0.02322896\n",
      "Epo"
     ]
    },
    {
     "name": "stderr",
     "output_type": "stream",
     "text": [
      "[Parallel(n_jobs=5)]: Using backend ThreadingBackend with 5 concurrent workers.\n"
     ]
    },
    {
     "name": "stdout",
     "output_type": "stream",
     "text": [
      "convergence after 28 epochs took 0 seconds\n",
      "Accuracy on test dataset = 0.74\n"
     ]
    },
    {
     "name": "stderr",
     "output_type": "stream",
     "text": [
      "[Parallel(n_jobs=5)]: Done   1 out of   1 | elapsed:    0.3s finished\n"
     ]
    }
   ],
   "source": [
    "clf2 = clf2.fit(newTrainX, trainy[:trainNsample])\n",
    "print(\"Accuracy on test dataset = %3.2f\" %(clf2.score(newTestX, testy[:testNsample])))"
   ]
  },
  {
   "cell_type": "code",
   "execution_count": 51,
   "id": "a67d642b",
   "metadata": {},
   "outputs": [],
   "source": [
    "# Noise 0: 0.78\n",
    "# Noise 0.001, 0.01: 0.74\n",
    "# Noise 0.001: 0.80"
   ]
  },
  {
   "cell_type": "markdown",
   "id": "C9HEz-H0rFd9",
   "metadata": {
    "id": "C9HEz-H0rFd9"
   },
   "source": [
    "# Visualization"
   ]
  },
  {
   "cell_type": "code",
   "execution_count": 25,
   "id": "1oUbCgk-rHpM",
   "metadata": {
    "colab": {
     "base_uri": "https://localhost:8080/",
     "height": 262
    },
    "id": "1oUbCgk-rHpM",
    "outputId": "8631946b-86a7-4e26-a12d-e61ffcf685fc"
   },
   "outputs": [
    {
     "data": {
      "image/png": "[encoded data removed]",
      "text/plain": [
       "<Figure size 432x288 with 1 Axes>"
      ]
     },
     "metadata": {
      "needs_background": "light"
     },
     "output_type": "display_data"
    }
   ],
   "source": [
    "plt.imshow(trainX[0])\n",
    "plt.show()"
   ]
  },
  {
   "cell_type": "code",
   "execution_count": 26,
   "id": "WybK3S_eubxa",
   "metadata": {
    "colab": {
     "base_uri": "https://localhost:8080/",
     "height": 497
    },
    "id": "WybK3S_eubxa",
    "outputId": "629d07d9-0d6f-4e26-99e4-d216ead0fbcb"
   },
   "outputs": [
    {
     "name": "stdout",
     "output_type": "stream",
     "text": [
      "49\n"
     ]
    },
    {
     "data": {
      "image/png": "[encoded data removed]",
      "text/plain": [
       "<Figure size 576x576 with 49 Axes>"
      ]
     },
     "metadata": {
      "needs_background": "light"
     },
     "output_type": "display_data"
    }
   ],
   "source": [
    "img_list = ImageUtils.split_image(trainX[0],4)\n",
    "print(len(img_list))\n",
    "fig = plt.figure(figsize=(8,8))\n",
    "columns = rows= int(np.sqrt(len(img_list)))\n",
    "\n",
    "for i in range(1, columns*rows +1):\n",
    "    fig.add_subplot(rows, columns, i)\n",
    "    plt.imshow(img_list[i-1])\n",
    "plt.show()"
   ]
  },
  {
   "cell_type": "code",
   "execution_count": 27,
   "id": "mqChjYhTudwt",
   "metadata": {
    "colab": {
     "base_uri": "https://localhost:8080/",
     "height": 497
    },
    "id": "mqChjYhTudwt",
    "outputId": "b6763183-19e0-417b-dc60-43147a1be4b5"
   },
   "outputs": [
    {
     "name": "stdout",
     "output_type": "stream",
     "text": [
      "64\n"
     ]
    },
    {
     "data": {
      "image/png": "[encoded data removed]",
      "text/plain": [
       "<Figure size 576x576 with 64 Axes>"
      ]
     },
     "metadata": {
      "needs_background": "light"
     },
     "output_type": "display_data"
    }
   ],
   "source": [
    "merged_img = qProcessor.quantumEdgeDetect(trainX[0],qProcessor)\n",
    "img_list = ImageUtils.split_image(merged_img,4)\n",
    "print(len(img_list))\n",
    "fig = plt.figure(figsize=(8,8))\n",
    "columns = rows= int(np.sqrt(len(img_list)))\n",
    "\n",
    "for i in range(1, columns*rows +1):\n",
    "    fig.add_subplot(rows, columns, i)\n",
    "    plt.imshow(img_list[i-1])\n",
    "plt.show()"
   ]
  }
 ],
 "metadata": {
  "colab": {
   "collapsed_sections": [],
   "name": "EdgeDetection_LR_MNIST.ipynb",
   "provenance": [],
   "toc_visible": true
  },
  "kernelspec": {
   "display_name": "Python 3 (ipykernel)",
   "language": "python",
   "name": "python3"
  },
  "language_info": {
   "codemirror_mode": {
    "name": "ipython",
    "version": 3
   },
   "file_extension": ".py",
   "mimetype": "text/x-python",
   "name": "python",
   "nbconvert_exporter": "python",
   "pygments_lexer": "ipython3",
   "version": "3.9.7"
  }
 },
 "nbformat": 4,
 "nbformat_minor": 5
}
