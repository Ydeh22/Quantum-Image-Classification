{
  "nbformat": 4,
  "nbformat_minor": 0,
  "metadata": {
    "colab": {
      "name": "18819 project - cv approach.ipynb",
      "provenance": [],
      "collapsed_sections": []
    },
    "kernelspec": {
      "display_name": "Python 3",
      "name": "python3"
    },
    "language_info": {
      "name": "python"
    }
  },
  "cells": [
    {
      "cell_type": "markdown",
      "metadata": {
        "id": "WuJCsusOG64P"
      },
      "source": [
        "Imports"
      ]
    },
    {
      "cell_type": "code",
      "metadata": {
        "id": "qIRZx806G5E7"
      },
      "source": [
        "from keras.preprocessing.image import ImageDataGenerator\n",
        "import cv2\n",
        "import numpy as np\n",
        "from google.colab.patches import cv2_imshow\n",
        "from matplotlib import pyplot as plt\n",
        "import multiprocessing\n",
        "import scipy.ndimage\n",
        "import skimage\n",
        "import sklearn.cluster\n",
        "import scipy.spatial.distance\n",
        "import os, time\n",
        "import matplotlib.pyplot as plt\n",
        "import random\n",
        "from skimage import io\n",
        "from keras.datasets import mnist "
      ],
      "execution_count": 1,
      "outputs": []
    },
    {
      "cell_type": "markdown",
      "metadata": {
        "id": "KWVr-9kJHHmo"
      },
      "source": [
        "Pre-processing [for Mnist dataset](https://machinelearningmastery.com/how-to-normalize-center-and-standardize-images-with-the-imagedatagenerator-in-keras/)"
      ]
    },
    {
      "cell_type": "code",
      "metadata": {
        "colab": {
          "base_uri": "https://localhost:8080/",
          "height": 421
        },
        "id": "LH0huhhmHHCW",
        "outputId": "93ff2126-33d2-4bba-83c1-5e044e75f7d8"
      },
      "source": [
        "(X_train, y_train), (X_test, y_test) = mnist.load_data()\n",
        "\n",
        "datagen = ImageDataGenerator(featurewise_center=True,\n",
        "                             featurewise_std_normalization=True)\n",
        "img = datagen.standardize(X_train[1])\n",
        "operatedImage = np.float32(img) / 255\n",
        "plt.imshow(operatedImage,cmap='gray')"
      ],
      "execution_count": 2,
      "outputs": [
        {
          "output_type": "stream",
          "name": "stdout",
          "text": [
            "Downloading data from https://storage.googleapis.com/tensorflow/tf-keras-datasets/mnist.npz\n",
            "11493376/11490434 [==============================] - 0s 0us/step\n",
            "11501568/11490434 [==============================] - 0s 0us/step\n"
          ]
        },
        {
          "output_type": "stream",
          "name": "stderr",
          "text": [
            "/usr/local/lib/python3.7/dist-packages/keras_preprocessing/image/image_data_generator.py:720: UserWarning: This ImageDataGenerator specifies `featurewise_center`, but it hasn't been fit on any training data. Fit it first by calling `.fit(numpy_data)`.\n",
            "  warnings.warn('This ImageDataGenerator specifies '\n",
            "/usr/local/lib/python3.7/dist-packages/keras_preprocessing/image/image_data_generator.py:728: UserWarning: This ImageDataGenerator specifies `featurewise_std_normalization`, but it hasn't been fit on any training data. Fit it first by calling `.fit(numpy_data)`.\n",
            "  warnings.warn('This ImageDataGenerator specifies '\n"
          ]
        },
        {
          "output_type": "execute_result",
          "data": {
            "text/plain": [
              "<matplotlib.image.AxesImage at 0x7f8308f20210>"
            ]
          },
          "metadata": {},
          "execution_count": 2
        },
        {
          "output_type": "display_data",
          "data": {
            "image/png": "[encoded data removed]",
            "text/plain": [
              "<Figure size 432x288 with 1 Axes>"
            ]
          },
          "metadata": {
            "needs_background": "light"
          }
        }
      ]
    },
    {
      "cell_type": "markdown",
      "metadata": {
        "id": "ttituC1-Iz7y"
      },
      "source": [
        "# Feature extraction"
      ]
    },
    {
      "cell_type": "markdown",
      "metadata": {
        "id": "N6PULI54X309"
      },
      "source": [
        "Harris corner detector"
      ]
    },
    {
      "cell_type": "code",
      "metadata": {
        "id": "VbndKBQvIyty"
      },
      "source": [
        "def get_harris_points(operatedImage):\n",
        "  dest = cv2.cornerHarris(operatedImage, 2, 3, 0.04)\n",
        "  dest = cv2.dilate(dest, None)\n",
        "  HarrisImage = np.copy(operatedImage)\n",
        "  HarrisImage = np.stack((HarrisImage, HarrisImage, HarrisImage), axis=-1)\n",
        "  HarrisImage[abs(dest) > 0.05 * dest.max()] = [255,0,0]\n",
        "  harris_points = list(np.where(abs(dest) > 0.05 * dest.max()))\n",
        "  return harris_points"
      ],
      "execution_count": 3,
      "outputs": []
    },
    {
      "cell_type": "markdown",
      "metadata": {
        "id": "Xa8-g74zX6j1"
      },
      "source": [
        "filter responses"
      ]
    },
    {
      "cell_type": "code",
      "metadata": {
        "id": "OEvDYdqoX9tR"
      },
      "source": [
        "def display_filter_responses(response_maps):\n",
        "    '''\n",
        "    Visualizes the filter response maps.\n",
        "\n",
        "    [input]\n",
        "    * response_maps: a numpy.ndarray of shape (H, W, 3F)\n",
        "    '''\n",
        "\n",
        "    fig = plt.figure(1)\n",
        "\n",
        "    for i in range(20):\n",
        "        plt.subplot(5, 4, i+1)\n",
        "        resp = response_maps[:, :, i]\n",
        "        resp_min = resp.min(axis=(0, 1), keepdims=True)\n",
        "        resp_max = resp.max(axis=(0, 1), keepdims=True)\n",
        "        resp = (resp-resp_min)/(resp_max-resp_min)\n",
        "        plt.imshow(resp, cmap = 'gray')\n",
        "        plt.axis(\"off\")\n",
        "\n",
        "    plt.subplots_adjust(left=0.05,right=0.95,top=0.95,bottom=0.05,wspace=0.05,hspace=0.05)\n",
        "    plt.show()"
      ],
      "execution_count": 4,
      "outputs": []
    },
    {
      "cell_type": "markdown",
      "metadata": {
        "id": "EihiTvqWCxdc"
      },
      "source": [
        "Applying different filers on images for edge calculation"
      ]
    },
    {
      "cell_type": "code",
      "metadata": {
        "id": "2VlrDsrTXbP5"
      },
      "source": [
        "def extract_filter_responses(image):\n",
        "    '''\n",
        "    Extracts the filter responses for the given image.\n",
        "\n",
        "    [input]\n",
        "    * image: numpy.ndarray of shape (H, W) \n",
        "\n",
        "    [output]\n",
        "    * filter_responses: numpy.ndarray of shape (H, W, F)\n",
        "    '''\n",
        "\n",
        "    image = image.astype('float')\n",
        "    image[image<0.5] = 0\n",
        "    filter_responses = []\n",
        "    \n",
        "    for scale in [1,2,4,8,8*np.sqrt(2)]:\n",
        "        #(1) Gaussian, (2) Laplacian of Gaussian, (3) derivative of Gaussian in the  𝑥  direction, and (4) derivative of Gaussian in the  𝑦  direction.\n",
        "        r = scipy.ndimage.gaussian_filter(image,scale)\n",
        "        gaussian = np.dstack([r])\n",
        "        \n",
        "        r = scipy.ndimage.gaussian_laplace(image,scale)\n",
        "        laplace = np.dstack([r])\n",
        "        \n",
        "        r = scipy.ndimage.filters.gaussian_filter(image,(scale,scale),(1,0))\n",
        "        y_dir = np.dstack([r])\n",
        "\n",
        "        r = scipy.ndimage.filters.gaussian_filter(image,(scale,scale),(0,1))\n",
        "        x_dir = np.dstack([r])\n",
        "        \n",
        "        if len(filter_responses) != 0:\n",
        "            filter_responses = np.dstack([filter_responses, gaussian,laplace,x_dir,y_dir])\n",
        "        else:\n",
        "            filter_responses = np.dstack([gaussian,laplace,x_dir,y_dir])\n",
        "    return filter_responses "
      ],
      "execution_count": 7,
      "outputs": []
    },
    {
      "cell_type": "markdown",
      "metadata": {
        "id": "KVk3iNPfC3z5"
      },
      "source": [
        "Compare the image with filter responses and detect the common edge points"
      ]
    },
    {
      "cell_type": "code",
      "metadata": {
        "id": "NcJZlwm4YKU9"
      },
      "source": [
        "def compute_dictionary_one_image(args):\n",
        "    '''\n",
        "    Extracts samples of the dictionary entries from an image. Use the the \n",
        "    harris corner detector implmented from previous question to extract \n",
        "    the point of interests. This should be a function run by a subprocess.\n",
        "\n",
        "    [input]\n",
        "    * i: index of training image\n",
        "    * image_path: image\n",
        "\n",
        "    [saved]\n",
        "    * sampled_response: numpy.ndarray of shape (alpha, 3F)\n",
        "    '''\n",
        "    i, image = args\n",
        "    if not os.path.isdir('tmp'):\n",
        "        os.mkdir('tmp')\n",
        "\n",
        "    f_name = 'tmp/%05d.npy' % i\n",
        "\n",
        "    harris_points = get_harris_points(image)\n",
        "    filter_responses = extract_filter_responses(image)\n",
        "    sampled_responses = np.zeros(( len(harris_points[0]),filter_responses.shape[2] ))\n",
        "\n",
        "    for i in range(len(harris_points[0])):\n",
        "        y,x = harris_points[0][i], harris_points[1][i]\n",
        "        for n in range(filter_responses.shape[2]):\n",
        "            sampled_responses[i,n] = filter_responses[y,x,n]\n",
        "    np.save(f_name,sampled_responses)"
      ],
      "execution_count": 8,
      "outputs": []
    },
    {
      "cell_type": "markdown",
      "metadata": {
        "id": "AKt5Wrl0BQEw"
      },
      "source": [
        "---\n",
        "\n",
        "Training dataset processing\n",
        "\n",
        "\n",
        "---\n",
        "\n"
      ]
    },
    {
      "cell_type": "code",
      "metadata": {
        "id": "pV3VmRHE75VO"
      },
      "source": [
        "def compute_dictionary(num_workers=2):\n",
        "    '''\n",
        "    Creates the dictionary of visual words by clustering using k-means.\n",
        "\n",
        "    [input]\n",
        "    * num_workers: number of workers to process in parallel\n",
        "\n",
        "    [saved]\n",
        "    * dictionary: numpy.ndarray of shape (K,F)\n",
        "    '''\n",
        "    # ----- TODO -----\n",
        "    list_of_args = []\n",
        "\n",
        "    n_clusters = 50\n",
        "\n",
        "\n",
        "    (X_train, y_train), (X_test, y_test) = mnist.load_data()\n",
        "    num_images = len(X_train)\n",
        "    datagen = ImageDataGenerator(featurewise_center=True,\n",
        "                             featurewise_std_normalization=True)\n",
        "\n",
        "    for i in range(num_images):\n",
        "        img = datagen.standardize(X_train[i])\n",
        "        operatedImage = np.float32(img) / 255\n",
        "        list_of_args.append([i, X_train[i]])\n",
        "\n",
        "    with multiprocessing.Pool(num_workers) as p:\n",
        "        p.map(compute_dictionary_one_image, list_of_args)\n",
        "\n",
        "    filter_responses = []\n",
        "    for file_name in os.listdir('./tmp'):\n",
        "        cur = np.load('./tmp/'+file_name)\n",
        "        if len(filter_responses) == 0:\n",
        "            filter_responses = cur\n",
        "        else:\n",
        "            filter_responses = np.vstack([filter_responses,cur])\n",
        "\n",
        "    kmeans = sklearn.cluster.KMeans(n_clusters=n_clusters).fit(filter_responses)\n",
        "    dictionary = kmeans.cluster_centers_ \n",
        "    np.save('dictionary.npy', dictionary)"
      ],
      "execution_count": 9,
      "outputs": []
    },
    {
      "cell_type": "code",
      "metadata": {
        "colab": {
          "background_save": true,
          "base_uri": "https://localhost:8080/"
        },
        "id": "FT7JAxP5D7DX",
        "outputId": "63a0542c-a6da-4cde-b21d-d9830bc8e0c8"
      },
      "source": [
        "compute_dictionary()"
      ],
      "execution_count": null,
      "outputs": [
        {
          "output_type": "stream",
          "name": "stderr",
          "text": [
            "/usr/local/lib/python3.7/dist-packages/keras_preprocessing/image/image_data_generator.py:720: UserWarning: This ImageDataGenerator specifies `featurewise_center`, but it hasn't been fit on any training data. Fit it first by calling `.fit(numpy_data)`.\n",
            "  warnings.warn('This ImageDataGenerator specifies '\n",
            "/usr/local/lib/python3.7/dist-packages/keras_preprocessing/image/image_data_generator.py:728: UserWarning: This ImageDataGenerator specifies `featurewise_std_normalization`, but it hasn't been fit on any training data. Fit it first by calling `.fit(numpy_data)`.\n",
            "  warnings.warn('This ImageDataGenerator specifies '\n"
          ]
        }
      ]
    }
  ]
}